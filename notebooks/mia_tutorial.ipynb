{
  "nbformat": 4,
  "nbformat_minor": 0,
  "metadata": {
    "colab": {
      "name": "MIA tutorial.ipynb",
      "provenance": [],
      "toc_visible": true
    },
    "kernelspec": {
      "name": "python3",
      "display_name": "Python 3"
    },
    "language_info": {
      "name": "python"
    },
    "accelerator": "GPU"
  },
  "cells": [
    {
      "cell_type": "markdown",
      "metadata": {
        "id": "EJ0QXGnPMa3e"
      },
      "source": [
        "# PePR: Membership Inference Attack (MIA)\n",
        "Attack a single target model with a singe attack configuration.\n"
      ]
    },
    {
      "cell_type": "markdown",
      "metadata": {
        "id": "xZqoHZtpMjWX"
      },
      "source": [
        "## Prepare Environment\n",
        "**Important: Restart the Runtime after this Cell!**\n",
        "The restart is needed because of `pip install ./ml-pepr`."
      ]
    },
    {
      "cell_type": "code",
      "metadata": {
        "id": "7s9Dgj5SaJEo",
        "outputId": "8da7c060-ec85-482e-aa1f-34e6d0b4fa2b",
        "colab": {
          "base_uri": "https://localhost:8080/"
        }
      },
      "source": [
        "!git clone https://github.com/hallojs/ml-pepr.git\n",
        "%pip install ./ml-pepr\n",
        "%pip install pylatex"
      ],
      "execution_count": 1,
      "outputs": [
        {
          "output_type": "stream",
          "name": "stdout",
          "text": [
            "Cloning into 'ml-pepr'...\n",
            "remote: Enumerating objects: 1324, done.\u001b[K\n",
            "remote: Counting objects: 100% (137/137), done.\u001b[K\n",
            "remote: Compressing objects: 100% (39/39), done.\u001b[K\n",
            "remote: Total 1324 (delta 113), reused 98 (delta 98), pack-reused 1187 (from 1)\u001b[K\n",
            "Receiving objects: 100% (1324/1324), 2.13 MiB | 5.15 MiB/s, done.\n",
            "Resolving deltas: 100% (839/839), done.\n",
            "Processing ./ml-pepr\n",
            "  Installing build dependencies ... \u001b[?25l\u001b[?25hdone\n",
            "  Getting requirements to build wheel ... \u001b[?25l\u001b[?25hdone\n",
            "  Preparing metadata (pyproject.toml) ... \u001b[?25l\u001b[?25hdone\n",
            "Collecting adversarial-robustness-toolbox==1.6.2 (from mlpepr==0.1b6)\n",
            "  Downloading adversarial_robustness_toolbox-1.6.2-py3-none-any.whl.metadata (10 kB)\n",
            "Collecting matplotlib==3.3.4 (from mlpepr==0.1b6)\n",
            "  Downloading matplotlib-3.3.4.tar.gz (37.9 MB)\n",
            "\u001b[2K     \u001b[90m━━━━━━━━━━━━━━━━━━━━━━━━━━━━━━━━━━━━━━━━\u001b[0m \u001b[32m37.9/37.9 MB\u001b[0m \u001b[31m35.2 MB/s\u001b[0m eta \u001b[36m0:00:00\u001b[0m\n",
            "\u001b[?25h  Preparing metadata (setup.py) ... \u001b[?25l\u001b[?25hdone\n",
            "Collecting numpy==1.19.5 (from mlpepr==0.1b6)\n",
            "  Downloading numpy-1.19.5.zip (7.3 MB)\n",
            "\u001b[2K     \u001b[90m━━━━━━━━━━━━━━━━━━━━━━━━━━━━━━━━━━━━━━━━\u001b[0m \u001b[32m7.3/7.3 MB\u001b[0m \u001b[31m52.1 MB/s\u001b[0m eta \u001b[36m0:00:00\u001b[0m\n",
            "\u001b[?25h  Installing build dependencies ... \u001b[?25l\u001b[?25hdone\n",
            "  Getting requirements to build wheel ... \u001b[?25l\u001b[?25hdone\n",
            "  Preparing metadata (pyproject.toml) ... \u001b[?25l\u001b[?25hdone\n",
            "Collecting PyLaTeX==1.4.1 (from mlpepr==0.1b6)\n",
            "  Downloading PyLaTeX-1.4.1.tar.gz (84 kB)\n",
            "\u001b[2K     \u001b[90m━━━━━━━━━━━━━━━━━━━━━━━━━━━━━━━━━━━━━━━━\u001b[0m \u001b[32m85.0/85.0 kB\u001b[0m \u001b[31m9.3 MB/s\u001b[0m eta \u001b[36m0:00:00\u001b[0m\n",
            "\u001b[?25h  Preparing metadata (setup.py) ... \u001b[?25l\u001b[?25hdone\n",
            "Collecting pyyaml==5.4.1 (from mlpepr==0.1b6)\n",
            "  Downloading PyYAML-5.4.1.tar.gz (175 kB)\n",
            "\u001b[2K     \u001b[90m━━━━━━━━━━━━━━━━━━━━━━━━━━━━━━━━━━━━━━━━\u001b[0m \u001b[32m175.1/175.1 kB\u001b[0m \u001b[31m15.2 MB/s\u001b[0m eta \u001b[36m0:00:00\u001b[0m\n",
            "\u001b[?25h  Installing build dependencies ... \u001b[?25l\u001b[?25hdone\n",
            "  \u001b[1;31merror\u001b[0m: \u001b[1msubprocess-exited-with-error\u001b[0m\n",
            "  \n",
            "  \u001b[31m×\u001b[0m \u001b[32mGetting requirements to build wheel\u001b[0m did not run successfully.\n",
            "  \u001b[31m│\u001b[0m exit code: \u001b[1;36m1\u001b[0m\n",
            "  \u001b[31m╰─>\u001b[0m See above for output.\n",
            "  \n",
            "  \u001b[1;35mnote\u001b[0m: This error originates from a subprocess, and is likely not a problem with pip.\n",
            "  Getting requirements to build wheel ... \u001b[?25l\u001b[?25herror\n",
            "\u001b[1;31merror\u001b[0m: \u001b[1msubprocess-exited-with-error\u001b[0m\n",
            "\n",
            "\u001b[31m×\u001b[0m \u001b[32mGetting requirements to build wheel\u001b[0m did not run successfully.\n",
            "\u001b[31m│\u001b[0m exit code: \u001b[1;36m1\u001b[0m\n",
            "\u001b[31m╰─>\u001b[0m See above for output.\n",
            "\n",
            "\u001b[1;35mnote\u001b[0m: This error originates from a subprocess, and is likely not a problem with pip.\n",
            "Collecting pylatex\n",
            "  Downloading PyLaTeX-1.4.2.tar.gz (59 kB)\n",
            "\u001b[2K     \u001b[90m━━━━━━━━━━━━━━━━━━━━━━━━━━━━━━━━━━━━━━━━\u001b[0m \u001b[32m59.7/59.7 kB\u001b[0m \u001b[31m3.6 MB/s\u001b[0m eta \u001b[36m0:00:00\u001b[0m\n",
            "\u001b[?25h  Installing build dependencies ... \u001b[?25l\u001b[?25hdone\n",
            "  Getting requirements to build wheel ... \u001b[?25l\u001b[?25hdone\n",
            "  Preparing metadata (pyproject.toml) ... \u001b[?25l\u001b[?25hdone\n",
            "Collecting ordered-set (from pylatex)\n",
            "  Downloading ordered_set-4.1.0-py3-none-any.whl.metadata (5.3 kB)\n",
            "Downloading ordered_set-4.1.0-py3-none-any.whl (7.6 kB)\n",
            "Building wheels for collected packages: pylatex\n",
            "  Building wheel for pylatex (pyproject.toml) ... \u001b[?25l\u001b[?25hdone\n",
            "  Created wheel for pylatex: filename=PyLaTeX-1.4.2-py3-none-any.whl size=43572 sha256=aee4c4cb3a8b9f6122040f4229092b86227e670f05cea5e7303d62cbbc85cdb5\n",
            "  Stored in directory: /root/.cache/pip/wheels/a3/60/09/c6f9f98feac18da1b5fc02bd765c6b3cb9a0f75955a12b27ad\n",
            "Successfully built pylatex\n",
            "Installing collected packages: ordered-set, pylatex\n",
            "Successfully installed ordered-set-4.1.0 pylatex-1.4.2\n"
          ]
        }
      ]
    },
    {
      "cell_type": "code",
      "source": [
        "cd ml-pepr/"
      ],
      "metadata": {
        "id": "22iKCAuY8fvZ",
        "outputId": "586c6265-dcd1-4a35-8f20-1f07e7325532",
        "colab": {
          "base_uri": "https://localhost:8080/"
        }
      },
      "execution_count": 4,
      "outputs": [
        {
          "output_type": "stream",
          "name": "stdout",
          "text": [
            "/content/ml-pepr\n"
          ]
        }
      ]
    },
    {
      "cell_type": "code",
      "source": [
        "pip install ."
      ],
      "metadata": {
        "id": "syG9pZNyCDxQ",
        "outputId": "d3a1d246-b07e-4779-a3d9-f7e0493ca579",
        "colab": {
          "base_uri": "https://localhost:8080/"
        }
      },
      "execution_count": 27,
      "outputs": [
        {
          "output_type": "stream",
          "name": "stdout",
          "text": [
            "Processing /content/ml-pepr\n",
            "  Installing build dependencies ... \u001b[?25l\u001b[?25hdone\n",
            "  Getting requirements to build wheel ... \u001b[?25l\u001b[?25hdone\n",
            "  Preparing metadata (pyproject.toml) ... \u001b[?25l\u001b[?25hdone\n",
            "Collecting adversarial-robustness-toolbox==1.6.2 (from mlpepr==0.1b6)\n",
            "  Using cached adversarial_robustness_toolbox-1.6.2-py3-none-any.whl.metadata (10 kB)\n",
            "Collecting matplotlib==3.3.4 (from mlpepr==0.1b6)\n",
            "  Using cached matplotlib-3.3.4.tar.gz (37.9 MB)\n",
            "  Preparing metadata (setup.py) ... \u001b[?25l\u001b[?25hdone\n",
            "Collecting numpy==1.19.5 (from mlpepr==0.1b6)\n",
            "  Using cached numpy-1.19.5.zip (7.3 MB)\n",
            "  Installing build dependencies ... \u001b[?25l\u001b[?25hdone\n",
            "  Getting requirements to build wheel ... \u001b[?25l\u001b[?25hdone\n",
            "  Preparing metadata (pyproject.toml) ... \u001b[?25l\u001b[?25hdone\n",
            "Collecting PyLaTeX==1.4.1 (from mlpepr==0.1b6)\n",
            "  Using cached PyLaTeX-1.4.1.tar.gz (84 kB)\n",
            "  Preparing metadata (setup.py) ... \u001b[?25l\u001b[?25hdone\n",
            "Collecting pyyaml==5.4.1 (from mlpepr==0.1b6)\n",
            "  Using cached PyYAML-5.4.1.tar.gz (175 kB)\n",
            "  Installing build dependencies ... \u001b[?25l\u001b[?25hdone\n",
            "  \u001b[1;31merror\u001b[0m: \u001b[1msubprocess-exited-with-error\u001b[0m\n",
            "  \n",
            "  \u001b[31m×\u001b[0m \u001b[32mGetting requirements to build wheel\u001b[0m did not run successfully.\n",
            "  \u001b[31m│\u001b[0m exit code: \u001b[1;36m1\u001b[0m\n",
            "  \u001b[31m╰─>\u001b[0m See above for output.\n",
            "  \n",
            "  \u001b[1;35mnote\u001b[0m: This error originates from a subprocess, and is likely not a problem with pip.\n",
            "  Getting requirements to build wheel ... \u001b[?25l\u001b[?25herror\n",
            "\u001b[1;31merror\u001b[0m: \u001b[1msubprocess-exited-with-error\u001b[0m\n",
            "\n",
            "\u001b[31m×\u001b[0m \u001b[32mGetting requirements to build wheel\u001b[0m did not run successfully.\n",
            "\u001b[31m│\u001b[0m exit code: \u001b[1;36m1\u001b[0m\n",
            "\u001b[31m╰─>\u001b[0m See above for output.\n",
            "\n",
            "\u001b[1;35mnote\u001b[0m: This error originates from a subprocess, and is likely not a problem with pip.\n"
          ]
        }
      ]
    },
    {
      "cell_type": "markdown",
      "metadata": {
        "id": "PTAzFKWvOIVx"
      },
      "source": [
        "## Imports"
      ]
    },
    {
      "cell_type": "code",
      "metadata": {
        "id": "MNSjF3PIGWtJ"
      },
      "source": [
        "from pepr.privacy import mia\n",
        "\n",
        "import tensorflow as tf\n",
        "from tensorflow.keras import optimizers\n",
        "\n",
        "import numpy as np\n",
        "import logging"
      ],
      "execution_count": 5,
      "outputs": []
    },
    {
      "cell_type": "markdown",
      "metadata": {
        "id": "4yYA_6YSOejH"
      },
      "source": [
        "## Setup Logging"
      ]
    },
    {
      "cell_type": "code",
      "metadata": {
        "id": "MWqm9M7wGX8O"
      },
      "source": [
        "formatter = logging.Formatter('%(asctime)s - %(name)s - %(levelname)s - %(message)s', '%Y-%m-%d %H:%M:%S')\n",
        "\n",
        "# TensorFlow Logger\n",
        "file_handler_tf = logging.FileHandler('tf.log')\n",
        "file_handler_tf.setLevel(logging.INFO)\n",
        "file_handler_tf.setFormatter(formatter)\n",
        "\n",
        "tf.get_logger().setLevel(logging.INFO)\n",
        "logger_tf = tf.get_logger()\n",
        "logger_tf.addHandler(file_handler_tf)\n",
        "\n",
        "# PePR Logger\n",
        "file_handler_pr = logging.FileHandler('pepr.privacy.mia.log')\n",
        "file_handler_pr.setLevel(logging.DEBUG)\n",
        "file_handler_pr.setFormatter(formatter)\n",
        "\n",
        "stream_handler_pr = logging.StreamHandler()\n",
        "stream_handler_pr.setLevel(logging.DEBUG)\n",
        "stream_handler_pr.setFormatter(formatter)\n",
        "\n",
        "logger_pr = logging.getLogger('pepr.privacy.mia')\n",
        "logger_pr.addHandler(file_handler_pr)\n",
        "logger_pr.addHandler(stream_handler_pr)"
      ],
      "execution_count": 6,
      "outputs": []
    },
    {
      "cell_type": "markdown",
      "metadata": {
        "id": "Mp9p3_iTOjzi"
      },
      "source": [
        "## Functions\n",
        "Functions for creating models and preparing the dataset."
      ]
    },
    {
      "cell_type": "code",
      "metadata": {
        "id": "07Yizg2MJcgj"
      },
      "source": [
        "def get_target_model(input_shape, number_of_labels):\n",
        "    target_model = tf.keras.Sequential([\n",
        "        tf.keras.layers.Conv2D(32, (3,3), activation=\"tanh\", padding='same', input_shape=input_shape),\n",
        "        tf.keras.layers.MaxPool2D((2,2)),\n",
        "        tf.keras.layers.Conv2D(64, (3,3), activation=\"tanh\", padding='same'),\n",
        "        tf.keras.layers.MaxPool2D((2,2)),\n",
        "        tf.keras.layers.Flatten(),\n",
        "        tf.keras.layers.Dense(128, activation=\"tanh\"),\n",
        "        tf.keras.layers.Dense(number_of_labels),\n",
        "        tf.keras.layers.Softmax()\n",
        "    ])\n",
        "    return target_model\n",
        "\n",
        "def get_attack_model(number_of_labels):\n",
        "    attack_model = tf.keras.Sequential([\n",
        "        tf.keras.layers.Dense(64, activation=\"relu\", input_shape=(number_of_labels,)),\n",
        "        tf.keras.layers.Dense(1, activation=\"sigmoid\"),\n",
        "    ])\n",
        "    return attack_model\n",
        "\n",
        "def create_compile_shadow_model():\n",
        "    \"\"\"Create compiled target/shadow model.\n",
        "\n",
        "    Returns\n",
        "    -------\n",
        "    tensorflow.python.keras.engine.sequential.Sequential\n",
        "        A compiled tensorflow model.\n",
        "    \"\"\"\n",
        "    input_shape = (32, 32, 3)\n",
        "    number_classes = 100\n",
        "\n",
        "    model = get_target_model(input_shape, number_classes)\n",
        "\n",
        "    optimizer = optimizers.Adam(0.0001)\n",
        "    loss = 'sparse_categorical_crossentropy'\n",
        "    metrics = [\"accuracy\"]\n",
        "    model.compile(optimizer, loss=loss, metrics=metrics)\n",
        "\n",
        "    return model\n",
        "\n",
        "def create_compile_attack_model():\n",
        "    \"\"\"Create compiled attack model.\n",
        "\n",
        "    Returns\n",
        "    -------\n",
        "    tensorflow.python.keras.engine.sequential.Sequential\n",
        "        A compiled tensorflow model.\n",
        "    \"\"\"\n",
        "    number_classes = 100\n",
        "\n",
        "    model = get_attack_model(number_classes)\n",
        "\n",
        "    optimizer = optimizers.Adam(lr=0.0001)\n",
        "    loss = 'binary_crossentropy'\n",
        "    metrics = [\"accuracy\"]\n",
        "    model.compile(optimizer, loss=loss, metrics=metrics)\n",
        "\n",
        "    return model\n",
        "\n",
        "def load_cifar100():\n",
        "    \"\"\"Loads and preprocesses the CIFAR100 dataset.\n",
        "\n",
        "    Returns\n",
        "    -------\n",
        "    tuple\n",
        "        (training data, training labels, test data, test labels)\n",
        "    \"\"\"\n",
        "    train, test = tf.keras.datasets.cifar100.load_data()\n",
        "    train_data, train_labels = train\n",
        "    test_data, test_labels = test\n",
        "\n",
        "    # Normalize the data to a range between 0 and 1\n",
        "    train_data = np.array(train_data, dtype=np.float32) / 255\n",
        "    test_data = np.array(test_data, dtype=np.float32) / 255\n",
        "\n",
        "    # Reshape the images to (32, 32, 3)\n",
        "    train_data = train_data.reshape(train_data.shape[0], 32, 32, 3)\n",
        "    test_data = test_data.reshape(test_data.shape[0], 32, 32, 3)\n",
        "\n",
        "    train_labels = np.reshape(np.array(train_labels, dtype=np.int32), (train_labels.shape[0],))\n",
        "    test_labels = np.reshape(np.array(test_labels, dtype=np.int32), (test_labels.shape[0],))\n",
        "\n",
        "    return np.vstack((train_data, test_data)), np.hstack((train_labels, test_labels))"
      ],
      "execution_count": 10,
      "outputs": []
    },
    {
      "cell_type": "markdown",
      "metadata": {
        "id": "bPvmdtEJPzkp"
      },
      "source": [
        "## Init Dataset"
      ]
    },
    {
      "cell_type": "code",
      "metadata": {
        "id": "V4YsvcPN-cd6"
      },
      "source": [
        "data, labels = load_cifar100()"
      ],
      "execution_count": 11,
      "outputs": []
    },
    {
      "cell_type": "code",
      "source": [
        "ls"
      ],
      "metadata": {
        "id": "w4GUccZM9_So",
        "outputId": "072a0e20-ce27-43a7-b523-642ca7509787",
        "colab": {
          "base_uri": "https://localhost:8080/"
        }
      },
      "execution_count": 21,
      "outputs": [
        {
          "output_type": "stream",
          "name": "stdout",
          "text": [
            "Dockerfile-doc     \u001b[0m\u001b[01;34mdocs\u001b[0m/             \u001b[01;34mnotebooks\u001b[0m/            pypiREADME.rst  requirements.txt  tf.log\n",
            "Dockerfile-tf-cpu  LICENSE           \u001b[01;34mpepr\u001b[0m/                 pyproject.toml  setup.cfg\n",
            "Dockerfile-tf-gpu  \u001b[01;34mmlpepr.egg-info\u001b[0m/  pepr.privacy.mia.log  README.rst      \u001b[01;34mtests\u001b[0m/\n"
          ]
        }
      ]
    },
    {
      "cell_type": "markdown",
      "metadata": {
        "id": "y7kzZGEJP2Zb"
      },
      "source": [
        "## Train Target Model"
      ]
    },
    {
      "cell_type": "code",
      "metadata": {
        "id": "CNtEwVtxLLer",
        "outputId": "18f6a01a-fedd-4964-be85-eb5e6dc6259e",
        "colab": {
          "base_uri": "https://localhost:8080/",
          "height": 393
        }
      },
      "source": [
        "target_model = create_compile_shadow_model()\n",
        "target_model.fit(data[40000:50000],\n",
        "                 labels[40000:50000],\n",
        "                 epochs=100,\n",
        "                 batch_size=50,\n",
        "                 verbose=0)\n",
        "target_model.save('data/target_model')"
      ],
      "execution_count": 28,
      "outputs": [
        {
          "output_type": "stream",
          "name": "stderr",
          "text": [
            "/usr/local/lib/python3.10/dist-packages/keras/src/layers/convolutional/base_conv.py:107: UserWarning: Do not pass an `input_shape`/`input_dim` argument to a layer. When using Sequential models, prefer using an `Input(shape)` object as the first layer in the model instead.\n",
            "  super().__init__(activity_regularizer=activity_regularizer, **kwargs)\n"
          ]
        },
        {
          "output_type": "error",
          "ename": "ValueError",
          "evalue": "Invalid filepath extension for saving. Please add either a `.keras` extension for the native Keras format (recommended) or a `.h5` extension. Use `model.export(filepath)` if you want to export a SavedModel for use with TFLite/TFServing/etc. Received: filepath=data/target_model.",
          "traceback": [
            "\u001b[0;31m---------------------------------------------------------------------------\u001b[0m",
            "\u001b[0;31mValueError\u001b[0m                                Traceback (most recent call last)",
            "\u001b[0;32m<ipython-input-28-7aaca0607bec>\u001b[0m in \u001b[0;36m<cell line: 7>\u001b[0;34m()\u001b[0m\n\u001b[1;32m      5\u001b[0m                  \u001b[0mbatch_size\u001b[0m\u001b[0;34m=\u001b[0m\u001b[0;36m50\u001b[0m\u001b[0;34m,\u001b[0m\u001b[0;34m\u001b[0m\u001b[0;34m\u001b[0m\u001b[0m\n\u001b[1;32m      6\u001b[0m                  verbose=0)\n\u001b[0;32m----> 7\u001b[0;31m \u001b[0mtarget_model\u001b[0m\u001b[0;34m.\u001b[0m\u001b[0msave\u001b[0m\u001b[0;34m(\u001b[0m\u001b[0;34m'data/target_model'\u001b[0m\u001b[0;34m)\u001b[0m\u001b[0;34m\u001b[0m\u001b[0;34m\u001b[0m\u001b[0m\n\u001b[0m",
            "\u001b[0;32m/usr/local/lib/python3.10/dist-packages/keras/src/utils/traceback_utils.py\u001b[0m in \u001b[0;36merror_handler\u001b[0;34m(*args, **kwargs)\u001b[0m\n\u001b[1;32m    120\u001b[0m             \u001b[0;31m# To get the full stack trace, call:\u001b[0m\u001b[0;34m\u001b[0m\u001b[0;34m\u001b[0m\u001b[0m\n\u001b[1;32m    121\u001b[0m             \u001b[0;31m# `keras.config.disable_traceback_filtering()`\u001b[0m\u001b[0;34m\u001b[0m\u001b[0;34m\u001b[0m\u001b[0m\n\u001b[0;32m--> 122\u001b[0;31m             \u001b[0;32mraise\u001b[0m \u001b[0me\u001b[0m\u001b[0;34m.\u001b[0m\u001b[0mwith_traceback\u001b[0m\u001b[0;34m(\u001b[0m\u001b[0mfiltered_tb\u001b[0m\u001b[0;34m)\u001b[0m \u001b[0;32mfrom\u001b[0m \u001b[0;32mNone\u001b[0m\u001b[0;34m\u001b[0m\u001b[0;34m\u001b[0m\u001b[0m\n\u001b[0m\u001b[1;32m    123\u001b[0m         \u001b[0;32mfinally\u001b[0m\u001b[0;34m:\u001b[0m\u001b[0;34m\u001b[0m\u001b[0;34m\u001b[0m\u001b[0m\n\u001b[1;32m    124\u001b[0m             \u001b[0;32mdel\u001b[0m \u001b[0mfiltered_tb\u001b[0m\u001b[0;34m\u001b[0m\u001b[0;34m\u001b[0m\u001b[0m\n",
            "\u001b[0;32m/usr/local/lib/python3.10/dist-packages/keras/src/saving/saving_api.py\u001b[0m in \u001b[0;36msave_model\u001b[0;34m(model, filepath, overwrite, zipped, **kwargs)\u001b[0m\n\u001b[1;32m    112\u001b[0m             \u001b[0mmodel\u001b[0m\u001b[0;34m,\u001b[0m \u001b[0mfilepath\u001b[0m\u001b[0;34m,\u001b[0m \u001b[0moverwrite\u001b[0m\u001b[0;34m,\u001b[0m \u001b[0minclude_optimizer\u001b[0m\u001b[0;34m\u001b[0m\u001b[0;34m\u001b[0m\u001b[0m\n\u001b[1;32m    113\u001b[0m         )\n\u001b[0;32m--> 114\u001b[0;31m     raise ValueError(\n\u001b[0m\u001b[1;32m    115\u001b[0m         \u001b[0;34m\"Invalid filepath extension for saving. \"\u001b[0m\u001b[0;34m\u001b[0m\u001b[0;34m\u001b[0m\u001b[0m\n\u001b[1;32m    116\u001b[0m         \u001b[0;34m\"Please add either a `.keras` extension for the native Keras \"\u001b[0m\u001b[0;34m\u001b[0m\u001b[0;34m\u001b[0m\u001b[0m\n",
            "\u001b[0;31mValueError\u001b[0m: Invalid filepath extension for saving. Please add either a `.keras` extension for the native Keras format (recommended) or a `.h5` extension. Use `model.export(filepath)` if you want to export a SavedModel for use with TFLite/TFServing/etc. Received: filepath=data/target_model."
          ]
        }
      ]
    },
    {
      "cell_type": "markdown",
      "metadata": {
        "id": "aTpRC2abP_br"
      },
      "source": [
        "## Run the Attack"
      ]
    },
    {
      "cell_type": "code",
      "metadata": {
        "id": "lyEZSu3tLOcI",
        "outputId": "e1e487ea-446e-4c03-de41-ee89dac9696a",
        "colab": {
          "base_uri": "https://localhost:8080/",
          "height": 426
        }
      },
      "source": [
        "attack_pars = {\n",
        "    'number_classes': 100,\n",
        "    'number_shadow_models': 100,\n",
        "    'shadow_training_set_size': 2500,\n",
        "    'create_compile_shadow_model': create_compile_shadow_model,\n",
        "    'create_compile_attack_model': create_compile_attack_model,\n",
        "    'shadow_epochs': 100,\n",
        "    'shadow_batch_size': 50,\n",
        "    'attack_epochs': 50,\n",
        "    'attack_batch_size': 50,\n",
        "}\n",
        "\n",
        "# single target\n",
        "data_conf = {\n",
        "    'shadow_indices': list(range(40000)),\n",
        "    'target_indices': list(range(40000, 50000)),\n",
        "    'evaluation_indices': list(range(40000, 60000)),\n",
        "    'record_indices_per_target': np.array([np.arange(10000)])\n",
        "}\n",
        "\n",
        "mia_attack = mia.Mia(\"MIA\", attack_pars, data, labels, data_conf, [target_model])\n",
        "\n",
        "mia_attack.run(save_path=\"data\")\n",
        "\n",
        "mia_attack.create_attack_report()"
      ],
      "execution_count": 26,
      "outputs": [
        {
          "output_type": "stream",
          "name": "stderr",
          "text": [
            "2024-12-11 14:01:24 - pepr.privacy.mia - INFO - Create mapping of records to shadow models.\n",
            "INFO:pepr.privacy.mia:Create mapping of records to shadow models.\n",
            "2024-12-11 14:01:24 - pepr.privacy.mia - INFO - Save mapping of records to shadow models: data/shadow_data_indices.npy.\n",
            "INFO:pepr.privacy.mia:Save mapping of records to shadow models: data/shadow_data_indices.npy.\n"
          ]
        },
        {
          "output_type": "error",
          "ename": "FileNotFoundError",
          "evalue": "[Errno 2] No such file or directory: 'data/shadow_data_indices.npy'",
          "traceback": [
            "\u001b[0;31m---------------------------------------------------------------------------\u001b[0m",
            "\u001b[0;31mFileNotFoundError\u001b[0m                         Traceback (most recent call last)",
            "\u001b[0;32m<ipython-input-26-ab1a047e165b>\u001b[0m in \u001b[0;36m<cell line: 23>\u001b[0;34m()\u001b[0m\n\u001b[1;32m     21\u001b[0m \u001b[0mmia_attack\u001b[0m \u001b[0;34m=\u001b[0m \u001b[0mmia\u001b[0m\u001b[0;34m.\u001b[0m\u001b[0mMia\u001b[0m\u001b[0;34m(\u001b[0m\u001b[0;34m\"MIA\"\u001b[0m\u001b[0;34m,\u001b[0m \u001b[0mattack_pars\u001b[0m\u001b[0;34m,\u001b[0m \u001b[0mdata\u001b[0m\u001b[0;34m,\u001b[0m \u001b[0mlabels\u001b[0m\u001b[0;34m,\u001b[0m \u001b[0mdata_conf\u001b[0m\u001b[0;34m,\u001b[0m \u001b[0;34m[\u001b[0m\u001b[0mtarget_model\u001b[0m\u001b[0;34m]\u001b[0m\u001b[0;34m)\u001b[0m\u001b[0;34m\u001b[0m\u001b[0;34m\u001b[0m\u001b[0m\n\u001b[1;32m     22\u001b[0m \u001b[0;34m\u001b[0m\u001b[0m\n\u001b[0;32m---> 23\u001b[0;31m \u001b[0mmia_attack\u001b[0m\u001b[0;34m.\u001b[0m\u001b[0mrun\u001b[0m\u001b[0;34m(\u001b[0m\u001b[0msave_path\u001b[0m\u001b[0;34m=\u001b[0m\u001b[0;34m\"data\"\u001b[0m\u001b[0;34m)\u001b[0m\u001b[0;34m\u001b[0m\u001b[0;34m\u001b[0m\u001b[0m\n\u001b[0m\u001b[1;32m     24\u001b[0m \u001b[0;34m\u001b[0m\u001b[0m\n\u001b[1;32m     25\u001b[0m \u001b[0mmia_attack\u001b[0m\u001b[0;34m.\u001b[0m\u001b[0mcreate_attack_report\u001b[0m\u001b[0;34m(\u001b[0m\u001b[0;34m)\u001b[0m\u001b[0;34m\u001b[0m\u001b[0;34m\u001b[0m\u001b[0m\n",
            "\u001b[0;32m/content/ml-pepr/pepr/privacy/mia.py\u001b[0m in \u001b[0;36mrun\u001b[0;34m(self, save_path, load_pars)\u001b[0m\n\u001b[1;32m    215\u001b[0m             \u001b[0mpath\u001b[0m \u001b[0;34m=\u001b[0m \u001b[0msave_path\u001b[0m \u001b[0;34m+\u001b[0m \u001b[0;34m\"/shadow_data_indices.npy\"\u001b[0m\u001b[0;34m\u001b[0m\u001b[0;34m\u001b[0m\u001b[0m\n\u001b[1;32m    216\u001b[0m             \u001b[0mlogger\u001b[0m\u001b[0;34m.\u001b[0m\u001b[0minfo\u001b[0m\u001b[0;34m(\u001b[0m\u001b[0;34mf\"Save mapping of records to shadow models: {path}.\"\u001b[0m\u001b[0;34m)\u001b[0m\u001b[0;34m\u001b[0m\u001b[0;34m\u001b[0m\u001b[0m\n\u001b[0;32m--> 217\u001b[0;31m             \u001b[0mnp\u001b[0m\u001b[0;34m.\u001b[0m\u001b[0msave\u001b[0m\u001b[0;34m(\u001b[0m\u001b[0mpath\u001b[0m\u001b[0;34m,\u001b[0m \u001b[0mshadow_data_indices\u001b[0m\u001b[0;34m)\u001b[0m\u001b[0;34m\u001b[0m\u001b[0;34m\u001b[0m\u001b[0m\n\u001b[0m\u001b[1;32m    218\u001b[0m         \u001b[0mlogger\u001b[0m\u001b[0;34m.\u001b[0m\u001b[0mdebug\u001b[0m\u001b[0;34m(\u001b[0m\u001b[0;34mf\"shadow_datasets shape: {shadow_data_indices.shape}\"\u001b[0m\u001b[0;34m)\u001b[0m\u001b[0;34m\u001b[0m\u001b[0;34m\u001b[0m\u001b[0m\n\u001b[1;32m    219\u001b[0m \u001b[0;34m\u001b[0m\u001b[0m\n",
            "\u001b[0;32m/usr/local/lib/python3.10/dist-packages/numpy/lib/npyio.py\u001b[0m in \u001b[0;36msave\u001b[0;34m(file, arr, allow_pickle, fix_imports)\u001b[0m\n\u001b[1;32m    540\u001b[0m         \u001b[0;32mif\u001b[0m \u001b[0;32mnot\u001b[0m \u001b[0mfile\u001b[0m\u001b[0;34m.\u001b[0m\u001b[0mendswith\u001b[0m\u001b[0;34m(\u001b[0m\u001b[0;34m'.npy'\u001b[0m\u001b[0;34m)\u001b[0m\u001b[0;34m:\u001b[0m\u001b[0;34m\u001b[0m\u001b[0;34m\u001b[0m\u001b[0m\n\u001b[1;32m    541\u001b[0m             \u001b[0mfile\u001b[0m \u001b[0;34m=\u001b[0m \u001b[0mfile\u001b[0m \u001b[0;34m+\u001b[0m \u001b[0;34m'.npy'\u001b[0m\u001b[0;34m\u001b[0m\u001b[0;34m\u001b[0m\u001b[0m\n\u001b[0;32m--> 542\u001b[0;31m         \u001b[0mfile_ctx\u001b[0m \u001b[0;34m=\u001b[0m \u001b[0mopen\u001b[0m\u001b[0;34m(\u001b[0m\u001b[0mfile\u001b[0m\u001b[0;34m,\u001b[0m \u001b[0;34m\"wb\"\u001b[0m\u001b[0;34m)\u001b[0m\u001b[0;34m\u001b[0m\u001b[0;34m\u001b[0m\u001b[0m\n\u001b[0m\u001b[1;32m    543\u001b[0m \u001b[0;34m\u001b[0m\u001b[0m\n\u001b[1;32m    544\u001b[0m     \u001b[0;32mwith\u001b[0m \u001b[0mfile_ctx\u001b[0m \u001b[0;32mas\u001b[0m \u001b[0mfid\u001b[0m\u001b[0;34m:\u001b[0m\u001b[0;34m\u001b[0m\u001b[0;34m\u001b[0m\u001b[0m\n",
            "\u001b[0;31mFileNotFoundError\u001b[0m: [Errno 2] No such file or directory: 'data/shadow_data_indices.npy'"
          ]
        }
      ]
    },
    {
      "cell_type": "markdown",
      "metadata": {
        "id": "kxokc1KnQqzz"
      },
      "source": [
        "### Save Generated Data and Report\n",
        "To download the `data` or `mia_report` directory from Google Colab, it needs to be compressed as a .zip file."
      ]
    },
    {
      "cell_type": "code",
      "metadata": {
        "id": "ORNqc3EDyUeG"
      },
      "source": [
        "!zip -r -q data.zip data"
      ],
      "execution_count": null,
      "outputs": []
    },
    {
      "cell_type": "code",
      "metadata": {
        "id": "1eLn6oYWptj4"
      },
      "source": [
        "!zip -r -q report.zip mia_report"
      ],
      "execution_count": null,
      "outputs": []
    }
  ]
}