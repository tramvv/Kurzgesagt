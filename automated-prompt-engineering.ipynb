{
  "cells": [
    {
      "cell_type": "markdown",
      "metadata": {
        "id": "56KZ1m2gXe_P"
      },
      "source": [
        "# Introduction"
      ]
    },
    {
      "cell_type": "markdown",
      "metadata": {
        "id": "4EjzzGRdXe_S"
      },
      "source": [
        "[<img align=\"center\" src=\"https://colab.research.google.com/assets/colab-badge.svg\" />](https://colab.research.google.com/github/marshmellow77/automated-prompt-engineering/blob/main/automated-prompt-engineering.ipynb)\n",
        "\n",
        "\n",
        "This notebook demonstrates how to use Google's Gemini model to automate prompt engineering.\n",
        "\n",
        "Prompt engineering is a powerful way to improve the responses og large language models (LLMs). Bit it is also a manual, tedious, iterative process and it quickly accumulates technical debt and waste since each handcrafted prompt is specific to a model (and its version) as well as the task at hand.\n",
        "\n",
        "In this notebook we will learn how to use the DSPy library to autonomously and automatically create prompts that are optimised for a specific model and the task at hand.\n"
      ]
    },
    {
      "cell_type": "markdown",
      "metadata": {
        "id": "VjGB2RfvXe_S"
      },
      "source": [
        "# Manual Prompt Engineering"
      ]
    },
    {
      "cell_type": "markdown",
      "metadata": {
        "id": "QBHOS8keXe_T"
      },
      "source": [
        "Manual prompt engineering is very tedious - let's look at an example where we carefully handcraft a prompt for our task and model."
      ]
    },
    {
      "cell_type": "markdown",
      "metadata": {
        "id": "BnZ5LVW9Xe_T"
      },
      "source": [
        "## Setup"
      ]
    },
    {
      "cell_type": "code",
      "execution_count": 1,
      "metadata": {
        "id": "MQ3qqZ47Xe_T",
        "outputId": "63d2961c-6071-4e5d-aed8-79f8c85ef5d6",
        "colab": {
          "base_uri": "https://localhost:8080/"
        }
      },
      "outputs": [
        {
          "output_type": "stream",
          "name": "stdout",
          "text": [
            "Collecting dspy-ai\n",
            "  Cloning https://github.com/marshmellow77/dspy.git (to revision seedstart-random-search) to /tmp/pip-install-4b67w7yz/dspy-ai_dc07ac251c49487c898a2cb09653e4f7\n",
            "  Running command git clone --filter=blob:none --quiet https://github.com/marshmellow77/dspy.git /tmp/pip-install-4b67w7yz/dspy-ai_dc07ac251c49487c898a2cb09653e4f7\n",
            "\u001b[33m  WARNING: Did not find branch or tag 'seedstart-random-search', assuming revision or ref.\u001b[0m\u001b[33m\n",
            "\u001b[0m  Running command git checkout -q seedstart-random-search\n",
            "  error: pathspec 'seedstart-random-search' did not match any file(s) known to git\n",
            "  \u001b[1;31merror\u001b[0m: \u001b[1msubprocess-exited-with-error\u001b[0m\n",
            "  \n",
            "  \u001b[31m×\u001b[0m \u001b[32mgit checkout -q seedstart-random-search\u001b[0m did not run successfully.\n",
            "  \u001b[31m│\u001b[0m exit code: \u001b[1;36m1\u001b[0m\n",
            "  \u001b[31m╰─>\u001b[0m See above for output.\n",
            "  \n",
            "  \u001b[1;35mnote\u001b[0m: This error originates from a subprocess, and is likely not a problem with pip.\n",
            "\u001b[1;31merror\u001b[0m: \u001b[1msubprocess-exited-with-error\u001b[0m\n",
            "\n",
            "\u001b[31m×\u001b[0m \u001b[32mgit checkout -q seedstart-random-search\u001b[0m did not run successfully.\n",
            "\u001b[31m│\u001b[0m exit code: \u001b[1;36m1\u001b[0m\n",
            "\u001b[31m╰─>\u001b[0m See above for output.\n",
            "\n",
            "\u001b[1;35mnote\u001b[0m: This error originates from a subprocess, and is likely not a problem with pip.\n"
          ]
        }
      ],
      "source": [
        "# As of 3 April 2024, VertexAI is not yet integrated into DSPy. But there already exists a PR for it which we can leverage.\n",
        "!pip install -U git+https://github.com/marshmellow77/dspy.git@seedstart-random-search#egg=dspy-ai"
      ]
    },
    {
      "cell_type": "code",
      "execution_count": 2,
      "metadata": {
        "id": "znc1vYvsXe_V",
        "outputId": "f685e485-91f1-4017-cf01-cc99567e77dc",
        "colab": {
          "base_uri": "https://localhost:8080/",
          "height": 933
        }
      },
      "outputs": [
        {
          "output_type": "stream",
          "name": "stdout",
          "text": [
            "Requirement already satisfied: google-cloud-aiplatform in /usr/local/lib/python3.10/dist-packages (1.73.0)\n",
            "Collecting google-cloud-aiplatform\n",
            "  Downloading google_cloud_aiplatform-1.74.0-py2.py3-none-any.whl.metadata (31 kB)\n",
            "Requirement already satisfied: google-api-core!=2.0.*,!=2.1.*,!=2.2.*,!=2.3.*,!=2.4.*,!=2.5.*,!=2.6.*,!=2.7.*,<3.0.0dev,>=1.34.1 in /usr/local/lib/python3.10/dist-packages (from google-api-core[grpc]!=2.0.*,!=2.1.*,!=2.2.*,!=2.3.*,!=2.4.*,!=2.5.*,!=2.6.*,!=2.7.*,<3.0.0dev,>=1.34.1->google-cloud-aiplatform) (2.19.2)\n",
            "Requirement already satisfied: google-auth<3.0.0dev,>=2.14.1 in /usr/local/lib/python3.10/dist-packages (from google-cloud-aiplatform) (2.27.0)\n",
            "Requirement already satisfied: proto-plus<2.0.0dev,>=1.22.3 in /usr/local/lib/python3.10/dist-packages (from google-cloud-aiplatform) (1.25.0)\n",
            "Requirement already satisfied: protobuf!=4.21.0,!=4.21.1,!=4.21.2,!=4.21.3,!=4.21.4,!=4.21.5,<6.0.0dev,>=3.20.2 in /usr/local/lib/python3.10/dist-packages (from google-cloud-aiplatform) (4.25.5)\n",
            "Requirement already satisfied: packaging>=14.3 in /usr/local/lib/python3.10/dist-packages (from google-cloud-aiplatform) (24.2)\n",
            "Requirement already satisfied: google-cloud-storage<3.0.0dev,>=1.32.0 in /usr/local/lib/python3.10/dist-packages (from google-cloud-aiplatform) (2.8.0)\n",
            "Requirement already satisfied: google-cloud-bigquery!=3.20.0,<4.0.0dev,>=1.15.0 in /usr/local/lib/python3.10/dist-packages (from google-cloud-aiplatform) (3.25.0)\n",
            "Requirement already satisfied: google-cloud-resource-manager<3.0.0dev,>=1.3.3 in /usr/local/lib/python3.10/dist-packages (from google-cloud-aiplatform) (1.13.1)\n",
            "Requirement already satisfied: shapely<3.0.0dev in /usr/local/lib/python3.10/dist-packages (from google-cloud-aiplatform) (2.0.6)\n",
            "Requirement already satisfied: pydantic<3 in /usr/local/lib/python3.10/dist-packages (from google-cloud-aiplatform) (2.10.3)\n",
            "Requirement already satisfied: docstring-parser<1 in /usr/local/lib/python3.10/dist-packages (from google-cloud-aiplatform) (0.16)\n",
            "Requirement already satisfied: googleapis-common-protos<2.0.dev0,>=1.56.2 in /usr/local/lib/python3.10/dist-packages (from google-api-core!=2.0.*,!=2.1.*,!=2.2.*,!=2.3.*,!=2.4.*,!=2.5.*,!=2.6.*,!=2.7.*,<3.0.0dev,>=1.34.1->google-api-core[grpc]!=2.0.*,!=2.1.*,!=2.2.*,!=2.3.*,!=2.4.*,!=2.5.*,!=2.6.*,!=2.7.*,<3.0.0dev,>=1.34.1->google-cloud-aiplatform) (1.66.0)\n",
            "Requirement already satisfied: requests<3.0.0.dev0,>=2.18.0 in /usr/local/lib/python3.10/dist-packages (from google-api-core!=2.0.*,!=2.1.*,!=2.2.*,!=2.3.*,!=2.4.*,!=2.5.*,!=2.6.*,!=2.7.*,<3.0.0dev,>=1.34.1->google-api-core[grpc]!=2.0.*,!=2.1.*,!=2.2.*,!=2.3.*,!=2.4.*,!=2.5.*,!=2.6.*,!=2.7.*,<3.0.0dev,>=1.34.1->google-cloud-aiplatform) (2.32.3)\n",
            "Requirement already satisfied: grpcio<2.0dev,>=1.33.2 in /usr/local/lib/python3.10/dist-packages (from google-api-core[grpc]!=2.0.*,!=2.1.*,!=2.2.*,!=2.3.*,!=2.4.*,!=2.5.*,!=2.6.*,!=2.7.*,<3.0.0dev,>=1.34.1->google-cloud-aiplatform) (1.68.1)\n",
            "Requirement already satisfied: grpcio-status<2.0.dev0,>=1.33.2 in /usr/local/lib/python3.10/dist-packages (from google-api-core[grpc]!=2.0.*,!=2.1.*,!=2.2.*,!=2.3.*,!=2.4.*,!=2.5.*,!=2.6.*,!=2.7.*,<3.0.0dev,>=1.34.1->google-cloud-aiplatform) (1.62.3)\n",
            "Requirement already satisfied: cachetools<6.0,>=2.0.0 in /usr/local/lib/python3.10/dist-packages (from google-auth<3.0.0dev,>=2.14.1->google-cloud-aiplatform) (5.5.0)\n",
            "Requirement already satisfied: pyasn1-modules>=0.2.1 in /usr/local/lib/python3.10/dist-packages (from google-auth<3.0.0dev,>=2.14.1->google-cloud-aiplatform) (0.4.1)\n",
            "Requirement already satisfied: rsa<5,>=3.1.4 in /usr/local/lib/python3.10/dist-packages (from google-auth<3.0.0dev,>=2.14.1->google-cloud-aiplatform) (4.9)\n",
            "Requirement already satisfied: google-cloud-core<3.0.0dev,>=1.6.0 in /usr/local/lib/python3.10/dist-packages (from google-cloud-bigquery!=3.20.0,<4.0.0dev,>=1.15.0->google-cloud-aiplatform) (2.4.1)\n",
            "Requirement already satisfied: google-resumable-media<3.0dev,>=0.6.0 in /usr/local/lib/python3.10/dist-packages (from google-cloud-bigquery!=3.20.0,<4.0.0dev,>=1.15.0->google-cloud-aiplatform) (2.7.2)\n",
            "Requirement already satisfied: python-dateutil<3.0dev,>=2.7.2 in /usr/local/lib/python3.10/dist-packages (from google-cloud-bigquery!=3.20.0,<4.0.0dev,>=1.15.0->google-cloud-aiplatform) (2.8.2)\n",
            "Requirement already satisfied: grpc-google-iam-v1<1.0.0dev,>=0.12.4 in /usr/local/lib/python3.10/dist-packages (from google-cloud-resource-manager<3.0.0dev,>=1.3.3->google-cloud-aiplatform) (0.13.1)\n",
            "Requirement already satisfied: annotated-types>=0.6.0 in /usr/local/lib/python3.10/dist-packages (from pydantic<3->google-cloud-aiplatform) (0.7.0)\n",
            "Requirement already satisfied: pydantic-core==2.27.1 in /usr/local/lib/python3.10/dist-packages (from pydantic<3->google-cloud-aiplatform) (2.27.1)\n",
            "Requirement already satisfied: typing-extensions>=4.12.2 in /usr/local/lib/python3.10/dist-packages (from pydantic<3->google-cloud-aiplatform) (4.12.2)\n",
            "Requirement already satisfied: numpy<3,>=1.14 in /usr/local/lib/python3.10/dist-packages (from shapely<3.0.0dev->google-cloud-aiplatform) (1.26.4)\n",
            "Requirement already satisfied: google-crc32c<2.0dev,>=1.0 in /usr/local/lib/python3.10/dist-packages (from google-resumable-media<3.0dev,>=0.6.0->google-cloud-bigquery!=3.20.0,<4.0.0dev,>=1.15.0->google-cloud-aiplatform) (1.6.0)\n",
            "Requirement already satisfied: pyasn1<0.7.0,>=0.4.6 in /usr/local/lib/python3.10/dist-packages (from pyasn1-modules>=0.2.1->google-auth<3.0.0dev,>=2.14.1->google-cloud-aiplatform) (0.6.1)\n",
            "Requirement already satisfied: six>=1.5 in /usr/local/lib/python3.10/dist-packages (from python-dateutil<3.0dev,>=2.7.2->google-cloud-bigquery!=3.20.0,<4.0.0dev,>=1.15.0->google-cloud-aiplatform) (1.17.0)\n",
            "Requirement already satisfied: charset-normalizer<4,>=2 in /usr/local/lib/python3.10/dist-packages (from requests<3.0.0.dev0,>=2.18.0->google-api-core!=2.0.*,!=2.1.*,!=2.2.*,!=2.3.*,!=2.4.*,!=2.5.*,!=2.6.*,!=2.7.*,<3.0.0dev,>=1.34.1->google-api-core[grpc]!=2.0.*,!=2.1.*,!=2.2.*,!=2.3.*,!=2.4.*,!=2.5.*,!=2.6.*,!=2.7.*,<3.0.0dev,>=1.34.1->google-cloud-aiplatform) (3.4.0)\n",
            "Requirement already satisfied: idna<4,>=2.5 in /usr/local/lib/python3.10/dist-packages (from requests<3.0.0.dev0,>=2.18.0->google-api-core!=2.0.*,!=2.1.*,!=2.2.*,!=2.3.*,!=2.4.*,!=2.5.*,!=2.6.*,!=2.7.*,<3.0.0dev,>=1.34.1->google-api-core[grpc]!=2.0.*,!=2.1.*,!=2.2.*,!=2.3.*,!=2.4.*,!=2.5.*,!=2.6.*,!=2.7.*,<3.0.0dev,>=1.34.1->google-cloud-aiplatform) (3.10)\n",
            "Requirement already satisfied: urllib3<3,>=1.21.1 in /usr/local/lib/python3.10/dist-packages (from requests<3.0.0.dev0,>=2.18.0->google-api-core!=2.0.*,!=2.1.*,!=2.2.*,!=2.3.*,!=2.4.*,!=2.5.*,!=2.6.*,!=2.7.*,<3.0.0dev,>=1.34.1->google-api-core[grpc]!=2.0.*,!=2.1.*,!=2.2.*,!=2.3.*,!=2.4.*,!=2.5.*,!=2.6.*,!=2.7.*,<3.0.0dev,>=1.34.1->google-cloud-aiplatform) (2.2.3)\n",
            "Requirement already satisfied: certifi>=2017.4.17 in /usr/local/lib/python3.10/dist-packages (from requests<3.0.0.dev0,>=2.18.0->google-api-core!=2.0.*,!=2.1.*,!=2.2.*,!=2.3.*,!=2.4.*,!=2.5.*,!=2.6.*,!=2.7.*,<3.0.0dev,>=1.34.1->google-api-core[grpc]!=2.0.*,!=2.1.*,!=2.2.*,!=2.3.*,!=2.4.*,!=2.5.*,!=2.6.*,!=2.7.*,<3.0.0dev,>=1.34.1->google-cloud-aiplatform) (2024.8.30)\n",
            "Downloading google_cloud_aiplatform-1.74.0-py2.py3-none-any.whl (6.5 MB)\n",
            "\u001b[2K   \u001b[90m━━━━━━━━━━━━━━━━━━━━━━━━━━━━━━━━━━━━━━━━\u001b[0m \u001b[32m6.5/6.5 MB\u001b[0m \u001b[31m52.7 MB/s\u001b[0m eta \u001b[36m0:00:00\u001b[0m\n",
            "\u001b[?25hInstalling collected packages: google-cloud-aiplatform\n",
            "  Attempting uninstall: google-cloud-aiplatform\n",
            "    Found existing installation: google-cloud-aiplatform 1.73.0\n",
            "    Uninstalling google-cloud-aiplatform-1.73.0:\n",
            "      Successfully uninstalled google-cloud-aiplatform-1.73.0\n",
            "Successfully installed google-cloud-aiplatform-1.74.0\n"
          ]
        },
        {
          "output_type": "display_data",
          "data": {
            "application/vnd.colab-display-data+json": {
              "pip_warning": {
                "packages": [
                  "google"
                ]
              },
              "id": "13eddf7f817f451099bdbeb2407e0c8d"
            }
          },
          "metadata": {}
        },
        {
          "output_type": "stream",
          "name": "stdout",
          "text": [
            "Requirement already satisfied: Jinja2 in /usr/local/lib/python3.10/dist-packages (3.1.4)\n",
            "Requirement already satisfied: MarkupSafe>=2.0 in /usr/local/lib/python3.10/dist-packages (from Jinja2) (3.0.2)\n"
          ]
        }
      ],
      "source": [
        "!pip install --upgrade google-cloud-aiplatform\n",
        "!pip install Jinja2"
      ]
    },
    {
      "cell_type": "code",
      "execution_count": 1,
      "metadata": {
        "id": "tb7VISWHXe_V"
      },
      "outputs": [],
      "source": [
        "import os\n",
        "import sys\n",
        "\n",
        "IS_COLAB = \"google.colab\" in sys.modules\n",
        "if not IS_COLAB:\n",
        "    raise ValueError(\"This notebook should be run using Google Colab.\")\n",
        "\n",
        "if not os.path.exists(\"/opt/deeplearning/metadata/env_version\") and not os.getenv(\n",
        "    \"DL_ANACONDA_HOME\"\n",
        "):\n",
        "    if \"google.colab\" in sys.modules:\n",
        "        from google.colab import auth as google_auth\n",
        "\n",
        "        google_auth.authenticate_user()"
      ]
    },
    {
      "cell_type": "code",
      "execution_count": 2,
      "metadata": {
        "id": "Owybo8muXe_V"
      },
      "outputs": [],
      "source": [
        "import vertexai\n",
        "\n",
        "project_id = \"my-project-269206\"\n",
        "vertexai.init(project=project_id)"
      ]
    },
    {
      "cell_type": "code",
      "execution_count": 3,
      "metadata": {
        "id": "KuB7RgjPXe_W"
      },
      "outputs": [],
      "source": [
        "from vertexai.generative_models import GenerativeModel\n",
        "\n",
        "gemini_pro = GenerativeModel(\"gemini-1.0-pro\")"
      ]
    },
    {
      "cell_type": "markdown",
      "metadata": {
        "id": "M0UTaH0NXe_W"
      },
      "source": [
        "## Zero shot attempt"
      ]
    },
    {
      "cell_type": "markdown",
      "metadata": {
        "id": "pOKgFKG9Xe_W"
      },
      "source": [
        "Let's first try to use Gemini Pro for a mathematical text question"
      ]
    },
    {
      "cell_type": "code",
      "execution_count": 4,
      "metadata": {
        "id": "DNc4VtRbXe_W"
      },
      "outputs": [],
      "source": [
        "prompt = \"\"\"Given the fields `question`, produce the fields `answer`.\n",
        "\n",
        "Question: Heather is going to sew 150 aprons that are to be used for a kiddie crew program.\n",
        "She already was able to sew 13 aprons, and today, she sewed three times as many aprons.\n",
        "How many aprons should she sew tomorrow if she wants to sew half of the remaining number of aprons needed?\n",
        "\n",
        "Answer:\"\"\"\n",
        "\n",
        "# The correct answer is 49."
      ]
    },
    {
      "cell_type": "code",
      "execution_count": 5,
      "metadata": {
        "id": "vCwXj1QiXe_W"
      },
      "outputs": [],
      "source": [
        "config = {\"temperature\": 0.1}"
      ]
    },
    {
      "cell_type": "code",
      "execution_count": 6,
      "metadata": {
        "id": "xzgeyl5bXe_W",
        "outputId": "a9331aaf-a274-47e0-a6fe-0057dade69db",
        "colab": {
          "base_uri": "https://localhost:8080/"
        }
      },
      "outputs": [
        {
          "output_type": "stream",
          "name": "stdout",
          "text": [
            "## Answer\n",
            "\n",
            "Heather needs to sew a total of 150 aprons for the kiddie crew program. She has already sewn 13 aprons, and today, she sewed three times as many, which is 13 x 3 = 39 aprons.\n",
            "\n",
            "Therefore, she has sewn a total of 13 + 39 = 52 aprons so far.\n",
            "\n",
            "The remaining number of aprons needed is 150 - 52 = 98 aprons.\n",
            "\n",
            "Heather wants to sew half of the remaining number of aprons tomorrow, which is 98 / 2 = 49 aprons.\n",
            "\n",
            "Therefore, Heather should sew **49 aprons** tomorrow to complete half of the remaining number of aprons needed. \n",
            "\n"
          ]
        }
      ],
      "source": [
        "response = gemini_pro.generate_content(contents=prompt, generation_config=config)\n",
        "print(response.text)"
      ]
    },
    {
      "cell_type": "markdown",
      "metadata": {
        "id": "U8wOyIqkXe_X"
      },
      "source": [
        "We can see that Gemini Pro got this one wrong. Let's use best practices including Chain of thought and few shot prompting to improve Gemini's performance!"
      ]
    },
    {
      "cell_type": "markdown",
      "metadata": {
        "id": "ShsfSGUcXe_X"
      },
      "source": [
        "## Few shot prompting with Chain of Thought"
      ]
    },
    {
      "cell_type": "code",
      "execution_count": 7,
      "metadata": {
        "id": "gLtJ8-ShXe_X"
      },
      "outputs": [],
      "source": [
        "prompt = \"\"\"Given the fields `question`, produce the fields `answer`.\n",
        "\n",
        "---\n",
        "\n",
        "Follow the following format.\n",
        "\n",
        "Question: <Question>\n",
        "Rationale: Let's think step by step ...\n",
        "Answer: <Answer>\n",
        "\n",
        "---\n",
        "\n",
        "Question: A gumball machine has red, green, and blue gumballs. The machine has half as many blue gumballs as red gumballs.\n",
        "For each blue gumball, the machine has 4 times as many green gumballs. If the machine has 16 red gumballs how many gumballs are in the machine?\n",
        "Rationale: Let's think step by step.\n",
        "First, we can find the number of blue gumballs in the machine.\n",
        "Since the machine has half as many blue gumballs as red gumballs, and there are 16 red gumballs, there must be 16 / 2 = 8 blue gumballs.\n",
        "Next, we can find the number of green gumballs in the machine.\n",
        "Since the machine has 4 times as many green gumballs as blue gumballs, there must be 8 x 4 = 32 green gumballs.\n",
        "Finally, we can add up the number of red, blue, and green gumballs to find the total number of gumballs in the machine: 16 + 8 + 32 = 56.\n",
        "Answer: 56\n",
        "\n",
        "---\n",
        "\n",
        "Question: Rachel makes $12.00 as a waitress in a coffee shop. In one hour, she serves 20 different people and they all leave her a $1.25 tip. How much money did she make in that hour?\n",
        "Rationale: Let's think step by step.\n",
        "First, we need to find out how much money Rachel made from tips. She served 20 people and each person left her a $1.25 tip, so she made 20 * $1.25 = $25.00 in tips.\n",
        "Next, we need to add her hourly wage to the money she made from tips to find out how much money she made in total. She made $12.00 per hour, so in one hour she made $12.00 + $25.00 = $37.00.\n",
        "Answer: 37\n",
        "\n",
        "---\n",
        "\n",
        "Question: Heather is going to sew 150 aprons that are to be used for a kiddie crew program. She already was able to sew 13 aprons, and today, she sewed three times as many aprons. How many aprons should she sew tomorrow if she wants to sew half of the remaining number of aprons needed?\n",
        "Rationale:\"\"\""
      ]
    },
    {
      "cell_type": "code",
      "execution_count": 8,
      "metadata": {
        "id": "O8TjSsDtXe_X",
        "outputId": "acb94211-1bae-4f90-c654-a24e620583b1",
        "colab": {
          "base_uri": "https://localhost:8080/"
        }
      },
      "outputs": [
        {
          "output_type": "stream",
          "name": "stdout",
          "text": [
            "Let's think step by step.\n",
            "\n",
            "Heather already sewed 13 aprons, and today she sewed three times as many, so she sewed 3 * 13 = 39 aprons today.\n",
            "\n",
            "In total, she has already sewn 13 + 39 = 52 aprons.\n",
            "\n",
            "She needs to sew 150 aprons in total, so she still needs to sew 150 - 52 = 98 aprons.\n",
            "\n",
            "If she wants to sew half of the remaining number of aprons needed tomorrow, she needs to sew 98 / 2 = 49 aprons tomorrow.\n",
            "\n",
            "Answer: 49\n"
          ]
        }
      ],
      "source": [
        "response = gemini_pro.generate_content(contents=prompt, generation_config=config)\n",
        "print(response.text)"
      ]
    },
    {
      "cell_type": "markdown",
      "metadata": {
        "id": "AFYidVBIXe_X"
      },
      "source": [
        "Nice, this worked!\n",
        "\n",
        "Now we have a good a good prompt for our model and the task at hand (mathematical text questions). But there are a few issues:\n",
        "* Our prompt works well on our model, but what if we want to use another model or another version (e.g. Gemini Ultra of Gemini 1.5)? Will it still work for those models?\n",
        "* We had to develop a few examples, and especially coming up with the rationale for each example was tedious\n",
        "\n",
        "The question is, could we automate this process so that next time we need to repeat this exercise we can just automatically create few shot examples that are optimised for our model and the task at hand?"
      ]
    },
    {
      "cell_type": "markdown",
      "metadata": {
        "id": "87xN3jpnXe_X"
      },
      "source": [
        "# Automated prompt engineering with DSPy"
      ]
    },
    {
      "cell_type": "markdown",
      "metadata": {
        "id": "F3Lfzis0Xe_X"
      },
      "source": [
        "DSPy is a library that allows us to automate this process. Let's see how it works."
      ]
    },
    {
      "cell_type": "markdown",
      "metadata": {
        "id": "zHiI29hoXe_X"
      },
      "source": [
        "## Setup"
      ]
    },
    {
      "cell_type": "code",
      "execution_count": 19,
      "metadata": {
        "id": "bQVwWkOTXe_X",
        "outputId": "425744fc-0ea5-47a1-96c8-0349fe7239d2",
        "colab": {
          "base_uri": "https://localhost:8080/",
          "height": 1000
        }
      },
      "outputs": [
        {
          "output_type": "stream",
          "name": "stdout",
          "text": [
            "Collecting dspy\n",
            "  Downloading dspy-2.5.43-py3-none-any.whl.metadata (7.3 kB)\n",
            "Requirement already satisfied: anyio in /usr/local/lib/python3.10/dist-packages (from dspy) (3.7.1)\n",
            "Collecting asyncer==0.0.8 (from dspy)\n",
            "  Downloading asyncer-0.0.8-py3-none-any.whl.metadata (6.7 kB)\n",
            "Collecting backoff (from dspy)\n",
            "  Downloading backoff-2.2.1-py3-none-any.whl.metadata (14 kB)\n",
            "Requirement already satisfied: cachetools in /usr/local/lib/python3.10/dist-packages (from dspy) (5.5.0)\n",
            "Collecting datasets (from dspy)\n",
            "  Downloading datasets-3.2.0-py3-none-any.whl.metadata (20 kB)\n",
            "Collecting diskcache (from dspy)\n",
            "  Downloading diskcache-5.6.3-py3-none-any.whl.metadata (20 kB)\n",
            "Requirement already satisfied: httpx in /usr/local/lib/python3.10/dist-packages (from dspy) (0.28.1)\n",
            "Requirement already satisfied: joblib~=1.3 in /usr/local/lib/python3.10/dist-packages (from dspy) (1.4.2)\n",
            "Collecting json-repair (from dspy)\n",
            "  Downloading json_repair-0.31.0-py3-none-any.whl.metadata (11 kB)\n",
            "Collecting litellm==1.53.7 (from litellm[proxy]==1.53.7->dspy)\n",
            "  Downloading litellm-1.53.7-py3-none-any.whl.metadata (33 kB)\n",
            "Collecting magicattr~=0.1.6 (from dspy)\n",
            "  Downloading magicattr-0.1.6-py2.py3-none-any.whl.metadata (3.2 kB)\n",
            "Requirement already satisfied: openai in /usr/local/lib/python3.10/dist-packages (from dspy) (1.54.5)\n",
            "Collecting optuna (from dspy)\n",
            "  Downloading optuna-4.1.0-py3-none-any.whl.metadata (16 kB)\n",
            "Requirement already satisfied: pandas in /usr/local/lib/python3.10/dist-packages (from dspy) (2.2.2)\n",
            "Requirement already satisfied: pydantic~=2.0 in /usr/local/lib/python3.10/dist-packages (from dspy) (2.10.3)\n",
            "Requirement already satisfied: regex in /usr/local/lib/python3.10/dist-packages (from dspy) (2024.9.11)\n",
            "Requirement already satisfied: requests in /usr/local/lib/python3.10/dist-packages (from dspy) (2.32.3)\n",
            "Requirement already satisfied: tenacity>=8.2.3 in /usr/local/lib/python3.10/dist-packages (from dspy) (9.0.0)\n",
            "Requirement already satisfied: tqdm in /usr/local/lib/python3.10/dist-packages (from dspy) (4.66.6)\n",
            "Collecting ujson (from dspy)\n",
            "  Downloading ujson-5.10.0-cp310-cp310-manylinux_2_17_x86_64.manylinux2014_x86_64.whl.metadata (9.3 kB)\n",
            "Requirement already satisfied: cloudpickle in /usr/local/lib/python3.10/dist-packages (from dspy) (3.1.0)\n",
            "Requirement already satisfied: jinja2 in /usr/local/lib/python3.10/dist-packages (from dspy) (3.1.4)\n",
            "Requirement already satisfied: aiohttp in /usr/local/lib/python3.10/dist-packages (from litellm==1.53.7->litellm[proxy]==1.53.7->dspy) (3.11.10)\n",
            "Requirement already satisfied: click in /usr/local/lib/python3.10/dist-packages (from litellm==1.53.7->litellm[proxy]==1.53.7->dspy) (8.1.7)\n",
            "Collecting httpx (from dspy)\n",
            "  Downloading httpx-0.27.2-py3-none-any.whl.metadata (7.1 kB)\n",
            "Requirement already satisfied: importlib-metadata>=6.8.0 in /usr/local/lib/python3.10/dist-packages (from litellm==1.53.7->litellm[proxy]==1.53.7->dspy) (8.5.0)\n",
            "Requirement already satisfied: jsonschema<5.0.0,>=4.22.0 in /usr/local/lib/python3.10/dist-packages (from litellm==1.53.7->litellm[proxy]==1.53.7->dspy) (4.23.0)\n",
            "Collecting openai (from dspy)\n",
            "  Downloading openai-1.57.4-py3-none-any.whl.metadata (24 kB)\n",
            "Collecting python-dotenv>=0.2.0 (from litellm==1.53.7->litellm[proxy]==1.53.7->dspy)\n",
            "  Downloading python_dotenv-1.0.1-py3-none-any.whl.metadata (23 kB)\n",
            "Collecting tiktoken>=0.7.0 (from litellm==1.53.7->litellm[proxy]==1.53.7->dspy)\n",
            "  Downloading tiktoken-0.8.0-cp310-cp310-manylinux_2_17_x86_64.manylinux2014_x86_64.whl.metadata (6.6 kB)\n",
            "Requirement already satisfied: tokenizers in /usr/local/lib/python3.10/dist-packages (from litellm==1.53.7->litellm[proxy]==1.53.7->dspy) (0.20.3)\n",
            "Requirement already satisfied: PyJWT<3.0.0,>=2.8.0 in /usr/local/lib/python3.10/dist-packages (from litellm[proxy]==1.53.7->dspy) (2.10.1)\n",
            "Collecting apscheduler<4.0.0,>=3.10.4 (from litellm[proxy]==1.53.7->dspy)\n",
            "  Downloading APScheduler-3.11.0-py3-none-any.whl.metadata (6.4 kB)\n",
            "Collecting cryptography<43.0.0,>=42.0.5 (from litellm[proxy]==1.53.7->dspy)\n",
            "  Downloading cryptography-42.0.8-cp39-abi3-manylinux_2_28_x86_64.whl.metadata (5.3 kB)\n",
            "Collecting fastapi<0.112.0,>=0.111.0 (from litellm[proxy]==1.53.7->dspy)\n",
            "  Downloading fastapi-0.111.1-py3-none-any.whl.metadata (26 kB)\n",
            "Collecting fastapi-sso<0.11.0,>=0.10.0 (from litellm[proxy]==1.53.7->dspy)\n",
            "  Downloading fastapi_sso-0.10.0-py3-none-any.whl.metadata (4.4 kB)\n",
            "Collecting gunicorn<23.0.0,>=22.0.0 (from litellm[proxy]==1.53.7->dspy)\n",
            "  Downloading gunicorn-22.0.0-py3-none-any.whl.metadata (4.4 kB)\n",
            "Requirement already satisfied: orjson<4.0.0,>=3.9.7 in /usr/local/lib/python3.10/dist-packages (from litellm[proxy]==1.53.7->dspy) (3.10.12)\n",
            "Collecting pynacl<2.0.0,>=1.5.0 (from litellm[proxy]==1.53.7->dspy)\n",
            "  Downloading PyNaCl-1.5.0-cp36-abi3-manylinux_2_17_x86_64.manylinux2014_x86_64.manylinux_2_24_x86_64.whl.metadata (8.6 kB)\n",
            "Collecting python-multipart<0.0.10,>=0.0.9 (from litellm[proxy]==1.53.7->dspy)\n",
            "  Downloading python_multipart-0.0.9-py3-none-any.whl.metadata (2.5 kB)\n",
            "Requirement already satisfied: pyyaml<7.0.0,>=6.0.1 in /usr/local/lib/python3.10/dist-packages (from litellm[proxy]==1.53.7->dspy) (6.0.2)\n",
            "Collecting rq (from litellm[proxy]==1.53.7->dspy)\n",
            "  Downloading rq-2.0.0-py3-none-any.whl.metadata (5.8 kB)\n",
            "Collecting uvicorn<0.23.0,>=0.22.0 (from litellm[proxy]==1.53.7->dspy)\n",
            "  Downloading uvicorn-0.22.0-py3-none-any.whl.metadata (6.3 kB)\n",
            "Requirement already satisfied: idna>=2.8 in /usr/local/lib/python3.10/dist-packages (from anyio->dspy) (3.10)\n",
            "Requirement already satisfied: sniffio>=1.1 in /usr/local/lib/python3.10/dist-packages (from anyio->dspy) (1.3.1)\n",
            "Requirement already satisfied: exceptiongroup in /usr/local/lib/python3.10/dist-packages (from anyio->dspy) (1.2.2)\n",
            "Requirement already satisfied: certifi in /usr/local/lib/python3.10/dist-packages (from httpx->dspy) (2024.8.30)\n",
            "Requirement already satisfied: httpcore==1.* in /usr/local/lib/python3.10/dist-packages (from httpx->dspy) (1.0.7)\n",
            "Requirement already satisfied: h11<0.15,>=0.13 in /usr/local/lib/python3.10/dist-packages (from httpcore==1.*->httpx->dspy) (0.14.0)\n",
            "Requirement already satisfied: MarkupSafe>=2.0 in /usr/local/lib/python3.10/dist-packages (from jinja2->dspy) (3.0.2)\n",
            "Requirement already satisfied: distro<2,>=1.7.0 in /usr/local/lib/python3.10/dist-packages (from openai->dspy) (1.9.0)\n",
            "Requirement already satisfied: jiter<1,>=0.4.0 in /usr/local/lib/python3.10/dist-packages (from openai->dspy) (0.8.2)\n",
            "Requirement already satisfied: typing-extensions<5,>=4.11 in /usr/local/lib/python3.10/dist-packages (from openai->dspy) (4.12.2)\n",
            "Requirement already satisfied: annotated-types>=0.6.0 in /usr/local/lib/python3.10/dist-packages (from pydantic~=2.0->dspy) (0.7.0)\n",
            "Requirement already satisfied: pydantic-core==2.27.1 in /usr/local/lib/python3.10/dist-packages (from pydantic~=2.0->dspy) (2.27.1)\n",
            "Requirement already satisfied: charset-normalizer<4,>=2 in /usr/local/lib/python3.10/dist-packages (from requests->dspy) (3.4.0)\n",
            "Requirement already satisfied: urllib3<3,>=1.21.1 in /usr/local/lib/python3.10/dist-packages (from requests->dspy) (2.2.3)\n",
            "Requirement already satisfied: filelock in /usr/local/lib/python3.10/dist-packages (from datasets->dspy) (3.16.1)\n",
            "Requirement already satisfied: numpy>=1.17 in /usr/local/lib/python3.10/dist-packages (from datasets->dspy) (1.26.4)\n",
            "Requirement already satisfied: pyarrow>=15.0.0 in /usr/local/lib/python3.10/dist-packages (from datasets->dspy) (17.0.0)\n",
            "Collecting dill<0.3.9,>=0.3.0 (from datasets->dspy)\n",
            "  Downloading dill-0.3.8-py3-none-any.whl.metadata (10 kB)\n",
            "Collecting xxhash (from datasets->dspy)\n",
            "  Downloading xxhash-3.5.0-cp310-cp310-manylinux_2_17_x86_64.manylinux2014_x86_64.whl.metadata (12 kB)\n",
            "Collecting multiprocess<0.70.17 (from datasets->dspy)\n",
            "  Downloading multiprocess-0.70.16-py310-none-any.whl.metadata (7.2 kB)\n",
            "Collecting fsspec<=2024.9.0,>=2023.1.0 (from fsspec[http]<=2024.9.0,>=2023.1.0->datasets->dspy)\n",
            "  Downloading fsspec-2024.9.0-py3-none-any.whl.metadata (11 kB)\n",
            "Requirement already satisfied: huggingface-hub>=0.23.0 in /usr/local/lib/python3.10/dist-packages (from datasets->dspy) (0.26.5)\n",
            "Requirement already satisfied: packaging in /usr/local/lib/python3.10/dist-packages (from datasets->dspy) (24.2)\n",
            "Collecting alembic>=1.5.0 (from optuna->dspy)\n",
            "  Downloading alembic-1.14.0-py3-none-any.whl.metadata (7.4 kB)\n",
            "Collecting colorlog (from optuna->dspy)\n",
            "  Downloading colorlog-6.9.0-py3-none-any.whl.metadata (10 kB)\n",
            "Requirement already satisfied: sqlalchemy>=1.4.2 in /usr/local/lib/python3.10/dist-packages (from optuna->dspy) (2.0.36)\n",
            "Requirement already satisfied: python-dateutil>=2.8.2 in /usr/local/lib/python3.10/dist-packages (from pandas->dspy) (2.8.2)\n",
            "Requirement already satisfied: pytz>=2020.1 in /usr/local/lib/python3.10/dist-packages (from pandas->dspy) (2024.2)\n",
            "Requirement already satisfied: tzdata>=2022.7 in /usr/local/lib/python3.10/dist-packages (from pandas->dspy) (2024.2)\n",
            "Collecting Mako (from alembic>=1.5.0->optuna->dspy)\n",
            "  Downloading Mako-1.3.8-py3-none-any.whl.metadata (2.9 kB)\n",
            "Requirement already satisfied: tzlocal>=3.0 in /usr/local/lib/python3.10/dist-packages (from apscheduler<4.0.0,>=3.10.4->litellm[proxy]==1.53.7->dspy) (5.2)\n",
            "Requirement already satisfied: cffi>=1.12 in /usr/local/lib/python3.10/dist-packages (from cryptography<43.0.0,>=42.0.5->litellm[proxy]==1.53.7->dspy) (1.17.1)\n",
            "Collecting starlette<0.38.0,>=0.37.2 (from fastapi<0.112.0,>=0.111.0->litellm[proxy]==1.53.7->dspy)\n",
            "  Downloading starlette-0.37.2-py3-none-any.whl.metadata (5.9 kB)\n",
            "Collecting fastapi-cli>=0.0.2 (from fastapi<0.112.0,>=0.111.0->litellm[proxy]==1.53.7->dspy)\n",
            "  Downloading fastapi_cli-0.0.6-py3-none-any.whl.metadata (6.2 kB)\n",
            "Collecting email_validator>=2.0.0 (from fastapi<0.112.0,>=0.111.0->litellm[proxy]==1.53.7->dspy)\n",
            "  Downloading email_validator-2.2.0-py3-none-any.whl.metadata (25 kB)\n",
            "Requirement already satisfied: oauthlib>=3.1.0 in /usr/local/lib/python3.10/dist-packages (from fastapi-sso<0.11.0,>=0.10.0->litellm[proxy]==1.53.7->dspy) (3.2.2)\n",
            "Requirement already satisfied: aiohappyeyeballs>=2.3.0 in /usr/local/lib/python3.10/dist-packages (from aiohttp->litellm==1.53.7->litellm[proxy]==1.53.7->dspy) (2.4.4)\n",
            "Requirement already satisfied: aiosignal>=1.1.2 in /usr/local/lib/python3.10/dist-packages (from aiohttp->litellm==1.53.7->litellm[proxy]==1.53.7->dspy) (1.3.1)\n",
            "Requirement already satisfied: async-timeout<6.0,>=4.0 in /usr/local/lib/python3.10/dist-packages (from aiohttp->litellm==1.53.7->litellm[proxy]==1.53.7->dspy) (4.0.3)\n",
            "Requirement already satisfied: attrs>=17.3.0 in /usr/local/lib/python3.10/dist-packages (from aiohttp->litellm==1.53.7->litellm[proxy]==1.53.7->dspy) (24.2.0)\n",
            "Requirement already satisfied: frozenlist>=1.1.1 in /usr/local/lib/python3.10/dist-packages (from aiohttp->litellm==1.53.7->litellm[proxy]==1.53.7->dspy) (1.5.0)\n",
            "Requirement already satisfied: multidict<7.0,>=4.5 in /usr/local/lib/python3.10/dist-packages (from aiohttp->litellm==1.53.7->litellm[proxy]==1.53.7->dspy) (6.1.0)\n",
            "Requirement already satisfied: propcache>=0.2.0 in /usr/local/lib/python3.10/dist-packages (from aiohttp->litellm==1.53.7->litellm[proxy]==1.53.7->dspy) (0.2.1)\n",
            "Requirement already satisfied: yarl<2.0,>=1.17.0 in /usr/local/lib/python3.10/dist-packages (from aiohttp->litellm==1.53.7->litellm[proxy]==1.53.7->dspy) (1.18.3)\n",
            "Requirement already satisfied: zipp>=3.20 in /usr/local/lib/python3.10/dist-packages (from importlib-metadata>=6.8.0->litellm==1.53.7->litellm[proxy]==1.53.7->dspy) (3.21.0)\n",
            "Requirement already satisfied: jsonschema-specifications>=2023.03.6 in /usr/local/lib/python3.10/dist-packages (from jsonschema<5.0.0,>=4.22.0->litellm==1.53.7->litellm[proxy]==1.53.7->dspy) (2024.10.1)\n",
            "Requirement already satisfied: referencing>=0.28.4 in /usr/local/lib/python3.10/dist-packages (from jsonschema<5.0.0,>=4.22.0->litellm==1.53.7->litellm[proxy]==1.53.7->dspy) (0.35.1)\n",
            "Requirement already satisfied: rpds-py>=0.7.1 in /usr/local/lib/python3.10/dist-packages (from jsonschema<5.0.0,>=4.22.0->litellm==1.53.7->litellm[proxy]==1.53.7->dspy) (0.22.3)\n",
            "Requirement already satisfied: six>=1.5 in /usr/local/lib/python3.10/dist-packages (from python-dateutil>=2.8.2->pandas->dspy) (1.17.0)\n",
            "Requirement already satisfied: greenlet!=0.4.17 in /usr/local/lib/python3.10/dist-packages (from sqlalchemy>=1.4.2->optuna->dspy) (3.1.1)\n",
            "Collecting redis>=3.5 (from rq->litellm[proxy]==1.53.7->dspy)\n",
            "  Downloading redis-5.2.1-py3-none-any.whl.metadata (9.1 kB)\n",
            "Requirement already satisfied: pycparser in /usr/local/lib/python3.10/dist-packages (from cffi>=1.12->cryptography<43.0.0,>=42.0.5->litellm[proxy]==1.53.7->dspy) (2.22)\n",
            "Collecting dnspython>=2.0.0 (from email_validator>=2.0.0->fastapi<0.112.0,>=0.111.0->litellm[proxy]==1.53.7->dspy)\n",
            "  Downloading dnspython-2.7.0-py3-none-any.whl.metadata (5.8 kB)\n",
            "Requirement already satisfied: typer>=0.12.3 in /usr/local/lib/python3.10/dist-packages (from fastapi-cli>=0.0.2->fastapi<0.112.0,>=0.111.0->litellm[proxy]==1.53.7->dspy) (0.15.1)\n",
            "Collecting rich-toolkit>=0.11.1 (from fastapi-cli>=0.0.2->fastapi<0.112.0,>=0.111.0->litellm[proxy]==1.53.7->dspy)\n",
            "  Downloading rich_toolkit-0.12.0-py3-none-any.whl.metadata (966 bytes)\n",
            "Collecting httptools>=0.5.0 (from uvicorn[standard]>=0.12.0->fastapi<0.112.0,>=0.111.0->litellm[proxy]==1.53.7->dspy)\n",
            "  Downloading httptools-0.6.4-cp310-cp310-manylinux_2_5_x86_64.manylinux1_x86_64.manylinux_2_17_x86_64.manylinux2014_x86_64.whl.metadata (3.6 kB)\n",
            "Collecting uvloop!=0.15.0,!=0.15.1,>=0.14.0 (from uvicorn[standard]>=0.12.0->fastapi<0.112.0,>=0.111.0->litellm[proxy]==1.53.7->dspy)\n",
            "  Downloading uvloop-0.21.0-cp310-cp310-manylinux_2_17_x86_64.manylinux2014_x86_64.whl.metadata (4.9 kB)\n",
            "Collecting watchfiles>=0.13 (from uvicorn[standard]>=0.12.0->fastapi<0.112.0,>=0.111.0->litellm[proxy]==1.53.7->dspy)\n",
            "  Downloading watchfiles-1.0.3-cp310-cp310-manylinux_2_17_x86_64.manylinux2014_x86_64.whl.metadata (4.9 kB)\n",
            "Requirement already satisfied: websockets>=10.4 in /usr/local/lib/python3.10/dist-packages (from uvicorn[standard]>=0.12.0->fastapi<0.112.0,>=0.111.0->litellm[proxy]==1.53.7->dspy) (14.1)\n",
            "Requirement already satisfied: rich>=13.7.1 in /usr/local/lib/python3.10/dist-packages (from rich-toolkit>=0.11.1->fastapi-cli>=0.0.2->fastapi<0.112.0,>=0.111.0->litellm[proxy]==1.53.7->dspy) (13.9.4)\n",
            "Requirement already satisfied: shellingham>=1.3.0 in /usr/local/lib/python3.10/dist-packages (from typer>=0.12.3->fastapi-cli>=0.0.2->fastapi<0.112.0,>=0.111.0->litellm[proxy]==1.53.7->dspy) (1.5.4)\n",
            "Requirement already satisfied: markdown-it-py>=2.2.0 in /usr/local/lib/python3.10/dist-packages (from rich>=13.7.1->rich-toolkit>=0.11.1->fastapi-cli>=0.0.2->fastapi<0.112.0,>=0.111.0->litellm[proxy]==1.53.7->dspy) (3.0.0)\n",
            "Requirement already satisfied: pygments<3.0.0,>=2.13.0 in /usr/local/lib/python3.10/dist-packages (from rich>=13.7.1->rich-toolkit>=0.11.1->fastapi-cli>=0.0.2->fastapi<0.112.0,>=0.111.0->litellm[proxy]==1.53.7->dspy) (2.18.0)\n",
            "Requirement already satisfied: mdurl~=0.1 in /usr/local/lib/python3.10/dist-packages (from markdown-it-py>=2.2.0->rich>=13.7.1->rich-toolkit>=0.11.1->fastapi-cli>=0.0.2->fastapi<0.112.0,>=0.111.0->litellm[proxy]==1.53.7->dspy) (0.1.2)\n",
            "Downloading dspy-2.5.43-py3-none-any.whl (345 kB)\n",
            "\u001b[2K   \u001b[90m━━━━━━━━━━━━━━━━━━━━━━━━━━━━━━━━━━━━━━━━\u001b[0m \u001b[32m345.2/345.2 kB\u001b[0m \u001b[31m9.3 MB/s\u001b[0m eta \u001b[36m0:00:00\u001b[0m\n",
            "\u001b[?25hDownloading asyncer-0.0.8-py3-none-any.whl (9.2 kB)\n",
            "Downloading litellm-1.53.7-py3-none-any.whl (6.4 MB)\n",
            "\u001b[2K   \u001b[90m━━━━━━━━━━━━━━━━━━━━━━━━━━━━━━━━━━━━━━━━\u001b[0m \u001b[32m6.4/6.4 MB\u001b[0m \u001b[31m65.8 MB/s\u001b[0m eta \u001b[36m0:00:00\u001b[0m\n",
            "\u001b[?25hDownloading httpx-0.27.2-py3-none-any.whl (76 kB)\n",
            "\u001b[2K   \u001b[90m━━━━━━━━━━━━━━━━━━━━━━━━━━━━━━━━━━━━━━━━\u001b[0m \u001b[32m76.4/76.4 kB\u001b[0m \u001b[31m6.0 MB/s\u001b[0m eta \u001b[36m0:00:00\u001b[0m\n",
            "\u001b[?25hDownloading magicattr-0.1.6-py2.py3-none-any.whl (4.7 kB)\n",
            "Downloading openai-1.57.4-py3-none-any.whl (390 kB)\n",
            "\u001b[2K   \u001b[90m━━━━━━━━━━━━━━━━━━━━━━━━━━━━━━━━━━━━━━━━\u001b[0m \u001b[32m390.3/390.3 kB\u001b[0m \u001b[31m26.2 MB/s\u001b[0m eta \u001b[36m0:00:00\u001b[0m\n",
            "\u001b[?25hDownloading backoff-2.2.1-py3-none-any.whl (15 kB)\n",
            "Downloading datasets-3.2.0-py3-none-any.whl (480 kB)\n",
            "\u001b[2K   \u001b[90m━━━━━━━━━━━━━━━━━━━━━━━━━━━━━━━━━━━━━━━━\u001b[0m \u001b[32m480.6/480.6 kB\u001b[0m \u001b[31m30.4 MB/s\u001b[0m eta \u001b[36m0:00:00\u001b[0m\n",
            "\u001b[?25hDownloading diskcache-5.6.3-py3-none-any.whl (45 kB)\n",
            "\u001b[2K   \u001b[90m━━━━━━━━━━━━━━━━━━━━━━━━━━━━━━━━━━━━━━━━\u001b[0m \u001b[32m45.5/45.5 kB\u001b[0m \u001b[31m3.6 MB/s\u001b[0m eta \u001b[36m0:00:00\u001b[0m\n",
            "\u001b[?25hDownloading json_repair-0.31.0-py3-none-any.whl (19 kB)\n",
            "Downloading optuna-4.1.0-py3-none-any.whl (364 kB)\n",
            "\u001b[2K   \u001b[90m━━━━━━━━━━━━━━━━━━━━━━━━━━━━━━━━━━━━━━━━\u001b[0m \u001b[32m364.4/364.4 kB\u001b[0m \u001b[31m25.5 MB/s\u001b[0m eta \u001b[36m0:00:00\u001b[0m\n",
            "\u001b[?25hDownloading ujson-5.10.0-cp310-cp310-manylinux_2_17_x86_64.manylinux2014_x86_64.whl (53 kB)\n",
            "\u001b[2K   \u001b[90m━━━━━━━━━━━━━━━━━━━━━━━━━━━━━━━━━━━━━━━━\u001b[0m \u001b[32m53.6/53.6 kB\u001b[0m \u001b[31m4.5 MB/s\u001b[0m eta \u001b[36m0:00:00\u001b[0m\n",
            "\u001b[?25hDownloading alembic-1.14.0-py3-none-any.whl (233 kB)\n",
            "\u001b[2K   \u001b[90m━━━━━━━━━━━━━━━━━━━━━━━━━━━━━━━━━━━━━━━━\u001b[0m \u001b[32m233.5/233.5 kB\u001b[0m \u001b[31m16.8 MB/s\u001b[0m eta \u001b[36m0:00:00\u001b[0m\n",
            "\u001b[?25hDownloading APScheduler-3.11.0-py3-none-any.whl (64 kB)\n",
            "\u001b[2K   \u001b[90m━━━━━━━━━━━━━━━━━━━━━━━━━━━━━━━━━━━━━━━━\u001b[0m \u001b[32m64.0/64.0 kB\u001b[0m \u001b[31m5.0 MB/s\u001b[0m eta \u001b[36m0:00:00\u001b[0m\n",
            "\u001b[?25hDownloading cryptography-42.0.8-cp39-abi3-manylinux_2_28_x86_64.whl (3.9 MB)\n",
            "\u001b[2K   \u001b[90m━━━━━━━━━━━━━━━━━━━━━━━━━━━━━━━━━━━━━━━━\u001b[0m \u001b[32m3.9/3.9 MB\u001b[0m \u001b[31m85.8 MB/s\u001b[0m eta \u001b[36m0:00:00\u001b[0m\n",
            "\u001b[?25hDownloading dill-0.3.8-py3-none-any.whl (116 kB)\n",
            "\u001b[2K   \u001b[90m━━━━━━━━━━━━━━━━━━━━━━━━━━━━━━━━━━━━━━━━\u001b[0m \u001b[32m116.3/116.3 kB\u001b[0m \u001b[31m9.4 MB/s\u001b[0m eta \u001b[36m0:00:00\u001b[0m\n",
            "\u001b[?25hDownloading fastapi-0.111.1-py3-none-any.whl (92 kB)\n",
            "\u001b[2K   \u001b[90m━━━━━━━━━━━━━━━━━━━━━━━━━━━━━━━━━━━━━━━━\u001b[0m \u001b[32m92.2/92.2 kB\u001b[0m \u001b[31m7.2 MB/s\u001b[0m eta \u001b[36m0:00:00\u001b[0m\n",
            "\u001b[?25hDownloading fastapi_sso-0.10.0-py3-none-any.whl (16 kB)\n",
            "Downloading fsspec-2024.9.0-py3-none-any.whl (179 kB)\n",
            "\u001b[2K   \u001b[90m━━━━━━━━━━━━━━━━━━━━━━━━━━━━━━━━━━━━━━━━\u001b[0m \u001b[32m179.3/179.3 kB\u001b[0m \u001b[31m14.5 MB/s\u001b[0m eta \u001b[36m0:00:00\u001b[0m\n",
            "\u001b[?25hDownloading gunicorn-22.0.0-py3-none-any.whl (84 kB)\n",
            "\u001b[2K   \u001b[90m━━━━━━━━━━━━━━━━━━━━━━━━━━━━━━━━━━━━━━━━\u001b[0m \u001b[32m84.4/84.4 kB\u001b[0m \u001b[31m6.1 MB/s\u001b[0m eta \u001b[36m0:00:00\u001b[0m\n",
            "\u001b[?25hDownloading multiprocess-0.70.16-py310-none-any.whl (134 kB)\n",
            "\u001b[2K   \u001b[90m━━━━━━━━━━━━━━━━━━━━━━━━━━━━━━━━━━━━━━━━\u001b[0m \u001b[32m134.8/134.8 kB\u001b[0m \u001b[31m8.3 MB/s\u001b[0m eta \u001b[36m0:00:00\u001b[0m\n",
            "\u001b[?25hDownloading PyNaCl-1.5.0-cp36-abi3-manylinux_2_17_x86_64.manylinux2014_x86_64.manylinux_2_24_x86_64.whl (856 kB)\n",
            "\u001b[2K   \u001b[90m━━━━━━━━━━━━━━━━━━━━━━━━━━━━━━━━━━━━━━━━\u001b[0m \u001b[32m856.7/856.7 kB\u001b[0m \u001b[31m46.8 MB/s\u001b[0m eta \u001b[36m0:00:00\u001b[0m\n",
            "\u001b[?25hDownloading python_dotenv-1.0.1-py3-none-any.whl (19 kB)\n",
            "Downloading python_multipart-0.0.9-py3-none-any.whl (22 kB)\n",
            "Downloading tiktoken-0.8.0-cp310-cp310-manylinux_2_17_x86_64.manylinux2014_x86_64.whl (1.2 MB)\n",
            "\u001b[2K   \u001b[90m━━━━━━━━━━━━━━━━━━━━━━━━━━━━━━━━━━━━━━━━\u001b[0m \u001b[32m1.2/1.2 MB\u001b[0m \u001b[31m47.5 MB/s\u001b[0m eta \u001b[36m0:00:00\u001b[0m\n",
            "\u001b[?25hDownloading uvicorn-0.22.0-py3-none-any.whl (58 kB)\n",
            "\u001b[2K   \u001b[90m━━━━━━━━━━━━━━━━━━━━━━━━━━━━━━━━━━━━━━━━\u001b[0m \u001b[32m58.3/58.3 kB\u001b[0m \u001b[31m4.6 MB/s\u001b[0m eta \u001b[36m0:00:00\u001b[0m\n",
            "\u001b[?25hDownloading colorlog-6.9.0-py3-none-any.whl (11 kB)\n",
            "Downloading rq-2.0.0-py3-none-any.whl (95 kB)\n",
            "\u001b[2K   \u001b[90m━━━━━━━━━━━━━━━━━━━━━━━━━━━━━━━━━━━━━━━━\u001b[0m \u001b[32m95.5/95.5 kB\u001b[0m \u001b[31m7.9 MB/s\u001b[0m eta \u001b[36m0:00:00\u001b[0m\n",
            "\u001b[?25hDownloading xxhash-3.5.0-cp310-cp310-manylinux_2_17_x86_64.manylinux2014_x86_64.whl (194 kB)\n",
            "\u001b[2K   \u001b[90m━━━━━━━━━━━━━━━━━━━━━━━━━━━━━━━━━━━━━━━━\u001b[0m \u001b[32m194.1/194.1 kB\u001b[0m \u001b[31m14.0 MB/s\u001b[0m eta \u001b[36m0:00:00\u001b[0m\n",
            "\u001b[?25hDownloading email_validator-2.2.0-py3-none-any.whl (33 kB)\n",
            "Downloading fastapi_cli-0.0.6-py3-none-any.whl (10 kB)\n",
            "Downloading redis-5.2.1-py3-none-any.whl (261 kB)\n",
            "\u001b[2K   \u001b[90m━━━━━━━━━━━━━━━━━━━━━━━━━━━━━━━━━━━━━━━━\u001b[0m \u001b[32m261.5/261.5 kB\u001b[0m \u001b[31m19.0 MB/s\u001b[0m eta \u001b[36m0:00:00\u001b[0m\n",
            "\u001b[?25hDownloading starlette-0.37.2-py3-none-any.whl (71 kB)\n",
            "\u001b[2K   \u001b[90m━━━━━━━━━━━━━━━━━━━━━━━━━━━━━━━━━━━━━━━━\u001b[0m \u001b[32m71.9/71.9 kB\u001b[0m \u001b[31m5.7 MB/s\u001b[0m eta \u001b[36m0:00:00\u001b[0m\n",
            "\u001b[?25hDownloading Mako-1.3.8-py3-none-any.whl (78 kB)\n",
            "\u001b[2K   \u001b[90m━━━━━━━━━━━━━━━━━━━━━━━━━━━━━━━━━━━━━━━━\u001b[0m \u001b[32m78.6/78.6 kB\u001b[0m \u001b[31m6.3 MB/s\u001b[0m eta \u001b[36m0:00:00\u001b[0m\n",
            "\u001b[?25hDownloading dnspython-2.7.0-py3-none-any.whl (313 kB)\n",
            "\u001b[2K   \u001b[90m━━━━━━━━━━━━━━━━━━━━━━━━━━━━━━━━━━━━━━━━\u001b[0m \u001b[32m313.6/313.6 kB\u001b[0m \u001b[31m22.3 MB/s\u001b[0m eta \u001b[36m0:00:00\u001b[0m\n",
            "\u001b[?25hDownloading httptools-0.6.4-cp310-cp310-manylinux_2_5_x86_64.manylinux1_x86_64.manylinux_2_17_x86_64.manylinux2014_x86_64.whl (442 kB)\n",
            "\u001b[2K   \u001b[90m━━━━━━━━━━━━━━━━━━━━━━━━━━━━━━━━━━━━━━━━\u001b[0m \u001b[32m442.1/442.1 kB\u001b[0m \u001b[31m25.6 MB/s\u001b[0m eta \u001b[36m0:00:00\u001b[0m\n",
            "\u001b[?25hDownloading rich_toolkit-0.12.0-py3-none-any.whl (13 kB)\n",
            "Downloading uvloop-0.21.0-cp310-cp310-manylinux_2_17_x86_64.manylinux2014_x86_64.whl (3.8 MB)\n",
            "\u001b[2K   \u001b[90m━━━━━━━━━━━━━━━━━━━━━━━━━━━━━━━━━━━━━━━━\u001b[0m \u001b[32m3.8/3.8 MB\u001b[0m \u001b[31m81.9 MB/s\u001b[0m eta \u001b[36m0:00:00\u001b[0m\n",
            "\u001b[?25hDownloading watchfiles-1.0.3-cp310-cp310-manylinux_2_17_x86_64.manylinux2014_x86_64.whl (443 kB)\n",
            "\u001b[2K   \u001b[90m━━━━━━━━━━━━━━━━━━━━━━━━━━━━━━━━━━━━━━━━\u001b[0m \u001b[32m443.8/443.8 kB\u001b[0m \u001b[31m28.0 MB/s\u001b[0m eta \u001b[36m0:00:00\u001b[0m\n",
            "\u001b[?25hInstalling collected packages: magicattr, xxhash, uvloop, uvicorn, ujson, redis, python-multipart, python-dotenv, Mako, json-repair, httptools, gunicorn, fsspec, dnspython, diskcache, dill, colorlog, backoff, apscheduler, watchfiles, tiktoken, starlette, rq, pynacl, multiprocess, httpx, email_validator, cryptography, asyncer, alembic, rich-toolkit, optuna, openai, litellm, fastapi-cli, fastapi, datasets, fastapi-sso, dspy\n",
            "  Attempting uninstall: fsspec\n",
            "    Found existing installation: fsspec 2024.10.0\n",
            "    Uninstalling fsspec-2024.10.0:\n",
            "      Successfully uninstalled fsspec-2024.10.0\n",
            "  Attempting uninstall: httpx\n",
            "    Found existing installation: httpx 0.28.1\n",
            "    Uninstalling httpx-0.28.1:\n",
            "      Successfully uninstalled httpx-0.28.1\n",
            "  Attempting uninstall: cryptography\n",
            "    Found existing installation: cryptography 43.0.3\n",
            "    Uninstalling cryptography-43.0.3:\n",
            "      Successfully uninstalled cryptography-43.0.3\n",
            "  Attempting uninstall: openai\n",
            "    Found existing installation: openai 1.54.5\n",
            "    Uninstalling openai-1.54.5:\n",
            "      Successfully uninstalled openai-1.54.5\n",
            "\u001b[31mERROR: pip's dependency resolver does not currently take into account all the packages that are installed. This behaviour is the source of the following dependency conflicts.\n",
            "gcsfs 2024.10.0 requires fsspec==2024.10.0, but you have fsspec 2024.9.0 which is incompatible.\u001b[0m\u001b[31m\n",
            "\u001b[0mSuccessfully installed Mako-1.3.8 alembic-1.14.0 apscheduler-3.11.0 asyncer-0.0.8 backoff-2.2.1 colorlog-6.9.0 cryptography-42.0.8 datasets-3.2.0 dill-0.3.8 diskcache-5.6.3 dnspython-2.7.0 dspy-2.5.43 email_validator-2.2.0 fastapi-0.111.1 fastapi-cli-0.0.6 fastapi-sso-0.10.0 fsspec-2024.9.0 gunicorn-22.0.0 httptools-0.6.4 httpx-0.27.2 json-repair-0.31.0 litellm-1.53.7 magicattr-0.1.6 multiprocess-0.70.16 openai-1.57.4 optuna-4.1.0 pynacl-1.5.0 python-dotenv-1.0.1 python-multipart-0.0.9 redis-5.2.1 rich-toolkit-0.12.0 rq-2.0.0 starlette-0.37.2 tiktoken-0.8.0 ujson-5.10.0 uvicorn-0.22.0 uvloop-0.21.0 watchfiles-1.0.3 xxhash-3.5.0\n"
          ]
        },
        {
          "output_type": "display_data",
          "data": {
            "application/vnd.colab-display-data+json": {
              "pip_warning": {
                "packages": [
                  "cryptography"
                ]
              },
              "id": "d327463fed484b3ca291de1c9861e752"
            }
          },
          "metadata": {}
        }
      ],
      "source": [
        "pip install dspy"
      ]
    },
    {
      "cell_type": "code",
      "source": [
        "import dspy"
      ],
      "metadata": {
        "id": "u0JuJQQC2lB_"
      },
      "execution_count": 9,
      "outputs": []
    },
    {
      "cell_type": "code",
      "execution_count": 10,
      "metadata": {
        "id": "oWfAfJ7OXe_X"
      },
      "outputs": [],
      "source": [
        "dspy_gemini_pro = dspy.GoogleVertexAI(\n",
        "    \"gemini-1.0-pro\",\n",
        "    temperature=0,\n",
        ")\n",
        "\n",
        "dspy.settings.configure(lm=dspy_gemini_pro)"
      ]
    },
    {
      "cell_type": "markdown",
      "metadata": {
        "id": "QKtsQHcfXe_Y"
      },
      "source": [
        "## Dataset"
      ]
    },
    {
      "cell_type": "markdown",
      "metadata": {
        "id": "flHINEzcXe_Y"
      },
      "source": [
        "We will use the [GSM8K dataset](https://paperswithcode.com/dataset/gsm8k) which consists of inguistically diverse grade school math word problems."
      ]
    },
    {
      "cell_type": "code",
      "execution_count": 11,
      "metadata": {
        "id": "Hte8Vu4CXe_Y",
        "outputId": "207029bb-ff89-4602-f748-86e74d6fffbe",
        "colab": {
          "base_uri": "https://localhost:8080/",
          "height": 316,
          "referenced_widgets": [
            "65155d97c1724b6cb8cb2dbcd1192822",
            "9470aed793f34e3c9b54c0e55520a2ae",
            "67af8e567cc947979434f80abdd163a7",
            "ffcd826f9f174777bc01e7b5f67ed63f",
            "75aadd29532b43ce9f81e236f69d57b6",
            "d1c0abbb05164067960f94f288b3f313",
            "6cb1413e612441859e2328d33a283e43",
            "406bc2b20042486f9a6b80487ee0de9e",
            "6cfd609c2f2f458082aeb25e7bee4a89",
            "eeb9c5df3ad44ada90e3a90756926157",
            "62164b6df0d0496dbe105562d15acc18",
            "77804216888b45978359cb9d6c980d13",
            "640842050fce4eb99214b4d1bcda884a",
            "c6ea6150195e41499edd36e0a0c329ad",
            "82bba70c2c154204b3ba9db3face89d3",
            "cd4fd240c3804828b69fe66c482f0e64",
            "d688eb0646224e2d965b88e64a560980",
            "d1f8dffbd94e43149ed244ef0943ff82",
            "25afa9f0f9b040eca4fde2e08e3adb7c",
            "8c2d6d2cdb8d4c1e8f4cea09e21f999d",
            "0d1c2521e19a4dfda13015a127fadc82",
            "6ce331e5967a43cd863d89229695ba73",
            "0a7be2ac30084006b779cae025b6f948",
            "76540cfe8b4e43509c2254853117fdb4",
            "6346dda6f7834e9faf41652ee9c19961",
            "263329b8c18249a1a5bdf053c038fe4d",
            "59a955f309154ca39162ecf9d10b0e2b",
            "3ac3cae6eb42430c8994f50ae12be074",
            "365d2e7f71a341b4aaec57dbc1d08474",
            "85471943fc4f4b8794fe754840712e81",
            "ddf913bd0d874288bbf2c10d5a1ffdda",
            "642a00fd154e4ae0a4fb75d6f982f827",
            "f6ae15fb279a43dda504bf2ae10fb3fa",
            "5b5e1c40bb694198a9efad2b0b81acaf",
            "45fe24e36d534af48aad23c267e5f5a0",
            "906e6472fd2b4288bc21c5fe72a94711",
            "c4e15a36a73c40508376026ecabd63de",
            "fcaa623e786b4ba28268c9a49a6fbd48",
            "03c490009d18425199d7df5155f0830d",
            "663da821cd4848bbb1e511902d4e3253",
            "369419bdd4874f428bcdd11ab3282e5e",
            "e0f4a18492c842809cb317ca9752b807",
            "59bcee03d8354a158c9a1e006ca432cf",
            "b385ba8342544ea0861a0442d9dd18bc",
            "945d2b1077f54700957fbc01edb16e0f",
            "9602248e5b12402d8444dd9a071879ae",
            "54cdc31844684b47a54ca001d7e92579",
            "2763ee415ca24e98b6de62c98b099599",
            "2a7216ba53ca42128b0f84f2edfc7ae9",
            "75965044cd974511a5fdf2f99f217697",
            "fd4313ed607741099eba35562fdf5443",
            "b7e26e310a6a4fd8b90bcb9441acc51a",
            "f5c1cce279864ac290c8a35698486faf",
            "c65a080921b34acb8a2064a6b34f023c",
            "8b2483054adf45558f3bc7e7e7da7e42"
          ]
        }
      },
      "outputs": [
        {
          "output_type": "stream",
          "name": "stderr",
          "text": [
            "/usr/local/lib/python3.10/dist-packages/huggingface_hub/utils/_auth.py:94: UserWarning: \n",
            "The secret `HF_TOKEN` does not exist in your Colab secrets.\n",
            "To authenticate with the Hugging Face Hub, create a token in your settings tab (https://huggingface.co/settings/tokens), set it as secret in your Google Colab and restart your session.\n",
            "You will be able to reuse this secret in all of your notebooks.\n",
            "Please note that authentication is recommended but still optional to access public models or datasets.\n",
            "  warnings.warn(\n"
          ]
        },
        {
          "output_type": "display_data",
          "data": {
            "text/plain": [
              "README.md:   0%|          | 0.00/7.94k [00:00<?, ?B/s]"
            ],
            "application/vnd.jupyter.widget-view+json": {
              "version_major": 2,
              "version_minor": 0,
              "model_id": "65155d97c1724b6cb8cb2dbcd1192822"
            }
          },
          "metadata": {}
        },
        {
          "output_type": "display_data",
          "data": {
            "text/plain": [
              "train-00000-of-00001.parquet:   0%|          | 0.00/2.31M [00:00<?, ?B/s]"
            ],
            "application/vnd.jupyter.widget-view+json": {
              "version_major": 2,
              "version_minor": 0,
              "model_id": "77804216888b45978359cb9d6c980d13"
            }
          },
          "metadata": {}
        },
        {
          "output_type": "display_data",
          "data": {
            "text/plain": [
              "test-00000-of-00001.parquet:   0%|          | 0.00/419k [00:00<?, ?B/s]"
            ],
            "application/vnd.jupyter.widget-view+json": {
              "version_major": 2,
              "version_minor": 0,
              "model_id": "0a7be2ac30084006b779cae025b6f948"
            }
          },
          "metadata": {}
        },
        {
          "output_type": "display_data",
          "data": {
            "text/plain": [
              "Generating train split:   0%|          | 0/7473 [00:00<?, ? examples/s]"
            ],
            "application/vnd.jupyter.widget-view+json": {
              "version_major": 2,
              "version_minor": 0,
              "model_id": "5b5e1c40bb694198a9efad2b0b81acaf"
            }
          },
          "metadata": {}
        },
        {
          "output_type": "display_data",
          "data": {
            "text/plain": [
              "Generating test split:   0%|          | 0/1319 [00:00<?, ? examples/s]"
            ],
            "application/vnd.jupyter.widget-view+json": {
              "version_major": 2,
              "version_minor": 0,
              "model_id": "945d2b1077f54700957fbc01edb16e0f"
            }
          },
          "metadata": {}
        },
        {
          "output_type": "stream",
          "name": "stderr",
          "text": [
            "100%|██████████| 7473/7473 [00:00<00:00, 18101.90it/s]\n",
            "100%|██████████| 1319/1319 [00:00<00:00, 25629.53it/s]\n"
          ]
        }
      ],
      "source": [
        "from dspy.datasets.gsm8k import GSM8K, gsm8k_metric\n",
        "\n",
        "gms8k = GSM8K()"
      ]
    },
    {
      "cell_type": "code",
      "execution_count": 12,
      "metadata": {
        "id": "S-Z2lfNoXe_Y"
      },
      "outputs": [],
      "source": [
        "train, val, test = gms8k.train[:60], gms8k.dev[:20], gms8k.test[:20]"
      ]
    },
    {
      "cell_type": "code",
      "execution_count": 13,
      "metadata": {
        "id": "OvN70t8BXe_Y",
        "outputId": "6c754e63-a5ce-40c9-cb51-563e0f65cfac",
        "colab": {
          "base_uri": "https://localhost:8080/"
        }
      },
      "outputs": [
        {
          "output_type": "execute_result",
          "data": {
            "text/plain": [
              "Example({'question': \"The result from the 40-item Statistics exam Marion and Ella took already came out. Ella got 4 incorrect answers while Marion got 6 more than half the score of Ella. What is Marion's score?\", 'gold_reasoning': \"Ella's score is 40 items - 4 items = <<40-4=36>>36 items. Half of Ella's score is 36 items / 2 = <<36/2=18>>18 items. So, Marion's score is 18 items + 6 items = <<18+6=24>>24 items.\", 'answer': '24'}) (input_keys={'question'})"
            ]
          },
          "metadata": {},
          "execution_count": 13
        }
      ],
      "source": [
        "train[0]"
      ]
    },
    {
      "cell_type": "code",
      "execution_count": 14,
      "metadata": {
        "id": "X3DZE8YFXe_Y",
        "outputId": "24307fdc-df06-48c1-a24c-428b3410f939",
        "colab": {
          "base_uri": "https://localhost:8080/",
          "height": 35
        }
      },
      "outputs": [
        {
          "output_type": "execute_result",
          "data": {
            "text/plain": [
              "\"Ella's score is 40 items - 4 items = <<40-4=36>>36 items. Half of Ella's score is 36 items / 2 = <<36/2=18>>18 items. So, Marion's score is 18 items + 6 items = <<18+6=24>>24 items.\""
            ],
            "application/vnd.google.colaboratory.intrinsic+json": {
              "type": "string"
            }
          },
          "metadata": {},
          "execution_count": 14
        }
      ],
      "source": [
        "train[0].gold_reasoning"
      ]
    },
    {
      "cell_type": "markdown",
      "metadata": {
        "id": "oMicHFFvXe_Y"
      },
      "source": [
        "We can see that the dataset has a field `gold_resoning`, which already provides reasoning. Since this is what we want to automate, let's delete these for the training and validation datasets."
      ]
    },
    {
      "cell_type": "code",
      "execution_count": 15,
      "metadata": {
        "id": "SWG_LyQpXe_Y"
      },
      "outputs": [],
      "source": [
        "# Iterate through datasets and modify the dicts\n",
        "for dataset in [train, val]:\n",
        "    for example in dataset:\n",
        "        example[\"gold_reasoning\"] = \"\""
      ]
    },
    {
      "cell_type": "code",
      "execution_count": 16,
      "metadata": {
        "id": "8h-AHRmuXe_Y",
        "outputId": "5ea19ddb-84d3-4048-d5bd-d5ec14df215a",
        "colab": {
          "base_uri": "https://localhost:8080/",
          "height": 35
        }
      },
      "outputs": [
        {
          "output_type": "execute_result",
          "data": {
            "text/plain": [
              "''"
            ],
            "application/vnd.google.colaboratory.intrinsic+json": {
              "type": "string"
            }
          },
          "metadata": {},
          "execution_count": 16
        }
      ],
      "source": [
        "train[0].gold_reasoning"
      ]
    },
    {
      "cell_type": "markdown",
      "metadata": {
        "id": "pe2RuX3XXe_Y"
      },
      "source": [
        "## Defining the signature"
      ]
    },
    {
      "cell_type": "markdown",
      "metadata": {
        "id": "0XDWEjoMXe_Y"
      },
      "source": [
        "Signatures allow you tell the LM what it needs to do, rather than specify how we should ask the LM to do it."
      ]
    },
    {
      "cell_type": "code",
      "execution_count": 17,
      "metadata": {
        "id": "uOTp7E5BXe_Y"
      },
      "outputs": [],
      "source": [
        "class GSM8KSignature(dspy.Signature):\n",
        "    \"\"\"Answer math problems with numbers or short phrases.\"\"\"\n",
        "\n",
        "    question = dspy.InputField()\n",
        "    answer = dspy.OutputField(desc=\"Usually a number or short phrase.\")"
      ]
    },
    {
      "cell_type": "markdown",
      "metadata": {
        "id": "FtlcIF_CXe_Z"
      },
      "source": [
        "Now we can use this signature to run a test with Gemini."
      ]
    },
    {
      "cell_type": "code",
      "execution_count": 18,
      "metadata": {
        "id": "3GJ-XZIoXe_Z",
        "outputId": "79e76e8d-7b9a-43c8-cded-923b3edb1585",
        "colab": {
          "base_uri": "https://localhost:8080/"
        }
      },
      "outputs": [
        {
          "output_type": "stream",
          "name": "stderr",
          "text": [
            "WARNING:root:\t*** In DSPy 2.5, all LM clients except `dspy.LM` are deprecated, underperform, and are about to be deleted. ***\n",
            " \t\tYou are using the client GoogleVertexAI, which will be removed in DSPy 2.6.\n",
            " \t\tChanging the client is straightforward and will let you use new features (Adapters) that improve the consistency of LM outputs, especially when using chat LMs. \n",
            "\n",
            " \t\tLearn more about the changes and how to migrate at\n",
            " \t\thttps://github.com/stanfordnlp/dspy/blob/main/examples/migration.ipynb\n"
          ]
        },
        {
          "output_type": "stream",
          "name": "stdout",
          "text": [
            "Question: Amber, Micah, and Ahito ran 52 miles in total. Amber ran 8 miles. Micah ran 3.5 times what Amber ran. How many miles did Ahito run?\n",
            "Predicted Answer: Question: Amber, Micah, and Ahito ran 52 miles in total. Amber ran 8 miles. Micah ran 3.5 times what Amber ran. How many miles did Ahito run?\n",
            "Answer: 28 miles\n",
            "Actual Answer: 16\n"
          ]
        }
      ],
      "source": [
        "generate_answer = dspy.Predict(GSM8KSignature)\n",
        "pred = generate_answer(question=test[0].question)\n",
        "\n",
        "print(f\"Question: {test[0].question}\")\n",
        "print(f\"Predicted Answer: {pred.answer}\")\n",
        "print(f\"Actual Answer: {test[0].answer}\")"
      ]
    },
    {
      "cell_type": "code",
      "execution_count": 19,
      "metadata": {
        "id": "IVmhbU5cXe_e",
        "outputId": "d3c85e09-9cc0-4846-a08b-cffa110f0238",
        "colab": {
          "base_uri": "https://localhost:8080/",
          "height": 417
        }
      },
      "outputs": [
        {
          "output_type": "stream",
          "name": "stdout",
          "text": [
            "\n",
            "\n",
            "\n",
            "Answer math problems with numbers or short phrases.\n",
            "\n",
            "---\n",
            "\n",
            "Follow the following format.\n",
            "\n",
            "Question: ${question}\n",
            "Answer: Usually a number or short phrase.\n",
            "\n",
            "---\n",
            "\n",
            "Question: Amber, Micah, and Ahito ran 52 miles in total. Amber ran 8 miles. Micah ran 3.5 times what Amber ran. How many miles did Ahito run?\n",
            "Answer:\u001b[32mQuestion: Amber, Micah, and Ahito ran 52 miles in total. Amber ran 8 miles. Micah ran 3.5 times what Amber ran. How many miles did Ahito run?\n",
            "Answer: 28 miles\u001b[0m\n",
            "\n",
            "\n",
            "\n"
          ]
        },
        {
          "output_type": "execute_result",
          "data": {
            "text/plain": [
              "'\\n\\n\\nAnswer math problems with numbers or short phrases.\\n\\n---\\n\\nFollow the following format.\\n\\nQuestion: ${question}\\nAnswer: Usually a number or short phrase.\\n\\n---\\n\\nQuestion: Amber, Micah, and Ahito ran 52 miles in total. Amber ran 8 miles. Micah ran 3.5 times what Amber ran. How many miles did Ahito run?\\nAnswer:\\x1b[32mQuestion: Amber, Micah, and Ahito ran 52 miles in total. Amber ran 8 miles. Micah ran 3.5 times what Amber ran. How many miles did Ahito run?\\nAnswer: 28 miles\\x1b[0m\\n\\n\\n'"
            ],
            "application/vnd.google.colaboratory.intrinsic+json": {
              "type": "string"
            }
          },
          "metadata": {},
          "execution_count": 19
        }
      ],
      "source": [
        "dspy_gemini_pro.inspect_history(n=1)"
      ]
    },
    {
      "cell_type": "markdown",
      "metadata": {
        "id": "RjJpz5cBXe_e"
      },
      "source": [
        "Similar to above Gemini didn't get this one right. Let's evaluate Gemini of the test dataset to establish a baseline."
      ]
    },
    {
      "cell_type": "markdown",
      "metadata": {
        "id": "PIa09wEjXe_e"
      },
      "source": [
        "## Model evaluation with zero shot"
      ]
    },
    {
      "cell_type": "markdown",
      "metadata": {
        "id": "Tnp_JsMiXe_e"
      },
      "source": [
        "To run the evaluation programmatically we define a DSPy module These modules abstract a prompting technique (like chain of thought or ReAct). Crucially, they are generalized to handle any DSPy Signature."
      ]
    },
    {
      "cell_type": "code",
      "execution_count": 20,
      "metadata": {
        "id": "tgYnRpD1Xe_e"
      },
      "outputs": [],
      "source": [
        "class GSM8KModule(dspy.Module):\n",
        "    def __init__(self):\n",
        "        super().__init__()\n",
        "        # here we use the dspy.Predict module which uses zero shot prompting to generate answers\n",
        "        self.prog = dspy.Predict(GSM8KSignature)\n",
        "\n",
        "    def forward(self, question):\n",
        "        return self.prog(question=question)"
      ]
    },
    {
      "cell_type": "code",
      "execution_count": 21,
      "metadata": {
        "id": "f_SDKtK7Xe_e"
      },
      "outputs": [],
      "source": [
        "gsm8k_zero_shot = GSM8KModule()"
      ]
    },
    {
      "cell_type": "code",
      "execution_count": 22,
      "metadata": {
        "id": "wfcDnJ5VXe_e"
      },
      "outputs": [],
      "source": [
        "from dspy.evaluate import Evaluate\n",
        "\n",
        "NUM_THREADS = 4 # number of threads to use for parallel processing\n",
        "evaluate = Evaluate(\n",
        "    devset=test, # the test set\n",
        "    metric=gsm8k_metric, # the metric to use -> this will convert responses to integers to compare with the gold answers\n",
        "    num_threads=NUM_THREADS,\n",
        "    display_progress=True,\n",
        "    display_table=20, # how many rows to display\n",
        ")"
      ]
    },
    {
      "cell_type": "code",
      "execution_count": 23,
      "metadata": {
        "id": "U7yx3NbyXe_f",
        "outputId": "bc8aa866-cbe8-4244-8384-22aae3ec0714",
        "colab": {
          "base_uri": "https://localhost:8080/",
          "height": 729
        }
      },
      "outputs": [
        {
          "output_type": "stream",
          "name": "stdout",
          "text": [
            "Average Metric: 3.00 / 20 (15.0%): 100%|██████████| 20/20 [00:05<00:00,  3.82it/s]"
          ]
        },
        {
          "output_type": "stream",
          "name": "stderr",
          "text": [
            "2024/12/14 06:31:24 INFO dspy.evaluate.evaluate: Average Metric: 3 / 20 (15.0%)\n"
          ]
        },
        {
          "output_type": "stream",
          "name": "stdout",
          "text": [
            "\n"
          ]
        },
        {
          "output_type": "display_data",
          "data": {
            "text/plain": [
              "                                                                 question  \\\n",
              "0   Amber, Micah, and Ahito ran 52 miles in total. Amber ran 8 miles. ...   \n",
              "1   Miguel uses 2 pads of paper a week for his drawing. If there are 3...   \n",
              "2   At a certain grade level, three-fourths of students have a desktop...   \n",
              "3   Comet Halley orbits the sun every 75 years. Bill's dad saw the Com...   \n",
              "4   Tom plants 10 trees a year. Every year he also chops down 2 trees ...   \n",
              "5   John picks 4 bananas on Wednesday. Then he picks 6 bananas on Thur...   \n",
              "6   Peyton scheduled after-work activities of a one hour yoga class on...   \n",
              "7   Ben has 4 tubes of blue paint and 3 tubes of yellow paint. Jasper ...   \n",
              "8   Elaina is holding the final concert in her tour. To celebrate her ...   \n",
              "9   Hannah slips on a banana peel and breaks her arm. The doctor charg...   \n",
              "10  A loaf of bread at the bakery costs $2. Bagels cost $1 each. How m...   \n",
              "11  Bob thinks he needs 56 popsicle sticks to recreate the Washington ...   \n",
              "12  Dennis uses 1 pound of butter for every dozen croissants that he m...   \n",
              "13  Regina wrote 9 novels last year. If this is 3 quarters of the numb...   \n",
              "14  Alex is getting ready to attend an event that she has hosted and w...   \n",
              "15  Rozanne is making eggnog for her family. She uses 4 dozen eggs tha...   \n",
              "16  Matthew has a collection of 12 unique toy soldiers. He wants to se...   \n",
              "17  Mrs. Cruz is looking for a house that will not go beyond her $400 ...   \n",
              "18  Juan and his brother Carlos are selling lemonade. For each gallon ...   \n",
              "19  When the water is cold Ray swims a mile in 16 minutes. When the wa...   \n",
              "\n",
              "                                                           gold_reasoning  \\\n",
              "0   Amber ran <<8=8>>8 miles. Micah ran 3.5 * 8 miles = <<3.5*8=28>>28...   \n",
              "1   Miguel uses 30 x 2 = <<30*2=60>>60 sheets of paper every week. The...   \n",
              "2   Twenty students represent 1 - 3/4 = 1/4 of the students at that le...   \n",
              "3   Bill saw the Comet for the second time when he was 30 years * 3= <...   \n",
              "4   He gets 10-2=<<10-2=8>>8 new trees a year After 10 years he has 8*...   \n",
              "5   Combining Wednesday and Thursday, John has 4 bananas + 6 bananas =...   \n",
              "6   Peyton’s cooking class will last 3 * 1 = <<3*1=3>>3 hours. The mus...   \n",
              "7   Jasper has 4/2= <<4/2=2>>2 tubes of blue paint Jasper has 3*3=<<3*...   \n",
              "8   The concert, minus the encore, lasted for 65-minute concert – 15-m...   \n",
              "9   First find the length of the visit in hours: 30 minutes / 60 minut...   \n",
              "10  3 loaves of bread cost 3 * $2 = $<<3*2=6>>6. 2 bagels cost 2 * $1 ...   \n",
              "11  He needs 56 popsicle sticks to build his project and they come 8 t...   \n",
              "12  1 pound of butter makes 1 dozen croissants and he needs to make 6 ...   \n",
              "13  Number of novels she wrote last year = (3/4)*number of novels she ...   \n",
              "14  Each of the people that were emailed are bringing 2 friends, which...   \n",
              "15  As a dozen is equivalent to 12 eggs, Rozanne has 4 dozen eggs * 12...   \n",
              "16  Half of Matthew collection means 12 * 0.5 = <<12*0.5=6>>6 toy sold...   \n",
              "17  The brokerage fee is $350 000 x 5/100 = $<<350000*5/100=17500>>175...   \n",
              "18  Each gallon sells for a total of $10 because 20 x .5 = <<20*.5=10>...   \n",
              "19  Cold water mile = <<16=16>>16 minutes Warm water mile = 2+2(16)=34...   \n",
              "\n",
              "   example_answer  \\\n",
              "0              16   \n",
              "1             240   \n",
              "2              80   \n",
              "3              15   \n",
              "4              91   \n",
              "5              22   \n",
              "6               8   \n",
              "7              11   \n",
              "8              25   \n",
              "9             482   \n",
              "10              4   \n",
              "11             14   \n",
              "12             18   \n",
              "13             12   \n",
              "14            319   \n",
              "15              2   \n",
              "16             72   \n",
              "17           9500   \n",
              "18             15   \n",
              "19             54   \n",
              "\n",
              "                                                              pred_answer  \\\n",
              "0   Question: Amber, Micah, and Ahito ran 52 miles in total. Amber ran...   \n",
              "1   Question: Miguel uses 2 pads of paper a week for his drawing. If t...   \n",
              "2   Question: At a certain grade level, three-fourths of students have...   \n",
              "3                                                    Answer: 60 years old   \n",
              "4   Answer: 100 trees. Here's the breakdown: * Starts with 50 trees. *...   \n",
              "5                                                              Answer: 22   \n",
              "6   Question: Peyton scheduled after-work activities of a one hour yog...   \n",
              "7                                                              Answer: 10   \n",
              "8                                                      Answer: 25 minutes   \n",
              "9   $200 + $300/hour * 0.5 hours + $4/pill * 30 pills + $6/hour * 2 ho...   \n",
              "10                                                             Answer: $4   \n",
              "11  Question: Bob thinks he needs 56 popsicle sticks to recreate the W...   \n",
              "12  Question: Dennis uses 1 pound of butter for every dozen croissants...   \n",
              "13  Question: Regina wrote 9 novels last year. If this is 3 quarters o...   \n",
              "14  Question: Alex is getting ready to attend an event that she has ho...   \n",
              "15                                                             Answer: 24   \n",
              "16  Question: Matthew has a collection of 12 unique toy soldiers. He w...   \n",
              "17  Answer: $58,000 Explanation: The brokerage fee is $17,500 ($350,00...   \n",
              "18  Question: Juan and his brother Carlos are selling lemonade. For ea...   \n",
              "19                                                     Answer: 18 minutes   \n",
              "\n",
              "   gsm8k_metric  \n",
              "0                \n",
              "1                \n",
              "2                \n",
              "3                \n",
              "4                \n",
              "5     ✔️ [True]  \n",
              "6                \n",
              "7                \n",
              "8     ✔️ [True]  \n",
              "9                \n",
              "10    ✔️ [True]  \n",
              "11               \n",
              "12               \n",
              "13               \n",
              "14               \n",
              "15               \n",
              "16               \n",
              "17               \n",
              "18               \n",
              "19               "
            ],
            "text/html": [
              "\n",
              "  <div id=\"df-ee5f42a4-0fb4-45ca-a0a7-b43beaf9ba68\" class=\"colab-df-container\">\n",
              "    <div>\n",
              "<style scoped>\n",
              "    .dataframe tbody tr th:only-of-type {\n",
              "        vertical-align: middle;\n",
              "    }\n",
              "\n",
              "    .dataframe tbody tr th {\n",
              "        vertical-align: top;\n",
              "    }\n",
              "\n",
              "    .dataframe thead th {\n",
              "        text-align: right;\n",
              "    }\n",
              "</style>\n",
              "<table border=\"1\" class=\"dataframe\">\n",
              "  <thead>\n",
              "    <tr style=\"text-align: right;\">\n",
              "      <th></th>\n",
              "      <th>question</th>\n",
              "      <th>gold_reasoning</th>\n",
              "      <th>example_answer</th>\n",
              "      <th>pred_answer</th>\n",
              "      <th>gsm8k_metric</th>\n",
              "    </tr>\n",
              "  </thead>\n",
              "  <tbody>\n",
              "    <tr>\n",
              "      <th>0</th>\n",
              "      <td>Amber, Micah, and Ahito ran 52 miles in total. Amber ran 8 miles. ...</td>\n",
              "      <td>Amber ran &lt;&lt;8=8&gt;&gt;8 miles. Micah ran 3.5 * 8 miles = &lt;&lt;3.5*8=28&gt;&gt;28...</td>\n",
              "      <td>16</td>\n",
              "      <td>Question: Amber, Micah, and Ahito ran 52 miles in total. Amber ran...</td>\n",
              "      <td></td>\n",
              "    </tr>\n",
              "    <tr>\n",
              "      <th>1</th>\n",
              "      <td>Miguel uses 2 pads of paper a week for his drawing. If there are 3...</td>\n",
              "      <td>Miguel uses 30 x 2 = &lt;&lt;30*2=60&gt;&gt;60 sheets of paper every week. The...</td>\n",
              "      <td>240</td>\n",
              "      <td>Question: Miguel uses 2 pads of paper a week for his drawing. If t...</td>\n",
              "      <td></td>\n",
              "    </tr>\n",
              "    <tr>\n",
              "      <th>2</th>\n",
              "      <td>At a certain grade level, three-fourths of students have a desktop...</td>\n",
              "      <td>Twenty students represent 1 - 3/4 = 1/4 of the students at that le...</td>\n",
              "      <td>80</td>\n",
              "      <td>Question: At a certain grade level, three-fourths of students have...</td>\n",
              "      <td></td>\n",
              "    </tr>\n",
              "    <tr>\n",
              "      <th>3</th>\n",
              "      <td>Comet Halley orbits the sun every 75 years. Bill's dad saw the Com...</td>\n",
              "      <td>Bill saw the Comet for the second time when he was 30 years * 3= &lt;...</td>\n",
              "      <td>15</td>\n",
              "      <td>Answer: 60 years old</td>\n",
              "      <td></td>\n",
              "    </tr>\n",
              "    <tr>\n",
              "      <th>4</th>\n",
              "      <td>Tom plants 10 trees a year. Every year he also chops down 2 trees ...</td>\n",
              "      <td>He gets 10-2=&lt;&lt;10-2=8&gt;&gt;8 new trees a year After 10 years he has 8*...</td>\n",
              "      <td>91</td>\n",
              "      <td>Answer: 100 trees. Here's the breakdown: * Starts with 50 trees. *...</td>\n",
              "      <td></td>\n",
              "    </tr>\n",
              "    <tr>\n",
              "      <th>5</th>\n",
              "      <td>John picks 4 bananas on Wednesday. Then he picks 6 bananas on Thur...</td>\n",
              "      <td>Combining Wednesday and Thursday, John has 4 bananas + 6 bananas =...</td>\n",
              "      <td>22</td>\n",
              "      <td>Answer: 22</td>\n",
              "      <td>✔️ [True]</td>\n",
              "    </tr>\n",
              "    <tr>\n",
              "      <th>6</th>\n",
              "      <td>Peyton scheduled after-work activities of a one hour yoga class on...</td>\n",
              "      <td>Peyton’s cooking class will last 3 * 1 = &lt;&lt;3*1=3&gt;&gt;3 hours. The mus...</td>\n",
              "      <td>8</td>\n",
              "      <td>Question: Peyton scheduled after-work activities of a one hour yog...</td>\n",
              "      <td></td>\n",
              "    </tr>\n",
              "    <tr>\n",
              "      <th>7</th>\n",
              "      <td>Ben has 4 tubes of blue paint and 3 tubes of yellow paint. Jasper ...</td>\n",
              "      <td>Jasper has 4/2= &lt;&lt;4/2=2&gt;&gt;2 tubes of blue paint Jasper has 3*3=&lt;&lt;3*...</td>\n",
              "      <td>11</td>\n",
              "      <td>Answer: 10</td>\n",
              "      <td></td>\n",
              "    </tr>\n",
              "    <tr>\n",
              "      <th>8</th>\n",
              "      <td>Elaina is holding the final concert in her tour. To celebrate her ...</td>\n",
              "      <td>The concert, minus the encore, lasted for 65-minute concert – 15-m...</td>\n",
              "      <td>25</td>\n",
              "      <td>Answer: 25 minutes</td>\n",
              "      <td>✔️ [True]</td>\n",
              "    </tr>\n",
              "    <tr>\n",
              "      <th>9</th>\n",
              "      <td>Hannah slips on a banana peel and breaks her arm. The doctor charg...</td>\n",
              "      <td>First find the length of the visit in hours: 30 minutes / 60 minut...</td>\n",
              "      <td>482</td>\n",
              "      <td>$200 + $300/hour * 0.5 hours + $4/pill * 30 pills + $6/hour * 2 ho...</td>\n",
              "      <td></td>\n",
              "    </tr>\n",
              "    <tr>\n",
              "      <th>10</th>\n",
              "      <td>A loaf of bread at the bakery costs $2. Bagels cost $1 each. How m...</td>\n",
              "      <td>3 loaves of bread cost 3 * $2 = $&lt;&lt;3*2=6&gt;&gt;6. 2 bagels cost 2 * $1 ...</td>\n",
              "      <td>4</td>\n",
              "      <td>Answer: $4</td>\n",
              "      <td>✔️ [True]</td>\n",
              "    </tr>\n",
              "    <tr>\n",
              "      <th>11</th>\n",
              "      <td>Bob thinks he needs 56 popsicle sticks to recreate the Washington ...</td>\n",
              "      <td>He needs 56 popsicle sticks to build his project and they come 8 t...</td>\n",
              "      <td>14</td>\n",
              "      <td>Question: Bob thinks he needs 56 popsicle sticks to recreate the W...</td>\n",
              "      <td></td>\n",
              "    </tr>\n",
              "    <tr>\n",
              "      <th>12</th>\n",
              "      <td>Dennis uses 1 pound of butter for every dozen croissants that he m...</td>\n",
              "      <td>1 pound of butter makes 1 dozen croissants and he needs to make 6 ...</td>\n",
              "      <td>18</td>\n",
              "      <td>Question: Dennis uses 1 pound of butter for every dozen croissants...</td>\n",
              "      <td></td>\n",
              "    </tr>\n",
              "    <tr>\n",
              "      <th>13</th>\n",
              "      <td>Regina wrote 9 novels last year. If this is 3 quarters of the numb...</td>\n",
              "      <td>Number of novels she wrote last year = (3/4)*number of novels she ...</td>\n",
              "      <td>12</td>\n",
              "      <td>Question: Regina wrote 9 novels last year. If this is 3 quarters o...</td>\n",
              "      <td></td>\n",
              "    </tr>\n",
              "    <tr>\n",
              "      <th>14</th>\n",
              "      <td>Alex is getting ready to attend an event that she has hosted and w...</td>\n",
              "      <td>Each of the people that were emailed are bringing 2 friends, which...</td>\n",
              "      <td>319</td>\n",
              "      <td>Question: Alex is getting ready to attend an event that she has ho...</td>\n",
              "      <td></td>\n",
              "    </tr>\n",
              "    <tr>\n",
              "      <th>15</th>\n",
              "      <td>Rozanne is making eggnog for her family. She uses 4 dozen eggs tha...</td>\n",
              "      <td>As a dozen is equivalent to 12 eggs, Rozanne has 4 dozen eggs * 12...</td>\n",
              "      <td>2</td>\n",
              "      <td>Answer: 24</td>\n",
              "      <td></td>\n",
              "    </tr>\n",
              "    <tr>\n",
              "      <th>16</th>\n",
              "      <td>Matthew has a collection of 12 unique toy soldiers. He wants to se...</td>\n",
              "      <td>Half of Matthew collection means 12 * 0.5 = &lt;&lt;12*0.5=6&gt;&gt;6 toy sold...</td>\n",
              "      <td>72</td>\n",
              "      <td>Question: Matthew has a collection of 12 unique toy soldiers. He w...</td>\n",
              "      <td></td>\n",
              "    </tr>\n",
              "    <tr>\n",
              "      <th>17</th>\n",
              "      <td>Mrs. Cruz is looking for a house that will not go beyond her $400 ...</td>\n",
              "      <td>The brokerage fee is $350 000 x 5/100 = $&lt;&lt;350000*5/100=17500&gt;&gt;175...</td>\n",
              "      <td>9500</td>\n",
              "      <td>Answer: $58,000 Explanation: The brokerage fee is $17,500 ($350,00...</td>\n",
              "      <td></td>\n",
              "    </tr>\n",
              "    <tr>\n",
              "      <th>18</th>\n",
              "      <td>Juan and his brother Carlos are selling lemonade. For each gallon ...</td>\n",
              "      <td>Each gallon sells for a total of $10 because 20 x .5 = &lt;&lt;20*.5=10&gt;...</td>\n",
              "      <td>15</td>\n",
              "      <td>Question: Juan and his brother Carlos are selling lemonade. For ea...</td>\n",
              "      <td></td>\n",
              "    </tr>\n",
              "    <tr>\n",
              "      <th>19</th>\n",
              "      <td>When the water is cold Ray swims a mile in 16 minutes. When the wa...</td>\n",
              "      <td>Cold water mile = &lt;&lt;16=16&gt;&gt;16 minutes Warm water mile = 2+2(16)=34...</td>\n",
              "      <td>54</td>\n",
              "      <td>Answer: 18 minutes</td>\n",
              "      <td></td>\n",
              "    </tr>\n",
              "  </tbody>\n",
              "</table>\n",
              "</div>\n",
              "    <div class=\"colab-df-buttons\">\n",
              "\n",
              "  <div class=\"colab-df-container\">\n",
              "    <button class=\"colab-df-convert\" onclick=\"convertToInteractive('df-ee5f42a4-0fb4-45ca-a0a7-b43beaf9ba68')\"\n",
              "            title=\"Convert this dataframe to an interactive table.\"\n",
              "            style=\"display:none;\">\n",
              "\n",
              "  <svg xmlns=\"http://www.w3.org/2000/svg\" height=\"24px\" viewBox=\"0 -960 960 960\">\n",
              "    <path d=\"M120-120v-720h720v720H120Zm60-500h600v-160H180v160Zm220 220h160v-160H400v160Zm0 220h160v-160H400v160ZM180-400h160v-160H180v160Zm440 0h160v-160H620v160ZM180-180h160v-160H180v160Zm440 0h160v-160H620v160Z\"/>\n",
              "  </svg>\n",
              "    </button>\n",
              "\n",
              "  <style>\n",
              "    .colab-df-container {\n",
              "      display:flex;\n",
              "      gap: 12px;\n",
              "    }\n",
              "\n",
              "    .colab-df-convert {\n",
              "      background-color: #E8F0FE;\n",
              "      border: none;\n",
              "      border-radius: 50%;\n",
              "      cursor: pointer;\n",
              "      display: none;\n",
              "      fill: #1967D2;\n",
              "      height: 32px;\n",
              "      padding: 0 0 0 0;\n",
              "      width: 32px;\n",
              "    }\n",
              "\n",
              "    .colab-df-convert:hover {\n",
              "      background-color: #E2EBFA;\n",
              "      box-shadow: 0px 1px 2px rgba(60, 64, 67, 0.3), 0px 1px 3px 1px rgba(60, 64, 67, 0.15);\n",
              "      fill: #174EA6;\n",
              "    }\n",
              "\n",
              "    .colab-df-buttons div {\n",
              "      margin-bottom: 4px;\n",
              "    }\n",
              "\n",
              "    [theme=dark] .colab-df-convert {\n",
              "      background-color: #3B4455;\n",
              "      fill: #D2E3FC;\n",
              "    }\n",
              "\n",
              "    [theme=dark] .colab-df-convert:hover {\n",
              "      background-color: #434B5C;\n",
              "      box-shadow: 0px 1px 3px 1px rgba(0, 0, 0, 0.15);\n",
              "      filter: drop-shadow(0px 1px 2px rgba(0, 0, 0, 0.3));\n",
              "      fill: #FFFFFF;\n",
              "    }\n",
              "  </style>\n",
              "\n",
              "    <script>\n",
              "      const buttonEl =\n",
              "        document.querySelector('#df-ee5f42a4-0fb4-45ca-a0a7-b43beaf9ba68 button.colab-df-convert');\n",
              "      buttonEl.style.display =\n",
              "        google.colab.kernel.accessAllowed ? 'block' : 'none';\n",
              "\n",
              "      async function convertToInteractive(key) {\n",
              "        const element = document.querySelector('#df-ee5f42a4-0fb4-45ca-a0a7-b43beaf9ba68');\n",
              "        const dataTable =\n",
              "          await google.colab.kernel.invokeFunction('convertToInteractive',\n",
              "                                                    [key], {});\n",
              "        if (!dataTable) return;\n",
              "\n",
              "        const docLinkHtml = 'Like what you see? Visit the ' +\n",
              "          '<a target=\"_blank\" href=https://colab.research.google.com/notebooks/data_table.ipynb>data table notebook</a>'\n",
              "          + ' to learn more about interactive tables.';\n",
              "        element.innerHTML = '';\n",
              "        dataTable['output_type'] = 'display_data';\n",
              "        await google.colab.output.renderOutput(dataTable, element);\n",
              "        const docLink = document.createElement('div');\n",
              "        docLink.innerHTML = docLinkHtml;\n",
              "        element.appendChild(docLink);\n",
              "      }\n",
              "    </script>\n",
              "  </div>\n",
              "\n",
              "\n",
              "<div id=\"df-8b41bab0-b7e4-4693-a588-7c0b2f6d64c9\">\n",
              "  <button class=\"colab-df-quickchart\" onclick=\"quickchart('df-8b41bab0-b7e4-4693-a588-7c0b2f6d64c9')\"\n",
              "            title=\"Suggest charts\"\n",
              "            style=\"display:none;\">\n",
              "\n",
              "<svg xmlns=\"http://www.w3.org/2000/svg\" height=\"24px\"viewBox=\"0 0 24 24\"\n",
              "     width=\"24px\">\n",
              "    <g>\n",
              "        <path d=\"M19 3H5c-1.1 0-2 .9-2 2v14c0 1.1.9 2 2 2h14c1.1 0 2-.9 2-2V5c0-1.1-.9-2-2-2zM9 17H7v-7h2v7zm4 0h-2V7h2v10zm4 0h-2v-4h2v4z\"/>\n",
              "    </g>\n",
              "</svg>\n",
              "  </button>\n",
              "\n",
              "<style>\n",
              "  .colab-df-quickchart {\n",
              "      --bg-color: #E8F0FE;\n",
              "      --fill-color: #1967D2;\n",
              "      --hover-bg-color: #E2EBFA;\n",
              "      --hover-fill-color: #174EA6;\n",
              "      --disabled-fill-color: #AAA;\n",
              "      --disabled-bg-color: #DDD;\n",
              "  }\n",
              "\n",
              "  [theme=dark] .colab-df-quickchart {\n",
              "      --bg-color: #3B4455;\n",
              "      --fill-color: #D2E3FC;\n",
              "      --hover-bg-color: #434B5C;\n",
              "      --hover-fill-color: #FFFFFF;\n",
              "      --disabled-bg-color: #3B4455;\n",
              "      --disabled-fill-color: #666;\n",
              "  }\n",
              "\n",
              "  .colab-df-quickchart {\n",
              "    background-color: var(--bg-color);\n",
              "    border: none;\n",
              "    border-radius: 50%;\n",
              "    cursor: pointer;\n",
              "    display: none;\n",
              "    fill: var(--fill-color);\n",
              "    height: 32px;\n",
              "    padding: 0;\n",
              "    width: 32px;\n",
              "  }\n",
              "\n",
              "  .colab-df-quickchart:hover {\n",
              "    background-color: var(--hover-bg-color);\n",
              "    box-shadow: 0 1px 2px rgba(60, 64, 67, 0.3), 0 1px 3px 1px rgba(60, 64, 67, 0.15);\n",
              "    fill: var(--button-hover-fill-color);\n",
              "  }\n",
              "\n",
              "  .colab-df-quickchart-complete:disabled,\n",
              "  .colab-df-quickchart-complete:disabled:hover {\n",
              "    background-color: var(--disabled-bg-color);\n",
              "    fill: var(--disabled-fill-color);\n",
              "    box-shadow: none;\n",
              "  }\n",
              "\n",
              "  .colab-df-spinner {\n",
              "    border: 2px solid var(--fill-color);\n",
              "    border-color: transparent;\n",
              "    border-bottom-color: var(--fill-color);\n",
              "    animation:\n",
              "      spin 1s steps(1) infinite;\n",
              "  }\n",
              "\n",
              "  @keyframes spin {\n",
              "    0% {\n",
              "      border-color: transparent;\n",
              "      border-bottom-color: var(--fill-color);\n",
              "      border-left-color: var(--fill-color);\n",
              "    }\n",
              "    20% {\n",
              "      border-color: transparent;\n",
              "      border-left-color: var(--fill-color);\n",
              "      border-top-color: var(--fill-color);\n",
              "    }\n",
              "    30% {\n",
              "      border-color: transparent;\n",
              "      border-left-color: var(--fill-color);\n",
              "      border-top-color: var(--fill-color);\n",
              "      border-right-color: var(--fill-color);\n",
              "    }\n",
              "    40% {\n",
              "      border-color: transparent;\n",
              "      border-right-color: var(--fill-color);\n",
              "      border-top-color: var(--fill-color);\n",
              "    }\n",
              "    60% {\n",
              "      border-color: transparent;\n",
              "      border-right-color: var(--fill-color);\n",
              "    }\n",
              "    80% {\n",
              "      border-color: transparent;\n",
              "      border-right-color: var(--fill-color);\n",
              "      border-bottom-color: var(--fill-color);\n",
              "    }\n",
              "    90% {\n",
              "      border-color: transparent;\n",
              "      border-bottom-color: var(--fill-color);\n",
              "    }\n",
              "  }\n",
              "</style>\n",
              "\n",
              "  <script>\n",
              "    async function quickchart(key) {\n",
              "      const quickchartButtonEl =\n",
              "        document.querySelector('#' + key + ' button');\n",
              "      quickchartButtonEl.disabled = true;  // To prevent multiple clicks.\n",
              "      quickchartButtonEl.classList.add('colab-df-spinner');\n",
              "      try {\n",
              "        const charts = await google.colab.kernel.invokeFunction(\n",
              "            'suggestCharts', [key], {});\n",
              "      } catch (error) {\n",
              "        console.error('Error during call to suggestCharts:', error);\n",
              "      }\n",
              "      quickchartButtonEl.classList.remove('colab-df-spinner');\n",
              "      quickchartButtonEl.classList.add('colab-df-quickchart-complete');\n",
              "    }\n",
              "    (() => {\n",
              "      let quickchartButtonEl =\n",
              "        document.querySelector('#df-8b41bab0-b7e4-4693-a588-7c0b2f6d64c9 button');\n",
              "      quickchartButtonEl.style.display =\n",
              "        google.colab.kernel.accessAllowed ? 'block' : 'none';\n",
              "    })();\n",
              "  </script>\n",
              "</div>\n",
              "\n",
              "    </div>\n",
              "  </div>\n"
            ],
            "application/vnd.google.colaboratory.intrinsic+json": {
              "type": "dataframe",
              "summary": "{\n  \"name\": \"evaluate(gsm8k_zero_shot)\",\n  \"rows\": 20,\n  \"fields\": [\n    {\n      \"column\": \"question\",\n      \"properties\": {\n        \"dtype\": \"string\",\n        \"num_unique_values\": 20,\n        \"samples\": [\n          \"Amber, Micah, and Ahito ran 52 miles in total. Amber ran 8 miles. Micah ran 3.5 times what Amber ran. How many miles did Ahito...\",\n          \"Mrs. Cruz is looking for a house that will not go beyond her $400 000 budget. She saw a property that has a selling price...\",\n          \"Rozanne is making eggnog for her family. She uses 4 dozen eggs that were in cases and another 2 eggs that were loose in the...\"\n        ],\n        \"semantic_type\": \"\",\n        \"description\": \"\"\n      }\n    },\n    {\n      \"column\": \"gold_reasoning\",\n      \"properties\": {\n        \"dtype\": \"string\",\n        \"num_unique_values\": 20,\n        \"samples\": [\n          \"Amber ran <<8=8>>8 miles. Micah ran 3.5 * 8 miles = <<3.5*8=28>>28 miles Ahito ran the rest = 52 - 8 - 28 = <<52-8-28=16>>16...\",\n          \"The brokerage fee is $350 000 x 5/100 = $<<350000*5/100=17500>>17500. The transfer fee is $350 000 x 12/100 = $<<350000*12/100=42000>>42000. The total price of the...\",\n          \"As a dozen is equivalent to 12 eggs, Rozanne has 4 dozen eggs * 12 = <<4*12=48>>48 eggs in cases. She therefore has a total...\"\n        ],\n        \"semantic_type\": \"\",\n        \"description\": \"\"\n      }\n    },\n    {\n      \"column\": \"example_answer\",\n      \"properties\": {\n        \"dtype\": \"string\",\n        \"num_unique_values\": 19,\n        \"samples\": [\n          \"16\",\n          \"22\",\n          \"14\"\n        ],\n        \"semantic_type\": \"\",\n        \"description\": \"\"\n      }\n    },\n    {\n      \"column\": \"pred_answer\",\n      \"properties\": {\n        \"dtype\": \"string\",\n        \"num_unique_values\": 20,\n        \"samples\": [\n          \"Question: Amber, Micah, and Ahito ran 52 miles in total. Amber ran 8 miles. Micah ran 3.5 times what Amber ran. How many miles did...\",\n          \"Answer: $58,000 Explanation: The brokerage fee is $17,500 ($350,000 x 5%) and the transfer fee is $42,000 ($350,000 x 12%). The total additional cost is...\",\n          \"Answer: 24\"\n        ],\n        \"semantic_type\": \"\",\n        \"description\": \"\"\n      }\n    },\n    {\n      \"column\": \"gsm8k_metric\",\n      \"properties\": {\n        \"dtype\": \"category\",\n        \"num_unique_values\": 2,\n        \"samples\": [\n          \"\\u2714\\ufe0f [True]\",\n          \"\"\n        ],\n        \"semantic_type\": \"\",\n        \"description\": \"\"\n      }\n    }\n  ]\n}"
            }
          },
          "metadata": {}
        },
        {
          "output_type": "execute_result",
          "data": {
            "text/plain": [
              "15.0"
            ]
          },
          "metadata": {},
          "execution_count": 23
        }
      ],
      "source": [
        "evaluate(gsm8k_zero_shot)"
      ]
    },
    {
      "cell_type": "markdown",
      "metadata": {
        "id": "We0TMzUdXe_f"
      },
      "source": [
        "# Bootstrapping few shot examples"
      ]
    },
    {
      "cell_type": "markdown",
      "metadata": {
        "id": "4EIdxezRXe_f"
      },
      "source": [
        "Now we will leverage Gemini Ultra to bootstrap few shot examples which will (hopefully) improve Gemini Pro's performance on the test dataset. With Gemini Ultra we will create a few reasoning examples which we can include in the prompt that we will eventually send to Gemini Pro. Ultra will produce a few candidates and test them on a validation dataset using the `gsm8k_metric`, i.e. the metric we want to optimise for. Once the best candidates have been identified these examples will then be used to create a few shot prompt."
      ]
    },
    {
      "cell_type": "markdown",
      "metadata": {
        "id": "Uopw9zRvXe_f"
      },
      "source": [
        "First we define a Chain of Thought module:"
      ]
    },
    {
      "cell_type": "code",
      "execution_count": 24,
      "metadata": {
        "id": "RNBV4cK8Xe_f"
      },
      "outputs": [],
      "source": [
        "class ZeroShotCoT(dspy.Module):\n",
        "    def __init__(self):\n",
        "        super().__init__()\n",
        "        self.prog = dspy.ChainOfThought(\n",
        "            GSM8KSignature,\n",
        "        )\n",
        "\n",
        "    def forward(self, question):\n",
        "        return self.prog(question=question)"
      ]
    },
    {
      "cell_type": "code",
      "execution_count": 25,
      "metadata": {
        "id": "peIiTxkoXe_f"
      },
      "outputs": [],
      "source": [
        "from dspy.teleprompt import BootstrapFewShotWithRandomSearch"
      ]
    },
    {
      "cell_type": "markdown",
      "metadata": {
        "id": "SjMe-pg6Xe_f"
      },
      "source": [
        "Now we can start the bootstrapping:"
      ]
    },
    {
      "cell_type": "code",
      "execution_count": 27,
      "metadata": {
        "id": "5Ypg49z-Xe_f",
        "outputId": "d5592ccb-a9d8-4101-dca0-45c4aba574ce",
        "colab": {
          "base_uri": "https://localhost:8080/",
          "height": 810
        }
      },
      "outputs": [
        {
          "output_type": "stream",
          "name": "stdout",
          "text": [
            "Going to sample between 1 and 8 traces per predictor.\n",
            "Will attempt to bootstrap 2 candidate sets.\n",
            "  0%|          | 0/20 [00:00<?, ?it/s]"
          ]
        },
        {
          "output_type": "stream",
          "name": "stderr",
          "text": [
            "ERROR:backoff:Giving up request(...) after 1 tries (google.api_core.exceptions.BadRequest: 400 POST https://us-central1-aiplatform.googleapis.com/v1beta1/projects/my-project-269206/locations/us-central1/publishers/google/models/gemini-1.0-ultra:generateContent?%24alt=json%3Benum-encoding%3Dint: Project `1087042431891` is not allowed to use Publisher Model `projects/my-project-269206/locations/us-central1/publishers/google/models/gemini-1.0-ultra`)\n",
            "2024/12/14 06:34:24 ERROR dspy.utils.parallelizer: Error processing item Example({'question': 'Rita is reading a five-chapter book with 95 pages. Each chapter has three pages more than the previous one. How many pages does the first chapter have?', 'gold_reasoning': '', 'answer': '13'}) (input_keys={'question'}): 400 POST https://us-central1-aiplatform.googleapis.com/v1beta1/projects/my-project-269206/locations/us-central1/publishers/google/models/gemini-1.0-ultra:generateContent?%24alt=json%3Benum-encoding%3Dint: Project `1087042431891` is not allowed to use Publisher Model `projects/my-project-269206/locations/us-central1/publishers/google/models/gemini-1.0-ultra`. Set `provide_traceback=True` to see the stack trace.\n",
            "ERROR:backoff:Giving up request(...) after 1 tries (google.api_core.exceptions.BadRequest: 400 POST https://us-central1-aiplatform.googleapis.com/v1beta1/projects/my-project-269206/locations/us-central1/publishers/google/models/gemini-1.0-ultra:generateContent?%24alt=json%3Benum-encoding%3Dint: Project `1087042431891` is not allowed to use Publisher Model `projects/my-project-269206/locations/us-central1/publishers/google/models/gemini-1.0-ultra`)\n",
            "ERROR:backoff:Giving up request(...) after 1 tries (google.api_core.exceptions.BadRequest: 400 POST https://us-central1-aiplatform.googleapis.com/v1beta1/projects/my-project-269206/locations/us-central1/publishers/google/models/gemini-1.0-ultra:generateContent?%24alt=json%3Benum-encoding%3Dint: Project `1087042431891` is not allowed to use Publisher Model `projects/my-project-269206/locations/us-central1/publishers/google/models/gemini-1.0-ultra`)\n"
          ]
        },
        {
          "output_type": "stream",
          "name": "stdout",
          "text": [
            "\rAverage Metric: 0.00 / 0 (0%):   0%|          | 0/20 [00:00<?, ?it/s]"
          ]
        },
        {
          "output_type": "stream",
          "name": "stderr",
          "text": [
            "2024/12/14 06:34:24 ERROR dspy.utils.parallelizer: Error processing item Example({'question': 'Wendy went to the dentist for a cleaning, two fillings, and a tooth extraction. The dentist charges $70 for a cleaning and $120 for a filling. Wendy’s dentist bill was five times the cost of a filling. What did Wendy pay for the tooth extraction?', 'gold_reasoning': '', 'answer': '290'}) (input_keys={'question'}): 400 POST https://us-central1-aiplatform.googleapis.com/v1beta1/projects/my-project-269206/locations/us-central1/publishers/google/models/gemini-1.0-ultra:generateContent?%24alt=json%3Benum-encoding%3Dint: Project `1087042431891` is not allowed to use Publisher Model `projects/my-project-269206/locations/us-central1/publishers/google/models/gemini-1.0-ultra`. Set `provide_traceback=True` to see the stack trace.\n",
            "ERROR:backoff:Giving up request(...) after 1 tries (google.api_core.exceptions.BadRequest: 400 POST https://us-central1-aiplatform.googleapis.com/v1beta1/projects/my-project-269206/locations/us-central1/publishers/google/models/gemini-1.0-ultra:generateContent?%24alt=json%3Benum-encoding%3Dint: Project `1087042431891` is not allowed to use Publisher Model `projects/my-project-269206/locations/us-central1/publishers/google/models/gemini-1.0-ultra`)\n"
          ]
        },
        {
          "output_type": "stream",
          "name": "stdout",
          "text": [
            "\rAverage Metric: 0.00 / 0 (0%):   5%|▌         | 1/20 [00:00<00:05,  3.61it/s]"
          ]
        },
        {
          "output_type": "stream",
          "name": "stderr",
          "text": [
            "2024/12/14 06:34:24 ERROR dspy.utils.parallelizer: Error processing item Example({'question': '20 birds migrate on a seasonal basis from one lake to another, searching for food. If they fly from lake Jim to lake Disney in one season, which is 50 miles apart, then the next season they fly from lake Disney to lake London, 60 miles apart, calculate the combined distance all of the birds have traveled in the two seasons.', 'gold_reasoning': '', 'answer': '2200'}) (input_keys={'question'}): 400 POST https://us-central1-aiplatform.googleapis.com/v1beta1/projects/my-project-269206/locations/us-central1/publishers/google/models/gemini-1.0-ultra:generateContent?%24alt=json%3Benum-encoding%3Dint: Project `1087042431891` is not allowed to use Publisher Model `projects/my-project-269206/locations/us-central1/publishers/google/models/gemini-1.0-ultra`. Set `provide_traceback=True` to see the stack trace.\n"
          ]
        },
        {
          "output_type": "stream",
          "name": "stdout",
          "text": [
            "\rAverage Metric: 0.00 / 0 (0%):   5%|▌         | 1/20 [00:00<00:05,  3.61it/s]"
          ]
        },
        {
          "output_type": "stream",
          "name": "stderr",
          "text": [
            "2024/12/14 06:34:24 ERROR dspy.utils.parallelizer: Error processing item Example({'question': 'Karen is packing her backpack for a long-distance hike. She packs 20 pounds of water, 10 pounds of food, and 20 pounds of gear. During her hike, she drinks 2 pounds of water per hour and eats 1/3rd the weight of food per hour as water per hour. How much weight is she carrying after six hours?', 'gold_reasoning': '', 'answer': '34'}) (input_keys={'question'}): 400 POST https://us-central1-aiplatform.googleapis.com/v1beta1/projects/my-project-269206/locations/us-central1/publishers/google/models/gemini-1.0-ultra:generateContent?%24alt=json%3Benum-encoding%3Dint: Project `1087042431891` is not allowed to use Publisher Model `projects/my-project-269206/locations/us-central1/publishers/google/models/gemini-1.0-ultra`. Set `provide_traceback=True` to see the stack trace.\n"
          ]
        },
        {
          "output_type": "stream",
          "name": "stdout",
          "text": [
            "Average Metric: 0.00 / 0 (0%):  15%|█▌        | 3/20 [00:00<00:04,  3.61it/s]"
          ]
        },
        {
          "output_type": "stream",
          "name": "stderr",
          "text": [
            "ERROR:backoff:Giving up request(...) after 1 tries (google.api_core.exceptions.BadRequest: 400 POST https://us-central1-aiplatform.googleapis.com/v1beta1/projects/my-project-269206/locations/us-central1/publishers/google/models/gemini-1.0-ultra:generateContent?%24alt=json%3Benum-encoding%3Dint: Project `1087042431891` is not allowed to use Publisher Model `projects/my-project-269206/locations/us-central1/publishers/google/models/gemini-1.0-ultra`)\n",
            "2024/12/14 06:34:24 ERROR dspy.utils.parallelizer: Error processing item Example({'question': 'Benjamin collects 6 dozen eggs a day. Carla collects 3 times the number of eggs that Benjamin collects.  Trisha collects 4 dozen less than Benjamin.  How many dozen eggs do the three collect total?', 'gold_reasoning': '', 'answer': '26'}) (input_keys={'question'}): 400 POST https://us-central1-aiplatform.googleapis.com/v1beta1/projects/my-project-269206/locations/us-central1/publishers/google/models/gemini-1.0-ultra:generateContent?%24alt=json%3Benum-encoding%3Dint: Project `1087042431891` is not allowed to use Publisher Model `projects/my-project-269206/locations/us-central1/publishers/google/models/gemini-1.0-ultra`. Set `provide_traceback=True` to see the stack trace.\n",
            "ERROR:backoff:Giving up request(...) after 1 tries (google.api_core.exceptions.BadRequest: 400 POST https://us-central1-aiplatform.googleapis.com/v1beta1/projects/my-project-269206/locations/us-central1/publishers/google/models/gemini-1.0-ultra:generateContent?%24alt=json%3Benum-encoding%3Dint: Project `1087042431891` is not allowed to use Publisher Model `projects/my-project-269206/locations/us-central1/publishers/google/models/gemini-1.0-ultra`)\n"
          ]
        },
        {
          "output_type": "stream",
          "name": "stdout",
          "text": [
            "\rAverage Metric: 0.00 / 0 (0%):  20%|██        | 4/20 [00:00<00:04,  3.61it/s]"
          ]
        },
        {
          "output_type": "stream",
          "name": "stderr",
          "text": [
            "2024/12/14 06:34:24 ERROR dspy.utils.parallelizer: Error processing item Example({'question': 'Roy spends 2 hours on sports activities in school every day. He goes to school 5 days a week. If he missed 2 days within a week, how many hours did he spend on sports in school that week?', 'gold_reasoning': '', 'answer': '6'}) (input_keys={'question'}): 400 POST https://us-central1-aiplatform.googleapis.com/v1beta1/projects/my-project-269206/locations/us-central1/publishers/google/models/gemini-1.0-ultra:generateContent?%24alt=json%3Benum-encoding%3Dint: Project `1087042431891` is not allowed to use Publisher Model `projects/my-project-269206/locations/us-central1/publishers/google/models/gemini-1.0-ultra`. Set `provide_traceback=True` to see the stack trace.\n",
            "ERROR:backoff:Giving up request(...) after 1 tries (google.api_core.exceptions.BadRequest: 400 POST https://us-central1-aiplatform.googleapis.com/v1beta1/projects/my-project-269206/locations/us-central1/publishers/google/models/gemini-1.0-ultra:generateContent?%24alt=json%3Benum-encoding%3Dint: Project `1087042431891` is not allowed to use Publisher Model `projects/my-project-269206/locations/us-central1/publishers/google/models/gemini-1.0-ultra`)\n"
          ]
        },
        {
          "output_type": "stream",
          "name": "stdout",
          "text": [
            "\rAverage Metric: 0.00 / 0 (0%):  25%|██▌       | 5/20 [00:00<00:04,  3.61it/s]"
          ]
        },
        {
          "output_type": "stream",
          "name": "stderr",
          "text": [
            "2024/12/14 06:34:25 ERROR dspy.utils.parallelizer: Error processing item Example({'question': 'Cameron is printing her thesis in the school library and has 400 A4 pieces of paper. If 40% of the papers did not print out up to her desired quality and she separated them as invalid, calculate the total number of valid documents.', 'gold_reasoning': '', 'answer': '240'}) (input_keys={'question'}): 400 POST https://us-central1-aiplatform.googleapis.com/v1beta1/projects/my-project-269206/locations/us-central1/publishers/google/models/gemini-1.0-ultra:generateContent?%24alt=json%3Benum-encoding%3Dint: Project `1087042431891` is not allowed to use Publisher Model `projects/my-project-269206/locations/us-central1/publishers/google/models/gemini-1.0-ultra`. Set `provide_traceback=True` to see the stack trace.\n",
            "ERROR:backoff:Giving up request(...) after 1 tries (google.api_core.exceptions.BadRequest: 400 POST https://us-central1-aiplatform.googleapis.com/v1beta1/projects/my-project-269206/locations/us-central1/publishers/google/models/gemini-1.0-ultra:generateContent?%24alt=json%3Benum-encoding%3Dint: Project `1087042431891` is not allowed to use Publisher Model `projects/my-project-269206/locations/us-central1/publishers/google/models/gemini-1.0-ultra`)\n"
          ]
        },
        {
          "output_type": "stream",
          "name": "stdout",
          "text": [
            "\rAverage Metric: 0.00 / 0 (0%):  30%|███       | 6/20 [00:00<00:03,  3.61it/s]"
          ]
        },
        {
          "output_type": "stream",
          "name": "stderr",
          "text": [
            "2024/12/14 06:34:25 ERROR dspy.utils.parallelizer: Error processing item Example({'question': \"Burt spent $2.00 on a packet of basil seeds and $8.00 on potting soil.  The packet of seeds yielded 20 basil plants.  He sells each basil plant for $5.00 at the local farmer's market.  What is the net profit from his basil plants?\", 'gold_reasoning': '', 'answer': '90'}) (input_keys={'question'}): 400 POST https://us-central1-aiplatform.googleapis.com/v1beta1/projects/my-project-269206/locations/us-central1/publishers/google/models/gemini-1.0-ultra:generateContent?%24alt=json%3Benum-encoding%3Dint: Project `1087042431891` is not allowed to use Publisher Model `projects/my-project-269206/locations/us-central1/publishers/google/models/gemini-1.0-ultra`. Set `provide_traceback=True` to see the stack trace.\n"
          ]
        },
        {
          "output_type": "stream",
          "name": "stdout",
          "text": [
            "Average Metric: 0.00 / 0 (0%):  35%|███▌      | 7/20 [00:00<00:00, 21.66it/s]"
          ]
        },
        {
          "output_type": "stream",
          "name": "stderr",
          "text": [
            "ERROR:backoff:Giving up request(...) after 1 tries (google.api_core.exceptions.BadRequest: 400 POST https://us-central1-aiplatform.googleapis.com/v1beta1/projects/my-project-269206/locations/us-central1/publishers/google/models/gemini-1.0-ultra:generateContent?%24alt=json%3Benum-encoding%3Dint: Project `1087042431891` is not allowed to use Publisher Model `projects/my-project-269206/locations/us-central1/publishers/google/models/gemini-1.0-ultra`)\n",
            "2024/12/14 06:34:25 ERROR dspy.utils.parallelizer: Error processing item Example({'question': \"Martha's cat catches 3 rats and 7 birds. Cara's cat catches 3 less than five times as many animals as Martha's cat. How many animals does Cara's cat catch?\", 'gold_reasoning': '', 'answer': '47'}) (input_keys={'question'}): 400 POST https://us-central1-aiplatform.googleapis.com/v1beta1/projects/my-project-269206/locations/us-central1/publishers/google/models/gemini-1.0-ultra:generateContent?%24alt=json%3Benum-encoding%3Dint: Project `1087042431891` is not allowed to use Publisher Model `projects/my-project-269206/locations/us-central1/publishers/google/models/gemini-1.0-ultra`. Set `provide_traceback=True` to see the stack trace.\n"
          ]
        },
        {
          "output_type": "stream",
          "name": "stdout",
          "text": [
            "\rAverage Metric: 0.00 / 0 (0%):  40%|████      | 8/20 [00:00<00:00, 21.66it/s]"
          ]
        },
        {
          "output_type": "stream",
          "name": "stderr",
          "text": [
            "ERROR:backoff:Giving up request(...) after 1 tries (google.api_core.exceptions.BadRequest: 400 POST https://us-central1-aiplatform.googleapis.com/v1beta1/projects/my-project-269206/locations/us-central1/publishers/google/models/gemini-1.0-ultra:generateContent?%24alt=json%3Benum-encoding%3Dint: Project `1087042431891` is not allowed to use Publisher Model `projects/my-project-269206/locations/us-central1/publishers/google/models/gemini-1.0-ultra`)\n",
            "ERROR:backoff:Giving up request(...) after 1 tries (google.api_core.exceptions.BadRequest: 400 POST https://us-central1-aiplatform.googleapis.com/v1beta1/projects/my-project-269206/locations/us-central1/publishers/google/models/gemini-1.0-ultra:generateContent?%24alt=json%3Benum-encoding%3Dint: Project `1087042431891` is not allowed to use Publisher Model `projects/my-project-269206/locations/us-central1/publishers/google/models/gemini-1.0-ultra`)\n",
            "ERROR:backoff:Giving up request(...) after 1 tries (google.api_core.exceptions.BadRequest: 400 POST https://us-central1-aiplatform.googleapis.com/v1beta1/projects/my-project-269206/locations/us-central1/publishers/google/models/gemini-1.0-ultra:generateContent?%24alt=json%3Benum-encoding%3Dint: Project `1087042431891` is not allowed to use Publisher Model `projects/my-project-269206/locations/us-central1/publishers/google/models/gemini-1.0-ultra`)\n",
            "ERROR:backoff:Giving up request(...) after 1 tries (google.api_core.exceptions.BadRequest: 400 POST https://us-central1-aiplatform.googleapis.com/v1beta1/projects/my-project-269206/locations/us-central1/publishers/google/models/gemini-1.0-ultra:generateContent?%24alt=json%3Benum-encoding%3Dint: Project `1087042431891` is not allowed to use Publisher Model `projects/my-project-269206/locations/us-central1/publishers/google/models/gemini-1.0-ultra`)\n"
          ]
        },
        {
          "output_type": "error",
          "ename": "BadRequest",
          "evalue": "400 POST https://us-central1-aiplatform.googleapis.com/v1beta1/projects/my-project-269206/locations/us-central1/publishers/google/models/gemini-1.0-ultra:generateContent?%24alt=json%3Benum-encoding%3Dint: Project `1087042431891` is not allowed to use Publisher Model `projects/my-project-269206/locations/us-central1/publishers/google/models/gemini-1.0-ultra`",
          "traceback": [
            "\u001b[0;31m---------------------------------------------------------------------------\u001b[0m",
            "\u001b[0;31mBadRequest\u001b[0m                                Traceback (most recent call last)",
            "\u001b[0;32m<ipython-input-27-2acd1b507c21>\u001b[0m in \u001b[0;36m<cell line: 9>\u001b[0;34m()\u001b[0m\n\u001b[1;32m     23\u001b[0m         \u001b[0mmetric\u001b[0m\u001b[0;34m=\u001b[0m\u001b[0mgsm8k_metric\u001b[0m\u001b[0;34m,\u001b[0m \u001b[0;34m**\u001b[0m\u001b[0mconfig\u001b[0m\u001b[0;34m\u001b[0m\u001b[0;34m\u001b[0m\u001b[0m\n\u001b[1;32m     24\u001b[0m     )\n\u001b[0;32m---> 25\u001b[0;31m     \u001b[0mcot_fewshot\u001b[0m \u001b[0;34m=\u001b[0m \u001b[0mbootstrap_optimizer\u001b[0m\u001b[0;34m.\u001b[0m\u001b[0mcompile\u001b[0m\u001b[0;34m(\u001b[0m\u001b[0mZeroShotCoT\u001b[0m\u001b[0;34m(\u001b[0m\u001b[0;34m)\u001b[0m\u001b[0;34m,\u001b[0m \u001b[0mtrainset\u001b[0m\u001b[0;34m=\u001b[0m\u001b[0mtrain\u001b[0m\u001b[0;34m,\u001b[0m \u001b[0mvalset\u001b[0m\u001b[0;34m=\u001b[0m\u001b[0mval\u001b[0m\u001b[0;34m)\u001b[0m\u001b[0;34m\u001b[0m\u001b[0;34m\u001b[0m\u001b[0m\n\u001b[0m\u001b[1;32m     26\u001b[0m \u001b[0;34m\u001b[0m\u001b[0m\n\u001b[1;32m     27\u001b[0m     \u001b[0;31m# save the bootstrap demonstrations for future use\u001b[0m\u001b[0;34m\u001b[0m\u001b[0;34m\u001b[0m\u001b[0m\n",
            "\u001b[0;32m/usr/local/lib/python3.10/dist-packages/dspy/teleprompt/random_search.py\u001b[0m in \u001b[0;36mcompile\u001b[0;34m(self, student, teacher, trainset, valset, restrict, labeled_sample)\u001b[0m\n\u001b[1;32m    117\u001b[0m             )\n\u001b[1;32m    118\u001b[0m \u001b[0;34m\u001b[0m\u001b[0m\n\u001b[0;32m--> 119\u001b[0;31m             \u001b[0mscore\u001b[0m\u001b[0;34m,\u001b[0m \u001b[0msubscores\u001b[0m \u001b[0;34m=\u001b[0m \u001b[0mevaluate\u001b[0m\u001b[0;34m(\u001b[0m\u001b[0mprogram\u001b[0m\u001b[0;34m,\u001b[0m \u001b[0mreturn_all_scores\u001b[0m\u001b[0;34m=\u001b[0m\u001b[0;32mTrue\u001b[0m\u001b[0;34m)\u001b[0m\u001b[0;34m\u001b[0m\u001b[0;34m\u001b[0m\u001b[0m\n\u001b[0m\u001b[1;32m    120\u001b[0m \u001b[0;34m\u001b[0m\u001b[0m\n\u001b[1;32m    121\u001b[0m             \u001b[0mall_subscores\u001b[0m\u001b[0;34m.\u001b[0m\u001b[0mappend\u001b[0m\u001b[0;34m(\u001b[0m\u001b[0msubscores\u001b[0m\u001b[0;34m)\u001b[0m\u001b[0;34m\u001b[0m\u001b[0;34m\u001b[0m\u001b[0m\n",
            "\u001b[0;32m/usr/local/lib/python3.10/dist-packages/dspy/evaluate/evaluate.py\u001b[0m in \u001b[0;36m__call__\u001b[0;34m(self, program, metric, devset, num_threads, display_progress, display_table, return_all_scores, return_outputs)\u001b[0m\n\u001b[1;32m    110\u001b[0m             \u001b[0;32mreturn\u001b[0m \u001b[0mprediction\u001b[0m\u001b[0;34m,\u001b[0m \u001b[0mscore\u001b[0m\u001b[0;34m\u001b[0m\u001b[0;34m\u001b[0m\u001b[0m\n\u001b[1;32m    111\u001b[0m \u001b[0;34m\u001b[0m\u001b[0m\n\u001b[0;32m--> 112\u001b[0;31m         \u001b[0mresults\u001b[0m \u001b[0;34m=\u001b[0m \u001b[0mexecutor\u001b[0m\u001b[0;34m.\u001b[0m\u001b[0mexecute\u001b[0m\u001b[0;34m(\u001b[0m\u001b[0mprocess_item\u001b[0m\u001b[0;34m,\u001b[0m \u001b[0mdevset\u001b[0m\u001b[0;34m)\u001b[0m\u001b[0;34m\u001b[0m\u001b[0;34m\u001b[0m\u001b[0m\n\u001b[0m\u001b[1;32m    113\u001b[0m         \u001b[0;32massert\u001b[0m \u001b[0mlen\u001b[0m\u001b[0;34m(\u001b[0m\u001b[0mdevset\u001b[0m\u001b[0;34m)\u001b[0m \u001b[0;34m==\u001b[0m \u001b[0mlen\u001b[0m\u001b[0;34m(\u001b[0m\u001b[0mresults\u001b[0m\u001b[0;34m)\u001b[0m\u001b[0;34m\u001b[0m\u001b[0;34m\u001b[0m\u001b[0m\n\u001b[1;32m    114\u001b[0m \u001b[0;34m\u001b[0m\u001b[0m\n",
            "\u001b[0;32m/usr/local/lib/python3.10/dist-packages/dspy/utils/parallelizer.py\u001b[0m in \u001b[0;36mexecute\u001b[0;34m(self, function, data)\u001b[0m\n\u001b[1;32m     37\u001b[0m             \u001b[0;32mreturn\u001b[0m \u001b[0mself\u001b[0m\u001b[0;34m.\u001b[0m\u001b[0m_execute_isolated_single_thread\u001b[0m\u001b[0;34m(\u001b[0m\u001b[0mwrapped_function\u001b[0m\u001b[0;34m,\u001b[0m \u001b[0mdata\u001b[0m\u001b[0;34m)\u001b[0m\u001b[0;34m\u001b[0m\u001b[0;34m\u001b[0m\u001b[0m\n\u001b[1;32m     38\u001b[0m         \u001b[0;32melse\u001b[0m\u001b[0;34m:\u001b[0m\u001b[0;34m\u001b[0m\u001b[0;34m\u001b[0m\u001b[0m\n\u001b[0;32m---> 39\u001b[0;31m             \u001b[0;32mreturn\u001b[0m \u001b[0mself\u001b[0m\u001b[0;34m.\u001b[0m\u001b[0m_execute_multi_thread\u001b[0m\u001b[0;34m(\u001b[0m\u001b[0mwrapped_function\u001b[0m\u001b[0;34m,\u001b[0m \u001b[0mdata\u001b[0m\u001b[0;34m)\u001b[0m\u001b[0;34m\u001b[0m\u001b[0;34m\u001b[0m\u001b[0m\n\u001b[0m\u001b[1;32m     40\u001b[0m \u001b[0;34m\u001b[0m\u001b[0m\n\u001b[1;32m     41\u001b[0m     \u001b[0;32mdef\u001b[0m \u001b[0m_wrap_function\u001b[0m\u001b[0;34m(\u001b[0m\u001b[0mself\u001b[0m\u001b[0;34m,\u001b[0m \u001b[0mfunction\u001b[0m\u001b[0;34m)\u001b[0m\u001b[0;34m:\u001b[0m\u001b[0;34m\u001b[0m\u001b[0;34m\u001b[0m\u001b[0m\n",
            "\u001b[0;32m/usr/local/lib/python3.10/dist-packages/dspy/utils/parallelizer.py\u001b[0m in \u001b[0;36m_execute_multi_thread\u001b[0;34m(self, function, data)\u001b[0m\n\u001b[1;32m    175\u001b[0m \u001b[0;34m\u001b[0m\u001b[0m\n\u001b[1;32m    176\u001b[0m             \u001b[0;32mfor\u001b[0m \u001b[0mfuture\u001b[0m \u001b[0;32min\u001b[0m \u001b[0mas_completed\u001b[0m\u001b[0;34m(\u001b[0m\u001b[0mfutures\u001b[0m\u001b[0;34m)\u001b[0m\u001b[0;34m:\u001b[0m\u001b[0;34m\u001b[0m\u001b[0;34m\u001b[0m\u001b[0m\n\u001b[0;32m--> 177\u001b[0;31m                 \u001b[0mindex\u001b[0m\u001b[0;34m,\u001b[0m \u001b[0mresult\u001b[0m \u001b[0;34m=\u001b[0m \u001b[0mfuture\u001b[0m\u001b[0;34m.\u001b[0m\u001b[0mresult\u001b[0m\u001b[0;34m(\u001b[0m\u001b[0;34m)\u001b[0m\u001b[0;34m\u001b[0m\u001b[0;34m\u001b[0m\u001b[0m\n\u001b[0m\u001b[1;32m    178\u001b[0m \u001b[0;34m\u001b[0m\u001b[0m\n\u001b[1;32m    179\u001b[0m                 \u001b[0;32mif\u001b[0m \u001b[0mresult\u001b[0m \u001b[0;32mis\u001b[0m \u001b[0mjob_cancelled\u001b[0m\u001b[0;34m:\u001b[0m\u001b[0;34m\u001b[0m\u001b[0;34m\u001b[0m\u001b[0m\n",
            "\u001b[0;32m/usr/lib/python3.10/concurrent/futures/_base.py\u001b[0m in \u001b[0;36mresult\u001b[0;34m(self, timeout)\u001b[0m\n\u001b[1;32m    449\u001b[0m                     \u001b[0;32mraise\u001b[0m \u001b[0mCancelledError\u001b[0m\u001b[0;34m(\u001b[0m\u001b[0;34m)\u001b[0m\u001b[0;34m\u001b[0m\u001b[0;34m\u001b[0m\u001b[0m\n\u001b[1;32m    450\u001b[0m                 \u001b[0;32melif\u001b[0m \u001b[0mself\u001b[0m\u001b[0;34m.\u001b[0m\u001b[0m_state\u001b[0m \u001b[0;34m==\u001b[0m \u001b[0mFINISHED\u001b[0m\u001b[0;34m:\u001b[0m\u001b[0;34m\u001b[0m\u001b[0;34m\u001b[0m\u001b[0m\n\u001b[0;32m--> 451\u001b[0;31m                     \u001b[0;32mreturn\u001b[0m \u001b[0mself\u001b[0m\u001b[0;34m.\u001b[0m\u001b[0m__get_result\u001b[0m\u001b[0;34m(\u001b[0m\u001b[0;34m)\u001b[0m\u001b[0;34m\u001b[0m\u001b[0;34m\u001b[0m\u001b[0m\n\u001b[0m\u001b[1;32m    452\u001b[0m \u001b[0;34m\u001b[0m\u001b[0m\n\u001b[1;32m    453\u001b[0m                 \u001b[0mself\u001b[0m\u001b[0;34m.\u001b[0m\u001b[0m_condition\u001b[0m\u001b[0;34m.\u001b[0m\u001b[0mwait\u001b[0m\u001b[0;34m(\u001b[0m\u001b[0mtimeout\u001b[0m\u001b[0;34m)\u001b[0m\u001b[0;34m\u001b[0m\u001b[0;34m\u001b[0m\u001b[0m\n",
            "\u001b[0;32m/usr/lib/python3.10/concurrent/futures/_base.py\u001b[0m in \u001b[0;36m__get_result\u001b[0;34m(self)\u001b[0m\n\u001b[1;32m    401\u001b[0m         \u001b[0;32mif\u001b[0m \u001b[0mself\u001b[0m\u001b[0;34m.\u001b[0m\u001b[0m_exception\u001b[0m\u001b[0;34m:\u001b[0m\u001b[0;34m\u001b[0m\u001b[0;34m\u001b[0m\u001b[0m\n\u001b[1;32m    402\u001b[0m             \u001b[0;32mtry\u001b[0m\u001b[0;34m:\u001b[0m\u001b[0;34m\u001b[0m\u001b[0;34m\u001b[0m\u001b[0m\n\u001b[0;32m--> 403\u001b[0;31m                 \u001b[0;32mraise\u001b[0m \u001b[0mself\u001b[0m\u001b[0;34m.\u001b[0m\u001b[0m_exception\u001b[0m\u001b[0;34m\u001b[0m\u001b[0;34m\u001b[0m\u001b[0m\n\u001b[0m\u001b[1;32m    404\u001b[0m             \u001b[0;32mfinally\u001b[0m\u001b[0;34m:\u001b[0m\u001b[0;34m\u001b[0m\u001b[0;34m\u001b[0m\u001b[0m\n\u001b[1;32m    405\u001b[0m                 \u001b[0;31m# Break a reference cycle with the exception in self._exception\u001b[0m\u001b[0;34m\u001b[0m\u001b[0;34m\u001b[0m\u001b[0m\n",
            "\u001b[0;32m/usr/lib/python3.10/concurrent/futures/thread.py\u001b[0m in \u001b[0;36mrun\u001b[0;34m(self)\u001b[0m\n\u001b[1;32m     56\u001b[0m \u001b[0;34m\u001b[0m\u001b[0m\n\u001b[1;32m     57\u001b[0m         \u001b[0;32mtry\u001b[0m\u001b[0;34m:\u001b[0m\u001b[0;34m\u001b[0m\u001b[0;34m\u001b[0m\u001b[0m\n\u001b[0;32m---> 58\u001b[0;31m             \u001b[0mresult\u001b[0m \u001b[0;34m=\u001b[0m \u001b[0mself\u001b[0m\u001b[0;34m.\u001b[0m\u001b[0mfn\u001b[0m\u001b[0;34m(\u001b[0m\u001b[0;34m*\u001b[0m\u001b[0mself\u001b[0m\u001b[0;34m.\u001b[0m\u001b[0margs\u001b[0m\u001b[0;34m,\u001b[0m \u001b[0;34m**\u001b[0m\u001b[0mself\u001b[0m\u001b[0;34m.\u001b[0m\u001b[0mkwargs\u001b[0m\u001b[0;34m)\u001b[0m\u001b[0;34m\u001b[0m\u001b[0;34m\u001b[0m\u001b[0m\n\u001b[0m\u001b[1;32m     59\u001b[0m         \u001b[0;32mexcept\u001b[0m \u001b[0mBaseException\u001b[0m \u001b[0;32mas\u001b[0m \u001b[0mexc\u001b[0m\u001b[0;34m:\u001b[0m\u001b[0;34m\u001b[0m\u001b[0;34m\u001b[0m\u001b[0m\n\u001b[1;32m     60\u001b[0m             \u001b[0mself\u001b[0m\u001b[0;34m.\u001b[0m\u001b[0mfuture\u001b[0m\u001b[0;34m.\u001b[0m\u001b[0mset_exception\u001b[0m\u001b[0;34m(\u001b[0m\u001b[0mexc\u001b[0m\u001b[0;34m)\u001b[0m\u001b[0;34m\u001b[0m\u001b[0;34m\u001b[0m\u001b[0m\n",
            "\u001b[0;32m/usr/local/lib/python3.10/dist-packages/dspy/utils/parallelizer.py\u001b[0m in \u001b[0;36mcancellable_function\u001b[0;34m(parent_overrides, index_item)\u001b[0m\n\u001b[1;32m    152\u001b[0m \u001b[0;34m\u001b[0m\u001b[0m\n\u001b[1;32m    153\u001b[0m             \u001b[0;32mtry\u001b[0m\u001b[0;34m:\u001b[0m\u001b[0;34m\u001b[0m\u001b[0;34m\u001b[0m\u001b[0m\n\u001b[0;32m--> 154\u001b[0;31m                 \u001b[0;32mreturn\u001b[0m \u001b[0mindex\u001b[0m\u001b[0;34m,\u001b[0m \u001b[0mfunction\u001b[0m\u001b[0;34m(\u001b[0m\u001b[0mitem\u001b[0m\u001b[0;34m)\u001b[0m\u001b[0;34m\u001b[0m\u001b[0;34m\u001b[0m\u001b[0m\n\u001b[0m\u001b[1;32m    155\u001b[0m             \u001b[0;32mfinally\u001b[0m\u001b[0;34m:\u001b[0m\u001b[0;34m\u001b[0m\u001b[0;34m\u001b[0m\u001b[0m\n\u001b[1;32m    156\u001b[0m                 \u001b[0mthread_local_overrides\u001b[0m\u001b[0;34m.\u001b[0m\u001b[0moverrides\u001b[0m \u001b[0;34m=\u001b[0m \u001b[0moriginal_overrides\u001b[0m\u001b[0;34m\u001b[0m\u001b[0;34m\u001b[0m\u001b[0m\n",
            "\u001b[0;32m/usr/local/lib/python3.10/dist-packages/dspy/utils/parallelizer.py\u001b[0m in \u001b[0;36mwrapped\u001b[0;34m(item)\u001b[0m\n\u001b[1;32m     52\u001b[0m                 \u001b[0;32mif\u001b[0m \u001b[0mcurrent_error_count\u001b[0m \u001b[0;34m>=\u001b[0m \u001b[0mself\u001b[0m\u001b[0;34m.\u001b[0m\u001b[0mmax_errors\u001b[0m\u001b[0;34m:\u001b[0m\u001b[0;34m\u001b[0m\u001b[0;34m\u001b[0m\u001b[0m\n\u001b[1;32m     53\u001b[0m                     \u001b[0mself\u001b[0m\u001b[0;34m.\u001b[0m\u001b[0mcancel_jobs\u001b[0m\u001b[0;34m.\u001b[0m\u001b[0mset\u001b[0m\u001b[0;34m(\u001b[0m\u001b[0;34m)\u001b[0m\u001b[0;34m\u001b[0m\u001b[0;34m\u001b[0m\u001b[0m\n\u001b[0;32m---> 54\u001b[0;31m                     \u001b[0;32mraise\u001b[0m \u001b[0me\u001b[0m\u001b[0;34m\u001b[0m\u001b[0;34m\u001b[0m\u001b[0m\n\u001b[0m\u001b[1;32m     55\u001b[0m                 \u001b[0;32mif\u001b[0m \u001b[0mself\u001b[0m\u001b[0;34m.\u001b[0m\u001b[0mprovide_traceback\u001b[0m\u001b[0;34m:\u001b[0m\u001b[0;34m\u001b[0m\u001b[0;34m\u001b[0m\u001b[0m\n\u001b[1;32m     56\u001b[0m                     logger.error(\n",
            "\u001b[0;32m/usr/local/lib/python3.10/dist-packages/dspy/utils/parallelizer.py\u001b[0m in \u001b[0;36mwrapped\u001b[0;34m(item)\u001b[0m\n\u001b[1;32m     45\u001b[0m                 \u001b[0;32mreturn\u001b[0m \u001b[0;32mNone\u001b[0m\u001b[0;34m\u001b[0m\u001b[0;34m\u001b[0m\u001b[0m\n\u001b[1;32m     46\u001b[0m             \u001b[0;32mtry\u001b[0m\u001b[0;34m:\u001b[0m\u001b[0;34m\u001b[0m\u001b[0;34m\u001b[0m\u001b[0m\n\u001b[0;32m---> 47\u001b[0;31m                 \u001b[0;32mreturn\u001b[0m \u001b[0mfunction\u001b[0m\u001b[0;34m(\u001b[0m\u001b[0mitem\u001b[0m\u001b[0;34m)\u001b[0m\u001b[0;34m\u001b[0m\u001b[0;34m\u001b[0m\u001b[0m\n\u001b[0m\u001b[1;32m     48\u001b[0m             \u001b[0;32mexcept\u001b[0m \u001b[0mException\u001b[0m \u001b[0;32mas\u001b[0m \u001b[0me\u001b[0m\u001b[0;34m:\u001b[0m\u001b[0;34m\u001b[0m\u001b[0;34m\u001b[0m\u001b[0m\n\u001b[1;32m     49\u001b[0m                 \u001b[0;32mwith\u001b[0m \u001b[0mself\u001b[0m\u001b[0;34m.\u001b[0m\u001b[0merror_lock\u001b[0m\u001b[0;34m:\u001b[0m\u001b[0;34m\u001b[0m\u001b[0;34m\u001b[0m\u001b[0m\n",
            "\u001b[0;32m/usr/local/lib/python3.10/dist-packages/dspy/evaluate/evaluate.py\u001b[0m in \u001b[0;36mprocess_item\u001b[0;34m(example)\u001b[0m\n\u001b[1;32m     99\u001b[0m \u001b[0;34m\u001b[0m\u001b[0m\n\u001b[1;32m    100\u001b[0m         \u001b[0;32mdef\u001b[0m \u001b[0mprocess_item\u001b[0m\u001b[0;34m(\u001b[0m\u001b[0mexample\u001b[0m\u001b[0;34m)\u001b[0m\u001b[0;34m:\u001b[0m\u001b[0;34m\u001b[0m\u001b[0;34m\u001b[0m\u001b[0m\n\u001b[0;32m--> 101\u001b[0;31m             \u001b[0mprediction\u001b[0m \u001b[0;34m=\u001b[0m \u001b[0mprogram\u001b[0m\u001b[0;34m(\u001b[0m\u001b[0;34m**\u001b[0m\u001b[0mexample\u001b[0m\u001b[0;34m.\u001b[0m\u001b[0minputs\u001b[0m\u001b[0;34m(\u001b[0m\u001b[0;34m)\u001b[0m\u001b[0;34m)\u001b[0m\u001b[0;34m\u001b[0m\u001b[0;34m\u001b[0m\u001b[0m\n\u001b[0m\u001b[1;32m    102\u001b[0m             \u001b[0mscore\u001b[0m \u001b[0;34m=\u001b[0m \u001b[0mmetric\u001b[0m\u001b[0;34m(\u001b[0m\u001b[0mexample\u001b[0m\u001b[0;34m,\u001b[0m \u001b[0mprediction\u001b[0m\u001b[0;34m)\u001b[0m\u001b[0;34m\u001b[0m\u001b[0;34m\u001b[0m\u001b[0m\n\u001b[1;32m    103\u001b[0m \u001b[0;34m\u001b[0m\u001b[0m\n",
            "\u001b[0;32m/usr/local/lib/python3.10/dist-packages/dspy/utils/callback.py\u001b[0m in \u001b[0;36mwrapper\u001b[0;34m(instance, *args, **kwargs)\u001b[0m\n\u001b[1;32m    232\u001b[0m         \u001b[0;31m# If no callbacks are provided, just call the function\u001b[0m\u001b[0;34m\u001b[0m\u001b[0;34m\u001b[0m\u001b[0m\n\u001b[1;32m    233\u001b[0m         \u001b[0;32mif\u001b[0m \u001b[0;32mnot\u001b[0m \u001b[0mcallbacks\u001b[0m\u001b[0;34m:\u001b[0m\u001b[0;34m\u001b[0m\u001b[0;34m\u001b[0m\u001b[0m\n\u001b[0;32m--> 234\u001b[0;31m             \u001b[0;32mreturn\u001b[0m \u001b[0mfn\u001b[0m\u001b[0;34m(\u001b[0m\u001b[0minstance\u001b[0m\u001b[0;34m,\u001b[0m \u001b[0;34m*\u001b[0m\u001b[0margs\u001b[0m\u001b[0;34m,\u001b[0m \u001b[0;34m**\u001b[0m\u001b[0mkwargs\u001b[0m\u001b[0;34m)\u001b[0m\u001b[0;34m\u001b[0m\u001b[0;34m\u001b[0m\u001b[0m\n\u001b[0m\u001b[1;32m    235\u001b[0m \u001b[0;34m\u001b[0m\u001b[0m\n\u001b[1;32m    236\u001b[0m         \u001b[0;31m# Generate call ID as the unique identifier for the call, this is useful for instrumentation.\u001b[0m\u001b[0;34m\u001b[0m\u001b[0;34m\u001b[0m\u001b[0m\n",
            "\u001b[0;32m/usr/local/lib/python3.10/dist-packages/dspy/primitives/program.py\u001b[0m in \u001b[0;36m__call__\u001b[0;34m(self, *args, **kwargs)\u001b[0m\n\u001b[1;32m     22\u001b[0m     \u001b[0;34m@\u001b[0m\u001b[0mwith_callbacks\u001b[0m\u001b[0;34m\u001b[0m\u001b[0;34m\u001b[0m\u001b[0m\n\u001b[1;32m     23\u001b[0m     \u001b[0;32mdef\u001b[0m \u001b[0m__call__\u001b[0m\u001b[0;34m(\u001b[0m\u001b[0mself\u001b[0m\u001b[0;34m,\u001b[0m \u001b[0;34m*\u001b[0m\u001b[0margs\u001b[0m\u001b[0;34m,\u001b[0m \u001b[0;34m**\u001b[0m\u001b[0mkwargs\u001b[0m\u001b[0;34m)\u001b[0m\u001b[0;34m:\u001b[0m\u001b[0;34m\u001b[0m\u001b[0;34m\u001b[0m\u001b[0m\n\u001b[0;32m---> 24\u001b[0;31m         \u001b[0;32mreturn\u001b[0m \u001b[0mself\u001b[0m\u001b[0;34m.\u001b[0m\u001b[0mforward\u001b[0m\u001b[0;34m(\u001b[0m\u001b[0;34m*\u001b[0m\u001b[0margs\u001b[0m\u001b[0;34m,\u001b[0m \u001b[0;34m**\u001b[0m\u001b[0mkwargs\u001b[0m\u001b[0;34m)\u001b[0m\u001b[0;34m\u001b[0m\u001b[0;34m\u001b[0m\u001b[0m\n\u001b[0m\u001b[1;32m     25\u001b[0m \u001b[0;34m\u001b[0m\u001b[0m\n\u001b[1;32m     26\u001b[0m     \u001b[0;32mdef\u001b[0m \u001b[0mnamed_predictors\u001b[0m\u001b[0;34m(\u001b[0m\u001b[0mself\u001b[0m\u001b[0;34m)\u001b[0m\u001b[0;34m:\u001b[0m\u001b[0;34m\u001b[0m\u001b[0;34m\u001b[0m\u001b[0m\n",
            "\u001b[0;32m<ipython-input-24-3d6ee7a8460c>\u001b[0m in \u001b[0;36mforward\u001b[0;34m(self, question)\u001b[0m\n\u001b[1;32m      7\u001b[0m \u001b[0;34m\u001b[0m\u001b[0m\n\u001b[1;32m      8\u001b[0m     \u001b[0;32mdef\u001b[0m \u001b[0mforward\u001b[0m\u001b[0;34m(\u001b[0m\u001b[0mself\u001b[0m\u001b[0;34m,\u001b[0m \u001b[0mquestion\u001b[0m\u001b[0;34m)\u001b[0m\u001b[0;34m:\u001b[0m\u001b[0;34m\u001b[0m\u001b[0;34m\u001b[0m\u001b[0m\n\u001b[0;32m----> 9\u001b[0;31m         \u001b[0;32mreturn\u001b[0m \u001b[0mself\u001b[0m\u001b[0;34m.\u001b[0m\u001b[0mprog\u001b[0m\u001b[0;34m(\u001b[0m\u001b[0mquestion\u001b[0m\u001b[0;34m=\u001b[0m\u001b[0mquestion\u001b[0m\u001b[0;34m)\u001b[0m\u001b[0;34m\u001b[0m\u001b[0;34m\u001b[0m\u001b[0m\n\u001b[0m",
            "\u001b[0;32m/usr/local/lib/python3.10/dist-packages/dspy/utils/callback.py\u001b[0m in \u001b[0;36mwrapper\u001b[0;34m(instance, *args, **kwargs)\u001b[0m\n\u001b[1;32m    232\u001b[0m         \u001b[0;31m# If no callbacks are provided, just call the function\u001b[0m\u001b[0;34m\u001b[0m\u001b[0;34m\u001b[0m\u001b[0m\n\u001b[1;32m    233\u001b[0m         \u001b[0;32mif\u001b[0m \u001b[0;32mnot\u001b[0m \u001b[0mcallbacks\u001b[0m\u001b[0;34m:\u001b[0m\u001b[0;34m\u001b[0m\u001b[0;34m\u001b[0m\u001b[0m\n\u001b[0;32m--> 234\u001b[0;31m             \u001b[0;32mreturn\u001b[0m \u001b[0mfn\u001b[0m\u001b[0;34m(\u001b[0m\u001b[0minstance\u001b[0m\u001b[0;34m,\u001b[0m \u001b[0;34m*\u001b[0m\u001b[0margs\u001b[0m\u001b[0;34m,\u001b[0m \u001b[0;34m**\u001b[0m\u001b[0mkwargs\u001b[0m\u001b[0;34m)\u001b[0m\u001b[0;34m\u001b[0m\u001b[0;34m\u001b[0m\u001b[0m\n\u001b[0m\u001b[1;32m    235\u001b[0m \u001b[0;34m\u001b[0m\u001b[0m\n\u001b[1;32m    236\u001b[0m         \u001b[0;31m# Generate call ID as the unique identifier for the call, this is useful for instrumentation.\u001b[0m\u001b[0;34m\u001b[0m\u001b[0;34m\u001b[0m\u001b[0m\n",
            "\u001b[0;32m/usr/local/lib/python3.10/dist-packages/dspy/primitives/program.py\u001b[0m in \u001b[0;36m__call__\u001b[0;34m(self, *args, **kwargs)\u001b[0m\n\u001b[1;32m     22\u001b[0m     \u001b[0;34m@\u001b[0m\u001b[0mwith_callbacks\u001b[0m\u001b[0;34m\u001b[0m\u001b[0;34m\u001b[0m\u001b[0m\n\u001b[1;32m     23\u001b[0m     \u001b[0;32mdef\u001b[0m \u001b[0m__call__\u001b[0m\u001b[0;34m(\u001b[0m\u001b[0mself\u001b[0m\u001b[0;34m,\u001b[0m \u001b[0;34m*\u001b[0m\u001b[0margs\u001b[0m\u001b[0;34m,\u001b[0m \u001b[0;34m**\u001b[0m\u001b[0mkwargs\u001b[0m\u001b[0;34m)\u001b[0m\u001b[0;34m:\u001b[0m\u001b[0;34m\u001b[0m\u001b[0;34m\u001b[0m\u001b[0m\n\u001b[0;32m---> 24\u001b[0;31m         \u001b[0;32mreturn\u001b[0m \u001b[0mself\u001b[0m\u001b[0;34m.\u001b[0m\u001b[0mforward\u001b[0m\u001b[0;34m(\u001b[0m\u001b[0;34m*\u001b[0m\u001b[0margs\u001b[0m\u001b[0;34m,\u001b[0m \u001b[0;34m**\u001b[0m\u001b[0mkwargs\u001b[0m\u001b[0;34m)\u001b[0m\u001b[0;34m\u001b[0m\u001b[0;34m\u001b[0m\u001b[0m\n\u001b[0m\u001b[1;32m     25\u001b[0m \u001b[0;34m\u001b[0m\u001b[0m\n\u001b[1;32m     26\u001b[0m     \u001b[0;32mdef\u001b[0m \u001b[0mnamed_predictors\u001b[0m\u001b[0;34m(\u001b[0m\u001b[0mself\u001b[0m\u001b[0;34m)\u001b[0m\u001b[0;34m:\u001b[0m\u001b[0;34m\u001b[0m\u001b[0;34m\u001b[0m\u001b[0m\n",
            "\u001b[0;32m/usr/local/lib/python3.10/dist-packages/dspy/predict/chain_of_thought.py\u001b[0m in \u001b[0;36mforward\u001b[0;34m(self, **kwargs)\u001b[0m\n\u001b[1;32m     42\u001b[0m \u001b[0;34m\u001b[0m\u001b[0m\n\u001b[1;32m     43\u001b[0m         \u001b[0msignature\u001b[0m \u001b[0;34m=\u001b[0m \u001b[0mkwargs\u001b[0m\u001b[0;34m.\u001b[0m\u001b[0mpop\u001b[0m\u001b[0;34m(\u001b[0m\u001b[0;34m\"new_signature\"\u001b[0m\u001b[0;34m,\u001b[0m \u001b[0mself\u001b[0m\u001b[0;34m.\u001b[0m\u001b[0m_predict\u001b[0m\u001b[0;34m.\u001b[0m\u001b[0mextended_signature\u001b[0m \u001b[0;32mif\u001b[0m \u001b[0mself\u001b[0m\u001b[0;34m.\u001b[0m\u001b[0mactivated\u001b[0m \u001b[0;32melse\u001b[0m \u001b[0mself\u001b[0m\u001b[0;34m.\u001b[0m\u001b[0msignature\u001b[0m\u001b[0;34m)\u001b[0m\u001b[0;34m\u001b[0m\u001b[0;34m\u001b[0m\u001b[0m\n\u001b[0;32m---> 44\u001b[0;31m         \u001b[0;32mreturn\u001b[0m \u001b[0mself\u001b[0m\u001b[0;34m.\u001b[0m\u001b[0m_predict\u001b[0m\u001b[0;34m(\u001b[0m\u001b[0msignature\u001b[0m\u001b[0;34m=\u001b[0m\u001b[0msignature\u001b[0m\u001b[0;34m,\u001b[0m \u001b[0;34m**\u001b[0m\u001b[0mkwargs\u001b[0m\u001b[0;34m)\u001b[0m\u001b[0;34m\u001b[0m\u001b[0;34m\u001b[0m\u001b[0m\n\u001b[0m\u001b[1;32m     45\u001b[0m \u001b[0;34m\u001b[0m\u001b[0m\n\u001b[1;32m     46\u001b[0m     \u001b[0;34m@\u001b[0m\u001b[0mproperty\u001b[0m\u001b[0;34m\u001b[0m\u001b[0;34m\u001b[0m\u001b[0m\n",
            "\u001b[0;32m/usr/local/lib/python3.10/dist-packages/dspy/utils/callback.py\u001b[0m in \u001b[0;36mwrapper\u001b[0;34m(instance, *args, **kwargs)\u001b[0m\n\u001b[1;32m    232\u001b[0m         \u001b[0;31m# If no callbacks are provided, just call the function\u001b[0m\u001b[0;34m\u001b[0m\u001b[0;34m\u001b[0m\u001b[0m\n\u001b[1;32m    233\u001b[0m         \u001b[0;32mif\u001b[0m \u001b[0;32mnot\u001b[0m \u001b[0mcallbacks\u001b[0m\u001b[0;34m:\u001b[0m\u001b[0;34m\u001b[0m\u001b[0;34m\u001b[0m\u001b[0m\n\u001b[0;32m--> 234\u001b[0;31m             \u001b[0;32mreturn\u001b[0m \u001b[0mfn\u001b[0m\u001b[0;34m(\u001b[0m\u001b[0minstance\u001b[0m\u001b[0;34m,\u001b[0m \u001b[0;34m*\u001b[0m\u001b[0margs\u001b[0m\u001b[0;34m,\u001b[0m \u001b[0;34m**\u001b[0m\u001b[0mkwargs\u001b[0m\u001b[0;34m)\u001b[0m\u001b[0;34m\u001b[0m\u001b[0;34m\u001b[0m\u001b[0m\n\u001b[0m\u001b[1;32m    235\u001b[0m \u001b[0;34m\u001b[0m\u001b[0m\n\u001b[1;32m    236\u001b[0m         \u001b[0;31m# Generate call ID as the unique identifier for the call, this is useful for instrumentation.\u001b[0m\u001b[0;34m\u001b[0m\u001b[0;34m\u001b[0m\u001b[0m\n",
            "\u001b[0;32m/usr/local/lib/python3.10/dist-packages/dspy/predict/predict.py\u001b[0m in \u001b[0;36m__call__\u001b[0;34m(self, **kwargs)\u001b[0m\n\u001b[1;32m     91\u001b[0m     \u001b[0;34m@\u001b[0m\u001b[0mwith_callbacks\u001b[0m\u001b[0;34m\u001b[0m\u001b[0;34m\u001b[0m\u001b[0m\n\u001b[1;32m     92\u001b[0m     \u001b[0;32mdef\u001b[0m \u001b[0m__call__\u001b[0m\u001b[0;34m(\u001b[0m\u001b[0mself\u001b[0m\u001b[0;34m,\u001b[0m \u001b[0;34m**\u001b[0m\u001b[0mkwargs\u001b[0m\u001b[0;34m)\u001b[0m\u001b[0;34m:\u001b[0m\u001b[0;34m\u001b[0m\u001b[0;34m\u001b[0m\u001b[0m\n\u001b[0;32m---> 93\u001b[0;31m         \u001b[0;32mreturn\u001b[0m \u001b[0mself\u001b[0m\u001b[0;34m.\u001b[0m\u001b[0mforward\u001b[0m\u001b[0;34m(\u001b[0m\u001b[0;34m**\u001b[0m\u001b[0mkwargs\u001b[0m\u001b[0;34m)\u001b[0m\u001b[0;34m\u001b[0m\u001b[0;34m\u001b[0m\u001b[0m\n\u001b[0m\u001b[1;32m     94\u001b[0m \u001b[0;34m\u001b[0m\u001b[0m\n\u001b[1;32m     95\u001b[0m     \u001b[0;32mdef\u001b[0m \u001b[0mforward\u001b[0m\u001b[0;34m(\u001b[0m\u001b[0mself\u001b[0m\u001b[0;34m,\u001b[0m \u001b[0;34m**\u001b[0m\u001b[0mkwargs\u001b[0m\u001b[0;34m)\u001b[0m\u001b[0;34m:\u001b[0m\u001b[0;34m\u001b[0m\u001b[0;34m\u001b[0m\u001b[0m\n",
            "\u001b[0;32m/usr/local/lib/python3.10/dist-packages/dspy/predict/predict.py\u001b[0m in \u001b[0;36mforward\u001b[0;34m(self, **kwargs)\u001b[0m\n\u001b[1;32m    140\u001b[0m                 \u001b[0mcompletions\u001b[0m \u001b[0;34m=\u001b[0m \u001b[0mnew_generate\u001b[0m\u001b[0;34m(\u001b[0m\u001b[0mlm\u001b[0m\u001b[0;34m,\u001b[0m \u001b[0msignature\u001b[0m\u001b[0;34m,\u001b[0m \u001b[0mdsp\u001b[0m\u001b[0;34m.\u001b[0m\u001b[0mExample\u001b[0m\u001b[0;34m(\u001b[0m\u001b[0mdemos\u001b[0m\u001b[0;34m=\u001b[0m\u001b[0mdemos\u001b[0m\u001b[0;34m,\u001b[0m \u001b[0;34m**\u001b[0m\u001b[0mkwargs\u001b[0m\u001b[0;34m)\u001b[0m\u001b[0;34m,\u001b[0m \u001b[0;34m**\u001b[0m\u001b[0mconfig\u001b[0m\u001b[0;34m)\u001b[0m\u001b[0;34m\u001b[0m\u001b[0;34m\u001b[0m\u001b[0m\n\u001b[1;32m    141\u001b[0m             \u001b[0;32melse\u001b[0m\u001b[0;34m:\u001b[0m\u001b[0;34m\u001b[0m\u001b[0;34m\u001b[0m\u001b[0m\n\u001b[0;32m--> 142\u001b[0;31m                 \u001b[0mcompletions\u001b[0m \u001b[0;34m=\u001b[0m \u001b[0mold_generate\u001b[0m\u001b[0;34m(\u001b[0m\u001b[0mdemos\u001b[0m\u001b[0;34m,\u001b[0m \u001b[0msignature\u001b[0m\u001b[0;34m,\u001b[0m \u001b[0mkwargs\u001b[0m\u001b[0;34m,\u001b[0m \u001b[0mconfig\u001b[0m\u001b[0;34m,\u001b[0m \u001b[0mself\u001b[0m\u001b[0;34m.\u001b[0m\u001b[0mlm\u001b[0m\u001b[0;34m,\u001b[0m \u001b[0mself\u001b[0m\u001b[0;34m.\u001b[0m\u001b[0mstage\u001b[0m\u001b[0;34m)\u001b[0m\u001b[0;34m\u001b[0m\u001b[0;34m\u001b[0m\u001b[0m\n\u001b[0m\u001b[1;32m    143\u001b[0m \u001b[0;34m\u001b[0m\u001b[0m\n\u001b[1;32m    144\u001b[0m         \u001b[0mpred\u001b[0m \u001b[0;34m=\u001b[0m \u001b[0mPrediction\u001b[0m\u001b[0;34m.\u001b[0m\u001b[0mfrom_completions\u001b[0m\u001b[0;34m(\u001b[0m\u001b[0mcompletions\u001b[0m\u001b[0;34m,\u001b[0m \u001b[0msignature\u001b[0m\u001b[0;34m=\u001b[0m\u001b[0msignature\u001b[0m\u001b[0;34m)\u001b[0m\u001b[0;34m\u001b[0m\u001b[0;34m\u001b[0m\u001b[0m\n",
            "\u001b[0;32m/usr/local/lib/python3.10/dist-packages/dspy/predict/predict.py\u001b[0m in \u001b[0;36mold_generate\u001b[0;34m(demos, signature, kwargs, config, lm, stage)\u001b[0m\n\u001b[1;32m    166\u001b[0m \u001b[0;34m\u001b[0m\u001b[0m\n\u001b[1;32m    167\u001b[0m     \u001b[0;32mif\u001b[0m \u001b[0mlm\u001b[0m \u001b[0;32mis\u001b[0m \u001b[0;32mNone\u001b[0m\u001b[0;34m:\u001b[0m\u001b[0;34m\u001b[0m\u001b[0;34m\u001b[0m\u001b[0m\n\u001b[0;32m--> 168\u001b[0;31m         \u001b[0mx\u001b[0m\u001b[0;34m,\u001b[0m \u001b[0mC\u001b[0m \u001b[0;34m=\u001b[0m \u001b[0mdsp\u001b[0m\u001b[0;34m.\u001b[0m\u001b[0mgenerate\u001b[0m\u001b[0;34m(\u001b[0m\u001b[0mtemplate\u001b[0m\u001b[0;34m,\u001b[0m \u001b[0;34m**\u001b[0m\u001b[0mconfig\u001b[0m\u001b[0;34m)\u001b[0m\u001b[0;34m(\u001b[0m\u001b[0mx\u001b[0m\u001b[0;34m,\u001b[0m \u001b[0mstage\u001b[0m\u001b[0;34m=\u001b[0m\u001b[0mstage\u001b[0m\u001b[0;34m)\u001b[0m\u001b[0;34m\u001b[0m\u001b[0;34m\u001b[0m\u001b[0m\n\u001b[0m\u001b[1;32m    169\u001b[0m     \u001b[0;32melse\u001b[0m\u001b[0;34m:\u001b[0m\u001b[0;34m\u001b[0m\u001b[0;34m\u001b[0m\u001b[0m\n\u001b[1;32m    170\u001b[0m         \u001b[0;31m# Note: query_only=True means the instructions and examples are not included.\u001b[0m\u001b[0;34m\u001b[0m\u001b[0;34m\u001b[0m\u001b[0m\n",
            "\u001b[0;32m/usr/local/lib/python3.10/dist-packages/dsp/primitives/predict.py\u001b[0m in \u001b[0;36mdo_generate\u001b[0;34m(example, stage, max_depth, original_example)\u001b[0m\n\u001b[1;32m     71\u001b[0m         \u001b[0;31m# Generate and extract the fields.\u001b[0m\u001b[0;34m\u001b[0m\u001b[0;34m\u001b[0m\u001b[0m\n\u001b[1;32m     72\u001b[0m         \u001b[0mprompt\u001b[0m \u001b[0;34m=\u001b[0m \u001b[0mtemplate\u001b[0m\u001b[0;34m(\u001b[0m\u001b[0mexample\u001b[0m\u001b[0;34m)\u001b[0m\u001b[0;34m\u001b[0m\u001b[0;34m\u001b[0m\u001b[0m\n\u001b[0;32m---> 73\u001b[0;31m         \u001b[0mcompletions\u001b[0m\u001b[0;34m:\u001b[0m \u001b[0mlist\u001b[0m\u001b[0;34m[\u001b[0m\u001b[0mdict\u001b[0m\u001b[0;34m[\u001b[0m\u001b[0mstr\u001b[0m\u001b[0;34m,\u001b[0m \u001b[0mAny\u001b[0m\u001b[0;34m]\u001b[0m\u001b[0;34m]\u001b[0m \u001b[0;34m=\u001b[0m \u001b[0mgenerator\u001b[0m\u001b[0;34m(\u001b[0m\u001b[0mprompt\u001b[0m\u001b[0;34m,\u001b[0m \u001b[0;34m**\u001b[0m\u001b[0mkwargs\u001b[0m\u001b[0;34m)\u001b[0m\u001b[0;34m\u001b[0m\u001b[0;34m\u001b[0m\u001b[0m\n\u001b[0m\u001b[1;32m     74\u001b[0m         \u001b[0mcompletions\u001b[0m\u001b[0;34m:\u001b[0m \u001b[0mlist\u001b[0m\u001b[0;34m[\u001b[0m\u001b[0mExample\u001b[0m\u001b[0;34m]\u001b[0m \u001b[0;34m=\u001b[0m \u001b[0;34m[\u001b[0m\u001b[0mtemplate\u001b[0m\u001b[0;34m.\u001b[0m\u001b[0mextract\u001b[0m\u001b[0;34m(\u001b[0m\u001b[0mexample\u001b[0m\u001b[0;34m,\u001b[0m \u001b[0mp\u001b[0m\u001b[0;34m)\u001b[0m \u001b[0;32mfor\u001b[0m \u001b[0mp\u001b[0m \u001b[0;32min\u001b[0m \u001b[0mcompletions\u001b[0m\u001b[0;34m]\u001b[0m\u001b[0;34m\u001b[0m\u001b[0;34m\u001b[0m\u001b[0m\n\u001b[1;32m     75\u001b[0m \u001b[0;34m\u001b[0m\u001b[0m\n",
            "\u001b[0;32m/usr/local/lib/python3.10/dist-packages/dsp/modules/google_vertex_ai.py\u001b[0m in \u001b[0;36m__call__\u001b[0;34m(self, prompt, only_completed, return_sorted, **kwargs)\u001b[0m\n\u001b[1;32m    201\u001b[0m         \u001b[0;34m**\u001b[0m\u001b[0mkwargs\u001b[0m\u001b[0;34m,\u001b[0m\u001b[0;34m\u001b[0m\u001b[0;34m\u001b[0m\u001b[0m\n\u001b[1;32m    202\u001b[0m     ):\n\u001b[0;32m--> 203\u001b[0;31m         \u001b[0;32mreturn\u001b[0m \u001b[0mself\u001b[0m\u001b[0;34m.\u001b[0m\u001b[0mrequest\u001b[0m\u001b[0;34m(\u001b[0m\u001b[0mprompt\u001b[0m\u001b[0;34m,\u001b[0m \u001b[0;34m**\u001b[0m\u001b[0mkwargs\u001b[0m\u001b[0;34m)\u001b[0m\u001b[0;34m\u001b[0m\u001b[0;34m\u001b[0m\u001b[0m\n\u001b[0m",
            "\u001b[0;32m/usr/local/lib/python3.10/dist-packages/backoff/_sync.py\u001b[0m in \u001b[0;36mretry\u001b[0;34m(*args, **kwargs)\u001b[0m\n\u001b[1;32m    103\u001b[0m \u001b[0;34m\u001b[0m\u001b[0m\n\u001b[1;32m    104\u001b[0m             \u001b[0;32mtry\u001b[0m\u001b[0;34m:\u001b[0m\u001b[0;34m\u001b[0m\u001b[0;34m\u001b[0m\u001b[0m\n\u001b[0;32m--> 105\u001b[0;31m                 \u001b[0mret\u001b[0m \u001b[0;34m=\u001b[0m \u001b[0mtarget\u001b[0m\u001b[0;34m(\u001b[0m\u001b[0;34m*\u001b[0m\u001b[0margs\u001b[0m\u001b[0;34m,\u001b[0m \u001b[0;34m**\u001b[0m\u001b[0mkwargs\u001b[0m\u001b[0;34m)\u001b[0m\u001b[0;34m\u001b[0m\u001b[0;34m\u001b[0m\u001b[0m\n\u001b[0m\u001b[1;32m    106\u001b[0m             \u001b[0;32mexcept\u001b[0m \u001b[0mexception\u001b[0m \u001b[0;32mas\u001b[0m \u001b[0me\u001b[0m\u001b[0;34m:\u001b[0m\u001b[0;34m\u001b[0m\u001b[0;34m\u001b[0m\u001b[0m\n\u001b[1;32m    107\u001b[0m                 \u001b[0mmax_tries_exceeded\u001b[0m \u001b[0;34m=\u001b[0m \u001b[0;34m(\u001b[0m\u001b[0mtries\u001b[0m \u001b[0;34m==\u001b[0m \u001b[0mmax_tries_value\u001b[0m\u001b[0;34m)\u001b[0m\u001b[0;34m\u001b[0m\u001b[0;34m\u001b[0m\u001b[0m\n",
            "\u001b[0;32m/usr/local/lib/python3.10/dist-packages/dsp/modules/google_vertex_ai.py\u001b[0m in \u001b[0;36mrequest\u001b[0;34m(self, prompt, **kwargs)\u001b[0m\n\u001b[1;32m    192\u001b[0m     \u001b[0;32mdef\u001b[0m \u001b[0mrequest\u001b[0m\u001b[0;34m(\u001b[0m\u001b[0mself\u001b[0m\u001b[0;34m,\u001b[0m \u001b[0mprompt\u001b[0m\u001b[0;34m:\u001b[0m \u001b[0mstr\u001b[0m\u001b[0;34m,\u001b[0m \u001b[0;34m**\u001b[0m\u001b[0mkwargs\u001b[0m\u001b[0;34m)\u001b[0m\u001b[0;34m:\u001b[0m\u001b[0;34m\u001b[0m\u001b[0;34m\u001b[0m\u001b[0m\n\u001b[1;32m    193\u001b[0m         \u001b[0;34m\"\"\"Handles retrieval of completions from Google whilst handling API errors\"\"\"\u001b[0m\u001b[0;34m\u001b[0m\u001b[0;34m\u001b[0m\u001b[0m\n\u001b[0;32m--> 194\u001b[0;31m         \u001b[0;32mreturn\u001b[0m \u001b[0mself\u001b[0m\u001b[0;34m.\u001b[0m\u001b[0mbasic_request\u001b[0m\u001b[0;34m(\u001b[0m\u001b[0mprompt\u001b[0m\u001b[0;34m,\u001b[0m \u001b[0;34m**\u001b[0m\u001b[0mkwargs\u001b[0m\u001b[0;34m)\u001b[0m\u001b[0;34m\u001b[0m\u001b[0;34m\u001b[0m\u001b[0m\n\u001b[0m\u001b[1;32m    195\u001b[0m \u001b[0;34m\u001b[0m\u001b[0m\n\u001b[1;32m    196\u001b[0m     def __call__(\n",
            "\u001b[0;32m/usr/local/lib/python3.10/dist-packages/dsp/modules/google_vertex_ai.py\u001b[0m in \u001b[0;36mbasic_request\u001b[0;34m(self, prompt, **kwargs)\u001b[0m\n\u001b[1;32m    141\u001b[0m         \u001b[0mkwargs\u001b[0m \u001b[0;34m=\u001b[0m \u001b[0mself\u001b[0m\u001b[0;34m.\u001b[0m\u001b[0m_prepare_params\u001b[0m\u001b[0;34m(\u001b[0m\u001b[0mraw_kwargs\u001b[0m\u001b[0;34m)\u001b[0m\u001b[0;34m\u001b[0m\u001b[0;34m\u001b[0m\u001b[0m\n\u001b[1;32m    142\u001b[0m         \u001b[0;32mif\u001b[0m \u001b[0mself\u001b[0m\u001b[0;34m.\u001b[0m\u001b[0m_is_gemini\u001b[0m\u001b[0;34m:\u001b[0m\u001b[0;34m\u001b[0m\u001b[0;34m\u001b[0m\u001b[0m\n\u001b[0;32m--> 143\u001b[0;31m             response = self.client.generate_content(\n\u001b[0m\u001b[1;32m    144\u001b[0m                 \u001b[0;34m[\u001b[0m\u001b[0mprompt\u001b[0m\u001b[0;34m]\u001b[0m\u001b[0;34m,\u001b[0m\u001b[0;34m\u001b[0m\u001b[0;34m\u001b[0m\u001b[0m\n\u001b[1;32m    145\u001b[0m                 \u001b[0mgeneration_config\u001b[0m\u001b[0;34m=\u001b[0m\u001b[0mkwargs\u001b[0m\u001b[0;34m,\u001b[0m\u001b[0;34m\u001b[0m\u001b[0;34m\u001b[0m\u001b[0m\n",
            "\u001b[0;32m/usr/local/lib/python3.10/dist-packages/vertexai/generative_models/_generative_models.py\u001b[0m in \u001b[0;36mgenerate_content\u001b[0;34m(self, contents, generation_config, safety_settings, tools, tool_config, labels, stream)\u001b[0m\n\u001b[1;32m    617\u001b[0m             )\n\u001b[1;32m    618\u001b[0m         \u001b[0;32melse\u001b[0m\u001b[0;34m:\u001b[0m\u001b[0;34m\u001b[0m\u001b[0;34m\u001b[0m\u001b[0m\n\u001b[0;32m--> 619\u001b[0;31m             return self._generate_content(\n\u001b[0m\u001b[1;32m    620\u001b[0m                 \u001b[0mcontents\u001b[0m\u001b[0;34m=\u001b[0m\u001b[0mcontents\u001b[0m\u001b[0;34m,\u001b[0m\u001b[0;34m\u001b[0m\u001b[0;34m\u001b[0m\u001b[0m\n\u001b[1;32m    621\u001b[0m                 \u001b[0mgeneration_config\u001b[0m\u001b[0;34m=\u001b[0m\u001b[0mgeneration_config\u001b[0m\u001b[0;34m,\u001b[0m\u001b[0;34m\u001b[0m\u001b[0;34m\u001b[0m\u001b[0m\n",
            "\u001b[0;32m/usr/local/lib/python3.10/dist-packages/vertexai/generative_models/_generative_models.py\u001b[0m in \u001b[0;36m_generate_content\u001b[0;34m(self, contents, generation_config, safety_settings, tools, tool_config, labels)\u001b[0m\n\u001b[1;32m    742\u001b[0m             \u001b[0mlabels\u001b[0m\u001b[0;34m=\u001b[0m\u001b[0mlabels\u001b[0m\u001b[0;34m,\u001b[0m\u001b[0;34m\u001b[0m\u001b[0;34m\u001b[0m\u001b[0m\n\u001b[1;32m    743\u001b[0m         )\n\u001b[0;32m--> 744\u001b[0;31m         \u001b[0mgapic_response\u001b[0m \u001b[0;34m=\u001b[0m \u001b[0mself\u001b[0m\u001b[0;34m.\u001b[0m\u001b[0m_prediction_client\u001b[0m\u001b[0;34m.\u001b[0m\u001b[0mgenerate_content\u001b[0m\u001b[0;34m(\u001b[0m\u001b[0mrequest\u001b[0m\u001b[0;34m=\u001b[0m\u001b[0mrequest\u001b[0m\u001b[0;34m)\u001b[0m\u001b[0;34m\u001b[0m\u001b[0;34m\u001b[0m\u001b[0m\n\u001b[0m\u001b[1;32m    745\u001b[0m         \u001b[0;32mreturn\u001b[0m \u001b[0mself\u001b[0m\u001b[0;34m.\u001b[0m\u001b[0m_parse_response\u001b[0m\u001b[0;34m(\u001b[0m\u001b[0mgapic_response\u001b[0m\u001b[0;34m)\u001b[0m\u001b[0;34m\u001b[0m\u001b[0;34m\u001b[0m\u001b[0m\n\u001b[1;32m    746\u001b[0m \u001b[0;34m\u001b[0m\u001b[0m\n",
            "\u001b[0;32m/usr/local/lib/python3.10/dist-packages/google/cloud/aiplatform_v1beta1/services/prediction_service/client.py\u001b[0m in \u001b[0;36mgenerate_content\u001b[0;34m(self, request, model, contents, retry, timeout, metadata)\u001b[0m\n\u001b[1;32m   2283\u001b[0m \u001b[0;34m\u001b[0m\u001b[0m\n\u001b[1;32m   2284\u001b[0m         \u001b[0;31m# Send the request.\u001b[0m\u001b[0;34m\u001b[0m\u001b[0;34m\u001b[0m\u001b[0m\n\u001b[0;32m-> 2285\u001b[0;31m         response = rpc(\n\u001b[0m\u001b[1;32m   2286\u001b[0m             \u001b[0mrequest\u001b[0m\u001b[0;34m,\u001b[0m\u001b[0;34m\u001b[0m\u001b[0;34m\u001b[0m\u001b[0m\n\u001b[1;32m   2287\u001b[0m             \u001b[0mretry\u001b[0m\u001b[0;34m=\u001b[0m\u001b[0mretry\u001b[0m\u001b[0;34m,\u001b[0m\u001b[0;34m\u001b[0m\u001b[0;34m\u001b[0m\u001b[0m\n",
            "\u001b[0;32m/usr/local/lib/python3.10/dist-packages/google/api_core/gapic_v1/method.py\u001b[0m in \u001b[0;36m__call__\u001b[0;34m(self, timeout, retry, compression, *args, **kwargs)\u001b[0m\n\u001b[1;32m    129\u001b[0m             \u001b[0mkwargs\u001b[0m\u001b[0;34m[\u001b[0m\u001b[0;34m\"compression\"\u001b[0m\u001b[0;34m]\u001b[0m \u001b[0;34m=\u001b[0m \u001b[0mcompression\u001b[0m\u001b[0;34m\u001b[0m\u001b[0;34m\u001b[0m\u001b[0m\n\u001b[1;32m    130\u001b[0m \u001b[0;34m\u001b[0m\u001b[0m\n\u001b[0;32m--> 131\u001b[0;31m         \u001b[0;32mreturn\u001b[0m \u001b[0mwrapped_func\u001b[0m\u001b[0;34m(\u001b[0m\u001b[0;34m*\u001b[0m\u001b[0margs\u001b[0m\u001b[0;34m,\u001b[0m \u001b[0;34m**\u001b[0m\u001b[0mkwargs\u001b[0m\u001b[0;34m)\u001b[0m\u001b[0;34m\u001b[0m\u001b[0;34m\u001b[0m\u001b[0m\n\u001b[0m\u001b[1;32m    132\u001b[0m \u001b[0;34m\u001b[0m\u001b[0m\n\u001b[1;32m    133\u001b[0m \u001b[0;34m\u001b[0m\u001b[0m\n",
            "\u001b[0;32m/usr/local/lib/python3.10/dist-packages/google/api_core/grpc_helpers.py\u001b[0m in \u001b[0;36merror_remapped_callable\u001b[0;34m(*args, **kwargs)\u001b[0m\n\u001b[1;32m     74\u001b[0m     \u001b[0;32mdef\u001b[0m \u001b[0merror_remapped_callable\u001b[0m\u001b[0;34m(\u001b[0m\u001b[0;34m*\u001b[0m\u001b[0margs\u001b[0m\u001b[0;34m,\u001b[0m \u001b[0;34m**\u001b[0m\u001b[0mkwargs\u001b[0m\u001b[0;34m)\u001b[0m\u001b[0;34m:\u001b[0m\u001b[0;34m\u001b[0m\u001b[0;34m\u001b[0m\u001b[0m\n\u001b[1;32m     75\u001b[0m         \u001b[0;32mtry\u001b[0m\u001b[0;34m:\u001b[0m\u001b[0;34m\u001b[0m\u001b[0;34m\u001b[0m\u001b[0m\n\u001b[0;32m---> 76\u001b[0;31m             \u001b[0;32mreturn\u001b[0m \u001b[0mcallable_\u001b[0m\u001b[0;34m(\u001b[0m\u001b[0;34m*\u001b[0m\u001b[0margs\u001b[0m\u001b[0;34m,\u001b[0m \u001b[0;34m**\u001b[0m\u001b[0mkwargs\u001b[0m\u001b[0;34m)\u001b[0m\u001b[0;34m\u001b[0m\u001b[0;34m\u001b[0m\u001b[0m\n\u001b[0m\u001b[1;32m     77\u001b[0m         \u001b[0;32mexcept\u001b[0m \u001b[0mgrpc\u001b[0m\u001b[0;34m.\u001b[0m\u001b[0mRpcError\u001b[0m \u001b[0;32mas\u001b[0m \u001b[0mexc\u001b[0m\u001b[0;34m:\u001b[0m\u001b[0;34m\u001b[0m\u001b[0;34m\u001b[0m\u001b[0m\n\u001b[1;32m     78\u001b[0m             \u001b[0;32mraise\u001b[0m \u001b[0mexceptions\u001b[0m\u001b[0;34m.\u001b[0m\u001b[0mfrom_grpc_error\u001b[0m\u001b[0;34m(\u001b[0m\u001b[0mexc\u001b[0m\u001b[0;34m)\u001b[0m \u001b[0;32mfrom\u001b[0m \u001b[0mexc\u001b[0m\u001b[0;34m\u001b[0m\u001b[0;34m\u001b[0m\u001b[0m\n",
            "\u001b[0;32m/usr/local/lib/python3.10/dist-packages/google/cloud/aiplatform_v1beta1/services/prediction_service/transports/rest.py\u001b[0m in \u001b[0;36m__call__\u001b[0;34m(self, request, retry, timeout, metadata)\u001b[0m\n\u001b[1;32m   1362\u001b[0m             \u001b[0;31m# subclass.\u001b[0m\u001b[0;34m\u001b[0m\u001b[0;34m\u001b[0m\u001b[0m\n\u001b[1;32m   1363\u001b[0m             \u001b[0;32mif\u001b[0m \u001b[0mresponse\u001b[0m\u001b[0;34m.\u001b[0m\u001b[0mstatus_code\u001b[0m \u001b[0;34m>=\u001b[0m \u001b[0;36m400\u001b[0m\u001b[0;34m:\u001b[0m\u001b[0;34m\u001b[0m\u001b[0;34m\u001b[0m\u001b[0m\n\u001b[0;32m-> 1364\u001b[0;31m                 \u001b[0;32mraise\u001b[0m \u001b[0mcore_exceptions\u001b[0m\u001b[0;34m.\u001b[0m\u001b[0mfrom_http_response\u001b[0m\u001b[0;34m(\u001b[0m\u001b[0mresponse\u001b[0m\u001b[0;34m)\u001b[0m\u001b[0;34m\u001b[0m\u001b[0;34m\u001b[0m\u001b[0m\n\u001b[0m\u001b[1;32m   1365\u001b[0m \u001b[0;34m\u001b[0m\u001b[0m\n\u001b[1;32m   1366\u001b[0m             \u001b[0;31m# Return the response\u001b[0m\u001b[0;34m\u001b[0m\u001b[0;34m\u001b[0m\u001b[0m\n",
            "\u001b[0;31mBadRequest\u001b[0m: 400 POST https://us-central1-aiplatform.googleapis.com/v1beta1/projects/my-project-269206/locations/us-central1/publishers/google/models/gemini-1.0-ultra:generateContent?%24alt=json%3Benum-encoding%3Dint: Project `1087042431891` is not allowed to use Publisher Model `projects/my-project-269206/locations/us-central1/publishers/google/models/gemini-1.0-ultra`"
          ]
        }
      ],
      "source": [
        "from datetime import datetime\n",
        "\n",
        "RUN_FROM_SCRATCH = True\n",
        "bootstrapped_demos = 8 # how many examples are randomly being used from the training dataset\n",
        "labeled_demos = 3 # how many examples will be in final prompt\n",
        "candidate_programs = 2 # how many candidates will be created and evaluated (equivalent to epochs)\n",
        "teacher_model_id = \"gemini-1.0-ultra\"\n",
        "\n",
        "if RUN_FROM_SCRATCH:\n",
        "    dspy_gemini_ultra = dspy.GoogleVertexAI(\n",
        "        teacher_model_id,\n",
        "        temperature=0,\n",
        "    )\n",
        "    dspy.settings.configure(lm=dspy_gemini_ultra, timeout=0)\n",
        "    config = dict(\n",
        "        max_bootstrapped_demos=bootstrapped_demos,\n",
        "        max_labeled_demos=labeled_demos,\n",
        "        num_candidate_programs=candidate_programs,\n",
        "        num_threads=4,\n",
        "        stop_at_score=100.0,\n",
        "    )\n",
        "    bootstrap_optimizer = BootstrapFewShotWithRandomSearch(\n",
        "        metric=gsm8k_metric, **config\n",
        "    )\n",
        "    cot_fewshot = bootstrap_optimizer.compile(ZeroShotCoT(), trainset=train, valset=val)\n",
        "\n",
        "    # save the bootstrap demonstrations for future use\n",
        "    timestamp_str = datetime.now().strftime(\"%Y%m%d-%H%M%S\")\n",
        "    filename = f\"{timestamp_str}_{teacher_model_id}_{bootstrapped_demos}_{labeled_demos}_{candidate_programs}.json\"\n",
        "    cot_fewshot.save(filename)\n",
        "else:\n",
        "    cot_fewshot = ZeroShotCoT()\n",
        "    cot_fewshot.load(\"20240403-173150_gemini-1.0-ultra_8_3_2.json\")"
      ]
    },
    {
      "cell_type": "markdown",
      "metadata": {
        "id": "Jgf-u2nAXe_f"
      },
      "source": [
        "After this step we have our examples ready, and we can test Gemini Pro on the same test dataset as above."
      ]
    },
    {
      "cell_type": "code",
      "execution_count": null,
      "metadata": {
        "id": "KDgR4EpOXe_f"
      },
      "outputs": [],
      "source": [
        "dspy.settings.configure(lm=dspy_gemini_pro, timeout=0)"
      ]
    },
    {
      "cell_type": "code",
      "execution_count": null,
      "metadata": {
        "id": "UzodrZeOXe_g",
        "outputId": "edec79c0-3060-4618-d23a-37ee606db2f4"
      },
      "outputs": [
        {
          "name": "stderr",
          "output_type": "stream",
          "text": [
            "Average Metric: 18 / 20  (90.0): 100%|██████████| 20/20 [00:07<00:00,  2.65it/s]"
          ]
        },
        {
          "name": "stdout",
          "output_type": "stream",
          "text": [
            "Average Metric: 18 / 20  (90.0%)\n"
          ]
        },
        {
          "name": "stderr",
          "output_type": "stream",
          "text": [
            "\n",
            "/Users/heikohotz/.pyenv/versions/3.11.7/envs/venv-ape/lib/python3.11/site-packages/dspy/evaluate/evaluate.py:266: FutureWarning: Setting an item of incompatible dtype is deprecated and will raise in a future error of pandas. Value '['✔️ [True]' '✔️ [True]' '✔️ [True]' 'False' '✔️ [True]' '✔️ [True]'\n",
            " '✔️ [True]' '✔️ [True]' '✔️ [True]' '✔️ [True]' '✔️ [True]' '✔️ [True]'\n",
            " '✔️ [True]' '✔️ [True]' 'False' '✔️ [True]' '✔️ [True]' '✔️ [True]'\n",
            " '✔️ [True]' '✔️ [True]']' has dtype incompatible with bool, please explicitly cast to a compatible dtype first.\n",
            "  df.loc[:, metric_name] = df[metric_name].apply(\n"
          ]
        },
        {
          "data": {
            "text/html": [
              "<style type=\"text/css\">\n",
              "#T_a77c3 th {\n",
              "  text-align: left;\n",
              "}\n",
              "#T_a77c3 td {\n",
              "  text-align: left;\n",
              "}\n",
              "#T_a77c3_row0_col0, #T_a77c3_row0_col1, #T_a77c3_row0_col2, #T_a77c3_row0_col3, #T_a77c3_row0_col4, #T_a77c3_row0_col5, #T_a77c3_row1_col0, #T_a77c3_row1_col1, #T_a77c3_row1_col2, #T_a77c3_row1_col3, #T_a77c3_row1_col4, #T_a77c3_row1_col5, #T_a77c3_row2_col0, #T_a77c3_row2_col1, #T_a77c3_row2_col2, #T_a77c3_row2_col3, #T_a77c3_row2_col4, #T_a77c3_row2_col5, #T_a77c3_row3_col0, #T_a77c3_row3_col1, #T_a77c3_row3_col2, #T_a77c3_row3_col3, #T_a77c3_row3_col4, #T_a77c3_row3_col5, #T_a77c3_row4_col0, #T_a77c3_row4_col1, #T_a77c3_row4_col2, #T_a77c3_row4_col3, #T_a77c3_row4_col4, #T_a77c3_row4_col5, #T_a77c3_row5_col0, #T_a77c3_row5_col1, #T_a77c3_row5_col2, #T_a77c3_row5_col3, #T_a77c3_row5_col4, #T_a77c3_row5_col5, #T_a77c3_row6_col0, #T_a77c3_row6_col1, #T_a77c3_row6_col2, #T_a77c3_row6_col3, #T_a77c3_row6_col4, #T_a77c3_row6_col5, #T_a77c3_row7_col0, #T_a77c3_row7_col1, #T_a77c3_row7_col2, #T_a77c3_row7_col3, #T_a77c3_row7_col4, #T_a77c3_row7_col5, #T_a77c3_row8_col0, #T_a77c3_row8_col1, #T_a77c3_row8_col2, #T_a77c3_row8_col3, #T_a77c3_row8_col4, #T_a77c3_row8_col5, #T_a77c3_row9_col0, #T_a77c3_row9_col1, #T_a77c3_row9_col2, #T_a77c3_row9_col3, #T_a77c3_row9_col4, #T_a77c3_row9_col5, #T_a77c3_row10_col0, #T_a77c3_row10_col1, #T_a77c3_row10_col2, #T_a77c3_row10_col3, #T_a77c3_row10_col4, #T_a77c3_row10_col5, #T_a77c3_row11_col0, #T_a77c3_row11_col1, #T_a77c3_row11_col2, #T_a77c3_row11_col3, #T_a77c3_row11_col4, #T_a77c3_row11_col5, #T_a77c3_row12_col0, #T_a77c3_row12_col1, #T_a77c3_row12_col2, #T_a77c3_row12_col3, #T_a77c3_row12_col4, #T_a77c3_row12_col5, #T_a77c3_row13_col0, #T_a77c3_row13_col1, #T_a77c3_row13_col2, #T_a77c3_row13_col3, #T_a77c3_row13_col4, #T_a77c3_row13_col5, #T_a77c3_row14_col0, #T_a77c3_row14_col1, #T_a77c3_row14_col2, #T_a77c3_row14_col3, #T_a77c3_row14_col4, #T_a77c3_row14_col5, #T_a77c3_row15_col0, #T_a77c3_row15_col1, #T_a77c3_row15_col2, #T_a77c3_row15_col3, #T_a77c3_row15_col4, #T_a77c3_row15_col5, #T_a77c3_row16_col0, #T_a77c3_row16_col1, #T_a77c3_row16_col2, #T_a77c3_row16_col3, #T_a77c3_row16_col4, #T_a77c3_row16_col5, #T_a77c3_row17_col0, #T_a77c3_row17_col1, #T_a77c3_row17_col2, #T_a77c3_row17_col3, #T_a77c3_row17_col4, #T_a77c3_row17_col5, #T_a77c3_row18_col0, #T_a77c3_row18_col1, #T_a77c3_row18_col2, #T_a77c3_row18_col3, #T_a77c3_row18_col4, #T_a77c3_row18_col5, #T_a77c3_row19_col0, #T_a77c3_row19_col1, #T_a77c3_row19_col2, #T_a77c3_row19_col3, #T_a77c3_row19_col4, #T_a77c3_row19_col5 {\n",
              "  text-align: left;\n",
              "  white-space: pre-wrap;\n",
              "  word-wrap: break-word;\n",
              "  max-width: 400px;\n",
              "}\n",
              "</style>\n",
              "<table id=\"T_a77c3\">\n",
              "  <thead>\n",
              "    <tr>\n",
              "      <th class=\"blank level0\" >&nbsp;</th>\n",
              "      <th id=\"T_a77c3_level0_col0\" class=\"col_heading level0 col0\" >question</th>\n",
              "      <th id=\"T_a77c3_level0_col1\" class=\"col_heading level0 col1\" >gold_reasoning</th>\n",
              "      <th id=\"T_a77c3_level0_col2\" class=\"col_heading level0 col2\" >example_answer</th>\n",
              "      <th id=\"T_a77c3_level0_col3\" class=\"col_heading level0 col3\" >rationale</th>\n",
              "      <th id=\"T_a77c3_level0_col4\" class=\"col_heading level0 col4\" >pred_answer</th>\n",
              "      <th id=\"T_a77c3_level0_col5\" class=\"col_heading level0 col5\" >gsm8k_metric</th>\n",
              "    </tr>\n",
              "  </thead>\n",
              "  <tbody>\n",
              "    <tr>\n",
              "      <th id=\"T_a77c3_level0_row0\" class=\"row_heading level0 row0\" >0</th>\n",
              "      <td id=\"T_a77c3_row0_col0\" class=\"data row0 col0\" >Amber, Micah, and Ahito ran 52 miles in total. Amber ran 8 miles. Micah ran 3.5 times what Amber ran. How many miles did Ahito...</td>\n",
              "      <td id=\"T_a77c3_row0_col1\" class=\"data row0 col1\" >Amber ran <<8=8>>8 miles. Micah ran 3.5 * 8 miles = <<3.5*8=28>>28 miles Ahito ran the rest = 52 - 8 - 28 = <<52-8-28=16>>16...</td>\n",
              "      <td id=\"T_a77c3_row0_col2\" class=\"data row0 col2\" >16</td>\n",
              "      <td id=\"T_a77c3_row0_col3\" class=\"data row0 col3\" >find out how many miles Ahito ran. First, let's find out how many miles Micah ran: 3.5 x 8 = 28 miles. Now, let's add...</td>\n",
              "      <td id=\"T_a77c3_row0_col4\" class=\"data row0 col4\" >16</td>\n",
              "      <td id=\"T_a77c3_row0_col5\" class=\"data row0 col5\" >✔️ [True]</td>\n",
              "    </tr>\n",
              "    <tr>\n",
              "      <th id=\"T_a77c3_level0_row1\" class=\"row_heading level0 row1\" >1</th>\n",
              "      <td id=\"T_a77c3_row1_col0\" class=\"data row1 col0\" >Miguel uses 2 pads of paper a week for his drawing. If there are 30 sheets of paper on a pad of paper, how many...</td>\n",
              "      <td id=\"T_a77c3_row1_col1\" class=\"data row1 col1\" >Miguel uses 30 x 2 = <<30*2=60>>60 sheets of paper every week. Therefore, he uses 60 x 4 = <<60*4=240>>240 sheets of paper every month.</td>\n",
              "      <td id=\"T_a77c3_row1_col2\" class=\"data row1 col2\" >240</td>\n",
              "      <td id=\"T_a77c3_row1_col3\" class=\"data row1 col3\" >find the number of sheets of paper Miguel uses every month. First, we need to find the total number of pads of paper he uses...</td>\n",
              "      <td id=\"T_a77c3_row1_col4\" class=\"data row1 col4\" >240</td>\n",
              "      <td id=\"T_a77c3_row1_col5\" class=\"data row1 col5\" >✔️ [True]</td>\n",
              "    </tr>\n",
              "    <tr>\n",
              "      <th id=\"T_a77c3_level0_row2\" class=\"row_heading level0 row2\" >2</th>\n",
              "      <td id=\"T_a77c3_row2_col0\" class=\"data row2 col0\" >At a certain grade level, three-fourths of students have a desktop computer at home. If 20 students do not have desktop computers, how many students...</td>\n",
              "      <td id=\"T_a77c3_row2_col1\" class=\"data row2 col1\" >Twenty students represent 1 - 3/4 = 1/4 of the students at that level. So, there are 4 x 20 students = <<4*20=80>>80 students at...</td>\n",
              "      <td id=\"T_a77c3_row2_col2\" class=\"data row2 col2\" >80</td>\n",
              "      <td id=\"T_a77c3_row2_col3\" class=\"data row2 col3\" >find the total number of students. First, we need to find the fraction of students who have desktop computers: 1 - 3/4 = 1/4. Now,...</td>\n",
              "      <td id=\"T_a77c3_row2_col4\" class=\"data row2 col4\" >80</td>\n",
              "      <td id=\"T_a77c3_row2_col5\" class=\"data row2 col5\" >✔️ [True]</td>\n",
              "    </tr>\n",
              "    <tr>\n",
              "      <th id=\"T_a77c3_level0_row3\" class=\"row_heading level0 row3\" >3</th>\n",
              "      <td id=\"T_a77c3_row3_col0\" class=\"data row3 col0\" >Comet Halley orbits the sun every 75 years. Bill's dad saw the Comet when he was 30 years old. Bill saw the comet a second...</td>\n",
              "      <td id=\"T_a77c3_row3_col1\" class=\"data row3 col1\" >Bill saw the Comet for the second time when he was 30 years * 3= <<30*3=90>>90 years old. Comet Halley can be seen every 75...</td>\n",
              "      <td id=\"T_a77c3_row3_col2\" class=\"data row3 col2\" >15</td>\n",
              "      <td id=\"T_a77c3_row3_col3\" class=\"data row3 col3\" >find Bill's age when he saw the Comet. First, we need to find the number of years that passed between the two sightings: 75 years...</td>\n",
              "      <td id=\"T_a77c3_row3_col4\" class=\"data row3 col4\" >90</td>\n",
              "      <td id=\"T_a77c3_row3_col5\" class=\"data row3 col5\" >False</td>\n",
              "    </tr>\n",
              "    <tr>\n",
              "      <th id=\"T_a77c3_level0_row4\" class=\"row_heading level0 row4\" >4</th>\n",
              "      <td id=\"T_a77c3_row4_col0\" class=\"data row4 col0\" >Tom plants 10 trees a year. Every year he also chops down 2 trees a year. He starts with 50 trees. After 10 years 30%...</td>\n",
              "      <td id=\"T_a77c3_row4_col1\" class=\"data row4 col1\" >He gets 10-2=<<10-2=8>>8 new trees a year After 10 years he has 8*10=<<8*10=80>>80 new trees So he had 80+50=<<80+50=130>>130 trees He lost 130*.3=<<130*.3=39>>39 trees That...</td>\n",
              "      <td id=\"T_a77c3_row4_col2\" class=\"data row4 col2\" >91</td>\n",
              "      <td id=\"T_a77c3_row4_col3\" class=\"data row4 col3\" >find out how many trees Tom has left. First, let's find out how many trees Tom plants in 10 years: 10 trees/year x 10 years...</td>\n",
              "      <td id=\"T_a77c3_row4_col4\" class=\"data row4 col4\" >91</td>\n",
              "      <td id=\"T_a77c3_row4_col5\" class=\"data row4 col5\" >✔️ [True]</td>\n",
              "    </tr>\n",
              "    <tr>\n",
              "      <th id=\"T_a77c3_level0_row5\" class=\"row_heading level0 row5\" >5</th>\n",
              "      <td id=\"T_a77c3_row5_col0\" class=\"data row5 col0\" >John picks 4 bananas on Wednesday. Then he picks 6 bananas on Thursday. On Friday, he picks triple the number of bananas he did on...</td>\n",
              "      <td id=\"T_a77c3_row5_col1\" class=\"data row5 col1\" >Combining Wednesday and Thursday, John has 4 bananas + 6 bananas = <<4+6=10>>10 bananas. On Friday, he picks 3 * 4 bananas = <<3*4=12>>12 bananas....</td>\n",
              "      <td id=\"T_a77c3_row5_col2\" class=\"data row5 col2\" >22</td>\n",
              "      <td id=\"T_a77c3_row5_col3\" class=\"data row5 col3\" >find the total number of bananas John has. First, let's find the number of bananas John picked on Friday: 4 x 3 = 12 bananas....</td>\n",
              "      <td id=\"T_a77c3_row5_col4\" class=\"data row5 col4\" >22</td>\n",
              "      <td id=\"T_a77c3_row5_col5\" class=\"data row5 col5\" >✔️ [True]</td>\n",
              "    </tr>\n",
              "    <tr>\n",
              "      <th id=\"T_a77c3_level0_row6\" class=\"row_heading level0 row6\" >6</th>\n",
              "      <td id=\"T_a77c3_row6_col0\" class=\"data row6 col0\" >Peyton scheduled after-work activities of a one hour yoga class on Monday, a cooking class that lasts three times as long as Monday’s yoga on...</td>\n",
              "      <td id=\"T_a77c3_row6_col1\" class=\"data row6 col1\" >Peyton’s cooking class will last 3 * 1 = <<3*1=3>>3 hours. The museum tour will take 3 / 2 = 1 1/2 hours. Peyton’s after-work...</td>\n",
              "      <td id=\"T_a77c3_row6_col2\" class=\"data row6 col2\" >8</td>\n",
              "      <td id=\"T_a77c3_row6_col3\" class=\"data row6 col3\" >calculate the total hours of Peyton's after-work activities. 1. **Yoga class (Monday):** 1 hour 2. **Cooking class (Tuesday):** 3 x 1 hour = 3 hours...</td>\n",
              "      <td id=\"T_a77c3_row6_col4\" class=\"data row6 col4\" >8</td>\n",
              "      <td id=\"T_a77c3_row6_col5\" class=\"data row6 col5\" >✔️ [True]</td>\n",
              "    </tr>\n",
              "    <tr>\n",
              "      <th id=\"T_a77c3_level0_row7\" class=\"row_heading level0 row7\" >7</th>\n",
              "      <td id=\"T_a77c3_row7_col0\" class=\"data row7 col0\" >Ben has 4 tubes of blue paint and 3 tubes of yellow paint. Jasper has half as many tubes of blue paint as Ben, and...</td>\n",
              "      <td id=\"T_a77c3_row7_col1\" class=\"data row7 col1\" >Jasper has 4/2= <<4/2=2>>2 tubes of blue paint Jasper has 3*3=<<3*3=9>>9 tubes of yellow paint Jasper has a total of 2+9 =<<2+9=11>>11 tubes of paint</td>\n",
              "      <td id=\"T_a77c3_row7_col2\" class=\"data row7 col2\" >11</td>\n",
              "      <td id=\"T_a77c3_row7_col3\" class=\"data row7 col3\" >find out how many tubes of paint Jasper has. First, let's find out how many tubes of blue paint Jasper has: 4 / 2 =...</td>\n",
              "      <td id=\"T_a77c3_row7_col4\" class=\"data row7 col4\" >11</td>\n",
              "      <td id=\"T_a77c3_row7_col5\" class=\"data row7 col5\" >✔️ [True]</td>\n",
              "    </tr>\n",
              "    <tr>\n",
              "      <th id=\"T_a77c3_level0_row8\" class=\"row_heading level0 row8\" >8</th>\n",
              "      <td id=\"T_a77c3_row8_col0\" class=\"data row8 col0\" >Elaina is holding the final concert in her tour. To celebrate her final concert, she makes the concert twice as long as her usual concerts....</td>\n",
              "      <td id=\"T_a77c3_row8_col1\" class=\"data row8 col1\" >The concert, minus the encore, lasted for 65-minute concert – 15-minute encore = <<65-15=50>>50 minutes. This is twice as long as her usual concerts so...</td>\n",
              "      <td id=\"T_a77c3_row8_col2\" class=\"data row8 col2\" >25</td>\n",
              "      <td id=\"T_a77c3_row8_col3\" class=\"data row8 col3\" >find the runtime of Elaina's usual concerts. First, we need to subtract the encore's runtime from the total runtime of the final concert: 65 -...</td>\n",
              "      <td id=\"T_a77c3_row8_col4\" class=\"data row8 col4\" >25</td>\n",
              "      <td id=\"T_a77c3_row8_col5\" class=\"data row8 col5\" >✔️ [True]</td>\n",
              "    </tr>\n",
              "    <tr>\n",
              "      <th id=\"T_a77c3_level0_row9\" class=\"row_heading level0 row9\" >9</th>\n",
              "      <td id=\"T_a77c3_row9_col0\" class=\"data row9 col0\" >Hannah slips on a banana peel and breaks her arm. The doctor charges her $200 for the cast, $300/hour for a 30-minute visit, $4/pill for...</td>\n",
              "      <td id=\"T_a77c3_row9_col1\" class=\"data row9 col1\" >First find the length of the visit in hours: 30 minutes / 60 minutes/hour = <<30/60=.5>>.5 hours Then find the total cost of the visit:...</td>\n",
              "      <td id=\"T_a77c3_row9_col2\" class=\"data row9 col2\" >482</td>\n",
              "      <td id=\"T_a77c3_row9_col3\" class=\"data row9 col3\" >calculate the total cost of the doctor's visit. First, we need to find the cost of the visit: $300/hour x 0.5 hours = $150. Next,...</td>\n",
              "      <td id=\"T_a77c3_row9_col4\" class=\"data row9 col4\" >$482</td>\n",
              "      <td id=\"T_a77c3_row9_col5\" class=\"data row9 col5\" >✔️ [True]</td>\n",
              "    </tr>\n",
              "    <tr>\n",
              "      <th id=\"T_a77c3_level0_row10\" class=\"row_heading level0 row10\" >10</th>\n",
              "      <td id=\"T_a77c3_row10_col0\" class=\"data row10 col0\" >A loaf of bread at the bakery costs $2. Bagels cost $1 each. How much more do 3 loaves of bread cost than 2 bagels?</td>\n",
              "      <td id=\"T_a77c3_row10_col1\" class=\"data row10 col1\" >3 loaves of bread cost 3 * $2 = $<<3*2=6>>6. 2 bagels cost 2 * $1 = $<<2*1=2>>2. The loaves of bread cost $6 -...</td>\n",
              "      <td id=\"T_a77c3_row10_col2\" class=\"data row10 col2\" >4</td>\n",
              "      <td id=\"T_a77c3_row10_col3\" class=\"data row10 col3\" >find the difference in cost. First, find the total cost of 3 loaves of bread: $2 x 3 = $6. Next, find the total cost...</td>\n",
              "      <td id=\"T_a77c3_row10_col4\" class=\"data row10 col4\" >$4</td>\n",
              "      <td id=\"T_a77c3_row10_col5\" class=\"data row10 col5\" >✔️ [True]</td>\n",
              "    </tr>\n",
              "    <tr>\n",
              "      <th id=\"T_a77c3_level0_row11\" class=\"row_heading level0 row11\" >11</th>\n",
              "      <td id=\"T_a77c3_row11_col0\" class=\"data row11 col0\" >Bob thinks he needs 56 popsicle sticks to recreate the Washington Monument for his history project. His favorite popsicles come 8 to a box and...</td>\n",
              "      <td id=\"T_a77c3_row11_col1\" class=\"data row11 col1\" >He needs 56 popsicle sticks to build his project and they come 8 to a box so he needs 56/8 = <<56/8=7>>7 boxes Each box...</td>\n",
              "      <td id=\"T_a77c3_row11_col2\" class=\"data row11 col2\" >14</td>\n",
              "      <td id=\"T_a77c3_row11_col3\" class=\"data row11 col3\" >calculate the cost of the project. First, we need to find out how many boxes of popsicles Bob needs: 56 popsicle sticks / 8 popsicles/box...</td>\n",
              "      <td id=\"T_a77c3_row11_col4\" class=\"data row11 col4\" >$14.00</td>\n",
              "      <td id=\"T_a77c3_row11_col5\" class=\"data row11 col5\" >✔️ [True]</td>\n",
              "    </tr>\n",
              "    <tr>\n",
              "      <th id=\"T_a77c3_level0_row12\" class=\"row_heading level0 row12\" >12</th>\n",
              "      <td id=\"T_a77c3_row12_col0\" class=\"data row12 col0\" >Dennis uses 1 pound of butter for every dozen croissants that he makes. He needs to make 6 dozen croissants. The grocery store currently has...</td>\n",
              "      <td id=\"T_a77c3_row12_col1\" class=\"data row12 col1\" >1 pound of butter makes 1 dozen croissants and he needs to make 6 dozen so he needs 1*6 = <<1*6=6>>6 pounds of butter The...</td>\n",
              "      <td id=\"T_a77c3_row12_col2\" class=\"data row12 col2\" >18</td>\n",
              "      <td id=\"T_a77c3_row12_col3\" class=\"data row12 col3\" >calculate the cost of purchasing 6 pounds of butter. First, we need to find the cost of 1 pound of butter: $4.00. Since the promotion...</td>\n",
              "      <td id=\"T_a77c3_row12_col4\" class=\"data row12 col4\" >$18.00</td>\n",
              "      <td id=\"T_a77c3_row12_col5\" class=\"data row12 col5\" >✔️ [True]</td>\n",
              "    </tr>\n",
              "    <tr>\n",
              "      <th id=\"T_a77c3_level0_row13\" class=\"row_heading level0 row13\" >13</th>\n",
              "      <td id=\"T_a77c3_row13_col0\" class=\"data row13 col0\" >Regina wrote 9 novels last year. If this is 3 quarters of the number of novels she has written this year, how many novels has...</td>\n",
              "      <td id=\"T_a77c3_row13_col1\" class=\"data row13 col1\" >Number of novels she wrote last year = (3/4)*number of novels she wrote this year 9 = (3/4)*number of novels she wrote this year Multiplying...</td>\n",
              "      <td id=\"T_a77c3_row13_col2\" class=\"data row13 col2\" >12</td>\n",
              "      <td id=\"T_a77c3_row13_col3\" class=\"data row13 col3\" >find the number of novels Regina has written this year. Since 9 novels represent 3 quarters of the total, we can set up a proportion:...</td>\n",
              "      <td id=\"T_a77c3_row13_col4\" class=\"data row13 col4\" >12</td>\n",
              "      <td id=\"T_a77c3_row13_col5\" class=\"data row13 col5\" >✔️ [True]</td>\n",
              "    </tr>\n",
              "    <tr>\n",
              "      <th id=\"T_a77c3_level0_row14\" class=\"row_heading level0 row14\" >14</th>\n",
              "      <td id=\"T_a77c3_row14_col0\" class=\"data row14 col0\" >Alex is getting ready to attend an event that she has hosted and wants to make sure that she has enough seats for everyone. She...</td>\n",
              "      <td id=\"T_a77c3_row14_col1\" class=\"data row14 col1\" >Each of the people that were emailed are bringing 2 friends, which means that they will be in groups of 1 +2 = <<1+2=3>>3 people....</td>\n",
              "      <td id=\"T_a77c3_row14_col2\" class=\"data row14 col2\" >319</td>\n",
              "      <td id=\"T_a77c3_row14_col3\" class=\"data row14 col3\" >find out how many seats Alex will need. First, let's find out how many people will be coming from the email invitations: 100 people x...</td>\n",
              "      <td id=\"T_a77c3_row14_col4\" class=\"data row14 col4\" >318</td>\n",
              "      <td id=\"T_a77c3_row14_col5\" class=\"data row14 col5\" >False</td>\n",
              "    </tr>\n",
              "    <tr>\n",
              "      <th id=\"T_a77c3_level0_row15\" class=\"row_heading level0 row15\" >15</th>\n",
              "      <td id=\"T_a77c3_row15_col0\" class=\"data row15 col0\" >Rozanne is making eggnog for her family. She uses 4 dozen eggs that were in cases and another 2 eggs that were loose in the...</td>\n",
              "      <td id=\"T_a77c3_row15_col1\" class=\"data row15 col1\" >As a dozen is equivalent to 12 eggs, Rozanne has 4 dozen eggs * 12 = <<4*12=48>>48 eggs in cases. She therefore has a total...</td>\n",
              "      <td id=\"T_a77c3_row15_col2\" class=\"data row15 col2\" >2</td>\n",
              "      <td id=\"T_a77c3_row15_col3\" class=\"data row15 col3\" >find out how many trays Rozanne can put out. First, let's find out how many eggs Rozanne has in total: 4 dozen eggs = 4...</td>\n",
              "      <td id=\"T_a77c3_row15_col4\" class=\"data row15 col4\" >2</td>\n",
              "      <td id=\"T_a77c3_row15_col5\" class=\"data row15 col5\" >✔️ [True]</td>\n",
              "    </tr>\n",
              "    <tr>\n",
              "      <th id=\"T_a77c3_level0_row16\" class=\"row_heading level0 row16\" >16</th>\n",
              "      <td id=\"T_a77c3_row16_col0\" class=\"data row16 col0\" >Matthew has a collection of 12 unique toy soldiers. He wants to sell them for a fair price. He found a buyer who is willing...</td>\n",
              "      <td id=\"T_a77c3_row16_col1\" class=\"data row16 col1\" >Half of Matthew collection means 12 * 0.5 = <<12*0.5=6>>6 toy soldiers. A buyer wants to buy 6 toy soldiers for $5, so he would...</td>\n",
              "      <td id=\"T_a77c3_row16_col2\" class=\"data row16 col2\" >72</td>\n",
              "      <td id=\"T_a77c3_row16_col3\" class=\"data row16 col3\" >calculate the total amount of money Matthew would earn. First, let's find the amount he would earn from selling half of his collection at $5...</td>\n",
              "      <td id=\"T_a77c3_row16_col4\" class=\"data row16 col4\" >$72</td>\n",
              "      <td id=\"T_a77c3_row16_col5\" class=\"data row16 col5\" >✔️ [True]</td>\n",
              "    </tr>\n",
              "    <tr>\n",
              "      <th id=\"T_a77c3_level0_row17\" class=\"row_heading level0 row17\" >17</th>\n",
              "      <td id=\"T_a77c3_row17_col0\" class=\"data row17 col0\" >Mrs. Cruz is looking for a house that will not go beyond her $400 000 budget. She saw a property that has a selling price...</td>\n",
              "      <td id=\"T_a77c3_row17_col1\" class=\"data row17 col1\" >The brokerage fee is $350 000 x 5/100 = $<<350000*5/100=17500>>17500. The transfer fee is $350 000 x 12/100 = $<<350000*12/100=42000>>42000. The total price of the...</td>\n",
              "      <td id=\"T_a77c3_row17_col2\" class=\"data row17 col2\" >9500</td>\n",
              "      <td id=\"T_a77c3_row17_col3\" class=\"data row17 col3\" >find out how much more the total price of the house is than Mrs. Cruz's budget. First, let's calculate the brokerage fee: 5% x $350,000...</td>\n",
              "      <td id=\"T_a77c3_row17_col4\" class=\"data row17 col4\" >$9,500</td>\n",
              "      <td id=\"T_a77c3_row17_col5\" class=\"data row17 col5\" >✔️ [True]</td>\n",
              "    </tr>\n",
              "    <tr>\n",
              "      <th id=\"T_a77c3_level0_row18\" class=\"row_heading level0 row18\" >18</th>\n",
              "      <td id=\"T_a77c3_row18_col0\" class=\"data row18 col0\" >Juan and his brother Carlos are selling lemonade. For each gallon they make it costs $3 for lemons and $2 for sugar. They sell each...</td>\n",
              "      <td id=\"T_a77c3_row18_col1\" class=\"data row18 col1\" >Each gallon sells for a total of $10 because 20 x .5 = <<20*.5=10>>10 Each gallon costs $5 to make because 3 + 2 =...</td>\n",
              "      <td id=\"T_a77c3_row18_col2\" class=\"data row18 col2\" >15</td>\n",
              "      <td id=\"T_a77c3_row18_col3\" class=\"data row18 col3\" >find out how much they spent on lemons. First, let's find out how much they spent on each gallon: $3 for lemons + $2 for...</td>\n",
              "      <td id=\"T_a77c3_row18_col4\" class=\"data row18 col4\" >$15</td>\n",
              "      <td id=\"T_a77c3_row18_col5\" class=\"data row18 col5\" >✔️ [True]</td>\n",
              "    </tr>\n",
              "    <tr>\n",
              "      <th id=\"T_a77c3_level0_row19\" class=\"row_heading level0 row19\" >19</th>\n",
              "      <td id=\"T_a77c3_row19_col0\" class=\"data row19 col0\" >When the water is cold Ray swims a mile in 16 minutes. When the water is warm Ray swims a mile in 2 minutes more...</td>\n",
              "      <td id=\"T_a77c3_row19_col1\" class=\"data row19 col1\" >Cold water mile = <<16=16>>16 minutes Warm water mile = 2+2(16)=34 minutes 3 miles in cold water: 3(16)=<<3*16=48>>48 minutes 3 miles in warm water: 3(34)=<<3*34=102>>102...</td>\n",
              "      <td id=\"T_a77c3_row19_col2\" class=\"data row19 col2\" >54</td>\n",
              "      <td id=\"T_a77c3_row19_col3\" class=\"data row19 col3\" >find the difference in time it takes Ray to swim 3 miles on a hot day compared to a cold day. First, let's find out...</td>\n",
              "      <td id=\"T_a77c3_row19_col4\" class=\"data row19 col4\" >54</td>\n",
              "      <td id=\"T_a77c3_row19_col5\" class=\"data row19 col5\" >✔️ [True]</td>\n",
              "    </tr>\n",
              "  </tbody>\n",
              "</table>\n"
            ],
            "text/plain": [
              "<pandas.io.formats.style.Styler at 0x31c26cc90>"
            ]
          },
          "metadata": {},
          "output_type": "display_data"
        },
        {
          "data": {
            "text/plain": [
              "90.0"
            ]
          },
          "execution_count": 104,
          "metadata": {},
          "output_type": "execute_result"
        }
      ],
      "source": [
        "evaluate(cot_fewshot)"
      ]
    },
    {
      "cell_type": "markdown",
      "metadata": {
        "id": "j5LC8NenXe_g"
      },
      "source": [
        "Nice, this improved Gemini Pro's performance significantly from 35% :)"
      ]
    },
    {
      "cell_type": "code",
      "execution_count": null,
      "metadata": {
        "id": "n31GS1IIXe_g",
        "outputId": "7504ce24-8a9b-4b05-8762-bc76064c0817"
      },
      "outputs": [
        {
          "name": "stdout",
          "output_type": "stream",
          "text": [
            "\n",
            "\n",
            "\n",
            "\n",
            "Answer math problems with numbers or short phrases.\n",
            "\n",
            "---\n",
            "\n",
            "Follow the following format.\n",
            "\n",
            "Question: ${question}\n",
            "Reasoning: Let's think step by step in order to ${produce the answer}. We ...\n",
            "Answer: Usually a number or short phrase.\n",
            "\n",
            "---\n",
            "\n",
            "Question: A tank contains 6000 liters of water, 2000 liters evaporated, and then 3500 liters were drained by Bob. How many liters are in the tank if it now rains for 30 minutes and every 10 minutes 350 liters of rain are added to the tank?\n",
            "Reasoning: Let's think step by step in order to find the total amount of water in the tank. First, 2000 liters evaporated from the initial 6000 liters, leaving 6000 - 2000 = 4000 liters. Next, Bob drained 3500 liters, resulting in 4000 - 3500 = 500 liters. Since it rained for 30 minutes, and 350 liters are added every 10 minutes, a total of 350 x 3 = 1050 liters were added. Therefore, the final amount of water in the tank is 500 + 1050 = 1550 liters.\n",
            "Answer: 1550\n",
            "\n",
            "---\n",
            "\n",
            "Question: Louise is baking cakes for a gathering. She needs 60 cakes in total, and has already produced half this many. Today, she calculates how many cakes she has left to make and bakes half this amount. The next day, she again calculates how many cakes she has left to make and bakes a third of this amount. How many more cakes does Louise need to bake?\n",
            "Reasoning: Let's think step by step in order to determine the number of cakes Louise still needs to bake. 1. **Initial cakes needed:** 60 cakes 2. **Cakes already baked:** 60 / 2 = 30 cakes 3. **Cakes left after day 1:** 60 - 30 = 30 cakes 4. **Cakes baked on day 2:** 30 / 2 = 15 cakes 5. **Cakes left after day 2:** 30 - 15 = 15 cakes 6. **Cakes baked on day 3:** 15 / 3 = 5 cakes 7. **Cakes still needed:** 15 - 5 = 10 cakes\n",
            "Answer: 10\n",
            "\n",
            "---\n",
            "\n",
            "Question: Kendra tracks the different species of birds they spot on their birdwatching trip. On Monday they visited 5 sites and saw an average of 7 birds at each site. On Tuesday, Kendra visited 5 sites and saw an average of 5 birds at each site. On Wednesday visited 10 sites and saw an average of 8 birds at each site. On average, how many different birds did Kendra see on each site?\n",
            "Reasoning: Let's think step by step in order to calculate the total number of birds seen and then divide by the total number of sites visited. **Step 1: Calculate total birds seen on Monday:** 5 sites x 7 birds/site = 35 birds **Step 2: Calculate total birds seen on Tuesday:** 5 sites x 5 birds/site = 25 birds **Step 3: Calculate total birds seen on Wednesday:** 10 sites x 8 birds/site = 80 birds **Step 4: Calculate total birds seen:** 35 + 25 + 80 = 140 birds **Step 5: Calculate total sites visited:** 5 + 5 + 10 = 20 sites **Step 6: Calculate average birds per site:** 140 birds / 20 sites = 7 birds/site\n",
            "Answer: 7\n",
            "\n",
            "---\n",
            "\n",
            "Question: Central Park had 8 more than half of the number of trash cans as in Veteran's Park. Then one night, someone took half of the trash cans from Central Park and put them in Veteran's Park. If originally there were 24 trash cans in Veteran's Park, how many trash cans are now in Veteran's Park?\n",
            "Reasoning: Let's think step by step in order to find the number of trash cans in Veteran's Park after the redistribution. 1. **Calculate half the number of trash cans in Veteran's Park:** 24 / 2 = 12 trash cans. 2. **Add 8 to represent the extra trash cans in Central Park:** 12 + 8 = 20 trash cans. 3. **Divide by 2 to find the number taken from Central Park:** 20 / 2 = 10 trash cans. 4. **Add the 10 trash cans to Veteran's Park:** 24 + 10 = 34 trash cans.\n",
            "Answer: 34\n",
            "\n",
            "---\n",
            "\n",
            "Question: Mr Julien's store has 400 marbles remaining after the previous day's sales. Twenty customers came into the store, and each bought 15 marbles. How many marbles remain in the store?\n",
            "Reasoning: Let's think step by step in order to determine the number of marbles remaining. First, we need to find the total number of marbles purchased by the customers by multiplying the number of customers by the number of marbles each bought: 20 customers x 15 marbles/customer = 300 marbles. Now, to find the remaining marbles, we subtract the purchased marbles from the initial amount: 400 marbles - 300 marbles = 100 marbles.\n",
            "Answer: 100\n",
            "\n",
            "---\n",
            "\n",
            "Question: The average score on last week's Spanish test was 90. Marco scored 10% less than the average test score and Margaret received 5 more points than Marco. What score did Margaret receive on her test?\n",
            "Reasoning: Let's think step by step in order to find Margaret's score. First, find Marco's score by subtracting 10% of the average from the average: 90 - (0.10 x 90) = 81. Now, add 5 points to Marco's score to find Margaret's score: 81 + 5 = 86.\n",
            "Answer: 86\n",
            "\n",
            "---\n",
            "\n",
            "Question: Nancy bought a pie sliced it into 8 pieces. She gave 1/2 to Joe and Darcy, and she gave 1/4 to Carl. How many slices were left?\n",
            "Reasoning: Let's think step by step in order to find out how many slices were left. First, let's find out how many slices Joe and Darcy received: 1/2 x 8 = 4 slices. Next, let's find out how many slices Carl received: 1/4 x 8 = 2 slices. Now, let's add the slices given away: 4 + 2 = 6 slices. Finally, subtract the slices given away from the total to find the remaining slices: 8 - 6 = 2 slices.\n",
            "Answer: 2\n",
            "\n",
            "---\n",
            "\n",
            "Question: When the water is cold Ray swims a mile in 16 minutes. When the water is warm Ray swims a mile in 2 minutes more than twice as long. How much longer does Ray take to swim 3 miles on a hot day than a cold day?\n",
            "Reasoning: Let's think step by step in order to\u001b[32mfind the difference in time it takes Ray to swim 3 miles on a hot day compared to a cold day. First, let's find out how long it takes Ray to swim a mile in warm water: 2 minutes + (2 x 16 minutes) = 34 minutes. Now, let's find out how long it takes Ray to swim 3 miles in warm water: 34 minutes x 3 = 102 minutes. Next, let's find out how long it takes Ray to swim 3 miles in cold water: 16 minutes x 3 = 48 minutes. Finally, let's find the difference in time: 102 minutes - 48 minutes = 54 minutes.\n",
            "Answer: 54\u001b[0m\n",
            "\n",
            "\n",
            "\n"
          ]
        }
      ],
      "source": [
        "dspy_gemini_pro.inspect_history(n=1)"
      ]
    },
    {
      "cell_type": "code",
      "execution_count": null,
      "metadata": {
        "id": "ES-BDbfAXe_g"
      },
      "outputs": [],
      "source": []
    }
  ],
  "metadata": {
    "kernelspec": {
      "display_name": "venv-ape",
      "language": "python",
      "name": "python3"
    },
    "language_info": {
      "codemirror_mode": {
        "name": "ipython",
        "version": 3
      },
      "file_extension": ".py",
      "mimetype": "text/x-python",
      "name": "python",
      "nbconvert_exporter": "python",
      "pygments_lexer": "ipython3",
      "version": "3.11.7"
    },
    "colab": {
      "provenance": []
    },
    "widgets": {
      "application/vnd.jupyter.widget-state+json": {
        "65155d97c1724b6cb8cb2dbcd1192822": {
          "model_module": "@jupyter-widgets/controls",
          "model_name": "HBoxModel",
          "model_module_version": "1.5.0",
          "state": {
            "_dom_classes": [],
            "_model_module": "@jupyter-widgets/controls",
            "_model_module_version": "1.5.0",
            "_model_name": "HBoxModel",
            "_view_count": null,
            "_view_module": "@jupyter-widgets/controls",
            "_view_module_version": "1.5.0",
            "_view_name": "HBoxView",
            "box_style": "",
            "children": [
              "IPY_MODEL_9470aed793f34e3c9b54c0e55520a2ae",
              "IPY_MODEL_67af8e567cc947979434f80abdd163a7",
              "IPY_MODEL_ffcd826f9f174777bc01e7b5f67ed63f"
            ],
            "layout": "IPY_MODEL_75aadd29532b43ce9f81e236f69d57b6"
          }
        },
        "9470aed793f34e3c9b54c0e55520a2ae": {
          "model_module": "@jupyter-widgets/controls",
          "model_name": "HTMLModel",
          "model_module_version": "1.5.0",
          "state": {
            "_dom_classes": [],
            "_model_module": "@jupyter-widgets/controls",
            "_model_module_version": "1.5.0",
            "_model_name": "HTMLModel",
            "_view_count": null,
            "_view_module": "@jupyter-widgets/controls",
            "_view_module_version": "1.5.0",
            "_view_name": "HTMLView",
            "description": "",
            "description_tooltip": null,
            "layout": "IPY_MODEL_d1c0abbb05164067960f94f288b3f313",
            "placeholder": "​",
            "style": "IPY_MODEL_6cb1413e612441859e2328d33a283e43",
            "value": "README.md: 100%"
          }
        },
        "67af8e567cc947979434f80abdd163a7": {
          "model_module": "@jupyter-widgets/controls",
          "model_name": "FloatProgressModel",
          "model_module_version": "1.5.0",
          "state": {
            "_dom_classes": [],
            "_model_module": "@jupyter-widgets/controls",
            "_model_module_version": "1.5.0",
            "_model_name": "FloatProgressModel",
            "_view_count": null,
            "_view_module": "@jupyter-widgets/controls",
            "_view_module_version": "1.5.0",
            "_view_name": "ProgressView",
            "bar_style": "success",
            "description": "",
            "description_tooltip": null,
            "layout": "IPY_MODEL_406bc2b20042486f9a6b80487ee0de9e",
            "max": 7940,
            "min": 0,
            "orientation": "horizontal",
            "style": "IPY_MODEL_6cfd609c2f2f458082aeb25e7bee4a89",
            "value": 7940
          }
        },
        "ffcd826f9f174777bc01e7b5f67ed63f": {
          "model_module": "@jupyter-widgets/controls",
          "model_name": "HTMLModel",
          "model_module_version": "1.5.0",
          "state": {
            "_dom_classes": [],
            "_model_module": "@jupyter-widgets/controls",
            "_model_module_version": "1.5.0",
            "_model_name": "HTMLModel",
            "_view_count": null,
            "_view_module": "@jupyter-widgets/controls",
            "_view_module_version": "1.5.0",
            "_view_name": "HTMLView",
            "description": "",
            "description_tooltip": null,
            "layout": "IPY_MODEL_eeb9c5df3ad44ada90e3a90756926157",
            "placeholder": "​",
            "style": "IPY_MODEL_62164b6df0d0496dbe105562d15acc18",
            "value": " 7.94k/7.94k [00:00&lt;00:00, 480kB/s]"
          }
        },
        "75aadd29532b43ce9f81e236f69d57b6": {
          "model_module": "@jupyter-widgets/base",
          "model_name": "LayoutModel",
          "model_module_version": "1.2.0",
          "state": {
            "_model_module": "@jupyter-widgets/base",
            "_model_module_version": "1.2.0",
            "_model_name": "LayoutModel",
            "_view_count": null,
            "_view_module": "@jupyter-widgets/base",
            "_view_module_version": "1.2.0",
            "_view_name": "LayoutView",
            "align_content": null,
            "align_items": null,
            "align_self": null,
            "border": null,
            "bottom": null,
            "display": null,
            "flex": null,
            "flex_flow": null,
            "grid_area": null,
            "grid_auto_columns": null,
            "grid_auto_flow": null,
            "grid_auto_rows": null,
            "grid_column": null,
            "grid_gap": null,
            "grid_row": null,
            "grid_template_areas": null,
            "grid_template_columns": null,
            "grid_template_rows": null,
            "height": null,
            "justify_content": null,
            "justify_items": null,
            "left": null,
            "margin": null,
            "max_height": null,
            "max_width": null,
            "min_height": null,
            "min_width": null,
            "object_fit": null,
            "object_position": null,
            "order": null,
            "overflow": null,
            "overflow_x": null,
            "overflow_y": null,
            "padding": null,
            "right": null,
            "top": null,
            "visibility": null,
            "width": null
          }
        },
        "d1c0abbb05164067960f94f288b3f313": {
          "model_module": "@jupyter-widgets/base",
          "model_name": "LayoutModel",
          "model_module_version": "1.2.0",
          "state": {
            "_model_module": "@jupyter-widgets/base",
            "_model_module_version": "1.2.0",
            "_model_name": "LayoutModel",
            "_view_count": null,
            "_view_module": "@jupyter-widgets/base",
            "_view_module_version": "1.2.0",
            "_view_name": "LayoutView",
            "align_content": null,
            "align_items": null,
            "align_self": null,
            "border": null,
            "bottom": null,
            "display": null,
            "flex": null,
            "flex_flow": null,
            "grid_area": null,
            "grid_auto_columns": null,
            "grid_auto_flow": null,
            "grid_auto_rows": null,
            "grid_column": null,
            "grid_gap": null,
            "grid_row": null,
            "grid_template_areas": null,
            "grid_template_columns": null,
            "grid_template_rows": null,
            "height": null,
            "justify_content": null,
            "justify_items": null,
            "left": null,
            "margin": null,
            "max_height": null,
            "max_width": null,
            "min_height": null,
            "min_width": null,
            "object_fit": null,
            "object_position": null,
            "order": null,
            "overflow": null,
            "overflow_x": null,
            "overflow_y": null,
            "padding": null,
            "right": null,
            "top": null,
            "visibility": null,
            "width": null
          }
        },
        "6cb1413e612441859e2328d33a283e43": {
          "model_module": "@jupyter-widgets/controls",
          "model_name": "DescriptionStyleModel",
          "model_module_version": "1.5.0",
          "state": {
            "_model_module": "@jupyter-widgets/controls",
            "_model_module_version": "1.5.0",
            "_model_name": "DescriptionStyleModel",
            "_view_count": null,
            "_view_module": "@jupyter-widgets/base",
            "_view_module_version": "1.2.0",
            "_view_name": "StyleView",
            "description_width": ""
          }
        },
        "406bc2b20042486f9a6b80487ee0de9e": {
          "model_module": "@jupyter-widgets/base",
          "model_name": "LayoutModel",
          "model_module_version": "1.2.0",
          "state": {
            "_model_module": "@jupyter-widgets/base",
            "_model_module_version": "1.2.0",
            "_model_name": "LayoutModel",
            "_view_count": null,
            "_view_module": "@jupyter-widgets/base",
            "_view_module_version": "1.2.0",
            "_view_name": "LayoutView",
            "align_content": null,
            "align_items": null,
            "align_self": null,
            "border": null,
            "bottom": null,
            "display": null,
            "flex": null,
            "flex_flow": null,
            "grid_area": null,
            "grid_auto_columns": null,
            "grid_auto_flow": null,
            "grid_auto_rows": null,
            "grid_column": null,
            "grid_gap": null,
            "grid_row": null,
            "grid_template_areas": null,
            "grid_template_columns": null,
            "grid_template_rows": null,
            "height": null,
            "justify_content": null,
            "justify_items": null,
            "left": null,
            "margin": null,
            "max_height": null,
            "max_width": null,
            "min_height": null,
            "min_width": null,
            "object_fit": null,
            "object_position": null,
            "order": null,
            "overflow": null,
            "overflow_x": null,
            "overflow_y": null,
            "padding": null,
            "right": null,
            "top": null,
            "visibility": null,
            "width": null
          }
        },
        "6cfd609c2f2f458082aeb25e7bee4a89": {
          "model_module": "@jupyter-widgets/controls",
          "model_name": "ProgressStyleModel",
          "model_module_version": "1.5.0",
          "state": {
            "_model_module": "@jupyter-widgets/controls",
            "_model_module_version": "1.5.0",
            "_model_name": "ProgressStyleModel",
            "_view_count": null,
            "_view_module": "@jupyter-widgets/base",
            "_view_module_version": "1.2.0",
            "_view_name": "StyleView",
            "bar_color": null,
            "description_width": ""
          }
        },
        "eeb9c5df3ad44ada90e3a90756926157": {
          "model_module": "@jupyter-widgets/base",
          "model_name": "LayoutModel",
          "model_module_version": "1.2.0",
          "state": {
            "_model_module": "@jupyter-widgets/base",
            "_model_module_version": "1.2.0",
            "_model_name": "LayoutModel",
            "_view_count": null,
            "_view_module": "@jupyter-widgets/base",
            "_view_module_version": "1.2.0",
            "_view_name": "LayoutView",
            "align_content": null,
            "align_items": null,
            "align_self": null,
            "border": null,
            "bottom": null,
            "display": null,
            "flex": null,
            "flex_flow": null,
            "grid_area": null,
            "grid_auto_columns": null,
            "grid_auto_flow": null,
            "grid_auto_rows": null,
            "grid_column": null,
            "grid_gap": null,
            "grid_row": null,
            "grid_template_areas": null,
            "grid_template_columns": null,
            "grid_template_rows": null,
            "height": null,
            "justify_content": null,
            "justify_items": null,
            "left": null,
            "margin": null,
            "max_height": null,
            "max_width": null,
            "min_height": null,
            "min_width": null,
            "object_fit": null,
            "object_position": null,
            "order": null,
            "overflow": null,
            "overflow_x": null,
            "overflow_y": null,
            "padding": null,
            "right": null,
            "top": null,
            "visibility": null,
            "width": null
          }
        },
        "62164b6df0d0496dbe105562d15acc18": {
          "model_module": "@jupyter-widgets/controls",
          "model_name": "DescriptionStyleModel",
          "model_module_version": "1.5.0",
          "state": {
            "_model_module": "@jupyter-widgets/controls",
            "_model_module_version": "1.5.0",
            "_model_name": "DescriptionStyleModel",
            "_view_count": null,
            "_view_module": "@jupyter-widgets/base",
            "_view_module_version": "1.2.0",
            "_view_name": "StyleView",
            "description_width": ""
          }
        },
        "77804216888b45978359cb9d6c980d13": {
          "model_module": "@jupyter-widgets/controls",
          "model_name": "HBoxModel",
          "model_module_version": "1.5.0",
          "state": {
            "_dom_classes": [],
            "_model_module": "@jupyter-widgets/controls",
            "_model_module_version": "1.5.0",
            "_model_name": "HBoxModel",
            "_view_count": null,
            "_view_module": "@jupyter-widgets/controls",
            "_view_module_version": "1.5.0",
            "_view_name": "HBoxView",
            "box_style": "",
            "children": [
              "IPY_MODEL_640842050fce4eb99214b4d1bcda884a",
              "IPY_MODEL_c6ea6150195e41499edd36e0a0c329ad",
              "IPY_MODEL_82bba70c2c154204b3ba9db3face89d3"
            ],
            "layout": "IPY_MODEL_cd4fd240c3804828b69fe66c482f0e64"
          }
        },
        "640842050fce4eb99214b4d1bcda884a": {
          "model_module": "@jupyter-widgets/controls",
          "model_name": "HTMLModel",
          "model_module_version": "1.5.0",
          "state": {
            "_dom_classes": [],
            "_model_module": "@jupyter-widgets/controls",
            "_model_module_version": "1.5.0",
            "_model_name": "HTMLModel",
            "_view_count": null,
            "_view_module": "@jupyter-widgets/controls",
            "_view_module_version": "1.5.0",
            "_view_name": "HTMLView",
            "description": "",
            "description_tooltip": null,
            "layout": "IPY_MODEL_d688eb0646224e2d965b88e64a560980",
            "placeholder": "​",
            "style": "IPY_MODEL_d1f8dffbd94e43149ed244ef0943ff82",
            "value": "train-00000-of-00001.parquet: 100%"
          }
        },
        "c6ea6150195e41499edd36e0a0c329ad": {
          "model_module": "@jupyter-widgets/controls",
          "model_name": "FloatProgressModel",
          "model_module_version": "1.5.0",
          "state": {
            "_dom_classes": [],
            "_model_module": "@jupyter-widgets/controls",
            "_model_module_version": "1.5.0",
            "_model_name": "FloatProgressModel",
            "_view_count": null,
            "_view_module": "@jupyter-widgets/controls",
            "_view_module_version": "1.5.0",
            "_view_name": "ProgressView",
            "bar_style": "success",
            "description": "",
            "description_tooltip": null,
            "layout": "IPY_MODEL_25afa9f0f9b040eca4fde2e08e3adb7c",
            "max": 2306545,
            "min": 0,
            "orientation": "horizontal",
            "style": "IPY_MODEL_8c2d6d2cdb8d4c1e8f4cea09e21f999d",
            "value": 2306545
          }
        },
        "82bba70c2c154204b3ba9db3face89d3": {
          "model_module": "@jupyter-widgets/controls",
          "model_name": "HTMLModel",
          "model_module_version": "1.5.0",
          "state": {
            "_dom_classes": [],
            "_model_module": "@jupyter-widgets/controls",
            "_model_module_version": "1.5.0",
            "_model_name": "HTMLModel",
            "_view_count": null,
            "_view_module": "@jupyter-widgets/controls",
            "_view_module_version": "1.5.0",
            "_view_name": "HTMLView",
            "description": "",
            "description_tooltip": null,
            "layout": "IPY_MODEL_0d1c2521e19a4dfda13015a127fadc82",
            "placeholder": "​",
            "style": "IPY_MODEL_6ce331e5967a43cd863d89229695ba73",
            "value": " 2.31M/2.31M [00:00&lt;00:00, 7.97MB/s]"
          }
        },
        "cd4fd240c3804828b69fe66c482f0e64": {
          "model_module": "@jupyter-widgets/base",
          "model_name": "LayoutModel",
          "model_module_version": "1.2.0",
          "state": {
            "_model_module": "@jupyter-widgets/base",
            "_model_module_version": "1.2.0",
            "_model_name": "LayoutModel",
            "_view_count": null,
            "_view_module": "@jupyter-widgets/base",
            "_view_module_version": "1.2.0",
            "_view_name": "LayoutView",
            "align_content": null,
            "align_items": null,
            "align_self": null,
            "border": null,
            "bottom": null,
            "display": null,
            "flex": null,
            "flex_flow": null,
            "grid_area": null,
            "grid_auto_columns": null,
            "grid_auto_flow": null,
            "grid_auto_rows": null,
            "grid_column": null,
            "grid_gap": null,
            "grid_row": null,
            "grid_template_areas": null,
            "grid_template_columns": null,
            "grid_template_rows": null,
            "height": null,
            "justify_content": null,
            "justify_items": null,
            "left": null,
            "margin": null,
            "max_height": null,
            "max_width": null,
            "min_height": null,
            "min_width": null,
            "object_fit": null,
            "object_position": null,
            "order": null,
            "overflow": null,
            "overflow_x": null,
            "overflow_y": null,
            "padding": null,
            "right": null,
            "top": null,
            "visibility": null,
            "width": null
          }
        },
        "d688eb0646224e2d965b88e64a560980": {
          "model_module": "@jupyter-widgets/base",
          "model_name": "LayoutModel",
          "model_module_version": "1.2.0",
          "state": {
            "_model_module": "@jupyter-widgets/base",
            "_model_module_version": "1.2.0",
            "_model_name": "LayoutModel",
            "_view_count": null,
            "_view_module": "@jupyter-widgets/base",
            "_view_module_version": "1.2.0",
            "_view_name": "LayoutView",
            "align_content": null,
            "align_items": null,
            "align_self": null,
            "border": null,
            "bottom": null,
            "display": null,
            "flex": null,
            "flex_flow": null,
            "grid_area": null,
            "grid_auto_columns": null,
            "grid_auto_flow": null,
            "grid_auto_rows": null,
            "grid_column": null,
            "grid_gap": null,
            "grid_row": null,
            "grid_template_areas": null,
            "grid_template_columns": null,
            "grid_template_rows": null,
            "height": null,
            "justify_content": null,
            "justify_items": null,
            "left": null,
            "margin": null,
            "max_height": null,
            "max_width": null,
            "min_height": null,
            "min_width": null,
            "object_fit": null,
            "object_position": null,
            "order": null,
            "overflow": null,
            "overflow_x": null,
            "overflow_y": null,
            "padding": null,
            "right": null,
            "top": null,
            "visibility": null,
            "width": null
          }
        },
        "d1f8dffbd94e43149ed244ef0943ff82": {
          "model_module": "@jupyter-widgets/controls",
          "model_name": "DescriptionStyleModel",
          "model_module_version": "1.5.0",
          "state": {
            "_model_module": "@jupyter-widgets/controls",
            "_model_module_version": "1.5.0",
            "_model_name": "DescriptionStyleModel",
            "_view_count": null,
            "_view_module": "@jupyter-widgets/base",
            "_view_module_version": "1.2.0",
            "_view_name": "StyleView",
            "description_width": ""
          }
        },
        "25afa9f0f9b040eca4fde2e08e3adb7c": {
          "model_module": "@jupyter-widgets/base",
          "model_name": "LayoutModel",
          "model_module_version": "1.2.0",
          "state": {
            "_model_module": "@jupyter-widgets/base",
            "_model_module_version": "1.2.0",
            "_model_name": "LayoutModel",
            "_view_count": null,
            "_view_module": "@jupyter-widgets/base",
            "_view_module_version": "1.2.0",
            "_view_name": "LayoutView",
            "align_content": null,
            "align_items": null,
            "align_self": null,
            "border": null,
            "bottom": null,
            "display": null,
            "flex": null,
            "flex_flow": null,
            "grid_area": null,
            "grid_auto_columns": null,
            "grid_auto_flow": null,
            "grid_auto_rows": null,
            "grid_column": null,
            "grid_gap": null,
            "grid_row": null,
            "grid_template_areas": null,
            "grid_template_columns": null,
            "grid_template_rows": null,
            "height": null,
            "justify_content": null,
            "justify_items": null,
            "left": null,
            "margin": null,
            "max_height": null,
            "max_width": null,
            "min_height": null,
            "min_width": null,
            "object_fit": null,
            "object_position": null,
            "order": null,
            "overflow": null,
            "overflow_x": null,
            "overflow_y": null,
            "padding": null,
            "right": null,
            "top": null,
            "visibility": null,
            "width": null
          }
        },
        "8c2d6d2cdb8d4c1e8f4cea09e21f999d": {
          "model_module": "@jupyter-widgets/controls",
          "model_name": "ProgressStyleModel",
          "model_module_version": "1.5.0",
          "state": {
            "_model_module": "@jupyter-widgets/controls",
            "_model_module_version": "1.5.0",
            "_model_name": "ProgressStyleModel",
            "_view_count": null,
            "_view_module": "@jupyter-widgets/base",
            "_view_module_version": "1.2.0",
            "_view_name": "StyleView",
            "bar_color": null,
            "description_width": ""
          }
        },
        "0d1c2521e19a4dfda13015a127fadc82": {
          "model_module": "@jupyter-widgets/base",
          "model_name": "LayoutModel",
          "model_module_version": "1.2.0",
          "state": {
            "_model_module": "@jupyter-widgets/base",
            "_model_module_version": "1.2.0",
            "_model_name": "LayoutModel",
            "_view_count": null,
            "_view_module": "@jupyter-widgets/base",
            "_view_module_version": "1.2.0",
            "_view_name": "LayoutView",
            "align_content": null,
            "align_items": null,
            "align_self": null,
            "border": null,
            "bottom": null,
            "display": null,
            "flex": null,
            "flex_flow": null,
            "grid_area": null,
            "grid_auto_columns": null,
            "grid_auto_flow": null,
            "grid_auto_rows": null,
            "grid_column": null,
            "grid_gap": null,
            "grid_row": null,
            "grid_template_areas": null,
            "grid_template_columns": null,
            "grid_template_rows": null,
            "height": null,
            "justify_content": null,
            "justify_items": null,
            "left": null,
            "margin": null,
            "max_height": null,
            "max_width": null,
            "min_height": null,
            "min_width": null,
            "object_fit": null,
            "object_position": null,
            "order": null,
            "overflow": null,
            "overflow_x": null,
            "overflow_y": null,
            "padding": null,
            "right": null,
            "top": null,
            "visibility": null,
            "width": null
          }
        },
        "6ce331e5967a43cd863d89229695ba73": {
          "model_module": "@jupyter-widgets/controls",
          "model_name": "DescriptionStyleModel",
          "model_module_version": "1.5.0",
          "state": {
            "_model_module": "@jupyter-widgets/controls",
            "_model_module_version": "1.5.0",
            "_model_name": "DescriptionStyleModel",
            "_view_count": null,
            "_view_module": "@jupyter-widgets/base",
            "_view_module_version": "1.2.0",
            "_view_name": "StyleView",
            "description_width": ""
          }
        },
        "0a7be2ac30084006b779cae025b6f948": {
          "model_module": "@jupyter-widgets/controls",
          "model_name": "HBoxModel",
          "model_module_version": "1.5.0",
          "state": {
            "_dom_classes": [],
            "_model_module": "@jupyter-widgets/controls",
            "_model_module_version": "1.5.0",
            "_model_name": "HBoxModel",
            "_view_count": null,
            "_view_module": "@jupyter-widgets/controls",
            "_view_module_version": "1.5.0",
            "_view_name": "HBoxView",
            "box_style": "",
            "children": [
              "IPY_MODEL_76540cfe8b4e43509c2254853117fdb4",
              "IPY_MODEL_6346dda6f7834e9faf41652ee9c19961",
              "IPY_MODEL_263329b8c18249a1a5bdf053c038fe4d"
            ],
            "layout": "IPY_MODEL_59a955f309154ca39162ecf9d10b0e2b"
          }
        },
        "76540cfe8b4e43509c2254853117fdb4": {
          "model_module": "@jupyter-widgets/controls",
          "model_name": "HTMLModel",
          "model_module_version": "1.5.0",
          "state": {
            "_dom_classes": [],
            "_model_module": "@jupyter-widgets/controls",
            "_model_module_version": "1.5.0",
            "_model_name": "HTMLModel",
            "_view_count": null,
            "_view_module": "@jupyter-widgets/controls",
            "_view_module_version": "1.5.0",
            "_view_name": "HTMLView",
            "description": "",
            "description_tooltip": null,
            "layout": "IPY_MODEL_3ac3cae6eb42430c8994f50ae12be074",
            "placeholder": "​",
            "style": "IPY_MODEL_365d2e7f71a341b4aaec57dbc1d08474",
            "value": "test-00000-of-00001.parquet: 100%"
          }
        },
        "6346dda6f7834e9faf41652ee9c19961": {
          "model_module": "@jupyter-widgets/controls",
          "model_name": "FloatProgressModel",
          "model_module_version": "1.5.0",
          "state": {
            "_dom_classes": [],
            "_model_module": "@jupyter-widgets/controls",
            "_model_module_version": "1.5.0",
            "_model_name": "FloatProgressModel",
            "_view_count": null,
            "_view_module": "@jupyter-widgets/controls",
            "_view_module_version": "1.5.0",
            "_view_name": "ProgressView",
            "bar_style": "success",
            "description": "",
            "description_tooltip": null,
            "layout": "IPY_MODEL_85471943fc4f4b8794fe754840712e81",
            "max": 419088,
            "min": 0,
            "orientation": "horizontal",
            "style": "IPY_MODEL_ddf913bd0d874288bbf2c10d5a1ffdda",
            "value": 419088
          }
        },
        "263329b8c18249a1a5bdf053c038fe4d": {
          "model_module": "@jupyter-widgets/controls",
          "model_name": "HTMLModel",
          "model_module_version": "1.5.0",
          "state": {
            "_dom_classes": [],
            "_model_module": "@jupyter-widgets/controls",
            "_model_module_version": "1.5.0",
            "_model_name": "HTMLModel",
            "_view_count": null,
            "_view_module": "@jupyter-widgets/controls",
            "_view_module_version": "1.5.0",
            "_view_name": "HTMLView",
            "description": "",
            "description_tooltip": null,
            "layout": "IPY_MODEL_642a00fd154e4ae0a4fb75d6f982f827",
            "placeholder": "​",
            "style": "IPY_MODEL_f6ae15fb279a43dda504bf2ae10fb3fa",
            "value": " 419k/419k [00:00&lt;00:00, 21.1MB/s]"
          }
        },
        "59a955f309154ca39162ecf9d10b0e2b": {
          "model_module": "@jupyter-widgets/base",
          "model_name": "LayoutModel",
          "model_module_version": "1.2.0",
          "state": {
            "_model_module": "@jupyter-widgets/base",
            "_model_module_version": "1.2.0",
            "_model_name": "LayoutModel",
            "_view_count": null,
            "_view_module": "@jupyter-widgets/base",
            "_view_module_version": "1.2.0",
            "_view_name": "LayoutView",
            "align_content": null,
            "align_items": null,
            "align_self": null,
            "border": null,
            "bottom": null,
            "display": null,
            "flex": null,
            "flex_flow": null,
            "grid_area": null,
            "grid_auto_columns": null,
            "grid_auto_flow": null,
            "grid_auto_rows": null,
            "grid_column": null,
            "grid_gap": null,
            "grid_row": null,
            "grid_template_areas": null,
            "grid_template_columns": null,
            "grid_template_rows": null,
            "height": null,
            "justify_content": null,
            "justify_items": null,
            "left": null,
            "margin": null,
            "max_height": null,
            "max_width": null,
            "min_height": null,
            "min_width": null,
            "object_fit": null,
            "object_position": null,
            "order": null,
            "overflow": null,
            "overflow_x": null,
            "overflow_y": null,
            "padding": null,
            "right": null,
            "top": null,
            "visibility": null,
            "width": null
          }
        },
        "3ac3cae6eb42430c8994f50ae12be074": {
          "model_module": "@jupyter-widgets/base",
          "model_name": "LayoutModel",
          "model_module_version": "1.2.0",
          "state": {
            "_model_module": "@jupyter-widgets/base",
            "_model_module_version": "1.2.0",
            "_model_name": "LayoutModel",
            "_view_count": null,
            "_view_module": "@jupyter-widgets/base",
            "_view_module_version": "1.2.0",
            "_view_name": "LayoutView",
            "align_content": null,
            "align_items": null,
            "align_self": null,
            "border": null,
            "bottom": null,
            "display": null,
            "flex": null,
            "flex_flow": null,
            "grid_area": null,
            "grid_auto_columns": null,
            "grid_auto_flow": null,
            "grid_auto_rows": null,
            "grid_column": null,
            "grid_gap": null,
            "grid_row": null,
            "grid_template_areas": null,
            "grid_template_columns": null,
            "grid_template_rows": null,
            "height": null,
            "justify_content": null,
            "justify_items": null,
            "left": null,
            "margin": null,
            "max_height": null,
            "max_width": null,
            "min_height": null,
            "min_width": null,
            "object_fit": null,
            "object_position": null,
            "order": null,
            "overflow": null,
            "overflow_x": null,
            "overflow_y": null,
            "padding": null,
            "right": null,
            "top": null,
            "visibility": null,
            "width": null
          }
        },
        "365d2e7f71a341b4aaec57dbc1d08474": {
          "model_module": "@jupyter-widgets/controls",
          "model_name": "DescriptionStyleModel",
          "model_module_version": "1.5.0",
          "state": {
            "_model_module": "@jupyter-widgets/controls",
            "_model_module_version": "1.5.0",
            "_model_name": "DescriptionStyleModel",
            "_view_count": null,
            "_view_module": "@jupyter-widgets/base",
            "_view_module_version": "1.2.0",
            "_view_name": "StyleView",
            "description_width": ""
          }
        },
        "85471943fc4f4b8794fe754840712e81": {
          "model_module": "@jupyter-widgets/base",
          "model_name": "LayoutModel",
          "model_module_version": "1.2.0",
          "state": {
            "_model_module": "@jupyter-widgets/base",
            "_model_module_version": "1.2.0",
            "_model_name": "LayoutModel",
            "_view_count": null,
            "_view_module": "@jupyter-widgets/base",
            "_view_module_version": "1.2.0",
            "_view_name": "LayoutView",
            "align_content": null,
            "align_items": null,
            "align_self": null,
            "border": null,
            "bottom": null,
            "display": null,
            "flex": null,
            "flex_flow": null,
            "grid_area": null,
            "grid_auto_columns": null,
            "grid_auto_flow": null,
            "grid_auto_rows": null,
            "grid_column": null,
            "grid_gap": null,
            "grid_row": null,
            "grid_template_areas": null,
            "grid_template_columns": null,
            "grid_template_rows": null,
            "height": null,
            "justify_content": null,
            "justify_items": null,
            "left": null,
            "margin": null,
            "max_height": null,
            "max_width": null,
            "min_height": null,
            "min_width": null,
            "object_fit": null,
            "object_position": null,
            "order": null,
            "overflow": null,
            "overflow_x": null,
            "overflow_y": null,
            "padding": null,
            "right": null,
            "top": null,
            "visibility": null,
            "width": null
          }
        },
        "ddf913bd0d874288bbf2c10d5a1ffdda": {
          "model_module": "@jupyter-widgets/controls",
          "model_name": "ProgressStyleModel",
          "model_module_version": "1.5.0",
          "state": {
            "_model_module": "@jupyter-widgets/controls",
            "_model_module_version": "1.5.0",
            "_model_name": "ProgressStyleModel",
            "_view_count": null,
            "_view_module": "@jupyter-widgets/base",
            "_view_module_version": "1.2.0",
            "_view_name": "StyleView",
            "bar_color": null,
            "description_width": ""
          }
        },
        "642a00fd154e4ae0a4fb75d6f982f827": {
          "model_module": "@jupyter-widgets/base",
          "model_name": "LayoutModel",
          "model_module_version": "1.2.0",
          "state": {
            "_model_module": "@jupyter-widgets/base",
            "_model_module_version": "1.2.0",
            "_model_name": "LayoutModel",
            "_view_count": null,
            "_view_module": "@jupyter-widgets/base",
            "_view_module_version": "1.2.0",
            "_view_name": "LayoutView",
            "align_content": null,
            "align_items": null,
            "align_self": null,
            "border": null,
            "bottom": null,
            "display": null,
            "flex": null,
            "flex_flow": null,
            "grid_area": null,
            "grid_auto_columns": null,
            "grid_auto_flow": null,
            "grid_auto_rows": null,
            "grid_column": null,
            "grid_gap": null,
            "grid_row": null,
            "grid_template_areas": null,
            "grid_template_columns": null,
            "grid_template_rows": null,
            "height": null,
            "justify_content": null,
            "justify_items": null,
            "left": null,
            "margin": null,
            "max_height": null,
            "max_width": null,
            "min_height": null,
            "min_width": null,
            "object_fit": null,
            "object_position": null,
            "order": null,
            "overflow": null,
            "overflow_x": null,
            "overflow_y": null,
            "padding": null,
            "right": null,
            "top": null,
            "visibility": null,
            "width": null
          }
        },
        "f6ae15fb279a43dda504bf2ae10fb3fa": {
          "model_module": "@jupyter-widgets/controls",
          "model_name": "DescriptionStyleModel",
          "model_module_version": "1.5.0",
          "state": {
            "_model_module": "@jupyter-widgets/controls",
            "_model_module_version": "1.5.0",
            "_model_name": "DescriptionStyleModel",
            "_view_count": null,
            "_view_module": "@jupyter-widgets/base",
            "_view_module_version": "1.2.0",
            "_view_name": "StyleView",
            "description_width": ""
          }
        },
        "5b5e1c40bb694198a9efad2b0b81acaf": {
          "model_module": "@jupyter-widgets/controls",
          "model_name": "HBoxModel",
          "model_module_version": "1.5.0",
          "state": {
            "_dom_classes": [],
            "_model_module": "@jupyter-widgets/controls",
            "_model_module_version": "1.5.0",
            "_model_name": "HBoxModel",
            "_view_count": null,
            "_view_module": "@jupyter-widgets/controls",
            "_view_module_version": "1.5.0",
            "_view_name": "HBoxView",
            "box_style": "",
            "children": [
              "IPY_MODEL_45fe24e36d534af48aad23c267e5f5a0",
              "IPY_MODEL_906e6472fd2b4288bc21c5fe72a94711",
              "IPY_MODEL_c4e15a36a73c40508376026ecabd63de"
            ],
            "layout": "IPY_MODEL_fcaa623e786b4ba28268c9a49a6fbd48"
          }
        },
        "45fe24e36d534af48aad23c267e5f5a0": {
          "model_module": "@jupyter-widgets/controls",
          "model_name": "HTMLModel",
          "model_module_version": "1.5.0",
          "state": {
            "_dom_classes": [],
            "_model_module": "@jupyter-widgets/controls",
            "_model_module_version": "1.5.0",
            "_model_name": "HTMLModel",
            "_view_count": null,
            "_view_module": "@jupyter-widgets/controls",
            "_view_module_version": "1.5.0",
            "_view_name": "HTMLView",
            "description": "",
            "description_tooltip": null,
            "layout": "IPY_MODEL_03c490009d18425199d7df5155f0830d",
            "placeholder": "​",
            "style": "IPY_MODEL_663da821cd4848bbb1e511902d4e3253",
            "value": "Generating train split: 100%"
          }
        },
        "906e6472fd2b4288bc21c5fe72a94711": {
          "model_module": "@jupyter-widgets/controls",
          "model_name": "FloatProgressModel",
          "model_module_version": "1.5.0",
          "state": {
            "_dom_classes": [],
            "_model_module": "@jupyter-widgets/controls",
            "_model_module_version": "1.5.0",
            "_model_name": "FloatProgressModel",
            "_view_count": null,
            "_view_module": "@jupyter-widgets/controls",
            "_view_module_version": "1.5.0",
            "_view_name": "ProgressView",
            "bar_style": "success",
            "description": "",
            "description_tooltip": null,
            "layout": "IPY_MODEL_369419bdd4874f428bcdd11ab3282e5e",
            "max": 7473,
            "min": 0,
            "orientation": "horizontal",
            "style": "IPY_MODEL_e0f4a18492c842809cb317ca9752b807",
            "value": 7473
          }
        },
        "c4e15a36a73c40508376026ecabd63de": {
          "model_module": "@jupyter-widgets/controls",
          "model_name": "HTMLModel",
          "model_module_version": "1.5.0",
          "state": {
            "_dom_classes": [],
            "_model_module": "@jupyter-widgets/controls",
            "_model_module_version": "1.5.0",
            "_model_name": "HTMLModel",
            "_view_count": null,
            "_view_module": "@jupyter-widgets/controls",
            "_view_module_version": "1.5.0",
            "_view_name": "HTMLView",
            "description": "",
            "description_tooltip": null,
            "layout": "IPY_MODEL_59bcee03d8354a158c9a1e006ca432cf",
            "placeholder": "​",
            "style": "IPY_MODEL_b385ba8342544ea0861a0442d9dd18bc",
            "value": " 7473/7473 [00:00&lt;00:00, 58316.22 examples/s]"
          }
        },
        "fcaa623e786b4ba28268c9a49a6fbd48": {
          "model_module": "@jupyter-widgets/base",
          "model_name": "LayoutModel",
          "model_module_version": "1.2.0",
          "state": {
            "_model_module": "@jupyter-widgets/base",
            "_model_module_version": "1.2.0",
            "_model_name": "LayoutModel",
            "_view_count": null,
            "_view_module": "@jupyter-widgets/base",
            "_view_module_version": "1.2.0",
            "_view_name": "LayoutView",
            "align_content": null,
            "align_items": null,
            "align_self": null,
            "border": null,
            "bottom": null,
            "display": null,
            "flex": null,
            "flex_flow": null,
            "grid_area": null,
            "grid_auto_columns": null,
            "grid_auto_flow": null,
            "grid_auto_rows": null,
            "grid_column": null,
            "grid_gap": null,
            "grid_row": null,
            "grid_template_areas": null,
            "grid_template_columns": null,
            "grid_template_rows": null,
            "height": null,
            "justify_content": null,
            "justify_items": null,
            "left": null,
            "margin": null,
            "max_height": null,
            "max_width": null,
            "min_height": null,
            "min_width": null,
            "object_fit": null,
            "object_position": null,
            "order": null,
            "overflow": null,
            "overflow_x": null,
            "overflow_y": null,
            "padding": null,
            "right": null,
            "top": null,
            "visibility": null,
            "width": null
          }
        },
        "03c490009d18425199d7df5155f0830d": {
          "model_module": "@jupyter-widgets/base",
          "model_name": "LayoutModel",
          "model_module_version": "1.2.0",
          "state": {
            "_model_module": "@jupyter-widgets/base",
            "_model_module_version": "1.2.0",
            "_model_name": "LayoutModel",
            "_view_count": null,
            "_view_module": "@jupyter-widgets/base",
            "_view_module_version": "1.2.0",
            "_view_name": "LayoutView",
            "align_content": null,
            "align_items": null,
            "align_self": null,
            "border": null,
            "bottom": null,
            "display": null,
            "flex": null,
            "flex_flow": null,
            "grid_area": null,
            "grid_auto_columns": null,
            "grid_auto_flow": null,
            "grid_auto_rows": null,
            "grid_column": null,
            "grid_gap": null,
            "grid_row": null,
            "grid_template_areas": null,
            "grid_template_columns": null,
            "grid_template_rows": null,
            "height": null,
            "justify_content": null,
            "justify_items": null,
            "left": null,
            "margin": null,
            "max_height": null,
            "max_width": null,
            "min_height": null,
            "min_width": null,
            "object_fit": null,
            "object_position": null,
            "order": null,
            "overflow": null,
            "overflow_x": null,
            "overflow_y": null,
            "padding": null,
            "right": null,
            "top": null,
            "visibility": null,
            "width": null
          }
        },
        "663da821cd4848bbb1e511902d4e3253": {
          "model_module": "@jupyter-widgets/controls",
          "model_name": "DescriptionStyleModel",
          "model_module_version": "1.5.0",
          "state": {
            "_model_module": "@jupyter-widgets/controls",
            "_model_module_version": "1.5.0",
            "_model_name": "DescriptionStyleModel",
            "_view_count": null,
            "_view_module": "@jupyter-widgets/base",
            "_view_module_version": "1.2.0",
            "_view_name": "StyleView",
            "description_width": ""
          }
        },
        "369419bdd4874f428bcdd11ab3282e5e": {
          "model_module": "@jupyter-widgets/base",
          "model_name": "LayoutModel",
          "model_module_version": "1.2.0",
          "state": {
            "_model_module": "@jupyter-widgets/base",
            "_model_module_version": "1.2.0",
            "_model_name": "LayoutModel",
            "_view_count": null,
            "_view_module": "@jupyter-widgets/base",
            "_view_module_version": "1.2.0",
            "_view_name": "LayoutView",
            "align_content": null,
            "align_items": null,
            "align_self": null,
            "border": null,
            "bottom": null,
            "display": null,
            "flex": null,
            "flex_flow": null,
            "grid_area": null,
            "grid_auto_columns": null,
            "grid_auto_flow": null,
            "grid_auto_rows": null,
            "grid_column": null,
            "grid_gap": null,
            "grid_row": null,
            "grid_template_areas": null,
            "grid_template_columns": null,
            "grid_template_rows": null,
            "height": null,
            "justify_content": null,
            "justify_items": null,
            "left": null,
            "margin": null,
            "max_height": null,
            "max_width": null,
            "min_height": null,
            "min_width": null,
            "object_fit": null,
            "object_position": null,
            "order": null,
            "overflow": null,
            "overflow_x": null,
            "overflow_y": null,
            "padding": null,
            "right": null,
            "top": null,
            "visibility": null,
            "width": null
          }
        },
        "e0f4a18492c842809cb317ca9752b807": {
          "model_module": "@jupyter-widgets/controls",
          "model_name": "ProgressStyleModel",
          "model_module_version": "1.5.0",
          "state": {
            "_model_module": "@jupyter-widgets/controls",
            "_model_module_version": "1.5.0",
            "_model_name": "ProgressStyleModel",
            "_view_count": null,
            "_view_module": "@jupyter-widgets/base",
            "_view_module_version": "1.2.0",
            "_view_name": "StyleView",
            "bar_color": null,
            "description_width": ""
          }
        },
        "59bcee03d8354a158c9a1e006ca432cf": {
          "model_module": "@jupyter-widgets/base",
          "model_name": "LayoutModel",
          "model_module_version": "1.2.0",
          "state": {
            "_model_module": "@jupyter-widgets/base",
            "_model_module_version": "1.2.0",
            "_model_name": "LayoutModel",
            "_view_count": null,
            "_view_module": "@jupyter-widgets/base",
            "_view_module_version": "1.2.0",
            "_view_name": "LayoutView",
            "align_content": null,
            "align_items": null,
            "align_self": null,
            "border": null,
            "bottom": null,
            "display": null,
            "flex": null,
            "flex_flow": null,
            "grid_area": null,
            "grid_auto_columns": null,
            "grid_auto_flow": null,
            "grid_auto_rows": null,
            "grid_column": null,
            "grid_gap": null,
            "grid_row": null,
            "grid_template_areas": null,
            "grid_template_columns": null,
            "grid_template_rows": null,
            "height": null,
            "justify_content": null,
            "justify_items": null,
            "left": null,
            "margin": null,
            "max_height": null,
            "max_width": null,
            "min_height": null,
            "min_width": null,
            "object_fit": null,
            "object_position": null,
            "order": null,
            "overflow": null,
            "overflow_x": null,
            "overflow_y": null,
            "padding": null,
            "right": null,
            "top": null,
            "visibility": null,
            "width": null
          }
        },
        "b385ba8342544ea0861a0442d9dd18bc": {
          "model_module": "@jupyter-widgets/controls",
          "model_name": "DescriptionStyleModel",
          "model_module_version": "1.5.0",
          "state": {
            "_model_module": "@jupyter-widgets/controls",
            "_model_module_version": "1.5.0",
            "_model_name": "DescriptionStyleModel",
            "_view_count": null,
            "_view_module": "@jupyter-widgets/base",
            "_view_module_version": "1.2.0",
            "_view_name": "StyleView",
            "description_width": ""
          }
        },
        "945d2b1077f54700957fbc01edb16e0f": {
          "model_module": "@jupyter-widgets/controls",
          "model_name": "HBoxModel",
          "model_module_version": "1.5.0",
          "state": {
            "_dom_classes": [],
            "_model_module": "@jupyter-widgets/controls",
            "_model_module_version": "1.5.0",
            "_model_name": "HBoxModel",
            "_view_count": null,
            "_view_module": "@jupyter-widgets/controls",
            "_view_module_version": "1.5.0",
            "_view_name": "HBoxView",
            "box_style": "",
            "children": [
              "IPY_MODEL_9602248e5b12402d8444dd9a071879ae",
              "IPY_MODEL_54cdc31844684b47a54ca001d7e92579",
              "IPY_MODEL_2763ee415ca24e98b6de62c98b099599"
            ],
            "layout": "IPY_MODEL_2a7216ba53ca42128b0f84f2edfc7ae9"
          }
        },
        "9602248e5b12402d8444dd9a071879ae": {
          "model_module": "@jupyter-widgets/controls",
          "model_name": "HTMLModel",
          "model_module_version": "1.5.0",
          "state": {
            "_dom_classes": [],
            "_model_module": "@jupyter-widgets/controls",
            "_model_module_version": "1.5.0",
            "_model_name": "HTMLModel",
            "_view_count": null,
            "_view_module": "@jupyter-widgets/controls",
            "_view_module_version": "1.5.0",
            "_view_name": "HTMLView",
            "description": "",
            "description_tooltip": null,
            "layout": "IPY_MODEL_75965044cd974511a5fdf2f99f217697",
            "placeholder": "​",
            "style": "IPY_MODEL_fd4313ed607741099eba35562fdf5443",
            "value": "Generating test split: 100%"
          }
        },
        "54cdc31844684b47a54ca001d7e92579": {
          "model_module": "@jupyter-widgets/controls",
          "model_name": "FloatProgressModel",
          "model_module_version": "1.5.0",
          "state": {
            "_dom_classes": [],
            "_model_module": "@jupyter-widgets/controls",
            "_model_module_version": "1.5.0",
            "_model_name": "FloatProgressModel",
            "_view_count": null,
            "_view_module": "@jupyter-widgets/controls",
            "_view_module_version": "1.5.0",
            "_view_name": "ProgressView",
            "bar_style": "success",
            "description": "",
            "description_tooltip": null,
            "layout": "IPY_MODEL_b7e26e310a6a4fd8b90bcb9441acc51a",
            "max": 1319,
            "min": 0,
            "orientation": "horizontal",
            "style": "IPY_MODEL_f5c1cce279864ac290c8a35698486faf",
            "value": 1319
          }
        },
        "2763ee415ca24e98b6de62c98b099599": {
          "model_module": "@jupyter-widgets/controls",
          "model_name": "HTMLModel",
          "model_module_version": "1.5.0",
          "state": {
            "_dom_classes": [],
            "_model_module": "@jupyter-widgets/controls",
            "_model_module_version": "1.5.0",
            "_model_name": "HTMLModel",
            "_view_count": null,
            "_view_module": "@jupyter-widgets/controls",
            "_view_module_version": "1.5.0",
            "_view_name": "HTMLView",
            "description": "",
            "description_tooltip": null,
            "layout": "IPY_MODEL_c65a080921b34acb8a2064a6b34f023c",
            "placeholder": "​",
            "style": "IPY_MODEL_8b2483054adf45558f3bc7e7e7da7e42",
            "value": " 1319/1319 [00:00&lt;00:00, 42812.60 examples/s]"
          }
        },
        "2a7216ba53ca42128b0f84f2edfc7ae9": {
          "model_module": "@jupyter-widgets/base",
          "model_name": "LayoutModel",
          "model_module_version": "1.2.0",
          "state": {
            "_model_module": "@jupyter-widgets/base",
            "_model_module_version": "1.2.0",
            "_model_name": "LayoutModel",
            "_view_count": null,
            "_view_module": "@jupyter-widgets/base",
            "_view_module_version": "1.2.0",
            "_view_name": "LayoutView",
            "align_content": null,
            "align_items": null,
            "align_self": null,
            "border": null,
            "bottom": null,
            "display": null,
            "flex": null,
            "flex_flow": null,
            "grid_area": null,
            "grid_auto_columns": null,
            "grid_auto_flow": null,
            "grid_auto_rows": null,
            "grid_column": null,
            "grid_gap": null,
            "grid_row": null,
            "grid_template_areas": null,
            "grid_template_columns": null,
            "grid_template_rows": null,
            "height": null,
            "justify_content": null,
            "justify_items": null,
            "left": null,
            "margin": null,
            "max_height": null,
            "max_width": null,
            "min_height": null,
            "min_width": null,
            "object_fit": null,
            "object_position": null,
            "order": null,
            "overflow": null,
            "overflow_x": null,
            "overflow_y": null,
            "padding": null,
            "right": null,
            "top": null,
            "visibility": null,
            "width": null
          }
        },
        "75965044cd974511a5fdf2f99f217697": {
          "model_module": "@jupyter-widgets/base",
          "model_name": "LayoutModel",
          "model_module_version": "1.2.0",
          "state": {
            "_model_module": "@jupyter-widgets/base",
            "_model_module_version": "1.2.0",
            "_model_name": "LayoutModel",
            "_view_count": null,
            "_view_module": "@jupyter-widgets/base",
            "_view_module_version": "1.2.0",
            "_view_name": "LayoutView",
            "align_content": null,
            "align_items": null,
            "align_self": null,
            "border": null,
            "bottom": null,
            "display": null,
            "flex": null,
            "flex_flow": null,
            "grid_area": null,
            "grid_auto_columns": null,
            "grid_auto_flow": null,
            "grid_auto_rows": null,
            "grid_column": null,
            "grid_gap": null,
            "grid_row": null,
            "grid_template_areas": null,
            "grid_template_columns": null,
            "grid_template_rows": null,
            "height": null,
            "justify_content": null,
            "justify_items": null,
            "left": null,
            "margin": null,
            "max_height": null,
            "max_width": null,
            "min_height": null,
            "min_width": null,
            "object_fit": null,
            "object_position": null,
            "order": null,
            "overflow": null,
            "overflow_x": null,
            "overflow_y": null,
            "padding": null,
            "right": null,
            "top": null,
            "visibility": null,
            "width": null
          }
        },
        "fd4313ed607741099eba35562fdf5443": {
          "model_module": "@jupyter-widgets/controls",
          "model_name": "DescriptionStyleModel",
          "model_module_version": "1.5.0",
          "state": {
            "_model_module": "@jupyter-widgets/controls",
            "_model_module_version": "1.5.0",
            "_model_name": "DescriptionStyleModel",
            "_view_count": null,
            "_view_module": "@jupyter-widgets/base",
            "_view_module_version": "1.2.0",
            "_view_name": "StyleView",
            "description_width": ""
          }
        },
        "b7e26e310a6a4fd8b90bcb9441acc51a": {
          "model_module": "@jupyter-widgets/base",
          "model_name": "LayoutModel",
          "model_module_version": "1.2.0",
          "state": {
            "_model_module": "@jupyter-widgets/base",
            "_model_module_version": "1.2.0",
            "_model_name": "LayoutModel",
            "_view_count": null,
            "_view_module": "@jupyter-widgets/base",
            "_view_module_version": "1.2.0",
            "_view_name": "LayoutView",
            "align_content": null,
            "align_items": null,
            "align_self": null,
            "border": null,
            "bottom": null,
            "display": null,
            "flex": null,
            "flex_flow": null,
            "grid_area": null,
            "grid_auto_columns": null,
            "grid_auto_flow": null,
            "grid_auto_rows": null,
            "grid_column": null,
            "grid_gap": null,
            "grid_row": null,
            "grid_template_areas": null,
            "grid_template_columns": null,
            "grid_template_rows": null,
            "height": null,
            "justify_content": null,
            "justify_items": null,
            "left": null,
            "margin": null,
            "max_height": null,
            "max_width": null,
            "min_height": null,
            "min_width": null,
            "object_fit": null,
            "object_position": null,
            "order": null,
            "overflow": null,
            "overflow_x": null,
            "overflow_y": null,
            "padding": null,
            "right": null,
            "top": null,
            "visibility": null,
            "width": null
          }
        },
        "f5c1cce279864ac290c8a35698486faf": {
          "model_module": "@jupyter-widgets/controls",
          "model_name": "ProgressStyleModel",
          "model_module_version": "1.5.0",
          "state": {
            "_model_module": "@jupyter-widgets/controls",
            "_model_module_version": "1.5.0",
            "_model_name": "ProgressStyleModel",
            "_view_count": null,
            "_view_module": "@jupyter-widgets/base",
            "_view_module_version": "1.2.0",
            "_view_name": "StyleView",
            "bar_color": null,
            "description_width": ""
          }
        },
        "c65a080921b34acb8a2064a6b34f023c": {
          "model_module": "@jupyter-widgets/base",
          "model_name": "LayoutModel",
          "model_module_version": "1.2.0",
          "state": {
            "_model_module": "@jupyter-widgets/base",
            "_model_module_version": "1.2.0",
            "_model_name": "LayoutModel",
            "_view_count": null,
            "_view_module": "@jupyter-widgets/base",
            "_view_module_version": "1.2.0",
            "_view_name": "LayoutView",
            "align_content": null,
            "align_items": null,
            "align_self": null,
            "border": null,
            "bottom": null,
            "display": null,
            "flex": null,
            "flex_flow": null,
            "grid_area": null,
            "grid_auto_columns": null,
            "grid_auto_flow": null,
            "grid_auto_rows": null,
            "grid_column": null,
            "grid_gap": null,
            "grid_row": null,
            "grid_template_areas": null,
            "grid_template_columns": null,
            "grid_template_rows": null,
            "height": null,
            "justify_content": null,
            "justify_items": null,
            "left": null,
            "margin": null,
            "max_height": null,
            "max_width": null,
            "min_height": null,
            "min_width": null,
            "object_fit": null,
            "object_position": null,
            "order": null,
            "overflow": null,
            "overflow_x": null,
            "overflow_y": null,
            "padding": null,
            "right": null,
            "top": null,
            "visibility": null,
            "width": null
          }
        },
        "8b2483054adf45558f3bc7e7e7da7e42": {
          "model_module": "@jupyter-widgets/controls",
          "model_name": "DescriptionStyleModel",
          "model_module_version": "1.5.0",
          "state": {
            "_model_module": "@jupyter-widgets/controls",
            "_model_module_version": "1.5.0",
            "_model_name": "DescriptionStyleModel",
            "_view_count": null,
            "_view_module": "@jupyter-widgets/base",
            "_view_module_version": "1.2.0",
            "_view_name": "StyleView",
            "description_width": ""
          }
        }
      }
    }
  },
  "nbformat": 4,
  "nbformat_minor": 0
}