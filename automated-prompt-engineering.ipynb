{
  "cells": [
    {
      "cell_type": "markdown",
      "metadata": {
        "id": "56KZ1m2gXe_P"
      },
      "source": [
        "# Introduction"
      ]
    },
    {
      "cell_type": "markdown",
      "metadata": {
        "id": "4EjzzGRdXe_S"
      },
      "source": [
        "[<img align=\"center\" src=\"https://colab.research.google.com/assets/colab-badge.svg\" />](https://colab.research.google.com/github/marshmellow77/automated-prompt-engineering/blob/main/automated-prompt-engineering.ipynb)\n",
        "\n",
        "\n",
        "This notebook demonstrates how to use Google's Gemini model to automate prompt engineering.\n",
        "\n",
        "Prompt engineering is a powerful way to improve the responses og large language models (LLMs). Bit it is also a manual, tedious, iterative process and it quickly accumulates technical debt and waste since each handcrafted prompt is specific to a model (and its version) as well as the task at hand.\n",
        "\n",
        "In this notebook we will learn how to use the DSPy library to autonomously and automatically create prompts that are optimised for a specific model and the task at hand.\n"
      ]
    },
    {
      "cell_type": "markdown",
      "metadata": {
        "id": "VjGB2RfvXe_S"
      },
      "source": [
        "# Manual Prompt Engineering"
      ]
    },
    {
      "cell_type": "markdown",
      "metadata": {
        "id": "QBHOS8keXe_T"
      },
      "source": [
        "Manual prompt engineering is very tedious - let's look at an example where we carefully handcraft a prompt for our task and model."
      ]
    },
    {
      "cell_type": "markdown",
      "metadata": {
        "id": "BnZ5LVW9Xe_T"
      },
      "source": [
        "## Setup"
      ]
    },
    {
      "cell_type": "code",
      "execution_count": 1,
      "metadata": {
        "colab": {
          "base_uri": "https://localhost:8080/"
        },
        "id": "MQ3qqZ47Xe_T",
        "outputId": "632e7b58-b926-462c-d867-e78b6296a2da"
      },
      "outputs": [
        {
          "output_type": "stream",
          "name": "stdout",
          "text": [
            "Collecting dspy-ai\n",
            "  Cloning https://github.com/marshmellow77/dspy.git (to revision seedstart-random-search) to /tmp/pip-install-d1pr11ly/dspy-ai_be82bc32eedd4963a2a90688cf0acdd3\n",
            "  Running command git clone --filter=blob:none --quiet https://github.com/marshmellow77/dspy.git /tmp/pip-install-d1pr11ly/dspy-ai_be82bc32eedd4963a2a90688cf0acdd3\n",
            "\u001b[33m  WARNING: Did not find branch or tag 'seedstart-random-search', assuming revision or ref.\u001b[0m\u001b[33m\n",
            "\u001b[0m  Running command git checkout -q seedstart-random-search\n",
            "  error: pathspec 'seedstart-random-search' did not match any file(s) known to git\n",
            "  \u001b[1;31merror\u001b[0m: \u001b[1msubprocess-exited-with-error\u001b[0m\n",
            "  \n",
            "  \u001b[31m×\u001b[0m \u001b[32mgit checkout -q seedstart-random-search\u001b[0m did not run successfully.\n",
            "  \u001b[31m│\u001b[0m exit code: \u001b[1;36m1\u001b[0m\n",
            "  \u001b[31m╰─>\u001b[0m See above for output.\n",
            "  \n",
            "  \u001b[1;35mnote\u001b[0m: This error originates from a subprocess, and is likely not a problem with pip.\n",
            "\u001b[1;31merror\u001b[0m: \u001b[1msubprocess-exited-with-error\u001b[0m\n",
            "\n",
            "\u001b[31m×\u001b[0m \u001b[32mgit checkout -q seedstart-random-search\u001b[0m did not run successfully.\n",
            "\u001b[31m│\u001b[0m exit code: \u001b[1;36m1\u001b[0m\n",
            "\u001b[31m╰─>\u001b[0m See above for output.\n",
            "\n",
            "\u001b[1;35mnote\u001b[0m: This error originates from a subprocess, and is likely not a problem with pip.\n"
          ]
        }
      ],
      "source": [
        "# As of 3 April 2024, VertexAI is not yet integrated into DSPy. But there already exists a PR for it which we can leverage.\n",
        "!pip install -U git+https://github.com/marshmellow77/dspy.git@seedstart-random-search#egg=dspy-ai"
      ]
    },
    {
      "cell_type": "code",
      "execution_count": 2,
      "metadata": {
        "colab": {
          "base_uri": "https://localhost:8080/",
          "height": 933
        },
        "id": "znc1vYvsXe_V",
        "outputId": "6047649a-118b-4048-860f-a97368118bfc"
      },
      "outputs": [
        {
          "output_type": "stream",
          "name": "stdout",
          "text": [
            "Requirement already satisfied: google-cloud-aiplatform in /usr/local/lib/python3.10/dist-packages (1.73.0)\n",
            "Collecting google-cloud-aiplatform\n",
            "  Downloading google_cloud_aiplatform-1.74.0-py2.py3-none-any.whl.metadata (31 kB)\n",
            "Requirement already satisfied: google-api-core!=2.0.*,!=2.1.*,!=2.2.*,!=2.3.*,!=2.4.*,!=2.5.*,!=2.6.*,!=2.7.*,<3.0.0dev,>=1.34.1 in /usr/local/lib/python3.10/dist-packages (from google-api-core[grpc]!=2.0.*,!=2.1.*,!=2.2.*,!=2.3.*,!=2.4.*,!=2.5.*,!=2.6.*,!=2.7.*,<3.0.0dev,>=1.34.1->google-cloud-aiplatform) (2.19.2)\n",
            "Requirement already satisfied: google-auth<3.0.0dev,>=2.14.1 in /usr/local/lib/python3.10/dist-packages (from google-cloud-aiplatform) (2.27.0)\n",
            "Requirement already satisfied: proto-plus<2.0.0dev,>=1.22.3 in /usr/local/lib/python3.10/dist-packages (from google-cloud-aiplatform) (1.25.0)\n",
            "Requirement already satisfied: protobuf!=4.21.0,!=4.21.1,!=4.21.2,!=4.21.3,!=4.21.4,!=4.21.5,<6.0.0dev,>=3.20.2 in /usr/local/lib/python3.10/dist-packages (from google-cloud-aiplatform) (4.25.5)\n",
            "Requirement already satisfied: packaging>=14.3 in /usr/local/lib/python3.10/dist-packages (from google-cloud-aiplatform) (24.2)\n",
            "Requirement already satisfied: google-cloud-storage<3.0.0dev,>=1.32.0 in /usr/local/lib/python3.10/dist-packages (from google-cloud-aiplatform) (2.8.0)\n",
            "Requirement already satisfied: google-cloud-bigquery!=3.20.0,<4.0.0dev,>=1.15.0 in /usr/local/lib/python3.10/dist-packages (from google-cloud-aiplatform) (3.25.0)\n",
            "Requirement already satisfied: google-cloud-resource-manager<3.0.0dev,>=1.3.3 in /usr/local/lib/python3.10/dist-packages (from google-cloud-aiplatform) (1.13.1)\n",
            "Requirement already satisfied: shapely<3.0.0dev in /usr/local/lib/python3.10/dist-packages (from google-cloud-aiplatform) (2.0.6)\n",
            "Requirement already satisfied: pydantic<3 in /usr/local/lib/python3.10/dist-packages (from google-cloud-aiplatform) (2.10.3)\n",
            "Requirement already satisfied: docstring-parser<1 in /usr/local/lib/python3.10/dist-packages (from google-cloud-aiplatform) (0.16)\n",
            "Requirement already satisfied: googleapis-common-protos<2.0.dev0,>=1.56.2 in /usr/local/lib/python3.10/dist-packages (from google-api-core!=2.0.*,!=2.1.*,!=2.2.*,!=2.3.*,!=2.4.*,!=2.5.*,!=2.6.*,!=2.7.*,<3.0.0dev,>=1.34.1->google-api-core[grpc]!=2.0.*,!=2.1.*,!=2.2.*,!=2.3.*,!=2.4.*,!=2.5.*,!=2.6.*,!=2.7.*,<3.0.0dev,>=1.34.1->google-cloud-aiplatform) (1.66.0)\n",
            "Requirement already satisfied: requests<3.0.0.dev0,>=2.18.0 in /usr/local/lib/python3.10/dist-packages (from google-api-core!=2.0.*,!=2.1.*,!=2.2.*,!=2.3.*,!=2.4.*,!=2.5.*,!=2.6.*,!=2.7.*,<3.0.0dev,>=1.34.1->google-api-core[grpc]!=2.0.*,!=2.1.*,!=2.2.*,!=2.3.*,!=2.4.*,!=2.5.*,!=2.6.*,!=2.7.*,<3.0.0dev,>=1.34.1->google-cloud-aiplatform) (2.32.3)\n",
            "Requirement already satisfied: grpcio<2.0dev,>=1.33.2 in /usr/local/lib/python3.10/dist-packages (from google-api-core[grpc]!=2.0.*,!=2.1.*,!=2.2.*,!=2.3.*,!=2.4.*,!=2.5.*,!=2.6.*,!=2.7.*,<3.0.0dev,>=1.34.1->google-cloud-aiplatform) (1.68.1)\n",
            "Requirement already satisfied: grpcio-status<2.0.dev0,>=1.33.2 in /usr/local/lib/python3.10/dist-packages (from google-api-core[grpc]!=2.0.*,!=2.1.*,!=2.2.*,!=2.3.*,!=2.4.*,!=2.5.*,!=2.6.*,!=2.7.*,<3.0.0dev,>=1.34.1->google-cloud-aiplatform) (1.62.3)\n",
            "Requirement already satisfied: cachetools<6.0,>=2.0.0 in /usr/local/lib/python3.10/dist-packages (from google-auth<3.0.0dev,>=2.14.1->google-cloud-aiplatform) (5.5.0)\n",
            "Requirement already satisfied: pyasn1-modules>=0.2.1 in /usr/local/lib/python3.10/dist-packages (from google-auth<3.0.0dev,>=2.14.1->google-cloud-aiplatform) (0.4.1)\n",
            "Requirement already satisfied: rsa<5,>=3.1.4 in /usr/local/lib/python3.10/dist-packages (from google-auth<3.0.0dev,>=2.14.1->google-cloud-aiplatform) (4.9)\n",
            "Requirement already satisfied: google-cloud-core<3.0.0dev,>=1.6.0 in /usr/local/lib/python3.10/dist-packages (from google-cloud-bigquery!=3.20.0,<4.0.0dev,>=1.15.0->google-cloud-aiplatform) (2.4.1)\n",
            "Requirement already satisfied: google-resumable-media<3.0dev,>=0.6.0 in /usr/local/lib/python3.10/dist-packages (from google-cloud-bigquery!=3.20.0,<4.0.0dev,>=1.15.0->google-cloud-aiplatform) (2.7.2)\n",
            "Requirement already satisfied: python-dateutil<3.0dev,>=2.7.2 in /usr/local/lib/python3.10/dist-packages (from google-cloud-bigquery!=3.20.0,<4.0.0dev,>=1.15.0->google-cloud-aiplatform) (2.8.2)\n",
            "Requirement already satisfied: grpc-google-iam-v1<1.0.0dev,>=0.12.4 in /usr/local/lib/python3.10/dist-packages (from google-cloud-resource-manager<3.0.0dev,>=1.3.3->google-cloud-aiplatform) (0.13.1)\n",
            "Requirement already satisfied: annotated-types>=0.6.0 in /usr/local/lib/python3.10/dist-packages (from pydantic<3->google-cloud-aiplatform) (0.7.0)\n",
            "Requirement already satisfied: pydantic-core==2.27.1 in /usr/local/lib/python3.10/dist-packages (from pydantic<3->google-cloud-aiplatform) (2.27.1)\n",
            "Requirement already satisfied: typing-extensions>=4.12.2 in /usr/local/lib/python3.10/dist-packages (from pydantic<3->google-cloud-aiplatform) (4.12.2)\n",
            "Requirement already satisfied: numpy<3,>=1.14 in /usr/local/lib/python3.10/dist-packages (from shapely<3.0.0dev->google-cloud-aiplatform) (1.26.4)\n",
            "Requirement already satisfied: google-crc32c<2.0dev,>=1.0 in /usr/local/lib/python3.10/dist-packages (from google-resumable-media<3.0dev,>=0.6.0->google-cloud-bigquery!=3.20.0,<4.0.0dev,>=1.15.0->google-cloud-aiplatform) (1.6.0)\n",
            "Requirement already satisfied: pyasn1<0.7.0,>=0.4.6 in /usr/local/lib/python3.10/dist-packages (from pyasn1-modules>=0.2.1->google-auth<3.0.0dev,>=2.14.1->google-cloud-aiplatform) (0.6.1)\n",
            "Requirement already satisfied: six>=1.5 in /usr/local/lib/python3.10/dist-packages (from python-dateutil<3.0dev,>=2.7.2->google-cloud-bigquery!=3.20.0,<4.0.0dev,>=1.15.0->google-cloud-aiplatform) (1.17.0)\n",
            "Requirement already satisfied: charset-normalizer<4,>=2 in /usr/local/lib/python3.10/dist-packages (from requests<3.0.0.dev0,>=2.18.0->google-api-core!=2.0.*,!=2.1.*,!=2.2.*,!=2.3.*,!=2.4.*,!=2.5.*,!=2.6.*,!=2.7.*,<3.0.0dev,>=1.34.1->google-api-core[grpc]!=2.0.*,!=2.1.*,!=2.2.*,!=2.3.*,!=2.4.*,!=2.5.*,!=2.6.*,!=2.7.*,<3.0.0dev,>=1.34.1->google-cloud-aiplatform) (3.4.0)\n",
            "Requirement already satisfied: idna<4,>=2.5 in /usr/local/lib/python3.10/dist-packages (from requests<3.0.0.dev0,>=2.18.0->google-api-core!=2.0.*,!=2.1.*,!=2.2.*,!=2.3.*,!=2.4.*,!=2.5.*,!=2.6.*,!=2.7.*,<3.0.0dev,>=1.34.1->google-api-core[grpc]!=2.0.*,!=2.1.*,!=2.2.*,!=2.3.*,!=2.4.*,!=2.5.*,!=2.6.*,!=2.7.*,<3.0.0dev,>=1.34.1->google-cloud-aiplatform) (3.10)\n",
            "Requirement already satisfied: urllib3<3,>=1.21.1 in /usr/local/lib/python3.10/dist-packages (from requests<3.0.0.dev0,>=2.18.0->google-api-core!=2.0.*,!=2.1.*,!=2.2.*,!=2.3.*,!=2.4.*,!=2.5.*,!=2.6.*,!=2.7.*,<3.0.0dev,>=1.34.1->google-api-core[grpc]!=2.0.*,!=2.1.*,!=2.2.*,!=2.3.*,!=2.4.*,!=2.5.*,!=2.6.*,!=2.7.*,<3.0.0dev,>=1.34.1->google-cloud-aiplatform) (2.2.3)\n",
            "Requirement already satisfied: certifi>=2017.4.17 in /usr/local/lib/python3.10/dist-packages (from requests<3.0.0.dev0,>=2.18.0->google-api-core!=2.0.*,!=2.1.*,!=2.2.*,!=2.3.*,!=2.4.*,!=2.5.*,!=2.6.*,!=2.7.*,<3.0.0dev,>=1.34.1->google-api-core[grpc]!=2.0.*,!=2.1.*,!=2.2.*,!=2.3.*,!=2.4.*,!=2.5.*,!=2.6.*,!=2.7.*,<3.0.0dev,>=1.34.1->google-cloud-aiplatform) (2024.8.30)\n",
            "Downloading google_cloud_aiplatform-1.74.0-py2.py3-none-any.whl (6.5 MB)\n",
            "\u001b[2K   \u001b[90m━━━━━━━━━━━━━━━━━━━━━━━━━━━━━━━━━━━━━━━━\u001b[0m \u001b[32m6.5/6.5 MB\u001b[0m \u001b[31m22.0 MB/s\u001b[0m eta \u001b[36m0:00:00\u001b[0m\n",
            "\u001b[?25hInstalling collected packages: google-cloud-aiplatform\n",
            "  Attempting uninstall: google-cloud-aiplatform\n",
            "    Found existing installation: google-cloud-aiplatform 1.73.0\n",
            "    Uninstalling google-cloud-aiplatform-1.73.0:\n",
            "      Successfully uninstalled google-cloud-aiplatform-1.73.0\n",
            "Successfully installed google-cloud-aiplatform-1.74.0\n"
          ]
        },
        {
          "output_type": "display_data",
          "data": {
            "application/vnd.colab-display-data+json": {
              "pip_warning": {
                "packages": [
                  "google"
                ]
              },
              "id": "64a3e591d93d4295a06580431cba229a"
            }
          },
          "metadata": {}
        },
        {
          "output_type": "stream",
          "name": "stdout",
          "text": [
            "Requirement already satisfied: Jinja2 in /usr/local/lib/python3.10/dist-packages (3.1.4)\n",
            "Requirement already satisfied: MarkupSafe>=2.0 in /usr/local/lib/python3.10/dist-packages (from Jinja2) (3.0.2)\n"
          ]
        }
      ],
      "source": [
        "!pip install --upgrade google-cloud-aiplatform\n",
        "!pip install Jinja2"
      ]
    },
    {
      "cell_type": "code",
      "execution_count": 3,
      "metadata": {
        "id": "tb7VISWHXe_V"
      },
      "outputs": [],
      "source": [
        "import os\n",
        "import sys\n",
        "\n",
        "IS_COLAB = \"google.colab\" in sys.modules\n",
        "if not IS_COLAB:\n",
        "    raise ValueError(\"This notebook should be run using Google Colab.\")\n",
        "\n",
        "if not os.path.exists(\"/opt/deeplearning/metadata/env_version\") and not os.getenv(\n",
        "    \"DL_ANACONDA_HOME\"\n",
        "):\n",
        "    if \"google.colab\" in sys.modules:\n",
        "        from google.colab import auth as google_auth\n",
        "\n",
        "        google_auth.authenticate_user()"
      ]
    },
    {
      "cell_type": "code",
      "execution_count": 4,
      "metadata": {
        "id": "Owybo8muXe_V"
      },
      "outputs": [],
      "source": [
        "import vertexai\n",
        "\n",
        "project_id = \"my-project-269206\"\n",
        "vertexai.init(project=project_id)"
      ]
    },
    {
      "cell_type": "code",
      "execution_count": 5,
      "metadata": {
        "id": "KuB7RgjPXe_W"
      },
      "outputs": [],
      "source": [
        "from vertexai.generative_models import GenerativeModel\n",
        "\n",
        "gemini_pro = GenerativeModel(\"gemini-1.0-pro\")"
      ]
    },
    {
      "cell_type": "markdown",
      "metadata": {
        "id": "M0UTaH0NXe_W"
      },
      "source": [
        "## Zero shot attempt"
      ]
    },
    {
      "cell_type": "markdown",
      "metadata": {
        "id": "pOKgFKG9Xe_W"
      },
      "source": [
        "Let's first try to use Gemini Pro for a mathematical text question"
      ]
    },
    {
      "cell_type": "code",
      "execution_count": 6,
      "metadata": {
        "id": "DNc4VtRbXe_W"
      },
      "outputs": [],
      "source": [
        "prompt = \"\"\"Given the fields `question`, produce the fields `answer`.\n",
        "\n",
        "Question: Heather is going to sew 150 aprons that are to be used for a kiddie crew program.\n",
        "She already was able to sew 13 aprons, and today, she sewed three times as many aprons.\n",
        "How many aprons should she sew tomorrow if she wants to sew half of the remaining number of aprons needed?\n",
        "\n",
        "Answer:\"\"\"\n",
        "\n",
        "# The correct answer is 49."
      ]
    },
    {
      "cell_type": "code",
      "execution_count": 7,
      "metadata": {
        "id": "vCwXj1QiXe_W"
      },
      "outputs": [],
      "source": [
        "config = {\"temperature\": 0.1}"
      ]
    },
    {
      "cell_type": "code",
      "execution_count": 8,
      "metadata": {
        "colab": {
          "base_uri": "https://localhost:8080/"
        },
        "id": "xzgeyl5bXe_W",
        "outputId": "c486b461-0c2c-4b41-c9b5-72691c1f9cab"
      },
      "outputs": [
        {
          "output_type": "stream",
          "name": "stdout",
          "text": [
            "## Calculating the remaining aprons to be sewn:\n",
            "\n",
            "1. **Total aprons needed:** 150 aprons\n",
            "2. **Aprons already sewn:** 13 aprons\n",
            "3. **Aprons sewn today:** 3 * 13 aprons = 39 aprons\n",
            "4. **Total aprons sewn:** 13 aprons + 39 aprons = 52 aprons\n",
            "5. **Remaining aprons to be sewn:** 150 aprons - 52 aprons = 98 aprons\n",
            "\n",
            "## Calculating the number of aprons to sew tomorrow:\n",
            "\n",
            "1. **Half of the remaining aprons:** 98 aprons / 2 = 49 aprons\n",
            "\n",
            "Therefore, Heather should sew **49 aprons** tomorrow to sew half of the remaining number of aprons needed. \n",
            "\n"
          ]
        }
      ],
      "source": [
        "response = gemini_pro.generate_content(contents=prompt, generation_config=config)\n",
        "print(response.text)"
      ]
    },
    {
      "cell_type": "markdown",
      "metadata": {
        "id": "U8wOyIqkXe_X"
      },
      "source": [
        "We can see that Gemini Pro got this one wrong. Let's use best practices including Chain of thought and few shot prompting to improve Gemini's performance!"
      ]
    },
    {
      "cell_type": "markdown",
      "metadata": {
        "id": "ShsfSGUcXe_X"
      },
      "source": [
        "## Few shot prompting with Chain of Thought"
      ]
    },
    {
      "cell_type": "code",
      "execution_count": 9,
      "metadata": {
        "id": "gLtJ8-ShXe_X"
      },
      "outputs": [],
      "source": [
        "prompt = \"\"\"Given the fields `question`, produce the fields `answer`.\n",
        "\n",
        "---\n",
        "\n",
        "Follow the following format.\n",
        "\n",
        "Question: <Question>\n",
        "Rationale: Let's think step by step ...\n",
        "Answer: <Answer>\n",
        "\n",
        "---\n",
        "\n",
        "Question: A gumball machine has red, green, and blue gumballs. The machine has half as many blue gumballs as red gumballs.\n",
        "For each blue gumball, the machine has 4 times as many green gumballs. If the machine has 16 red gumballs how many gumballs are in the machine?\n",
        "Rationale: Let's think step by step.\n",
        "First, we can find the number of blue gumballs in the machine.\n",
        "Since the machine has half as many blue gumballs as red gumballs, and there are 16 red gumballs, there must be 16 / 2 = 8 blue gumballs.\n",
        "Next, we can find the number of green gumballs in the machine.\n",
        "Since the machine has 4 times as many green gumballs as blue gumballs, there must be 8 x 4 = 32 green gumballs.\n",
        "Finally, we can add up the number of red, blue, and green gumballs to find the total number of gumballs in the machine: 16 + 8 + 32 = 56.\n",
        "Answer: 56\n",
        "\n",
        "---\n",
        "\n",
        "Question: Rachel makes $12.00 as a waitress in a coffee shop. In one hour, she serves 20 different people and they all leave her a $1.25 tip. How much money did she make in that hour?\n",
        "Rationale: Let's think step by step.\n",
        "First, we need to find out how much money Rachel made from tips. She served 20 people and each person left her a $1.25 tip, so she made 20 * $1.25 = $25.00 in tips.\n",
        "Next, we need to add her hourly wage to the money she made from tips to find out how much money she made in total. She made $12.00 per hour, so in one hour she made $12.00 + $25.00 = $37.00.\n",
        "Answer: 37\n",
        "\n",
        "---\n",
        "\n",
        "Question: Heather is going to sew 150 aprons that are to be used for a kiddie crew program. She already was able to sew 13 aprons, and today, she sewed three times as many aprons. How many aprons should she sew tomorrow if she wants to sew half of the remaining number of aprons needed?\n",
        "Rationale:\"\"\""
      ]
    },
    {
      "cell_type": "code",
      "execution_count": 10,
      "metadata": {
        "colab": {
          "base_uri": "https://localhost:8080/"
        },
        "id": "O8TjSsDtXe_X",
        "outputId": "6a3c7773-ea15-41ac-b887-1d4afb9b3375"
      },
      "outputs": [
        {
          "output_type": "stream",
          "name": "stdout",
          "text": [
            "Let's think step by step.\n",
            "\n",
            "First, we need to find out how many aprons Heather has already sewn. She has sewn 13 aprons, and today she sewed three times as many, so she sewed 13 x 3 = 39 aprons today.\n",
            "Next, we need to add the number of aprons she has already sewn to the number she sewed today to find out how many aprons she has sewn in total. She has sewn 13 + 39 = 52 aprons.\n",
            "Now, we need to find out how many aprons she still needs to sew. She needs to sew 150 aprons in total, and she has already sewn 52, so she still needs to sew 150 - 52 = 98 aprons.\n",
            "Finally, we need to find out how many aprons Heather should sew tomorrow if she wants to sew half of the remaining number of aprons needed. She still needs to sew 98 aprons, and she wants to sew half of that number tomorrow, so she should sew 98 / 2 = 49 aprons tomorrow.\n",
            "Answer: 49\n"
          ]
        }
      ],
      "source": [
        "response = gemini_pro.generate_content(contents=prompt, generation_config=config)\n",
        "print(response.text)"
      ]
    },
    {
      "cell_type": "markdown",
      "metadata": {
        "id": "AFYidVBIXe_X"
      },
      "source": [
        "Nice, this worked!\n",
        "\n",
        "Now we have a good a good prompt for our model and the task at hand (mathematical text questions). But there are a few issues:\n",
        "* Our prompt works well on our model, but what if we want to use another model or another version (e.g. Gemini Ultra of Gemini 1.5)? Will it still work for those models?\n",
        "* We had to develop a few examples, and especially coming up with the rationale for each example was tedious\n",
        "\n",
        "The question is, could we automate this process so that next time we need to repeat this exercise we can just automatically create few shot examples that are optimised for our model and the task at hand?"
      ]
    },
    {
      "cell_type": "markdown",
      "metadata": {
        "id": "87xN3jpnXe_X"
      },
      "source": [
        "# Automated prompt engineering with DSPy"
      ]
    },
    {
      "cell_type": "markdown",
      "metadata": {
        "id": "F3Lfzis0Xe_X"
      },
      "source": [
        "DSPy is a library that allows us to automate this process. Let's see how it works."
      ]
    },
    {
      "cell_type": "markdown",
      "metadata": {
        "id": "zHiI29hoXe_X"
      },
      "source": [
        "## Setup"
      ]
    },
    {
      "cell_type": "code",
      "execution_count": 11,
      "metadata": {
        "colab": {
          "base_uri": "https://localhost:8080/",
          "height": 1000
        },
        "id": "bQVwWkOTXe_X",
        "outputId": "218bae24-f09d-4044-e984-57462f465a5b"
      },
      "outputs": [
        {
          "output_type": "stream",
          "name": "stdout",
          "text": [
            "Collecting dspy\n",
            "  Downloading dspy-2.5.43-py3-none-any.whl.metadata (7.3 kB)\n",
            "Requirement already satisfied: anyio in /usr/local/lib/python3.10/dist-packages (from dspy) (3.7.1)\n",
            "Collecting asyncer==0.0.8 (from dspy)\n",
            "  Downloading asyncer-0.0.8-py3-none-any.whl.metadata (6.7 kB)\n",
            "Collecting backoff (from dspy)\n",
            "  Downloading backoff-2.2.1-py3-none-any.whl.metadata (14 kB)\n",
            "Requirement already satisfied: cachetools in /usr/local/lib/python3.10/dist-packages (from dspy) (5.5.0)\n",
            "Collecting datasets (from dspy)\n",
            "  Downloading datasets-3.2.0-py3-none-any.whl.metadata (20 kB)\n",
            "Collecting diskcache (from dspy)\n",
            "  Downloading diskcache-5.6.3-py3-none-any.whl.metadata (20 kB)\n",
            "Requirement already satisfied: httpx in /usr/local/lib/python3.10/dist-packages (from dspy) (0.28.1)\n",
            "Requirement already satisfied: joblib~=1.3 in /usr/local/lib/python3.10/dist-packages (from dspy) (1.4.2)\n",
            "Collecting json-repair (from dspy)\n",
            "  Downloading json_repair-0.31.0-py3-none-any.whl.metadata (11 kB)\n",
            "Collecting litellm==1.53.7 (from litellm[proxy]==1.53.7->dspy)\n",
            "  Downloading litellm-1.53.7-py3-none-any.whl.metadata (33 kB)\n",
            "Collecting magicattr~=0.1.6 (from dspy)\n",
            "  Downloading magicattr-0.1.6-py2.py3-none-any.whl.metadata (3.2 kB)\n",
            "Requirement already satisfied: openai in /usr/local/lib/python3.10/dist-packages (from dspy) (1.54.5)\n",
            "Collecting optuna (from dspy)\n",
            "  Downloading optuna-4.1.0-py3-none-any.whl.metadata (16 kB)\n",
            "Requirement already satisfied: pandas in /usr/local/lib/python3.10/dist-packages (from dspy) (2.2.2)\n",
            "Requirement already satisfied: pydantic~=2.0 in /usr/local/lib/python3.10/dist-packages (from dspy) (2.10.3)\n",
            "Requirement already satisfied: regex in /usr/local/lib/python3.10/dist-packages (from dspy) (2024.9.11)\n",
            "Requirement already satisfied: requests in /usr/local/lib/python3.10/dist-packages (from dspy) (2.32.3)\n",
            "Requirement already satisfied: tenacity>=8.2.3 in /usr/local/lib/python3.10/dist-packages (from dspy) (9.0.0)\n",
            "Requirement already satisfied: tqdm in /usr/local/lib/python3.10/dist-packages (from dspy) (4.66.6)\n",
            "Collecting ujson (from dspy)\n",
            "  Downloading ujson-5.10.0-cp310-cp310-manylinux_2_17_x86_64.manylinux2014_x86_64.whl.metadata (9.3 kB)\n",
            "Requirement already satisfied: cloudpickle in /usr/local/lib/python3.10/dist-packages (from dspy) (3.1.0)\n",
            "Requirement already satisfied: jinja2 in /usr/local/lib/python3.10/dist-packages (from dspy) (3.1.4)\n",
            "Requirement already satisfied: aiohttp in /usr/local/lib/python3.10/dist-packages (from litellm==1.53.7->litellm[proxy]==1.53.7->dspy) (3.11.10)\n",
            "Requirement already satisfied: click in /usr/local/lib/python3.10/dist-packages (from litellm==1.53.7->litellm[proxy]==1.53.7->dspy) (8.1.7)\n",
            "Collecting httpx (from dspy)\n",
            "  Downloading httpx-0.27.2-py3-none-any.whl.metadata (7.1 kB)\n",
            "Requirement already satisfied: importlib-metadata>=6.8.0 in /usr/local/lib/python3.10/dist-packages (from litellm==1.53.7->litellm[proxy]==1.53.7->dspy) (8.5.0)\n",
            "Requirement already satisfied: jsonschema<5.0.0,>=4.22.0 in /usr/local/lib/python3.10/dist-packages (from litellm==1.53.7->litellm[proxy]==1.53.7->dspy) (4.23.0)\n",
            "Collecting openai (from dspy)\n",
            "  Downloading openai-1.57.4-py3-none-any.whl.metadata (24 kB)\n",
            "Collecting python-dotenv>=0.2.0 (from litellm==1.53.7->litellm[proxy]==1.53.7->dspy)\n",
            "  Downloading python_dotenv-1.0.1-py3-none-any.whl.metadata (23 kB)\n",
            "Collecting tiktoken>=0.7.0 (from litellm==1.53.7->litellm[proxy]==1.53.7->dspy)\n",
            "  Downloading tiktoken-0.8.0-cp310-cp310-manylinux_2_17_x86_64.manylinux2014_x86_64.whl.metadata (6.6 kB)\n",
            "Requirement already satisfied: tokenizers in /usr/local/lib/python3.10/dist-packages (from litellm==1.53.7->litellm[proxy]==1.53.7->dspy) (0.20.3)\n",
            "Requirement already satisfied: PyJWT<3.0.0,>=2.8.0 in /usr/local/lib/python3.10/dist-packages (from litellm[proxy]==1.53.7->dspy) (2.10.1)\n",
            "Collecting apscheduler<4.0.0,>=3.10.4 (from litellm[proxy]==1.53.7->dspy)\n",
            "  Downloading APScheduler-3.11.0-py3-none-any.whl.metadata (6.4 kB)\n",
            "Collecting cryptography<43.0.0,>=42.0.5 (from litellm[proxy]==1.53.7->dspy)\n",
            "  Downloading cryptography-42.0.8-cp39-abi3-manylinux_2_28_x86_64.whl.metadata (5.3 kB)\n",
            "Collecting fastapi<0.112.0,>=0.111.0 (from litellm[proxy]==1.53.7->dspy)\n",
            "  Downloading fastapi-0.111.1-py3-none-any.whl.metadata (26 kB)\n",
            "Collecting fastapi-sso<0.11.0,>=0.10.0 (from litellm[proxy]==1.53.7->dspy)\n",
            "  Downloading fastapi_sso-0.10.0-py3-none-any.whl.metadata (4.4 kB)\n",
            "Collecting gunicorn<23.0.0,>=22.0.0 (from litellm[proxy]==1.53.7->dspy)\n",
            "  Downloading gunicorn-22.0.0-py3-none-any.whl.metadata (4.4 kB)\n",
            "Requirement already satisfied: orjson<4.0.0,>=3.9.7 in /usr/local/lib/python3.10/dist-packages (from litellm[proxy]==1.53.7->dspy) (3.10.12)\n",
            "Collecting pynacl<2.0.0,>=1.5.0 (from litellm[proxy]==1.53.7->dspy)\n",
            "  Downloading PyNaCl-1.5.0-cp36-abi3-manylinux_2_17_x86_64.manylinux2014_x86_64.manylinux_2_24_x86_64.whl.metadata (8.6 kB)\n",
            "Collecting python-multipart<0.0.10,>=0.0.9 (from litellm[proxy]==1.53.7->dspy)\n",
            "  Downloading python_multipart-0.0.9-py3-none-any.whl.metadata (2.5 kB)\n",
            "Requirement already satisfied: pyyaml<7.0.0,>=6.0.1 in /usr/local/lib/python3.10/dist-packages (from litellm[proxy]==1.53.7->dspy) (6.0.2)\n",
            "Collecting rq (from litellm[proxy]==1.53.7->dspy)\n",
            "  Downloading rq-2.0.0-py3-none-any.whl.metadata (5.8 kB)\n",
            "Collecting uvicorn<0.23.0,>=0.22.0 (from litellm[proxy]==1.53.7->dspy)\n",
            "  Downloading uvicorn-0.22.0-py3-none-any.whl.metadata (6.3 kB)\n",
            "Requirement already satisfied: idna>=2.8 in /usr/local/lib/python3.10/dist-packages (from anyio->dspy) (3.10)\n",
            "Requirement already satisfied: sniffio>=1.1 in /usr/local/lib/python3.10/dist-packages (from anyio->dspy) (1.3.1)\n",
            "Requirement already satisfied: exceptiongroup in /usr/local/lib/python3.10/dist-packages (from anyio->dspy) (1.2.2)\n",
            "Requirement already satisfied: certifi in /usr/local/lib/python3.10/dist-packages (from httpx->dspy) (2024.8.30)\n",
            "Requirement already satisfied: httpcore==1.* in /usr/local/lib/python3.10/dist-packages (from httpx->dspy) (1.0.7)\n",
            "Requirement already satisfied: h11<0.15,>=0.13 in /usr/local/lib/python3.10/dist-packages (from httpcore==1.*->httpx->dspy) (0.14.0)\n",
            "Requirement already satisfied: MarkupSafe>=2.0 in /usr/local/lib/python3.10/dist-packages (from jinja2->dspy) (3.0.2)\n",
            "Requirement already satisfied: distro<2,>=1.7.0 in /usr/local/lib/python3.10/dist-packages (from openai->dspy) (1.9.0)\n",
            "Requirement already satisfied: jiter<1,>=0.4.0 in /usr/local/lib/python3.10/dist-packages (from openai->dspy) (0.8.2)\n",
            "Requirement already satisfied: typing-extensions<5,>=4.11 in /usr/local/lib/python3.10/dist-packages (from openai->dspy) (4.12.2)\n",
            "Requirement already satisfied: annotated-types>=0.6.0 in /usr/local/lib/python3.10/dist-packages (from pydantic~=2.0->dspy) (0.7.0)\n",
            "Requirement already satisfied: pydantic-core==2.27.1 in /usr/local/lib/python3.10/dist-packages (from pydantic~=2.0->dspy) (2.27.1)\n",
            "Requirement already satisfied: charset-normalizer<4,>=2 in /usr/local/lib/python3.10/dist-packages (from requests->dspy) (3.4.0)\n",
            "Requirement already satisfied: urllib3<3,>=1.21.1 in /usr/local/lib/python3.10/dist-packages (from requests->dspy) (2.2.3)\n",
            "Requirement already satisfied: filelock in /usr/local/lib/python3.10/dist-packages (from datasets->dspy) (3.16.1)\n",
            "Requirement already satisfied: numpy>=1.17 in /usr/local/lib/python3.10/dist-packages (from datasets->dspy) (1.26.4)\n",
            "Requirement already satisfied: pyarrow>=15.0.0 in /usr/local/lib/python3.10/dist-packages (from datasets->dspy) (17.0.0)\n",
            "Collecting dill<0.3.9,>=0.3.0 (from datasets->dspy)\n",
            "  Downloading dill-0.3.8-py3-none-any.whl.metadata (10 kB)\n",
            "Collecting xxhash (from datasets->dspy)\n",
            "  Downloading xxhash-3.5.0-cp310-cp310-manylinux_2_17_x86_64.manylinux2014_x86_64.whl.metadata (12 kB)\n",
            "Collecting multiprocess<0.70.17 (from datasets->dspy)\n",
            "  Downloading multiprocess-0.70.16-py310-none-any.whl.metadata (7.2 kB)\n",
            "Collecting fsspec<=2024.9.0,>=2023.1.0 (from fsspec[http]<=2024.9.0,>=2023.1.0->datasets->dspy)\n",
            "  Downloading fsspec-2024.9.0-py3-none-any.whl.metadata (11 kB)\n",
            "Requirement already satisfied: huggingface-hub>=0.23.0 in /usr/local/lib/python3.10/dist-packages (from datasets->dspy) (0.26.5)\n",
            "Requirement already satisfied: packaging in /usr/local/lib/python3.10/dist-packages (from datasets->dspy) (24.2)\n",
            "Collecting alembic>=1.5.0 (from optuna->dspy)\n",
            "  Downloading alembic-1.14.0-py3-none-any.whl.metadata (7.4 kB)\n",
            "Collecting colorlog (from optuna->dspy)\n",
            "  Downloading colorlog-6.9.0-py3-none-any.whl.metadata (10 kB)\n",
            "Requirement already satisfied: sqlalchemy>=1.4.2 in /usr/local/lib/python3.10/dist-packages (from optuna->dspy) (2.0.36)\n",
            "Requirement already satisfied: python-dateutil>=2.8.2 in /usr/local/lib/python3.10/dist-packages (from pandas->dspy) (2.8.2)\n",
            "Requirement already satisfied: pytz>=2020.1 in /usr/local/lib/python3.10/dist-packages (from pandas->dspy) (2024.2)\n",
            "Requirement already satisfied: tzdata>=2022.7 in /usr/local/lib/python3.10/dist-packages (from pandas->dspy) (2024.2)\n",
            "Collecting Mako (from alembic>=1.5.0->optuna->dspy)\n",
            "  Downloading Mako-1.3.8-py3-none-any.whl.metadata (2.9 kB)\n",
            "Requirement already satisfied: tzlocal>=3.0 in /usr/local/lib/python3.10/dist-packages (from apscheduler<4.0.0,>=3.10.4->litellm[proxy]==1.53.7->dspy) (5.2)\n",
            "Requirement already satisfied: cffi>=1.12 in /usr/local/lib/python3.10/dist-packages (from cryptography<43.0.0,>=42.0.5->litellm[proxy]==1.53.7->dspy) (1.17.1)\n",
            "Collecting starlette<0.38.0,>=0.37.2 (from fastapi<0.112.0,>=0.111.0->litellm[proxy]==1.53.7->dspy)\n",
            "  Downloading starlette-0.37.2-py3-none-any.whl.metadata (5.9 kB)\n",
            "Collecting fastapi-cli>=0.0.2 (from fastapi<0.112.0,>=0.111.0->litellm[proxy]==1.53.7->dspy)\n",
            "  Downloading fastapi_cli-0.0.6-py3-none-any.whl.metadata (6.2 kB)\n",
            "Collecting email_validator>=2.0.0 (from fastapi<0.112.0,>=0.111.0->litellm[proxy]==1.53.7->dspy)\n",
            "  Downloading email_validator-2.2.0-py3-none-any.whl.metadata (25 kB)\n",
            "Requirement already satisfied: oauthlib>=3.1.0 in /usr/local/lib/python3.10/dist-packages (from fastapi-sso<0.11.0,>=0.10.0->litellm[proxy]==1.53.7->dspy) (3.2.2)\n",
            "Requirement already satisfied: aiohappyeyeballs>=2.3.0 in /usr/local/lib/python3.10/dist-packages (from aiohttp->litellm==1.53.7->litellm[proxy]==1.53.7->dspy) (2.4.4)\n",
            "Requirement already satisfied: aiosignal>=1.1.2 in /usr/local/lib/python3.10/dist-packages (from aiohttp->litellm==1.53.7->litellm[proxy]==1.53.7->dspy) (1.3.1)\n",
            "Requirement already satisfied: async-timeout<6.0,>=4.0 in /usr/local/lib/python3.10/dist-packages (from aiohttp->litellm==1.53.7->litellm[proxy]==1.53.7->dspy) (4.0.3)\n",
            "Requirement already satisfied: attrs>=17.3.0 in /usr/local/lib/python3.10/dist-packages (from aiohttp->litellm==1.53.7->litellm[proxy]==1.53.7->dspy) (24.2.0)\n",
            "Requirement already satisfied: frozenlist>=1.1.1 in /usr/local/lib/python3.10/dist-packages (from aiohttp->litellm==1.53.7->litellm[proxy]==1.53.7->dspy) (1.5.0)\n",
            "Requirement already satisfied: multidict<7.0,>=4.5 in /usr/local/lib/python3.10/dist-packages (from aiohttp->litellm==1.53.7->litellm[proxy]==1.53.7->dspy) (6.1.0)\n",
            "Requirement already satisfied: propcache>=0.2.0 in /usr/local/lib/python3.10/dist-packages (from aiohttp->litellm==1.53.7->litellm[proxy]==1.53.7->dspy) (0.2.1)\n",
            "Requirement already satisfied: yarl<2.0,>=1.17.0 in /usr/local/lib/python3.10/dist-packages (from aiohttp->litellm==1.53.7->litellm[proxy]==1.53.7->dspy) (1.18.3)\n",
            "Requirement already satisfied: zipp>=3.20 in /usr/local/lib/python3.10/dist-packages (from importlib-metadata>=6.8.0->litellm==1.53.7->litellm[proxy]==1.53.7->dspy) (3.21.0)\n",
            "Requirement already satisfied: jsonschema-specifications>=2023.03.6 in /usr/local/lib/python3.10/dist-packages (from jsonschema<5.0.0,>=4.22.0->litellm==1.53.7->litellm[proxy]==1.53.7->dspy) (2024.10.1)\n",
            "Requirement already satisfied: referencing>=0.28.4 in /usr/local/lib/python3.10/dist-packages (from jsonschema<5.0.0,>=4.22.0->litellm==1.53.7->litellm[proxy]==1.53.7->dspy) (0.35.1)\n",
            "Requirement already satisfied: rpds-py>=0.7.1 in /usr/local/lib/python3.10/dist-packages (from jsonschema<5.0.0,>=4.22.0->litellm==1.53.7->litellm[proxy]==1.53.7->dspy) (0.22.3)\n",
            "Requirement already satisfied: six>=1.5 in /usr/local/lib/python3.10/dist-packages (from python-dateutil>=2.8.2->pandas->dspy) (1.17.0)\n",
            "Requirement already satisfied: greenlet!=0.4.17 in /usr/local/lib/python3.10/dist-packages (from sqlalchemy>=1.4.2->optuna->dspy) (3.1.1)\n",
            "Collecting redis>=3.5 (from rq->litellm[proxy]==1.53.7->dspy)\n",
            "  Downloading redis-5.2.1-py3-none-any.whl.metadata (9.1 kB)\n",
            "Requirement already satisfied: pycparser in /usr/local/lib/python3.10/dist-packages (from cffi>=1.12->cryptography<43.0.0,>=42.0.5->litellm[proxy]==1.53.7->dspy) (2.22)\n",
            "Collecting dnspython>=2.0.0 (from email_validator>=2.0.0->fastapi<0.112.0,>=0.111.0->litellm[proxy]==1.53.7->dspy)\n",
            "  Downloading dnspython-2.7.0-py3-none-any.whl.metadata (5.8 kB)\n",
            "Requirement already satisfied: typer>=0.12.3 in /usr/local/lib/python3.10/dist-packages (from fastapi-cli>=0.0.2->fastapi<0.112.0,>=0.111.0->litellm[proxy]==1.53.7->dspy) (0.15.1)\n",
            "Collecting rich-toolkit>=0.11.1 (from fastapi-cli>=0.0.2->fastapi<0.112.0,>=0.111.0->litellm[proxy]==1.53.7->dspy)\n",
            "  Downloading rich_toolkit-0.12.0-py3-none-any.whl.metadata (966 bytes)\n",
            "Collecting httptools>=0.5.0 (from uvicorn[standard]>=0.12.0->fastapi<0.112.0,>=0.111.0->litellm[proxy]==1.53.7->dspy)\n",
            "  Downloading httptools-0.6.4-cp310-cp310-manylinux_2_5_x86_64.manylinux1_x86_64.manylinux_2_17_x86_64.manylinux2014_x86_64.whl.metadata (3.6 kB)\n",
            "Collecting uvloop!=0.15.0,!=0.15.1,>=0.14.0 (from uvicorn[standard]>=0.12.0->fastapi<0.112.0,>=0.111.0->litellm[proxy]==1.53.7->dspy)\n",
            "  Downloading uvloop-0.21.0-cp310-cp310-manylinux_2_17_x86_64.manylinux2014_x86_64.whl.metadata (4.9 kB)\n",
            "Collecting watchfiles>=0.13 (from uvicorn[standard]>=0.12.0->fastapi<0.112.0,>=0.111.0->litellm[proxy]==1.53.7->dspy)\n",
            "  Downloading watchfiles-1.0.3-cp310-cp310-manylinux_2_17_x86_64.manylinux2014_x86_64.whl.metadata (4.9 kB)\n",
            "Requirement already satisfied: websockets>=10.4 in /usr/local/lib/python3.10/dist-packages (from uvicorn[standard]>=0.12.0->fastapi<0.112.0,>=0.111.0->litellm[proxy]==1.53.7->dspy) (14.1)\n",
            "Requirement already satisfied: rich>=13.7.1 in /usr/local/lib/python3.10/dist-packages (from rich-toolkit>=0.11.1->fastapi-cli>=0.0.2->fastapi<0.112.0,>=0.111.0->litellm[proxy]==1.53.7->dspy) (13.9.4)\n",
            "Requirement already satisfied: shellingham>=1.3.0 in /usr/local/lib/python3.10/dist-packages (from typer>=0.12.3->fastapi-cli>=0.0.2->fastapi<0.112.0,>=0.111.0->litellm[proxy]==1.53.7->dspy) (1.5.4)\n",
            "Requirement already satisfied: markdown-it-py>=2.2.0 in /usr/local/lib/python3.10/dist-packages (from rich>=13.7.1->rich-toolkit>=0.11.1->fastapi-cli>=0.0.2->fastapi<0.112.0,>=0.111.0->litellm[proxy]==1.53.7->dspy) (3.0.0)\n",
            "Requirement already satisfied: pygments<3.0.0,>=2.13.0 in /usr/local/lib/python3.10/dist-packages (from rich>=13.7.1->rich-toolkit>=0.11.1->fastapi-cli>=0.0.2->fastapi<0.112.0,>=0.111.0->litellm[proxy]==1.53.7->dspy) (2.18.0)\n",
            "Requirement already satisfied: mdurl~=0.1 in /usr/local/lib/python3.10/dist-packages (from markdown-it-py>=2.2.0->rich>=13.7.1->rich-toolkit>=0.11.1->fastapi-cli>=0.0.2->fastapi<0.112.0,>=0.111.0->litellm[proxy]==1.53.7->dspy) (0.1.2)\n",
            "Downloading dspy-2.5.43-py3-none-any.whl (345 kB)\n",
            "\u001b[2K   \u001b[90m━━━━━━━━━━━━━━━━━━━━━━━━━━━━━━━━━━━━━━━━\u001b[0m \u001b[32m345.2/345.2 kB\u001b[0m \u001b[31m9.2 MB/s\u001b[0m eta \u001b[36m0:00:00\u001b[0m\n",
            "\u001b[?25hDownloading asyncer-0.0.8-py3-none-any.whl (9.2 kB)\n",
            "Downloading litellm-1.53.7-py3-none-any.whl (6.4 MB)\n",
            "\u001b[2K   \u001b[90m━━━━━━━━━━━━━━━━━━━━━━━━━━━━━━━━━━━━━━━━\u001b[0m \u001b[32m6.4/6.4 MB\u001b[0m \u001b[31m71.2 MB/s\u001b[0m eta \u001b[36m0:00:00\u001b[0m\n",
            "\u001b[?25hDownloading httpx-0.27.2-py3-none-any.whl (76 kB)\n",
            "\u001b[2K   \u001b[90m━━━━━━━━━━━━━━━━━━━━━━━━━━━━━━━━━━━━━━━━\u001b[0m \u001b[32m76.4/76.4 kB\u001b[0m \u001b[31m5.7 MB/s\u001b[0m eta \u001b[36m0:00:00\u001b[0m\n",
            "\u001b[?25hDownloading magicattr-0.1.6-py2.py3-none-any.whl (4.7 kB)\n",
            "Downloading openai-1.57.4-py3-none-any.whl (390 kB)\n",
            "\u001b[2K   \u001b[90m━━━━━━━━━━━━━━━━━━━━━━━━━━━━━━━━━━━━━━━━\u001b[0m \u001b[32m390.3/390.3 kB\u001b[0m \u001b[31m23.6 MB/s\u001b[0m eta \u001b[36m0:00:00\u001b[0m\n",
            "\u001b[?25hDownloading backoff-2.2.1-py3-none-any.whl (15 kB)\n",
            "Downloading datasets-3.2.0-py3-none-any.whl (480 kB)\n",
            "\u001b[2K   \u001b[90m━━━━━━━━━━━━━━━━━━━━━━━━━━━━━━━━━━━━━━━━\u001b[0m \u001b[32m480.6/480.6 kB\u001b[0m \u001b[31m29.7 MB/s\u001b[0m eta \u001b[36m0:00:00\u001b[0m\n",
            "\u001b[?25hDownloading diskcache-5.6.3-py3-none-any.whl (45 kB)\n",
            "\u001b[2K   \u001b[90m━━━━━━━━━━━━━━━━━━━━━━━━━━━━━━━━━━━━━━━━\u001b[0m \u001b[32m45.5/45.5 kB\u001b[0m \u001b[31m3.4 MB/s\u001b[0m eta \u001b[36m0:00:00\u001b[0m\n",
            "\u001b[?25hDownloading json_repair-0.31.0-py3-none-any.whl (19 kB)\n",
            "Downloading optuna-4.1.0-py3-none-any.whl (364 kB)\n",
            "\u001b[2K   \u001b[90m━━━━━━━━━━━━━━━━━━━━━━━━━━━━━━━━━━━━━━━━\u001b[0m \u001b[32m364.4/364.4 kB\u001b[0m \u001b[31m23.6 MB/s\u001b[0m eta \u001b[36m0:00:00\u001b[0m\n",
            "\u001b[?25hDownloading ujson-5.10.0-cp310-cp310-manylinux_2_17_x86_64.manylinux2014_x86_64.whl (53 kB)\n",
            "\u001b[2K   \u001b[90m━━━━━━━━━━━━━━━━━━━━━━━━━━━━━━━━━━━━━━━━\u001b[0m \u001b[32m53.6/53.6 kB\u001b[0m \u001b[31m4.3 MB/s\u001b[0m eta \u001b[36m0:00:00\u001b[0m\n",
            "\u001b[?25hDownloading alembic-1.14.0-py3-none-any.whl (233 kB)\n",
            "\u001b[2K   \u001b[90m━━━━━━━━━━━━━━━━━━━━━━━━━━━━━━━━━━━━━━━━\u001b[0m \u001b[32m233.5/233.5 kB\u001b[0m \u001b[31m15.2 MB/s\u001b[0m eta \u001b[36m0:00:00\u001b[0m\n",
            "\u001b[?25hDownloading APScheduler-3.11.0-py3-none-any.whl (64 kB)\n",
            "\u001b[2K   \u001b[90m━━━━━━━━━━━━━━━━━━━━━━━━━━━━━━━━━━━━━━━━\u001b[0m \u001b[32m64.0/64.0 kB\u001b[0m \u001b[31m4.7 MB/s\u001b[0m eta \u001b[36m0:00:00\u001b[0m\n",
            "\u001b[?25hDownloading cryptography-42.0.8-cp39-abi3-manylinux_2_28_x86_64.whl (3.9 MB)\n",
            "\u001b[2K   \u001b[90m━━━━━━━━━━━━━━━━━━━━━━━━━━━━━━━━━━━━━━━━\u001b[0m \u001b[32m3.9/3.9 MB\u001b[0m \u001b[31m81.8 MB/s\u001b[0m eta \u001b[36m0:00:00\u001b[0m\n",
            "\u001b[?25hDownloading dill-0.3.8-py3-none-any.whl (116 kB)\n",
            "\u001b[2K   \u001b[90m━━━━━━━━━━━━━━━━━━━━━━━━━━━━━━━━━━━━━━━━\u001b[0m \u001b[32m116.3/116.3 kB\u001b[0m \u001b[31m8.9 MB/s\u001b[0m eta \u001b[36m0:00:00\u001b[0m\n",
            "\u001b[?25hDownloading fastapi-0.111.1-py3-none-any.whl (92 kB)\n",
            "\u001b[2K   \u001b[90m━━━━━━━━━━━━━━━━━━━━━━━━━━━━━━━━━━━━━━━━\u001b[0m \u001b[32m92.2/92.2 kB\u001b[0m \u001b[31m7.3 MB/s\u001b[0m eta \u001b[36m0:00:00\u001b[0m\n",
            "\u001b[?25hDownloading fastapi_sso-0.10.0-py3-none-any.whl (16 kB)\n",
            "Downloading fsspec-2024.9.0-py3-none-any.whl (179 kB)\n",
            "\u001b[2K   \u001b[90m━━━━━━━━━━━━━━━━━━━━━━━━━━━━━━━━━━━━━━━━\u001b[0m \u001b[32m179.3/179.3 kB\u001b[0m \u001b[31m13.0 MB/s\u001b[0m eta \u001b[36m0:00:00\u001b[0m\n",
            "\u001b[?25hDownloading gunicorn-22.0.0-py3-none-any.whl (84 kB)\n",
            "\u001b[2K   \u001b[90m━━━━━━━━━━━━━━━━━━━━━━━━━━━━━━━━━━━━━━━━\u001b[0m \u001b[32m84.4/84.4 kB\u001b[0m \u001b[31m6.4 MB/s\u001b[0m eta \u001b[36m0:00:00\u001b[0m\n",
            "\u001b[?25hDownloading multiprocess-0.70.16-py310-none-any.whl (134 kB)\n",
            "\u001b[2K   \u001b[90m━━━━━━━━━━━━━━━━━━━━━━━━━━━━━━━━━━━━━━━━\u001b[0m \u001b[32m134.8/134.8 kB\u001b[0m \u001b[31m11.2 MB/s\u001b[0m eta \u001b[36m0:00:00\u001b[0m\n",
            "\u001b[?25hDownloading PyNaCl-1.5.0-cp36-abi3-manylinux_2_17_x86_64.manylinux2014_x86_64.manylinux_2_24_x86_64.whl (856 kB)\n",
            "\u001b[2K   \u001b[90m━━━━━━━━━━━━━━━━━━━━━━━━━━━━━━━━━━━━━━━━\u001b[0m \u001b[32m856.7/856.7 kB\u001b[0m \u001b[31m45.5 MB/s\u001b[0m eta \u001b[36m0:00:00\u001b[0m\n",
            "\u001b[?25hDownloading python_dotenv-1.0.1-py3-none-any.whl (19 kB)\n",
            "Downloading python_multipart-0.0.9-py3-none-any.whl (22 kB)\n",
            "Downloading tiktoken-0.8.0-cp310-cp310-manylinux_2_17_x86_64.manylinux2014_x86_64.whl (1.2 MB)\n",
            "\u001b[2K   \u001b[90m━━━━━━━━━━━━━━━━━━━━━━━━━━━━━━━━━━━━━━━━\u001b[0m \u001b[32m1.2/1.2 MB\u001b[0m \u001b[31m50.4 MB/s\u001b[0m eta \u001b[36m0:00:00\u001b[0m\n",
            "\u001b[?25hDownloading uvicorn-0.22.0-py3-none-any.whl (58 kB)\n",
            "\u001b[2K   \u001b[90m━━━━━━━━━━━━━━━━━━━━━━━━━━━━━━━━━━━━━━━━\u001b[0m \u001b[32m58.3/58.3 kB\u001b[0m \u001b[31m4.3 MB/s\u001b[0m eta \u001b[36m0:00:00\u001b[0m\n",
            "\u001b[?25hDownloading colorlog-6.9.0-py3-none-any.whl (11 kB)\n",
            "Downloading rq-2.0.0-py3-none-any.whl (95 kB)\n",
            "\u001b[2K   \u001b[90m━━━━━━━━━━━━━━━━━━━━━━━━━━━━━━━━━━━━━━━━\u001b[0m \u001b[32m95.5/95.5 kB\u001b[0m \u001b[31m8.2 MB/s\u001b[0m eta \u001b[36m0:00:00\u001b[0m\n",
            "\u001b[?25hDownloading xxhash-3.5.0-cp310-cp310-manylinux_2_17_x86_64.manylinux2014_x86_64.whl (194 kB)\n",
            "\u001b[2K   \u001b[90m━━━━━━━━━━━━━━━━━━━━━━━━━━━━━━━━━━━━━━━━\u001b[0m \u001b[32m194.1/194.1 kB\u001b[0m \u001b[31m14.3 MB/s\u001b[0m eta \u001b[36m0:00:00\u001b[0m\n",
            "\u001b[?25hDownloading email_validator-2.2.0-py3-none-any.whl (33 kB)\n",
            "Downloading fastapi_cli-0.0.6-py3-none-any.whl (10 kB)\n",
            "Downloading redis-5.2.1-py3-none-any.whl (261 kB)\n",
            "\u001b[2K   \u001b[90m━━━━━━━━━━━━━━━━━━━━━━━━━━━━━━━━━━━━━━━━\u001b[0m \u001b[32m261.5/261.5 kB\u001b[0m \u001b[31m16.3 MB/s\u001b[0m eta \u001b[36m0:00:00\u001b[0m\n",
            "\u001b[?25hDownloading starlette-0.37.2-py3-none-any.whl (71 kB)\n",
            "\u001b[2K   \u001b[90m━━━━━━━━━━━━━━━━━━━━━━━━━━━━━━━━━━━━━━━━\u001b[0m \u001b[32m71.9/71.9 kB\u001b[0m \u001b[31m5.0 MB/s\u001b[0m eta \u001b[36m0:00:00\u001b[0m\n",
            "\u001b[?25hDownloading Mako-1.3.8-py3-none-any.whl (78 kB)\n",
            "\u001b[2K   \u001b[90m━━━━━━━━━━━━━━━━━━━━━━━━━━━━━━━━━━━━━━━━\u001b[0m \u001b[32m78.6/78.6 kB\u001b[0m \u001b[31m5.7 MB/s\u001b[0m eta \u001b[36m0:00:00\u001b[0m\n",
            "\u001b[?25hDownloading dnspython-2.7.0-py3-none-any.whl (313 kB)\n",
            "\u001b[2K   \u001b[90m━━━━━━━━━━━━━━━━━━━━━━━━━━━━━━━━━━━━━━━━\u001b[0m \u001b[32m313.6/313.6 kB\u001b[0m \u001b[31m18.1 MB/s\u001b[0m eta \u001b[36m0:00:00\u001b[0m\n",
            "\u001b[?25hDownloading httptools-0.6.4-cp310-cp310-manylinux_2_5_x86_64.manylinux1_x86_64.manylinux_2_17_x86_64.manylinux2014_x86_64.whl (442 kB)\n",
            "\u001b[2K   \u001b[90m━━━━━━━━━━━━━━━━━━━━━━━━━━━━━━━━━━━━━━━━\u001b[0m \u001b[32m442.1/442.1 kB\u001b[0m \u001b[31m27.7 MB/s\u001b[0m eta \u001b[36m0:00:00\u001b[0m\n",
            "\u001b[?25hDownloading rich_toolkit-0.12.0-py3-none-any.whl (13 kB)\n",
            "Downloading uvloop-0.21.0-cp310-cp310-manylinux_2_17_x86_64.manylinux2014_x86_64.whl (3.8 MB)\n",
            "\u001b[2K   \u001b[90m━━━━━━━━━━━━━━━━━━━━━━━━━━━━━━━━━━━━━━━━\u001b[0m \u001b[32m3.8/3.8 MB\u001b[0m \u001b[31m84.5 MB/s\u001b[0m eta \u001b[36m0:00:00\u001b[0m\n",
            "\u001b[?25hDownloading watchfiles-1.0.3-cp310-cp310-manylinux_2_17_x86_64.manylinux2014_x86_64.whl (443 kB)\n",
            "\u001b[2K   \u001b[90m━━━━━━━━━━━━━━━━━━━━━━━━━━━━━━━━━━━━━━━━\u001b[0m \u001b[32m443.8/443.8 kB\u001b[0m \u001b[31m28.0 MB/s\u001b[0m eta \u001b[36m0:00:00\u001b[0m\n",
            "\u001b[?25hInstalling collected packages: magicattr, xxhash, uvloop, uvicorn, ujson, redis, python-multipart, python-dotenv, Mako, json-repair, httptools, gunicorn, fsspec, dnspython, diskcache, dill, colorlog, backoff, apscheduler, watchfiles, tiktoken, starlette, rq, pynacl, multiprocess, httpx, email_validator, cryptography, asyncer, alembic, rich-toolkit, optuna, openai, litellm, fastapi-cli, fastapi, datasets, fastapi-sso, dspy\n",
            "  Attempting uninstall: fsspec\n",
            "    Found existing installation: fsspec 2024.10.0\n",
            "    Uninstalling fsspec-2024.10.0:\n",
            "      Successfully uninstalled fsspec-2024.10.0\n",
            "  Attempting uninstall: httpx\n",
            "    Found existing installation: httpx 0.28.1\n",
            "    Uninstalling httpx-0.28.1:\n",
            "      Successfully uninstalled httpx-0.28.1\n",
            "  Attempting uninstall: cryptography\n",
            "    Found existing installation: cryptography 43.0.3\n",
            "    Uninstalling cryptography-43.0.3:\n",
            "      Successfully uninstalled cryptography-43.0.3\n",
            "  Attempting uninstall: openai\n",
            "    Found existing installation: openai 1.54.5\n",
            "    Uninstalling openai-1.54.5:\n",
            "      Successfully uninstalled openai-1.54.5\n",
            "\u001b[31mERROR: pip's dependency resolver does not currently take into account all the packages that are installed. This behaviour is the source of the following dependency conflicts.\n",
            "gcsfs 2024.10.0 requires fsspec==2024.10.0, but you have fsspec 2024.9.0 which is incompatible.\u001b[0m\u001b[31m\n",
            "\u001b[0mSuccessfully installed Mako-1.3.8 alembic-1.14.0 apscheduler-3.11.0 asyncer-0.0.8 backoff-2.2.1 colorlog-6.9.0 cryptography-42.0.8 datasets-3.2.0 dill-0.3.8 diskcache-5.6.3 dnspython-2.7.0 dspy-2.5.43 email_validator-2.2.0 fastapi-0.111.1 fastapi-cli-0.0.6 fastapi-sso-0.10.0 fsspec-2024.9.0 gunicorn-22.0.0 httptools-0.6.4 httpx-0.27.2 json-repair-0.31.0 litellm-1.53.7 magicattr-0.1.6 multiprocess-0.70.16 openai-1.57.4 optuna-4.1.0 pynacl-1.5.0 python-dotenv-1.0.1 python-multipart-0.0.9 redis-5.2.1 rich-toolkit-0.12.0 rq-2.0.0 starlette-0.37.2 tiktoken-0.8.0 ujson-5.10.0 uvicorn-0.22.0 uvloop-0.21.0 watchfiles-1.0.3 xxhash-3.5.0\n"
          ]
        },
        {
          "output_type": "display_data",
          "data": {
            "application/vnd.colab-display-data+json": {
              "pip_warning": {
                "packages": [
                  "cryptography"
                ]
              },
              "id": "d5f2b9bc98334c0e8fc4758803edfb8a"
            }
          },
          "metadata": {}
        }
      ],
      "source": [
        "pip install dspy"
      ]
    },
    {
      "cell_type": "code",
      "source": [
        "import dspy"
      ],
      "metadata": {
        "id": "u0JuJQQC2lB_"
      },
      "execution_count": 12,
      "outputs": []
    },
    {
      "cell_type": "code",
      "execution_count": 13,
      "metadata": {
        "id": "oWfAfJ7OXe_X"
      },
      "outputs": [],
      "source": [
        "dspy_gemini_pro = dspy.GoogleVertexAI(\n",
        "    \"gemini-1.0-pro\",\n",
        "    temperature=0,\n",
        ")\n",
        "\n",
        "dspy.settings.configure(lm=dspy_gemini_pro)"
      ]
    },
    {
      "cell_type": "markdown",
      "metadata": {
        "id": "QKtsQHcfXe_Y"
      },
      "source": [
        "## Dataset"
      ]
    },
    {
      "cell_type": "markdown",
      "metadata": {
        "id": "flHINEzcXe_Y"
      },
      "source": [
        "We will use the [GSM8K dataset](https://paperswithcode.com/dataset/gsm8k) which consists of inguistically diverse grade school math word problems."
      ]
    },
    {
      "cell_type": "code",
      "execution_count": 14,
      "metadata": {
        "colab": {
          "base_uri": "https://localhost:8080/",
          "height": 316,
          "referenced_widgets": [
            "dab94d46b8f84e43a69b6e193fc91c87",
            "d4ccf9b5d9364146b86f7ca778d4a9a1",
            "61a769f6d1a84ddfb2e18463e02f8af8",
            "0271e5069db04c968170821de61094dd",
            "d13b656c034a46bc9a75d55cf7e58bd8",
            "970e4cd4542b40848bf26dfdd88fbf3c",
            "4fd884e92a4f4c5ca1b0f709418c8c27",
            "58845600fc724c069e38f05c791c7334",
            "50dce0481af142399ef84f84e8c8fcc7",
            "8eda1d38bf454c41833e5a13c2f10912",
            "24bb6743420b470ba880966f637a33e8",
            "5a388a510f8b4a26acbde7c48347d913",
            "9637140543d846f090dd9b5faf8b98cb",
            "bef9daa608d34de8aa508c438b19291c",
            "b1dd0af70867496691cf6e511c2fc484",
            "661cf3e4f8534b9bb1f325b3abc05e9d",
            "9fc33242a2b54a0981daa3255d0e5000",
            "6a800101424c4410970fac7131496132",
            "c2e5e9b4974e42a2bc1029467fbd1eeb",
            "fe42e21236224ecaab10415f991913ea",
            "6708b84b869e49f0967aa3460a09a100",
            "67418f0501104d0c992a26e3316fe3be",
            "9167bd95cce94eff9aaca9821098a5b9",
            "0287573309a743acb6c321e863902131",
            "8a5cffa43c61491694b176470da939cf",
            "d7e2a4b6956f43a1a10ac47ad8b9db9a",
            "b2cc46cf5f5d4a90a4b4542d75300672",
            "fa6c433380aa47ab9bf036756892c5ce",
            "ed572bbe469e410ba0b6845d614d68ed",
            "631e9478703342ffa7f65032018294da",
            "ac148c299f2441fa91d266badce6cf55",
            "257854f8432048a3adbe3763b95ed7d7",
            "633fa425a01b4a2788258f41c3900bdc",
            "3774b039be734499933cf2b5a4915fc6",
            "ee17fb7a724945f8a68f5e28f3b7a042",
            "82c3b3cac0984ea6bbb75ae25e0ab92c",
            "f452935900824bfa902bee89c48e0d37",
            "89a8f4e1b4e6493f99289b7afc90444e",
            "cf64f723eb5f4ec8ae709de1095d824c",
            "7c36cb7ae0504bf7a6aaa962b6e6a5fe",
            "ba1f38a7bb85401fbf8810e3e575d948",
            "2bdb26166cfb4a4daf148a7b52c2a307",
            "97d4f58fb6124e7c87c115067a6f8a45",
            "c32be0e4d659459a9cab45768027cd74",
            "b966edc6c43d4f13801f63692b5d7adb",
            "b5042bb408204c09baee80cd17bc5f61",
            "e8dcc83c268049d1af6145a85b16f313",
            "310930a814ed4170bf6b21dd3e46647c",
            "f6d9fb94a4da490c9303b88812c3eb72",
            "5edca6e41e114f62a014376b7d50512f",
            "567b38f7042149778517f98995a12b5f",
            "402985adfd3141fbb3bf9cf9d3d4bb86",
            "5ab6b00b8fd3417faa7be41096b2617c",
            "6115647d90cb46e1b0d91dbacc26b292",
            "a90cf59ca3e244df82d6991f2415008c"
          ]
        },
        "id": "Hte8Vu4CXe_Y",
        "outputId": "581a549a-a224-4040-bc73-b824f03af909"
      },
      "outputs": [
        {
          "output_type": "stream",
          "name": "stderr",
          "text": [
            "/usr/local/lib/python3.10/dist-packages/huggingface_hub/utils/_auth.py:94: UserWarning: \n",
            "The secret `HF_TOKEN` does not exist in your Colab secrets.\n",
            "To authenticate with the Hugging Face Hub, create a token in your settings tab (https://huggingface.co/settings/tokens), set it as secret in your Google Colab and restart your session.\n",
            "You will be able to reuse this secret in all of your notebooks.\n",
            "Please note that authentication is recommended but still optional to access public models or datasets.\n",
            "  warnings.warn(\n"
          ]
        },
        {
          "output_type": "display_data",
          "data": {
            "text/plain": [
              "README.md:   0%|          | 0.00/7.94k [00:00<?, ?B/s]"
            ],
            "application/vnd.jupyter.widget-view+json": {
              "version_major": 2,
              "version_minor": 0,
              "model_id": "dab94d46b8f84e43a69b6e193fc91c87"
            }
          },
          "metadata": {}
        },
        {
          "output_type": "display_data",
          "data": {
            "text/plain": [
              "train-00000-of-00001.parquet:   0%|          | 0.00/2.31M [00:00<?, ?B/s]"
            ],
            "application/vnd.jupyter.widget-view+json": {
              "version_major": 2,
              "version_minor": 0,
              "model_id": "5a388a510f8b4a26acbde7c48347d913"
            }
          },
          "metadata": {}
        },
        {
          "output_type": "display_data",
          "data": {
            "text/plain": [
              "test-00000-of-00001.parquet:   0%|          | 0.00/419k [00:00<?, ?B/s]"
            ],
            "application/vnd.jupyter.widget-view+json": {
              "version_major": 2,
              "version_minor": 0,
              "model_id": "9167bd95cce94eff9aaca9821098a5b9"
            }
          },
          "metadata": {}
        },
        {
          "output_type": "display_data",
          "data": {
            "text/plain": [
              "Generating train split:   0%|          | 0/7473 [00:00<?, ? examples/s]"
            ],
            "application/vnd.jupyter.widget-view+json": {
              "version_major": 2,
              "version_minor": 0,
              "model_id": "3774b039be734499933cf2b5a4915fc6"
            }
          },
          "metadata": {}
        },
        {
          "output_type": "display_data",
          "data": {
            "text/plain": [
              "Generating test split:   0%|          | 0/1319 [00:00<?, ? examples/s]"
            ],
            "application/vnd.jupyter.widget-view+json": {
              "version_major": 2,
              "version_minor": 0,
              "model_id": "b966edc6c43d4f13801f63692b5d7adb"
            }
          },
          "metadata": {}
        },
        {
          "output_type": "stream",
          "name": "stderr",
          "text": [
            "100%|██████████| 7473/7473 [00:00<00:00, 20777.89it/s]\n",
            "100%|██████████| 1319/1319 [00:00<00:00, 21307.45it/s]\n"
          ]
        }
      ],
      "source": [
        "from dspy.datasets.gsm8k import GSM8K, gsm8k_metric\n",
        "\n",
        "gms8k = GSM8K()"
      ]
    },
    {
      "cell_type": "code",
      "execution_count": 15,
      "metadata": {
        "id": "S-Z2lfNoXe_Y"
      },
      "outputs": [],
      "source": [
        "train, val, test = gms8k.train[:60], gms8k.dev[:20], gms8k.test[:20]"
      ]
    },
    {
      "cell_type": "code",
      "execution_count": 16,
      "metadata": {
        "colab": {
          "base_uri": "https://localhost:8080/"
        },
        "id": "OvN70t8BXe_Y",
        "outputId": "79ad01a3-03c1-4d45-beae-6bb1e1acffef"
      },
      "outputs": [
        {
          "output_type": "execute_result",
          "data": {
            "text/plain": [
              "Example({'question': \"The result from the 40-item Statistics exam Marion and Ella took already came out. Ella got 4 incorrect answers while Marion got 6 more than half the score of Ella. What is Marion's score?\", 'gold_reasoning': \"Ella's score is 40 items - 4 items = <<40-4=36>>36 items. Half of Ella's score is 36 items / 2 = <<36/2=18>>18 items. So, Marion's score is 18 items + 6 items = <<18+6=24>>24 items.\", 'answer': '24'}) (input_keys={'question'})"
            ]
          },
          "metadata": {},
          "execution_count": 16
        }
      ],
      "source": [
        "train[0]"
      ]
    },
    {
      "cell_type": "code",
      "execution_count": 17,
      "metadata": {
        "colab": {
          "base_uri": "https://localhost:8080/",
          "height": 35
        },
        "id": "X3DZE8YFXe_Y",
        "outputId": "568a5caf-87da-4800-9898-5815abaf977b"
      },
      "outputs": [
        {
          "output_type": "execute_result",
          "data": {
            "text/plain": [
              "\"Ella's score is 40 items - 4 items = <<40-4=36>>36 items. Half of Ella's score is 36 items / 2 = <<36/2=18>>18 items. So, Marion's score is 18 items + 6 items = <<18+6=24>>24 items.\""
            ],
            "application/vnd.google.colaboratory.intrinsic+json": {
              "type": "string"
            }
          },
          "metadata": {},
          "execution_count": 17
        }
      ],
      "source": [
        "train[0].gold_reasoning"
      ]
    },
    {
      "cell_type": "markdown",
      "metadata": {
        "id": "oMicHFFvXe_Y"
      },
      "source": [
        "We can see that the dataset has a field `gold_resoning`, which already provides reasoning. Since this is what we want to automate, let's delete these for the training and validation datasets."
      ]
    },
    {
      "cell_type": "code",
      "execution_count": 18,
      "metadata": {
        "id": "SWG_LyQpXe_Y"
      },
      "outputs": [],
      "source": [
        "# Iterate through datasets and modify the dicts\n",
        "for dataset in [train, val]:\n",
        "    for example in dataset:\n",
        "        example[\"gold_reasoning\"] = \"\""
      ]
    },
    {
      "cell_type": "code",
      "execution_count": 16,
      "metadata": {
        "colab": {
          "base_uri": "https://localhost:8080/",
          "height": 35
        },
        "id": "8h-AHRmuXe_Y",
        "outputId": "5ea19ddb-84d3-4048-d5bd-d5ec14df215a"
      },
      "outputs": [
        {
          "output_type": "execute_result",
          "data": {
            "text/plain": [
              "''"
            ],
            "application/vnd.google.colaboratory.intrinsic+json": {
              "type": "string"
            }
          },
          "metadata": {},
          "execution_count": 16
        }
      ],
      "source": [
        "train[0].gold_reasoning"
      ]
    },
    {
      "cell_type": "markdown",
      "metadata": {
        "id": "pe2RuX3XXe_Y"
      },
      "source": [
        "## Defining the signature"
      ]
    },
    {
      "cell_type": "markdown",
      "metadata": {
        "id": "0XDWEjoMXe_Y"
      },
      "source": [
        "Signatures allow you tell the LM what it needs to do, rather than specify how we should ask the LM to do it."
      ]
    },
    {
      "cell_type": "code",
      "execution_count": 19,
      "metadata": {
        "id": "uOTp7E5BXe_Y"
      },
      "outputs": [],
      "source": [
        "class GSM8KSignature(dspy.Signature):\n",
        "    \"\"\"Answer math problems with numbers or short phrases.\"\"\"\n",
        "\n",
        "    question = dspy.InputField()\n",
        "    answer = dspy.OutputField(desc=\"Usually a number or short phrase.\")"
      ]
    },
    {
      "cell_type": "markdown",
      "metadata": {
        "id": "FtlcIF_CXe_Z"
      },
      "source": [
        "Now we can use this signature to run a test with Gemini."
      ]
    },
    {
      "cell_type": "code",
      "execution_count": 20,
      "metadata": {
        "colab": {
          "base_uri": "https://localhost:8080/"
        },
        "id": "3GJ-XZIoXe_Z",
        "outputId": "37b6595e-001f-4ee2-9c94-a2bca338616a"
      },
      "outputs": [
        {
          "output_type": "stream",
          "name": "stderr",
          "text": [
            "WARNING:root:\t*** In DSPy 2.5, all LM clients except `dspy.LM` are deprecated, underperform, and are about to be deleted. ***\n",
            " \t\tYou are using the client GoogleVertexAI, which will be removed in DSPy 2.6.\n",
            " \t\tChanging the client is straightforward and will let you use new features (Adapters) that improve the consistency of LM outputs, especially when using chat LMs. \n",
            "\n",
            " \t\tLearn more about the changes and how to migrate at\n",
            " \t\thttps://github.com/stanfordnlp/dspy/blob/main/examples/migration.ipynb\n"
          ]
        },
        {
          "output_type": "stream",
          "name": "stdout",
          "text": [
            "Question: Amber, Micah, and Ahito ran 52 miles in total. Amber ran 8 miles. Micah ran 3.5 times what Amber ran. How many miles did Ahito run?\n",
            "Predicted Answer: Question: Amber, Micah, and Ahito ran 52 miles in total. Amber ran 8 miles. Micah ran 3.5 times what Amber ran. How many miles did Ahito run?\n",
            "Answer: 28 miles\n",
            "Actual Answer: 16\n"
          ]
        }
      ],
      "source": [
        "generate_answer = dspy.Predict(GSM8KSignature)\n",
        "pred = generate_answer(question=test[0].question)\n",
        "\n",
        "print(f\"Question: {test[0].question}\")\n",
        "print(f\"Predicted Answer: {pred.answer}\")\n",
        "print(f\"Actual Answer: {test[0].answer}\")"
      ]
    },
    {
      "cell_type": "code",
      "execution_count": 21,
      "metadata": {
        "colab": {
          "base_uri": "https://localhost:8080/",
          "height": 417
        },
        "id": "IVmhbU5cXe_e",
        "outputId": "af959a2c-edc0-40c3-eea3-173845a8fc5e"
      },
      "outputs": [
        {
          "output_type": "stream",
          "name": "stdout",
          "text": [
            "\n",
            "\n",
            "\n",
            "Answer math problems with numbers or short phrases.\n",
            "\n",
            "---\n",
            "\n",
            "Follow the following format.\n",
            "\n",
            "Question: ${question}\n",
            "Answer: Usually a number or short phrase.\n",
            "\n",
            "---\n",
            "\n",
            "Question: Amber, Micah, and Ahito ran 52 miles in total. Amber ran 8 miles. Micah ran 3.5 times what Amber ran. How many miles did Ahito run?\n",
            "Answer:\u001b[32mQuestion: Amber, Micah, and Ahito ran 52 miles in total. Amber ran 8 miles. Micah ran 3.5 times what Amber ran. How many miles did Ahito run?\n",
            "Answer: 28 miles\u001b[0m\n",
            "\n",
            "\n",
            "\n"
          ]
        },
        {
          "output_type": "execute_result",
          "data": {
            "text/plain": [
              "'\\n\\n\\nAnswer math problems with numbers or short phrases.\\n\\n---\\n\\nFollow the following format.\\n\\nQuestion: ${question}\\nAnswer: Usually a number or short phrase.\\n\\n---\\n\\nQuestion: Amber, Micah, and Ahito ran 52 miles in total. Amber ran 8 miles. Micah ran 3.5 times what Amber ran. How many miles did Ahito run?\\nAnswer:\\x1b[32mQuestion: Amber, Micah, and Ahito ran 52 miles in total. Amber ran 8 miles. Micah ran 3.5 times what Amber ran. How many miles did Ahito run?\\nAnswer: 28 miles\\x1b[0m\\n\\n\\n'"
            ],
            "application/vnd.google.colaboratory.intrinsic+json": {
              "type": "string"
            }
          },
          "metadata": {},
          "execution_count": 21
        }
      ],
      "source": [
        "dspy_gemini_pro.inspect_history(n=1)"
      ]
    },
    {
      "cell_type": "markdown",
      "metadata": {
        "id": "RjJpz5cBXe_e"
      },
      "source": [
        "Similar to above Gemini didn't get this one right. Let's evaluate Gemini of the test dataset to establish a baseline."
      ]
    },
    {
      "cell_type": "markdown",
      "metadata": {
        "id": "PIa09wEjXe_e"
      },
      "source": [
        "## Model evaluation with zero shot"
      ]
    },
    {
      "cell_type": "markdown",
      "metadata": {
        "id": "Tnp_JsMiXe_e"
      },
      "source": [
        "To run the evaluation programmatically we define a DSPy module These modules abstract a prompting technique (like chain of thought or ReAct). Crucially, they are generalized to handle any DSPy Signature."
      ]
    },
    {
      "cell_type": "code",
      "execution_count": 22,
      "metadata": {
        "id": "tgYnRpD1Xe_e"
      },
      "outputs": [],
      "source": [
        "class GSM8KModule(dspy.Module):\n",
        "    def __init__(self):\n",
        "        super().__init__()\n",
        "        # here we use the dspy.Predict module which uses zero shot prompting to generate answers\n",
        "        self.prog = dspy.Predict(GSM8KSignature)\n",
        "\n",
        "    def forward(self, question):\n",
        "        return self.prog(question=question)"
      ]
    },
    {
      "cell_type": "code",
      "execution_count": 23,
      "metadata": {
        "id": "f_SDKtK7Xe_e"
      },
      "outputs": [],
      "source": [
        "gsm8k_zero_shot = GSM8KModule()"
      ]
    },
    {
      "cell_type": "code",
      "execution_count": 24,
      "metadata": {
        "id": "wfcDnJ5VXe_e"
      },
      "outputs": [],
      "source": [
        "from dspy.evaluate import Evaluate\n",
        "\n",
        "NUM_THREADS = 4 # number of threads to use for parallel processing\n",
        "evaluate = Evaluate(\n",
        "    devset=test, # the test set\n",
        "    metric=gsm8k_metric, # the metric to use -> this will convert responses to integers to compare with the gold answers\n",
        "    num_threads=NUM_THREADS,\n",
        "    display_progress=True,\n",
        "    display_table=20, # how many rows to display\n",
        ")"
      ]
    },
    {
      "cell_type": "code",
      "execution_count": 25,
      "metadata": {
        "colab": {
          "base_uri": "https://localhost:8080/",
          "height": 729
        },
        "id": "U7yx3NbyXe_f",
        "outputId": "8d566810-f01e-4c79-e505-6f07be6d1c17"
      },
      "outputs": [
        {
          "output_type": "stream",
          "name": "stdout",
          "text": [
            "Average Metric: 7.00 / 20 (35.0%): 100%|██████████| 20/20 [00:04<00:00,  4.56it/s]"
          ]
        },
        {
          "output_type": "stream",
          "name": "stderr",
          "text": [
            "2024/12/15 14:13:33 INFO dspy.evaluate.evaluate: Average Metric: 7 / 20 (35.0%)\n"
          ]
        },
        {
          "output_type": "stream",
          "name": "stdout",
          "text": [
            "\n"
          ]
        },
        {
          "output_type": "display_data",
          "data": {
            "text/plain": [
              "                                                                 question  \\\n",
              "0   Amber, Micah, and Ahito ran 52 miles in total. Amber ran 8 miles. ...   \n",
              "1   Miguel uses 2 pads of paper a week for his drawing. If there are 3...   \n",
              "2   At a certain grade level, three-fourths of students have a desktop...   \n",
              "3   Comet Halley orbits the sun every 75 years. Bill's dad saw the Com...   \n",
              "4   Tom plants 10 trees a year. Every year he also chops down 2 trees ...   \n",
              "5   John picks 4 bananas on Wednesday. Then he picks 6 bananas on Thur...   \n",
              "6   Peyton scheduled after-work activities of a one hour yoga class on...   \n",
              "7   Ben has 4 tubes of blue paint and 3 tubes of yellow paint. Jasper ...   \n",
              "8   Elaina is holding the final concert in her tour. To celebrate her ...   \n",
              "9   Hannah slips on a banana peel and breaks her arm. The doctor charg...   \n",
              "10  A loaf of bread at the bakery costs $2. Bagels cost $1 each. How m...   \n",
              "11  Bob thinks he needs 56 popsicle sticks to recreate the Washington ...   \n",
              "12  Dennis uses 1 pound of butter for every dozen croissants that he m...   \n",
              "13  Regina wrote 9 novels last year. If this is 3 quarters of the numb...   \n",
              "14  Alex is getting ready to attend an event that she has hosted and w...   \n",
              "15  Rozanne is making eggnog for her family. She uses 4 dozen eggs tha...   \n",
              "16  Matthew has a collection of 12 unique toy soldiers. He wants to se...   \n",
              "17  Mrs. Cruz is looking for a house that will not go beyond her $400 ...   \n",
              "18  Juan and his brother Carlos are selling lemonade. For each gallon ...   \n",
              "19  When the water is cold Ray swims a mile in 16 minutes. When the wa...   \n",
              "\n",
              "                                                           gold_reasoning  \\\n",
              "0   Amber ran <<8=8>>8 miles. Micah ran 3.5 * 8 miles = <<3.5*8=28>>28...   \n",
              "1   Miguel uses 30 x 2 = <<30*2=60>>60 sheets of paper every week. The...   \n",
              "2   Twenty students represent 1 - 3/4 = 1/4 of the students at that le...   \n",
              "3   Bill saw the Comet for the second time when he was 30 years * 3= <...   \n",
              "4   He gets 10-2=<<10-2=8>>8 new trees a year After 10 years he has 8*...   \n",
              "5   Combining Wednesday and Thursday, John has 4 bananas + 6 bananas =...   \n",
              "6   Peyton’s cooking class will last 3 * 1 = <<3*1=3>>3 hours. The mus...   \n",
              "7   Jasper has 4/2= <<4/2=2>>2 tubes of blue paint Jasper has 3*3=<<3*...   \n",
              "8   The concert, minus the encore, lasted for 65-minute concert – 15-m...   \n",
              "9   First find the length of the visit in hours: 30 minutes / 60 minut...   \n",
              "10  3 loaves of bread cost 3 * $2 = $<<3*2=6>>6. 2 bagels cost 2 * $1 ...   \n",
              "11  He needs 56 popsicle sticks to build his project and they come 8 t...   \n",
              "12  1 pound of butter makes 1 dozen croissants and he needs to make 6 ...   \n",
              "13  Number of novels she wrote last year = (3/4)*number of novels she ...   \n",
              "14  Each of the people that were emailed are bringing 2 friends, which...   \n",
              "15  As a dozen is equivalent to 12 eggs, Rozanne has 4 dozen eggs * 12...   \n",
              "16  Half of Matthew collection means 12 * 0.5 = <<12*0.5=6>>6 toy sold...   \n",
              "17  The brokerage fee is $350 000 x 5/100 = $<<350000*5/100=17500>>175...   \n",
              "18  Each gallon sells for a total of $10 because 20 x .5 = <<20*.5=10>...   \n",
              "19  Cold water mile = <<16=16>>16 minutes Warm water mile = 2+2(16)=34...   \n",
              "\n",
              "   example_answer  \\\n",
              "0              16   \n",
              "1             240   \n",
              "2              80   \n",
              "3              15   \n",
              "4              91   \n",
              "5              22   \n",
              "6               8   \n",
              "7              11   \n",
              "8              25   \n",
              "9             482   \n",
              "10              4   \n",
              "11             14   \n",
              "12             18   \n",
              "13             12   \n",
              "14            319   \n",
              "15              2   \n",
              "16             72   \n",
              "17           9500   \n",
              "18             15   \n",
              "19             54   \n",
              "\n",
              "                                                              pred_answer  \\\n",
              "0   Question: Amber, Micah, and Ahito ran 52 miles in total. Amber ran...   \n",
              "1   Question: Miguel uses 2 pads of paper a week for his drawing. If t...   \n",
              "2                                                              Answer: 80   \n",
              "3                                                    Answer: 72 years old   \n",
              "4                                                        Answer: 55 trees   \n",
              "5   Question: John picks 4 bananas on Wednesday. Then he picks 6 banan...   \n",
              "6                                                       Answer: 8.5 hours   \n",
              "7                                                              Answer: 10   \n",
              "8                                                      Answer: 25 minutes   \n",
              "9                                                                    $760   \n",
              "10                                                             Answer: $4   \n",
              "11                                                         Answer: $14.00   \n",
              "12                                                         Answer: $16.00   \n",
              "13                                                             Answer: 12   \n",
              "14                                                            Answer: 226   \n",
              "15                                                             Answer: 24   \n",
              "16                                                            Answer: $72   \n",
              "17  Answer: $74 000 Explanation: Brokerage fee = 5% x $350 000 = $17 5...   \n",
              "18                                                                    $14   \n",
              "19                                                     Answer: 18 minutes   \n",
              "\n",
              "   gsm8k_metric  \n",
              "0                \n",
              "1                \n",
              "2     ✔️ [True]  \n",
              "3                \n",
              "4                \n",
              "5                \n",
              "6     ✔️ [True]  \n",
              "7                \n",
              "8     ✔️ [True]  \n",
              "9                \n",
              "10    ✔️ [True]  \n",
              "11    ✔️ [True]  \n",
              "12               \n",
              "13    ✔️ [True]  \n",
              "14               \n",
              "15               \n",
              "16    ✔️ [True]  \n",
              "17               \n",
              "18               \n",
              "19               "
            ],
            "text/html": [
              "\n",
              "  <div id=\"df-9488e5ed-8f13-4c0c-89f1-a01b7e415f46\" class=\"colab-df-container\">\n",
              "    <div>\n",
              "<style scoped>\n",
              "    .dataframe tbody tr th:only-of-type {\n",
              "        vertical-align: middle;\n",
              "    }\n",
              "\n",
              "    .dataframe tbody tr th {\n",
              "        vertical-align: top;\n",
              "    }\n",
              "\n",
              "    .dataframe thead th {\n",
              "        text-align: right;\n",
              "    }\n",
              "</style>\n",
              "<table border=\"1\" class=\"dataframe\">\n",
              "  <thead>\n",
              "    <tr style=\"text-align: right;\">\n",
              "      <th></th>\n",
              "      <th>question</th>\n",
              "      <th>gold_reasoning</th>\n",
              "      <th>example_answer</th>\n",
              "      <th>pred_answer</th>\n",
              "      <th>gsm8k_metric</th>\n",
              "    </tr>\n",
              "  </thead>\n",
              "  <tbody>\n",
              "    <tr>\n",
              "      <th>0</th>\n",
              "      <td>Amber, Micah, and Ahito ran 52 miles in total. Amber ran 8 miles. ...</td>\n",
              "      <td>Amber ran &lt;&lt;8=8&gt;&gt;8 miles. Micah ran 3.5 * 8 miles = &lt;&lt;3.5*8=28&gt;&gt;28...</td>\n",
              "      <td>16</td>\n",
              "      <td>Question: Amber, Micah, and Ahito ran 52 miles in total. Amber ran...</td>\n",
              "      <td></td>\n",
              "    </tr>\n",
              "    <tr>\n",
              "      <th>1</th>\n",
              "      <td>Miguel uses 2 pads of paper a week for his drawing. If there are 3...</td>\n",
              "      <td>Miguel uses 30 x 2 = &lt;&lt;30*2=60&gt;&gt;60 sheets of paper every week. The...</td>\n",
              "      <td>240</td>\n",
              "      <td>Question: Miguel uses 2 pads of paper a week for his drawing. If t...</td>\n",
              "      <td></td>\n",
              "    </tr>\n",
              "    <tr>\n",
              "      <th>2</th>\n",
              "      <td>At a certain grade level, three-fourths of students have a desktop...</td>\n",
              "      <td>Twenty students represent 1 - 3/4 = 1/4 of the students at that le...</td>\n",
              "      <td>80</td>\n",
              "      <td>Answer: 80</td>\n",
              "      <td>✔️ [True]</td>\n",
              "    </tr>\n",
              "    <tr>\n",
              "      <th>3</th>\n",
              "      <td>Comet Halley orbits the sun every 75 years. Bill's dad saw the Com...</td>\n",
              "      <td>Bill saw the Comet for the second time when he was 30 years * 3= &lt;...</td>\n",
              "      <td>15</td>\n",
              "      <td>Answer: 72 years old</td>\n",
              "      <td></td>\n",
              "    </tr>\n",
              "    <tr>\n",
              "      <th>4</th>\n",
              "      <td>Tom plants 10 trees a year. Every year he also chops down 2 trees ...</td>\n",
              "      <td>He gets 10-2=&lt;&lt;10-2=8&gt;&gt;8 new trees a year After 10 years he has 8*...</td>\n",
              "      <td>91</td>\n",
              "      <td>Answer: 55 trees</td>\n",
              "      <td></td>\n",
              "    </tr>\n",
              "    <tr>\n",
              "      <th>5</th>\n",
              "      <td>John picks 4 bananas on Wednesday. Then he picks 6 bananas on Thur...</td>\n",
              "      <td>Combining Wednesday and Thursday, John has 4 bananas + 6 bananas =...</td>\n",
              "      <td>22</td>\n",
              "      <td>Question: John picks 4 bananas on Wednesday. Then he picks 6 banan...</td>\n",
              "      <td></td>\n",
              "    </tr>\n",
              "    <tr>\n",
              "      <th>6</th>\n",
              "      <td>Peyton scheduled after-work activities of a one hour yoga class on...</td>\n",
              "      <td>Peyton’s cooking class will last 3 * 1 = &lt;&lt;3*1=3&gt;&gt;3 hours. The mus...</td>\n",
              "      <td>8</td>\n",
              "      <td>Answer: 8.5 hours</td>\n",
              "      <td>✔️ [True]</td>\n",
              "    </tr>\n",
              "    <tr>\n",
              "      <th>7</th>\n",
              "      <td>Ben has 4 tubes of blue paint and 3 tubes of yellow paint. Jasper ...</td>\n",
              "      <td>Jasper has 4/2= &lt;&lt;4/2=2&gt;&gt;2 tubes of blue paint Jasper has 3*3=&lt;&lt;3*...</td>\n",
              "      <td>11</td>\n",
              "      <td>Answer: 10</td>\n",
              "      <td></td>\n",
              "    </tr>\n",
              "    <tr>\n",
              "      <th>8</th>\n",
              "      <td>Elaina is holding the final concert in her tour. To celebrate her ...</td>\n",
              "      <td>The concert, minus the encore, lasted for 65-minute concert – 15-m...</td>\n",
              "      <td>25</td>\n",
              "      <td>Answer: 25 minutes</td>\n",
              "      <td>✔️ [True]</td>\n",
              "    </tr>\n",
              "    <tr>\n",
              "      <th>9</th>\n",
              "      <td>Hannah slips on a banana peel and breaks her arm. The doctor charg...</td>\n",
              "      <td>First find the length of the visit in hours: 30 minutes / 60 minut...</td>\n",
              "      <td>482</td>\n",
              "      <td>$760</td>\n",
              "      <td></td>\n",
              "    </tr>\n",
              "    <tr>\n",
              "      <th>10</th>\n",
              "      <td>A loaf of bread at the bakery costs $2. Bagels cost $1 each. How m...</td>\n",
              "      <td>3 loaves of bread cost 3 * $2 = $&lt;&lt;3*2=6&gt;&gt;6. 2 bagels cost 2 * $1 ...</td>\n",
              "      <td>4</td>\n",
              "      <td>Answer: $4</td>\n",
              "      <td>✔️ [True]</td>\n",
              "    </tr>\n",
              "    <tr>\n",
              "      <th>11</th>\n",
              "      <td>Bob thinks he needs 56 popsicle sticks to recreate the Washington ...</td>\n",
              "      <td>He needs 56 popsicle sticks to build his project and they come 8 t...</td>\n",
              "      <td>14</td>\n",
              "      <td>Answer: $14.00</td>\n",
              "      <td>✔️ [True]</td>\n",
              "    </tr>\n",
              "    <tr>\n",
              "      <th>12</th>\n",
              "      <td>Dennis uses 1 pound of butter for every dozen croissants that he m...</td>\n",
              "      <td>1 pound of butter makes 1 dozen croissants and he needs to make 6 ...</td>\n",
              "      <td>18</td>\n",
              "      <td>Answer: $16.00</td>\n",
              "      <td></td>\n",
              "    </tr>\n",
              "    <tr>\n",
              "      <th>13</th>\n",
              "      <td>Regina wrote 9 novels last year. If this is 3 quarters of the numb...</td>\n",
              "      <td>Number of novels she wrote last year = (3/4)*number of novels she ...</td>\n",
              "      <td>12</td>\n",
              "      <td>Answer: 12</td>\n",
              "      <td>✔️ [True]</td>\n",
              "    </tr>\n",
              "    <tr>\n",
              "      <th>14</th>\n",
              "      <td>Alex is getting ready to attend an event that she has hosted and w...</td>\n",
              "      <td>Each of the people that were emailed are bringing 2 friends, which...</td>\n",
              "      <td>319</td>\n",
              "      <td>Answer: 226</td>\n",
              "      <td></td>\n",
              "    </tr>\n",
              "    <tr>\n",
              "      <th>15</th>\n",
              "      <td>Rozanne is making eggnog for her family. She uses 4 dozen eggs tha...</td>\n",
              "      <td>As a dozen is equivalent to 12 eggs, Rozanne has 4 dozen eggs * 12...</td>\n",
              "      <td>2</td>\n",
              "      <td>Answer: 24</td>\n",
              "      <td></td>\n",
              "    </tr>\n",
              "    <tr>\n",
              "      <th>16</th>\n",
              "      <td>Matthew has a collection of 12 unique toy soldiers. He wants to se...</td>\n",
              "      <td>Half of Matthew collection means 12 * 0.5 = &lt;&lt;12*0.5=6&gt;&gt;6 toy sold...</td>\n",
              "      <td>72</td>\n",
              "      <td>Answer: $72</td>\n",
              "      <td>✔️ [True]</td>\n",
              "    </tr>\n",
              "    <tr>\n",
              "      <th>17</th>\n",
              "      <td>Mrs. Cruz is looking for a house that will not go beyond her $400 ...</td>\n",
              "      <td>The brokerage fee is $350 000 x 5/100 = $&lt;&lt;350000*5/100=17500&gt;&gt;175...</td>\n",
              "      <td>9500</td>\n",
              "      <td>Answer: $74 000 Explanation: Brokerage fee = 5% x $350 000 = $17 5...</td>\n",
              "      <td></td>\n",
              "    </tr>\n",
              "    <tr>\n",
              "      <th>18</th>\n",
              "      <td>Juan and his brother Carlos are selling lemonade. For each gallon ...</td>\n",
              "      <td>Each gallon sells for a total of $10 because 20 x .5 = &lt;&lt;20*.5=10&gt;...</td>\n",
              "      <td>15</td>\n",
              "      <td>$14</td>\n",
              "      <td></td>\n",
              "    </tr>\n",
              "    <tr>\n",
              "      <th>19</th>\n",
              "      <td>When the water is cold Ray swims a mile in 16 minutes. When the wa...</td>\n",
              "      <td>Cold water mile = &lt;&lt;16=16&gt;&gt;16 minutes Warm water mile = 2+2(16)=34...</td>\n",
              "      <td>54</td>\n",
              "      <td>Answer: 18 minutes</td>\n",
              "      <td></td>\n",
              "    </tr>\n",
              "  </tbody>\n",
              "</table>\n",
              "</div>\n",
              "    <div class=\"colab-df-buttons\">\n",
              "\n",
              "  <div class=\"colab-df-container\">\n",
              "    <button class=\"colab-df-convert\" onclick=\"convertToInteractive('df-9488e5ed-8f13-4c0c-89f1-a01b7e415f46')\"\n",
              "            title=\"Convert this dataframe to an interactive table.\"\n",
              "            style=\"display:none;\">\n",
              "\n",
              "  <svg xmlns=\"http://www.w3.org/2000/svg\" height=\"24px\" viewBox=\"0 -960 960 960\">\n",
              "    <path d=\"M120-120v-720h720v720H120Zm60-500h600v-160H180v160Zm220 220h160v-160H400v160Zm0 220h160v-160H400v160ZM180-400h160v-160H180v160Zm440 0h160v-160H620v160ZM180-180h160v-160H180v160Zm440 0h160v-160H620v160Z\"/>\n",
              "  </svg>\n",
              "    </button>\n",
              "\n",
              "  <style>\n",
              "    .colab-df-container {\n",
              "      display:flex;\n",
              "      gap: 12px;\n",
              "    }\n",
              "\n",
              "    .colab-df-convert {\n",
              "      background-color: #E8F0FE;\n",
              "      border: none;\n",
              "      border-radius: 50%;\n",
              "      cursor: pointer;\n",
              "      display: none;\n",
              "      fill: #1967D2;\n",
              "      height: 32px;\n",
              "      padding: 0 0 0 0;\n",
              "      width: 32px;\n",
              "    }\n",
              "\n",
              "    .colab-df-convert:hover {\n",
              "      background-color: #E2EBFA;\n",
              "      box-shadow: 0px 1px 2px rgba(60, 64, 67, 0.3), 0px 1px 3px 1px rgba(60, 64, 67, 0.15);\n",
              "      fill: #174EA6;\n",
              "    }\n",
              "\n",
              "    .colab-df-buttons div {\n",
              "      margin-bottom: 4px;\n",
              "    }\n",
              "\n",
              "    [theme=dark] .colab-df-convert {\n",
              "      background-color: #3B4455;\n",
              "      fill: #D2E3FC;\n",
              "    }\n",
              "\n",
              "    [theme=dark] .colab-df-convert:hover {\n",
              "      background-color: #434B5C;\n",
              "      box-shadow: 0px 1px 3px 1px rgba(0, 0, 0, 0.15);\n",
              "      filter: drop-shadow(0px 1px 2px rgba(0, 0, 0, 0.3));\n",
              "      fill: #FFFFFF;\n",
              "    }\n",
              "  </style>\n",
              "\n",
              "    <script>\n",
              "      const buttonEl =\n",
              "        document.querySelector('#df-9488e5ed-8f13-4c0c-89f1-a01b7e415f46 button.colab-df-convert');\n",
              "      buttonEl.style.display =\n",
              "        google.colab.kernel.accessAllowed ? 'block' : 'none';\n",
              "\n",
              "      async function convertToInteractive(key) {\n",
              "        const element = document.querySelector('#df-9488e5ed-8f13-4c0c-89f1-a01b7e415f46');\n",
              "        const dataTable =\n",
              "          await google.colab.kernel.invokeFunction('convertToInteractive',\n",
              "                                                    [key], {});\n",
              "        if (!dataTable) return;\n",
              "\n",
              "        const docLinkHtml = 'Like what you see? Visit the ' +\n",
              "          '<a target=\"_blank\" href=https://colab.research.google.com/notebooks/data_table.ipynb>data table notebook</a>'\n",
              "          + ' to learn more about interactive tables.';\n",
              "        element.innerHTML = '';\n",
              "        dataTable['output_type'] = 'display_data';\n",
              "        await google.colab.output.renderOutput(dataTable, element);\n",
              "        const docLink = document.createElement('div');\n",
              "        docLink.innerHTML = docLinkHtml;\n",
              "        element.appendChild(docLink);\n",
              "      }\n",
              "    </script>\n",
              "  </div>\n",
              "\n",
              "\n",
              "<div id=\"df-ce775935-ef19-45f1-be47-21d65837cef4\">\n",
              "  <button class=\"colab-df-quickchart\" onclick=\"quickchart('df-ce775935-ef19-45f1-be47-21d65837cef4')\"\n",
              "            title=\"Suggest charts\"\n",
              "            style=\"display:none;\">\n",
              "\n",
              "<svg xmlns=\"http://www.w3.org/2000/svg\" height=\"24px\"viewBox=\"0 0 24 24\"\n",
              "     width=\"24px\">\n",
              "    <g>\n",
              "        <path d=\"M19 3H5c-1.1 0-2 .9-2 2v14c0 1.1.9 2 2 2h14c1.1 0 2-.9 2-2V5c0-1.1-.9-2-2-2zM9 17H7v-7h2v7zm4 0h-2V7h2v10zm4 0h-2v-4h2v4z\"/>\n",
              "    </g>\n",
              "</svg>\n",
              "  </button>\n",
              "\n",
              "<style>\n",
              "  .colab-df-quickchart {\n",
              "      --bg-color: #E8F0FE;\n",
              "      --fill-color: #1967D2;\n",
              "      --hover-bg-color: #E2EBFA;\n",
              "      --hover-fill-color: #174EA6;\n",
              "      --disabled-fill-color: #AAA;\n",
              "      --disabled-bg-color: #DDD;\n",
              "  }\n",
              "\n",
              "  [theme=dark] .colab-df-quickchart {\n",
              "      --bg-color: #3B4455;\n",
              "      --fill-color: #D2E3FC;\n",
              "      --hover-bg-color: #434B5C;\n",
              "      --hover-fill-color: #FFFFFF;\n",
              "      --disabled-bg-color: #3B4455;\n",
              "      --disabled-fill-color: #666;\n",
              "  }\n",
              "\n",
              "  .colab-df-quickchart {\n",
              "    background-color: var(--bg-color);\n",
              "    border: none;\n",
              "    border-radius: 50%;\n",
              "    cursor: pointer;\n",
              "    display: none;\n",
              "    fill: var(--fill-color);\n",
              "    height: 32px;\n",
              "    padding: 0;\n",
              "    width: 32px;\n",
              "  }\n",
              "\n",
              "  .colab-df-quickchart:hover {\n",
              "    background-color: var(--hover-bg-color);\n",
              "    box-shadow: 0 1px 2px rgba(60, 64, 67, 0.3), 0 1px 3px 1px rgba(60, 64, 67, 0.15);\n",
              "    fill: var(--button-hover-fill-color);\n",
              "  }\n",
              "\n",
              "  .colab-df-quickchart-complete:disabled,\n",
              "  .colab-df-quickchart-complete:disabled:hover {\n",
              "    background-color: var(--disabled-bg-color);\n",
              "    fill: var(--disabled-fill-color);\n",
              "    box-shadow: none;\n",
              "  }\n",
              "\n",
              "  .colab-df-spinner {\n",
              "    border: 2px solid var(--fill-color);\n",
              "    border-color: transparent;\n",
              "    border-bottom-color: var(--fill-color);\n",
              "    animation:\n",
              "      spin 1s steps(1) infinite;\n",
              "  }\n",
              "\n",
              "  @keyframes spin {\n",
              "    0% {\n",
              "      border-color: transparent;\n",
              "      border-bottom-color: var(--fill-color);\n",
              "      border-left-color: var(--fill-color);\n",
              "    }\n",
              "    20% {\n",
              "      border-color: transparent;\n",
              "      border-left-color: var(--fill-color);\n",
              "      border-top-color: var(--fill-color);\n",
              "    }\n",
              "    30% {\n",
              "      border-color: transparent;\n",
              "      border-left-color: var(--fill-color);\n",
              "      border-top-color: var(--fill-color);\n",
              "      border-right-color: var(--fill-color);\n",
              "    }\n",
              "    40% {\n",
              "      border-color: transparent;\n",
              "      border-right-color: var(--fill-color);\n",
              "      border-top-color: var(--fill-color);\n",
              "    }\n",
              "    60% {\n",
              "      border-color: transparent;\n",
              "      border-right-color: var(--fill-color);\n",
              "    }\n",
              "    80% {\n",
              "      border-color: transparent;\n",
              "      border-right-color: var(--fill-color);\n",
              "      border-bottom-color: var(--fill-color);\n",
              "    }\n",
              "    90% {\n",
              "      border-color: transparent;\n",
              "      border-bottom-color: var(--fill-color);\n",
              "    }\n",
              "  }\n",
              "</style>\n",
              "\n",
              "  <script>\n",
              "    async function quickchart(key) {\n",
              "      const quickchartButtonEl =\n",
              "        document.querySelector('#' + key + ' button');\n",
              "      quickchartButtonEl.disabled = true;  // To prevent multiple clicks.\n",
              "      quickchartButtonEl.classList.add('colab-df-spinner');\n",
              "      try {\n",
              "        const charts = await google.colab.kernel.invokeFunction(\n",
              "            'suggestCharts', [key], {});\n",
              "      } catch (error) {\n",
              "        console.error('Error during call to suggestCharts:', error);\n",
              "      }\n",
              "      quickchartButtonEl.classList.remove('colab-df-spinner');\n",
              "      quickchartButtonEl.classList.add('colab-df-quickchart-complete');\n",
              "    }\n",
              "    (() => {\n",
              "      let quickchartButtonEl =\n",
              "        document.querySelector('#df-ce775935-ef19-45f1-be47-21d65837cef4 button');\n",
              "      quickchartButtonEl.style.display =\n",
              "        google.colab.kernel.accessAllowed ? 'block' : 'none';\n",
              "    })();\n",
              "  </script>\n",
              "</div>\n",
              "\n",
              "    </div>\n",
              "  </div>\n"
            ],
            "application/vnd.google.colaboratory.intrinsic+json": {
              "type": "dataframe",
              "summary": "{\n  \"name\": \"evaluate(gsm8k_zero_shot)\",\n  \"rows\": 20,\n  \"fields\": [\n    {\n      \"column\": \"question\",\n      \"properties\": {\n        \"dtype\": \"string\",\n        \"num_unique_values\": 20,\n        \"samples\": [\n          \"Amber, Micah, and Ahito ran 52 miles in total. Amber ran 8 miles. Micah ran 3.5 times what Amber ran. How many miles did Ahito...\",\n          \"Mrs. Cruz is looking for a house that will not go beyond her $400 000 budget. She saw a property that has a selling price...\",\n          \"Rozanne is making eggnog for her family. She uses 4 dozen eggs that were in cases and another 2 eggs that were loose in the...\"\n        ],\n        \"semantic_type\": \"\",\n        \"description\": \"\"\n      }\n    },\n    {\n      \"column\": \"gold_reasoning\",\n      \"properties\": {\n        \"dtype\": \"string\",\n        \"num_unique_values\": 20,\n        \"samples\": [\n          \"Amber ran <<8=8>>8 miles. Micah ran 3.5 * 8 miles = <<3.5*8=28>>28 miles Ahito ran the rest = 52 - 8 - 28 = <<52-8-28=16>>16...\",\n          \"The brokerage fee is $350 000 x 5/100 = $<<350000*5/100=17500>>17500. The transfer fee is $350 000 x 12/100 = $<<350000*12/100=42000>>42000. The total price of the...\",\n          \"As a dozen is equivalent to 12 eggs, Rozanne has 4 dozen eggs * 12 = <<4*12=48>>48 eggs in cases. She therefore has a total...\"\n        ],\n        \"semantic_type\": \"\",\n        \"description\": \"\"\n      }\n    },\n    {\n      \"column\": \"example_answer\",\n      \"properties\": {\n        \"dtype\": \"string\",\n        \"num_unique_values\": 19,\n        \"samples\": [\n          \"16\",\n          \"22\",\n          \"14\"\n        ],\n        \"semantic_type\": \"\",\n        \"description\": \"\"\n      }\n    },\n    {\n      \"column\": \"pred_answer\",\n      \"properties\": {\n        \"dtype\": \"string\",\n        \"num_unique_values\": 20,\n        \"samples\": [\n          \"Question: Amber, Micah, and Ahito ran 52 miles in total. Amber ran 8 miles. Micah ran 3.5 times what Amber ran. How many miles did...\",\n          \"Answer: $74 000 Explanation: Brokerage fee = 5% x $350 000 = $17 500 Transfer fee = 12% x $350 000 = $42 000 Total...\",\n          \"Answer: 24\"\n        ],\n        \"semantic_type\": \"\",\n        \"description\": \"\"\n      }\n    },\n    {\n      \"column\": \"gsm8k_metric\",\n      \"properties\": {\n        \"dtype\": \"category\",\n        \"num_unique_values\": 2,\n        \"samples\": [\n          \"\\u2714\\ufe0f [True]\",\n          \"\"\n        ],\n        \"semantic_type\": \"\",\n        \"description\": \"\"\n      }\n    }\n  ]\n}"
            }
          },
          "metadata": {}
        },
        {
          "output_type": "execute_result",
          "data": {
            "text/plain": [
              "35.0"
            ]
          },
          "metadata": {},
          "execution_count": 25
        }
      ],
      "source": [
        "evaluate(gsm8k_zero_shot)"
      ]
    },
    {
      "cell_type": "markdown",
      "metadata": {
        "id": "We0TMzUdXe_f"
      },
      "source": [
        "# Bootstrapping few shot examples"
      ]
    },
    {
      "cell_type": "markdown",
      "metadata": {
        "id": "4EIdxezRXe_f"
      },
      "source": [
        "Now we will leverage Gemini Ultra to bootstrap few shot examples which will (hopefully) improve Gemini Pro's performance on the test dataset. With Gemini Ultra we will create a few reasoning examples which we can include in the prompt that we will eventually send to Gemini Pro. Ultra will produce a few candidates and test them on a validation dataset using the `gsm8k_metric`, i.e. the metric we want to optimise for. Once the best candidates have been identified these examples will then be used to create a few shot prompt."
      ]
    },
    {
      "cell_type": "markdown",
      "metadata": {
        "id": "Uopw9zRvXe_f"
      },
      "source": [
        "First we define a Chain of Thought module:"
      ]
    },
    {
      "cell_type": "code",
      "execution_count": 26,
      "metadata": {
        "id": "RNBV4cK8Xe_f"
      },
      "outputs": [],
      "source": [
        "class ZeroShotCoT(dspy.Module):\n",
        "    def __init__(self):\n",
        "        super().__init__()\n",
        "        self.prog = dspy.ChainOfThought(\n",
        "            GSM8KSignature,\n",
        "        )\n",
        "\n",
        "    def forward(self, question):\n",
        "        return self.prog(question=question)"
      ]
    },
    {
      "cell_type": "code",
      "execution_count": 27,
      "metadata": {
        "id": "peIiTxkoXe_f"
      },
      "outputs": [],
      "source": [
        "from dspy.teleprompt import BootstrapFewShotWithRandomSearch"
      ]
    },
    {
      "cell_type": "markdown",
      "metadata": {
        "id": "SjMe-pg6Xe_f"
      },
      "source": [
        "Now we can start the bootstrapping:"
      ]
    },
    {
      "cell_type": "code",
      "execution_count": 28,
      "metadata": {
        "colab": {
          "base_uri": "https://localhost:8080/"
        },
        "id": "5Ypg49z-Xe_f",
        "outputId": "c9433922-a92b-4c06-ceb0-69a315108ade"
      },
      "outputs": [
        {
          "output_type": "stream",
          "name": "stdout",
          "text": [
            "Going to sample between 1 and 8 traces per predictor.\n",
            "Will attempt to bootstrap 2 candidate sets.\n",
            "Average Metric: 17.00 / 20 (85.0%): 100%|██████████| 20/20 [00:10<00:00,  1.88it/s]"
          ]
        },
        {
          "output_type": "stream",
          "name": "stderr",
          "text": [
            "2024/12/15 14:14:05 INFO dspy.evaluate.evaluate: Average Metric: 17 / 20 (85.0%)\n"
          ]
        },
        {
          "output_type": "stream",
          "name": "stdout",
          "text": [
            "\n",
            "New best score: 85.0 for seed -3\n",
            "Scores so far: [85.0]\n",
            "Best score so far: 85.0\n",
            "Average Metric: 6.00 / 20 (30.0%): 100%|██████████| 20/20 [00:07<00:00,  2.79it/s]"
          ]
        },
        {
          "output_type": "stream",
          "name": "stderr",
          "text": [
            "2024/12/15 14:14:13 INFO dspy.evaluate.evaluate: Average Metric: 6 / 20 (30.0%)\n"
          ]
        },
        {
          "output_type": "stream",
          "name": "stdout",
          "text": [
            "\n",
            "Scores so far: [85.0, 30.0]\n",
            "Best score so far: 85.0\n"
          ]
        },
        {
          "output_type": "stream",
          "name": "stderr",
          "text": [
            " 35%|███▌      | 21/60 [00:30<00:57,  1.47s/it]\n"
          ]
        },
        {
          "output_type": "stream",
          "name": "stdout",
          "text": [
            "Bootstrapped 8 full traces after 21 examples for up to 1 rounds, amounting to 21 attempts.\n",
            "Average Metric: 17.00 / 20 (85.0%): 100%|██████████| 20/20 [00:09<00:00,  2.21it/s]"
          ]
        },
        {
          "output_type": "stream",
          "name": "stderr",
          "text": [
            "2024/12/15 14:14:53 INFO dspy.evaluate.evaluate: Average Metric: 17 / 20 (85.0%)\n"
          ]
        },
        {
          "output_type": "stream",
          "name": "stdout",
          "text": [
            "\n",
            "Scores so far: [85.0, 30.0, 85.0]\n",
            "Best score so far: 85.0\n"
          ]
        },
        {
          "output_type": "stream",
          "name": "stderr",
          "text": [
            " 43%|████▎     | 26/60 [00:40<00:52,  1.56s/it]\n"
          ]
        },
        {
          "output_type": "stream",
          "name": "stdout",
          "text": [
            "Bootstrapped 7 full traces after 26 examples for up to 1 rounds, amounting to 26 attempts.\n",
            "Average Metric: 14.00 / 20 (70.0%): 100%|██████████| 20/20 [00:09<00:00,  2.17it/s]"
          ]
        },
        {
          "output_type": "stream",
          "name": "stderr",
          "text": [
            "2024/12/15 14:15:42 INFO dspy.evaluate.evaluate: Average Metric: 14 / 20 (70.0%)\n"
          ]
        },
        {
          "output_type": "stream",
          "name": "stdout",
          "text": [
            "\n",
            "Scores so far: [85.0, 30.0, 85.0, 70.0]\n",
            "Best score so far: 85.0\n"
          ]
        },
        {
          "output_type": "stream",
          "name": "stderr",
          "text": [
            " 20%|██        | 12/60 [00:19<01:18,  1.64s/it]\n"
          ]
        },
        {
          "output_type": "stream",
          "name": "stdout",
          "text": [
            "Bootstrapped 3 full traces after 12 examples for up to 1 rounds, amounting to 12 attempts.\n",
            "Average Metric: 15.00 / 20 (75.0%): 100%|██████████| 20/20 [00:10<00:00,  1.94it/s]"
          ]
        },
        {
          "output_type": "stream",
          "name": "stderr",
          "text": [
            "2024/12/15 14:16:12 INFO dspy.evaluate.evaluate: Average Metric: 15 / 20 (75.0%)\n"
          ]
        },
        {
          "output_type": "stream",
          "name": "stdout",
          "text": [
            "\n",
            "Scores so far: [85.0, 30.0, 85.0, 70.0, 75.0]\n",
            "Best score so far: 85.0\n",
            "5 candidate programs found.\n"
          ]
        }
      ],
      "source": [
        "from datetime import datetime\n",
        "\n",
        "RUN_FROM_SCRATCH = True\n",
        "bootstrapped_demos = 8 # how many examples are randomly being used from the training dataset\n",
        "labeled_demos = 3 # how many examples will be in final prompt\n",
        "candidate_programs = 2 # how many candidates will be created and evaluated (equivalent to epochs)\n",
        "teacher_model_id = \"gemini-1.0-pro\"\n",
        "\n",
        "if RUN_FROM_SCRATCH:\n",
        "    dspy_gemini_ultra = dspy.GoogleVertexAI(\n",
        "        teacher_model_id,\n",
        "        temperature=0,\n",
        "    )\n",
        "    dspy.settings.configure(lm=dspy_gemini_ultra, timeout=0)\n",
        "    config = dict(\n",
        "        max_bootstrapped_demos=bootstrapped_demos,\n",
        "        max_labeled_demos=labeled_demos,\n",
        "        num_candidate_programs=candidate_programs,\n",
        "        num_threads=4,\n",
        "        stop_at_score=100.0,\n",
        "    )\n",
        "    bootstrap_optimizer = BootstrapFewShotWithRandomSearch(\n",
        "        metric=gsm8k_metric, **config\n",
        "    )\n",
        "    cot_fewshot = bootstrap_optimizer.compile(ZeroShotCoT(), trainset=train, valset=val)\n",
        "\n",
        "    # save the bootstrap demonstrations for future use\n",
        "    timestamp_str = datetime.now().strftime(\"%Y%m%d-%H%M%S\")\n",
        "    filename = f\"{timestamp_str}_{teacher_model_id}_{bootstrapped_demos}_{labeled_demos}_{candidate_programs}.json\"\n",
        "    cot_fewshot.save(filename)\n",
        "else:\n",
        "    cot_fewshot = ZeroShotCoT()\n",
        "    cot_fewshot.load(\"20240403-173150_gemini-1.0-ultra_8_3_2.json\")"
      ]
    },
    {
      "cell_type": "markdown",
      "metadata": {
        "id": "Jgf-u2nAXe_f"
      },
      "source": [
        "After this step we have our examples ready, and we can test Gemini Pro on the same test dataset as above."
      ]
    },
    {
      "cell_type": "code",
      "execution_count": 29,
      "metadata": {
        "id": "KDgR4EpOXe_f"
      },
      "outputs": [],
      "source": [
        "dspy.settings.configure(lm=dspy_gemini_pro, timeout=0)"
      ]
    },
    {
      "cell_type": "code",
      "execution_count": 30,
      "metadata": {
        "colab": {
          "base_uri": "https://localhost:8080/",
          "height": 1000
        },
        "id": "UzodrZeOXe_g",
        "outputId": "cfdf1e94-86d3-4b9d-f880-c12f1db6980a"
      },
      "outputs": [
        {
          "output_type": "stream",
          "name": "stdout",
          "text": [
            "Average Metric: 14.00 / 20 (70.0%): 100%|██████████| 20/20 [00:12<00:00,  1.62it/s]"
          ]
        },
        {
          "output_type": "stream",
          "name": "stderr",
          "text": [
            "2024/12/15 14:16:25 INFO dspy.evaluate.evaluate: Average Metric: 14 / 20 (70.0%)\n"
          ]
        },
        {
          "output_type": "stream",
          "name": "stdout",
          "text": [
            "\n"
          ]
        },
        {
          "output_type": "display_data",
          "data": {
            "text/plain": [
              "                                                                 question  \\\n",
              "0   Amber, Micah, and Ahito ran 52 miles in total. Amber ran 8 miles. ...   \n",
              "1   Miguel uses 2 pads of paper a week for his drawing. If there are 3...   \n",
              "2   At a certain grade level, three-fourths of students have a desktop...   \n",
              "3   Comet Halley orbits the sun every 75 years. Bill's dad saw the Com...   \n",
              "4   Tom plants 10 trees a year. Every year he also chops down 2 trees ...   \n",
              "5   John picks 4 bananas on Wednesday. Then he picks 6 bananas on Thur...   \n",
              "6   Peyton scheduled after-work activities of a one hour yoga class on...   \n",
              "7   Ben has 4 tubes of blue paint and 3 tubes of yellow paint. Jasper ...   \n",
              "8   Elaina is holding the final concert in her tour. To celebrate her ...   \n",
              "9   Hannah slips on a banana peel and breaks her arm. The doctor charg...   \n",
              "10  A loaf of bread at the bakery costs $2. Bagels cost $1 each. How m...   \n",
              "11  Bob thinks he needs 56 popsicle sticks to recreate the Washington ...   \n",
              "12  Dennis uses 1 pound of butter for every dozen croissants that he m...   \n",
              "13  Regina wrote 9 novels last year. If this is 3 quarters of the numb...   \n",
              "14  Alex is getting ready to attend an event that she has hosted and w...   \n",
              "15  Rozanne is making eggnog for her family. She uses 4 dozen eggs tha...   \n",
              "16  Matthew has a collection of 12 unique toy soldiers. He wants to se...   \n",
              "17  Mrs. Cruz is looking for a house that will not go beyond her $400 ...   \n",
              "18  Juan and his brother Carlos are selling lemonade. For each gallon ...   \n",
              "19  When the water is cold Ray swims a mile in 16 minutes. When the wa...   \n",
              "\n",
              "                                                           gold_reasoning  \\\n",
              "0   Amber ran <<8=8>>8 miles. Micah ran 3.5 * 8 miles = <<3.5*8=28>>28...   \n",
              "1   Miguel uses 30 x 2 = <<30*2=60>>60 sheets of paper every week. The...   \n",
              "2   Twenty students represent 1 - 3/4 = 1/4 of the students at that le...   \n",
              "3   Bill saw the Comet for the second time when he was 30 years * 3= <...   \n",
              "4   He gets 10-2=<<10-2=8>>8 new trees a year After 10 years he has 8*...   \n",
              "5   Combining Wednesday and Thursday, John has 4 bananas + 6 bananas =...   \n",
              "6   Peyton’s cooking class will last 3 * 1 = <<3*1=3>>3 hours. The mus...   \n",
              "7   Jasper has 4/2= <<4/2=2>>2 tubes of blue paint Jasper has 3*3=<<3*...   \n",
              "8   The concert, minus the encore, lasted for 65-minute concert – 15-m...   \n",
              "9   First find the length of the visit in hours: 30 minutes / 60 minut...   \n",
              "10  3 loaves of bread cost 3 * $2 = $<<3*2=6>>6. 2 bagels cost 2 * $1 ...   \n",
              "11  He needs 56 popsicle sticks to build his project and they come 8 t...   \n",
              "12  1 pound of butter makes 1 dozen croissants and he needs to make 6 ...   \n",
              "13  Number of novels she wrote last year = (3/4)*number of novels she ...   \n",
              "14  Each of the people that were emailed are bringing 2 friends, which...   \n",
              "15  As a dozen is equivalent to 12 eggs, Rozanne has 4 dozen eggs * 12...   \n",
              "16  Half of Matthew collection means 12 * 0.5 = <<12*0.5=6>>6 toy sold...   \n",
              "17  The brokerage fee is $350 000 x 5/100 = $<<350000*5/100=17500>>175...   \n",
              "18  Each gallon sells for a total of $10 because 20 x .5 = <<20*.5=10>...   \n",
              "19  Cold water mile = <<16=16>>16 minutes Warm water mile = 2+2(16)=34...   \n",
              "\n",
              "   example_answer  \\\n",
              "0              16   \n",
              "1             240   \n",
              "2              80   \n",
              "3              15   \n",
              "4              91   \n",
              "5              22   \n",
              "6               8   \n",
              "7              11   \n",
              "8              25   \n",
              "9             482   \n",
              "10              4   \n",
              "11             14   \n",
              "12             18   \n",
              "13             12   \n",
              "14            319   \n",
              "15              2   \n",
              "16             72   \n",
              "17           9500   \n",
              "18             15   \n",
              "19             54   \n",
              "\n",
              "                                                                rationale  \\\n",
              "0   Question: Amber, Micah, and Ahito ran 52 miles in total. Amber ran...   \n",
              "1   Question: Miguel uses 2 pads of paper a week for his drawing. If t...   \n",
              "2   Question: At a certain grade level, three-fourths of students have...   \n",
              "3   find out how old Bill was when he saw the Comet for the first time...   \n",
              "4   calculate the number of trees Tom has left after 10 years. 1. Firs...   \n",
              "5   find the total number of bananas John has. We start by finding the...   \n",
              "6   Question: Peyton scheduled after-work activities of a one hour yog...   \n",
              "7   Question: Ben has 4 tubes of blue paint and 3 tubes of yellow pain...   \n",
              "8   Question: Elaina is holding the final concert in her tour. To cele...   \n",
              "9   Question: Hannah slips on a banana peel and breaks her arm. The do...   \n",
              "10  Question: A loaf of bread at the bakery costs $2. Bagels cost $1 e...   \n",
              "11  calculate the cost. We first need to determine how many boxes of p...   \n",
              "12  Question: Dennis uses 1 pound of butter for every dozen croissants...   \n",
              "13  Question: Regina wrote 9 novels last year. If this is 3 quarters o...   \n",
              "14  Question: Alex is getting ready to attend an event that she has ho...   \n",
              "15  Question: Rozanne is making eggnog for her family. She uses 4 doze...   \n",
              "16                                                            Answer: $72   \n",
              "17  Question: Mrs. Cruz is looking for a house that will not go beyond...   \n",
              "18  Question: Juan and his brother Carlos are selling lemonade. For ea...   \n",
              "19  calculate how much longer Ray takes to swim 3 miles on a hot day t...   \n",
              "\n",
              "                                                              pred_answer  \\\n",
              "0                                                                16 miles   \n",
              "1                                                                     240   \n",
              "2                                                             80 students   \n",
              "3                                                           60 years old.   \n",
              "4                                                                56 trees   \n",
              "5                                                                      22   \n",
              "6                                                                8 hours.   \n",
              "7                                                                      11   \n",
              "8                                                              25 minutes   \n",
              "9                                                                    $482   \n",
              "10                                                                     $4   \n",
              "11                                                                 $14.00   \n",
              "12                                                                 $24.00   \n",
              "13                                Regina has written 12 novels this year.   \n",
              "14                                                                    326   \n",
              "15                                                                      2   \n",
              "16  Question: Matthew has a collection of 12 unique toy soldiers. He w...   \n",
              "17                                                                 $9,500   \n",
              "18                                                                -$17.00   \n",
              "19                                                             54 minutes   \n",
              "\n",
              "   gsm8k_metric  \n",
              "0     ✔️ [True]  \n",
              "1     ✔️ [True]  \n",
              "2     ✔️ [True]  \n",
              "3                \n",
              "4                \n",
              "5     ✔️ [True]  \n",
              "6     ✔️ [True]  \n",
              "7     ✔️ [True]  \n",
              "8     ✔️ [True]  \n",
              "9     ✔️ [True]  \n",
              "10    ✔️ [True]  \n",
              "11    ✔️ [True]  \n",
              "12               \n",
              "13    ✔️ [True]  \n",
              "14               \n",
              "15    ✔️ [True]  \n",
              "16               \n",
              "17    ✔️ [True]  \n",
              "18               \n",
              "19    ✔️ [True]  "
            ],
            "text/html": [
              "\n",
              "  <div id=\"df-c24867bc-c325-43c0-a937-b705ab7cb54f\" class=\"colab-df-container\">\n",
              "    <div>\n",
              "<style scoped>\n",
              "    .dataframe tbody tr th:only-of-type {\n",
              "        vertical-align: middle;\n",
              "    }\n",
              "\n",
              "    .dataframe tbody tr th {\n",
              "        vertical-align: top;\n",
              "    }\n",
              "\n",
              "    .dataframe thead th {\n",
              "        text-align: right;\n",
              "    }\n",
              "</style>\n",
              "<table border=\"1\" class=\"dataframe\">\n",
              "  <thead>\n",
              "    <tr style=\"text-align: right;\">\n",
              "      <th></th>\n",
              "      <th>question</th>\n",
              "      <th>gold_reasoning</th>\n",
              "      <th>example_answer</th>\n",
              "      <th>rationale</th>\n",
              "      <th>pred_answer</th>\n",
              "      <th>gsm8k_metric</th>\n",
              "    </tr>\n",
              "  </thead>\n",
              "  <tbody>\n",
              "    <tr>\n",
              "      <th>0</th>\n",
              "      <td>Amber, Micah, and Ahito ran 52 miles in total. Amber ran 8 miles. ...</td>\n",
              "      <td>Amber ran &lt;&lt;8=8&gt;&gt;8 miles. Micah ran 3.5 * 8 miles = &lt;&lt;3.5*8=28&gt;&gt;28...</td>\n",
              "      <td>16</td>\n",
              "      <td>Question: Amber, Micah, and Ahito ran 52 miles in total. Amber ran...</td>\n",
              "      <td>16 miles</td>\n",
              "      <td>✔️ [True]</td>\n",
              "    </tr>\n",
              "    <tr>\n",
              "      <th>1</th>\n",
              "      <td>Miguel uses 2 pads of paper a week for his drawing. If there are 3...</td>\n",
              "      <td>Miguel uses 30 x 2 = &lt;&lt;30*2=60&gt;&gt;60 sheets of paper every week. The...</td>\n",
              "      <td>240</td>\n",
              "      <td>Question: Miguel uses 2 pads of paper a week for his drawing. If t...</td>\n",
              "      <td>240</td>\n",
              "      <td>✔️ [True]</td>\n",
              "    </tr>\n",
              "    <tr>\n",
              "      <th>2</th>\n",
              "      <td>At a certain grade level, three-fourths of students have a desktop...</td>\n",
              "      <td>Twenty students represent 1 - 3/4 = 1/4 of the students at that le...</td>\n",
              "      <td>80</td>\n",
              "      <td>Question: At a certain grade level, three-fourths of students have...</td>\n",
              "      <td>80 students</td>\n",
              "      <td>✔️ [True]</td>\n",
              "    </tr>\n",
              "    <tr>\n",
              "      <th>3</th>\n",
              "      <td>Comet Halley orbits the sun every 75 years. Bill's dad saw the Com...</td>\n",
              "      <td>Bill saw the Comet for the second time when he was 30 years * 3= &lt;...</td>\n",
              "      <td>15</td>\n",
              "      <td>find out how old Bill was when he saw the Comet for the first time...</td>\n",
              "      <td>60 years old.</td>\n",
              "      <td></td>\n",
              "    </tr>\n",
              "    <tr>\n",
              "      <th>4</th>\n",
              "      <td>Tom plants 10 trees a year. Every year he also chops down 2 trees ...</td>\n",
              "      <td>He gets 10-2=&lt;&lt;10-2=8&gt;&gt;8 new trees a year After 10 years he has 8*...</td>\n",
              "      <td>91</td>\n",
              "      <td>calculate the number of trees Tom has left after 10 years. 1. Firs...</td>\n",
              "      <td>56 trees</td>\n",
              "      <td></td>\n",
              "    </tr>\n",
              "    <tr>\n",
              "      <th>5</th>\n",
              "      <td>John picks 4 bananas on Wednesday. Then he picks 6 bananas on Thur...</td>\n",
              "      <td>Combining Wednesday and Thursday, John has 4 bananas + 6 bananas =...</td>\n",
              "      <td>22</td>\n",
              "      <td>find the total number of bananas John has. We start by finding the...</td>\n",
              "      <td>22</td>\n",
              "      <td>✔️ [True]</td>\n",
              "    </tr>\n",
              "    <tr>\n",
              "      <th>6</th>\n",
              "      <td>Peyton scheduled after-work activities of a one hour yoga class on...</td>\n",
              "      <td>Peyton’s cooking class will last 3 * 1 = &lt;&lt;3*1=3&gt;&gt;3 hours. The mus...</td>\n",
              "      <td>8</td>\n",
              "      <td>Question: Peyton scheduled after-work activities of a one hour yog...</td>\n",
              "      <td>8 hours.</td>\n",
              "      <td>✔️ [True]</td>\n",
              "    </tr>\n",
              "    <tr>\n",
              "      <th>7</th>\n",
              "      <td>Ben has 4 tubes of blue paint and 3 tubes of yellow paint. Jasper ...</td>\n",
              "      <td>Jasper has 4/2= &lt;&lt;4/2=2&gt;&gt;2 tubes of blue paint Jasper has 3*3=&lt;&lt;3*...</td>\n",
              "      <td>11</td>\n",
              "      <td>Question: Ben has 4 tubes of blue paint and 3 tubes of yellow pain...</td>\n",
              "      <td>11</td>\n",
              "      <td>✔️ [True]</td>\n",
              "    </tr>\n",
              "    <tr>\n",
              "      <th>8</th>\n",
              "      <td>Elaina is holding the final concert in her tour. To celebrate her ...</td>\n",
              "      <td>The concert, minus the encore, lasted for 65-minute concert – 15-m...</td>\n",
              "      <td>25</td>\n",
              "      <td>Question: Elaina is holding the final concert in her tour. To cele...</td>\n",
              "      <td>25 minutes</td>\n",
              "      <td>✔️ [True]</td>\n",
              "    </tr>\n",
              "    <tr>\n",
              "      <th>9</th>\n",
              "      <td>Hannah slips on a banana peel and breaks her arm. The doctor charg...</td>\n",
              "      <td>First find the length of the visit in hours: 30 minutes / 60 minut...</td>\n",
              "      <td>482</td>\n",
              "      <td>Question: Hannah slips on a banana peel and breaks her arm. The do...</td>\n",
              "      <td>$482</td>\n",
              "      <td>✔️ [True]</td>\n",
              "    </tr>\n",
              "    <tr>\n",
              "      <th>10</th>\n",
              "      <td>A loaf of bread at the bakery costs $2. Bagels cost $1 each. How m...</td>\n",
              "      <td>3 loaves of bread cost 3 * $2 = $&lt;&lt;3*2=6&gt;&gt;6. 2 bagels cost 2 * $1 ...</td>\n",
              "      <td>4</td>\n",
              "      <td>Question: A loaf of bread at the bakery costs $2. Bagels cost $1 e...</td>\n",
              "      <td>$4</td>\n",
              "      <td>✔️ [True]</td>\n",
              "    </tr>\n",
              "    <tr>\n",
              "      <th>11</th>\n",
              "      <td>Bob thinks he needs 56 popsicle sticks to recreate the Washington ...</td>\n",
              "      <td>He needs 56 popsicle sticks to build his project and they come 8 t...</td>\n",
              "      <td>14</td>\n",
              "      <td>calculate the cost. We first need to determine how many boxes of p...</td>\n",
              "      <td>$14.00</td>\n",
              "      <td>✔️ [True]</td>\n",
              "    </tr>\n",
              "    <tr>\n",
              "      <th>12</th>\n",
              "      <td>Dennis uses 1 pound of butter for every dozen croissants that he m...</td>\n",
              "      <td>1 pound of butter makes 1 dozen croissants and he needs to make 6 ...</td>\n",
              "      <td>18</td>\n",
              "      <td>Question: Dennis uses 1 pound of butter for every dozen croissants...</td>\n",
              "      <td>$24.00</td>\n",
              "      <td></td>\n",
              "    </tr>\n",
              "    <tr>\n",
              "      <th>13</th>\n",
              "      <td>Regina wrote 9 novels last year. If this is 3 quarters of the numb...</td>\n",
              "      <td>Number of novels she wrote last year = (3/4)*number of novels she ...</td>\n",
              "      <td>12</td>\n",
              "      <td>Question: Regina wrote 9 novels last year. If this is 3 quarters o...</td>\n",
              "      <td>Regina has written 12 novels this year.</td>\n",
              "      <td>✔️ [True]</td>\n",
              "    </tr>\n",
              "    <tr>\n",
              "      <th>14</th>\n",
              "      <td>Alex is getting ready to attend an event that she has hosted and w...</td>\n",
              "      <td>Each of the people that were emailed are bringing 2 friends, which...</td>\n",
              "      <td>319</td>\n",
              "      <td>Question: Alex is getting ready to attend an event that she has ho...</td>\n",
              "      <td>326</td>\n",
              "      <td></td>\n",
              "    </tr>\n",
              "    <tr>\n",
              "      <th>15</th>\n",
              "      <td>Rozanne is making eggnog for her family. She uses 4 dozen eggs tha...</td>\n",
              "      <td>As a dozen is equivalent to 12 eggs, Rozanne has 4 dozen eggs * 12...</td>\n",
              "      <td>2</td>\n",
              "      <td>Question: Rozanne is making eggnog for her family. She uses 4 doze...</td>\n",
              "      <td>2</td>\n",
              "      <td>✔️ [True]</td>\n",
              "    </tr>\n",
              "    <tr>\n",
              "      <th>16</th>\n",
              "      <td>Matthew has a collection of 12 unique toy soldiers. He wants to se...</td>\n",
              "      <td>Half of Matthew collection means 12 * 0.5 = &lt;&lt;12*0.5=6&gt;&gt;6 toy sold...</td>\n",
              "      <td>72</td>\n",
              "      <td>Answer: $72</td>\n",
              "      <td>Question: Matthew has a collection of 12 unique toy soldiers. He w...</td>\n",
              "      <td></td>\n",
              "    </tr>\n",
              "    <tr>\n",
              "      <th>17</th>\n",
              "      <td>Mrs. Cruz is looking for a house that will not go beyond her $400 ...</td>\n",
              "      <td>The brokerage fee is $350 000 x 5/100 = $&lt;&lt;350000*5/100=17500&gt;&gt;175...</td>\n",
              "      <td>9500</td>\n",
              "      <td>Question: Mrs. Cruz is looking for a house that will not go beyond...</td>\n",
              "      <td>$9,500</td>\n",
              "      <td>✔️ [True]</td>\n",
              "    </tr>\n",
              "    <tr>\n",
              "      <th>18</th>\n",
              "      <td>Juan and his brother Carlos are selling lemonade. For each gallon ...</td>\n",
              "      <td>Each gallon sells for a total of $10 because 20 x .5 = &lt;&lt;20*.5=10&gt;...</td>\n",
              "      <td>15</td>\n",
              "      <td>Question: Juan and his brother Carlos are selling lemonade. For ea...</td>\n",
              "      <td>-$17.00</td>\n",
              "      <td></td>\n",
              "    </tr>\n",
              "    <tr>\n",
              "      <th>19</th>\n",
              "      <td>When the water is cold Ray swims a mile in 16 minutes. When the wa...</td>\n",
              "      <td>Cold water mile = &lt;&lt;16=16&gt;&gt;16 minutes Warm water mile = 2+2(16)=34...</td>\n",
              "      <td>54</td>\n",
              "      <td>calculate how much longer Ray takes to swim 3 miles on a hot day t...</td>\n",
              "      <td>54 minutes</td>\n",
              "      <td>✔️ [True]</td>\n",
              "    </tr>\n",
              "  </tbody>\n",
              "</table>\n",
              "</div>\n",
              "    <div class=\"colab-df-buttons\">\n",
              "\n",
              "  <div class=\"colab-df-container\">\n",
              "    <button class=\"colab-df-convert\" onclick=\"convertToInteractive('df-c24867bc-c325-43c0-a937-b705ab7cb54f')\"\n",
              "            title=\"Convert this dataframe to an interactive table.\"\n",
              "            style=\"display:none;\">\n",
              "\n",
              "  <svg xmlns=\"http://www.w3.org/2000/svg\" height=\"24px\" viewBox=\"0 -960 960 960\">\n",
              "    <path d=\"M120-120v-720h720v720H120Zm60-500h600v-160H180v160Zm220 220h160v-160H400v160Zm0 220h160v-160H400v160ZM180-400h160v-160H180v160Zm440 0h160v-160H620v160ZM180-180h160v-160H180v160Zm440 0h160v-160H620v160Z\"/>\n",
              "  </svg>\n",
              "    </button>\n",
              "\n",
              "  <style>\n",
              "    .colab-df-container {\n",
              "      display:flex;\n",
              "      gap: 12px;\n",
              "    }\n",
              "\n",
              "    .colab-df-convert {\n",
              "      background-color: #E8F0FE;\n",
              "      border: none;\n",
              "      border-radius: 50%;\n",
              "      cursor: pointer;\n",
              "      display: none;\n",
              "      fill: #1967D2;\n",
              "      height: 32px;\n",
              "      padding: 0 0 0 0;\n",
              "      width: 32px;\n",
              "    }\n",
              "\n",
              "    .colab-df-convert:hover {\n",
              "      background-color: #E2EBFA;\n",
              "      box-shadow: 0px 1px 2px rgba(60, 64, 67, 0.3), 0px 1px 3px 1px rgba(60, 64, 67, 0.15);\n",
              "      fill: #174EA6;\n",
              "    }\n",
              "\n",
              "    .colab-df-buttons div {\n",
              "      margin-bottom: 4px;\n",
              "    }\n",
              "\n",
              "    [theme=dark] .colab-df-convert {\n",
              "      background-color: #3B4455;\n",
              "      fill: #D2E3FC;\n",
              "    }\n",
              "\n",
              "    [theme=dark] .colab-df-convert:hover {\n",
              "      background-color: #434B5C;\n",
              "      box-shadow: 0px 1px 3px 1px rgba(0, 0, 0, 0.15);\n",
              "      filter: drop-shadow(0px 1px 2px rgba(0, 0, 0, 0.3));\n",
              "      fill: #FFFFFF;\n",
              "    }\n",
              "  </style>\n",
              "\n",
              "    <script>\n",
              "      const buttonEl =\n",
              "        document.querySelector('#df-c24867bc-c325-43c0-a937-b705ab7cb54f button.colab-df-convert');\n",
              "      buttonEl.style.display =\n",
              "        google.colab.kernel.accessAllowed ? 'block' : 'none';\n",
              "\n",
              "      async function convertToInteractive(key) {\n",
              "        const element = document.querySelector('#df-c24867bc-c325-43c0-a937-b705ab7cb54f');\n",
              "        const dataTable =\n",
              "          await google.colab.kernel.invokeFunction('convertToInteractive',\n",
              "                                                    [key], {});\n",
              "        if (!dataTable) return;\n",
              "\n",
              "        const docLinkHtml = 'Like what you see? Visit the ' +\n",
              "          '<a target=\"_blank\" href=https://colab.research.google.com/notebooks/data_table.ipynb>data table notebook</a>'\n",
              "          + ' to learn more about interactive tables.';\n",
              "        element.innerHTML = '';\n",
              "        dataTable['output_type'] = 'display_data';\n",
              "        await google.colab.output.renderOutput(dataTable, element);\n",
              "        const docLink = document.createElement('div');\n",
              "        docLink.innerHTML = docLinkHtml;\n",
              "        element.appendChild(docLink);\n",
              "      }\n",
              "    </script>\n",
              "  </div>\n",
              "\n",
              "\n",
              "<div id=\"df-313fe2d2-1b49-4f14-b95c-5f98be3f4669\">\n",
              "  <button class=\"colab-df-quickchart\" onclick=\"quickchart('df-313fe2d2-1b49-4f14-b95c-5f98be3f4669')\"\n",
              "            title=\"Suggest charts\"\n",
              "            style=\"display:none;\">\n",
              "\n",
              "<svg xmlns=\"http://www.w3.org/2000/svg\" height=\"24px\"viewBox=\"0 0 24 24\"\n",
              "     width=\"24px\">\n",
              "    <g>\n",
              "        <path d=\"M19 3H5c-1.1 0-2 .9-2 2v14c0 1.1.9 2 2 2h14c1.1 0 2-.9 2-2V5c0-1.1-.9-2-2-2zM9 17H7v-7h2v7zm4 0h-2V7h2v10zm4 0h-2v-4h2v4z\"/>\n",
              "    </g>\n",
              "</svg>\n",
              "  </button>\n",
              "\n",
              "<style>\n",
              "  .colab-df-quickchart {\n",
              "      --bg-color: #E8F0FE;\n",
              "      --fill-color: #1967D2;\n",
              "      --hover-bg-color: #E2EBFA;\n",
              "      --hover-fill-color: #174EA6;\n",
              "      --disabled-fill-color: #AAA;\n",
              "      --disabled-bg-color: #DDD;\n",
              "  }\n",
              "\n",
              "  [theme=dark] .colab-df-quickchart {\n",
              "      --bg-color: #3B4455;\n",
              "      --fill-color: #D2E3FC;\n",
              "      --hover-bg-color: #434B5C;\n",
              "      --hover-fill-color: #FFFFFF;\n",
              "      --disabled-bg-color: #3B4455;\n",
              "      --disabled-fill-color: #666;\n",
              "  }\n",
              "\n",
              "  .colab-df-quickchart {\n",
              "    background-color: var(--bg-color);\n",
              "    border: none;\n",
              "    border-radius: 50%;\n",
              "    cursor: pointer;\n",
              "    display: none;\n",
              "    fill: var(--fill-color);\n",
              "    height: 32px;\n",
              "    padding: 0;\n",
              "    width: 32px;\n",
              "  }\n",
              "\n",
              "  .colab-df-quickchart:hover {\n",
              "    background-color: var(--hover-bg-color);\n",
              "    box-shadow: 0 1px 2px rgba(60, 64, 67, 0.3), 0 1px 3px 1px rgba(60, 64, 67, 0.15);\n",
              "    fill: var(--button-hover-fill-color);\n",
              "  }\n",
              "\n",
              "  .colab-df-quickchart-complete:disabled,\n",
              "  .colab-df-quickchart-complete:disabled:hover {\n",
              "    background-color: var(--disabled-bg-color);\n",
              "    fill: var(--disabled-fill-color);\n",
              "    box-shadow: none;\n",
              "  }\n",
              "\n",
              "  .colab-df-spinner {\n",
              "    border: 2px solid var(--fill-color);\n",
              "    border-color: transparent;\n",
              "    border-bottom-color: var(--fill-color);\n",
              "    animation:\n",
              "      spin 1s steps(1) infinite;\n",
              "  }\n",
              "\n",
              "  @keyframes spin {\n",
              "    0% {\n",
              "      border-color: transparent;\n",
              "      border-bottom-color: var(--fill-color);\n",
              "      border-left-color: var(--fill-color);\n",
              "    }\n",
              "    20% {\n",
              "      border-color: transparent;\n",
              "      border-left-color: var(--fill-color);\n",
              "      border-top-color: var(--fill-color);\n",
              "    }\n",
              "    30% {\n",
              "      border-color: transparent;\n",
              "      border-left-color: var(--fill-color);\n",
              "      border-top-color: var(--fill-color);\n",
              "      border-right-color: var(--fill-color);\n",
              "    }\n",
              "    40% {\n",
              "      border-color: transparent;\n",
              "      border-right-color: var(--fill-color);\n",
              "      border-top-color: var(--fill-color);\n",
              "    }\n",
              "    60% {\n",
              "      border-color: transparent;\n",
              "      border-right-color: var(--fill-color);\n",
              "    }\n",
              "    80% {\n",
              "      border-color: transparent;\n",
              "      border-right-color: var(--fill-color);\n",
              "      border-bottom-color: var(--fill-color);\n",
              "    }\n",
              "    90% {\n",
              "      border-color: transparent;\n",
              "      border-bottom-color: var(--fill-color);\n",
              "    }\n",
              "  }\n",
              "</style>\n",
              "\n",
              "  <script>\n",
              "    async function quickchart(key) {\n",
              "      const quickchartButtonEl =\n",
              "        document.querySelector('#' + key + ' button');\n",
              "      quickchartButtonEl.disabled = true;  // To prevent multiple clicks.\n",
              "      quickchartButtonEl.classList.add('colab-df-spinner');\n",
              "      try {\n",
              "        const charts = await google.colab.kernel.invokeFunction(\n",
              "            'suggestCharts', [key], {});\n",
              "      } catch (error) {\n",
              "        console.error('Error during call to suggestCharts:', error);\n",
              "      }\n",
              "      quickchartButtonEl.classList.remove('colab-df-spinner');\n",
              "      quickchartButtonEl.classList.add('colab-df-quickchart-complete');\n",
              "    }\n",
              "    (() => {\n",
              "      let quickchartButtonEl =\n",
              "        document.querySelector('#df-313fe2d2-1b49-4f14-b95c-5f98be3f4669 button');\n",
              "      quickchartButtonEl.style.display =\n",
              "        google.colab.kernel.accessAllowed ? 'block' : 'none';\n",
              "    })();\n",
              "  </script>\n",
              "</div>\n",
              "\n",
              "    </div>\n",
              "  </div>\n"
            ],
            "application/vnd.google.colaboratory.intrinsic+json": {
              "type": "dataframe",
              "summary": "{\n  \"name\": \"evaluate(cot_fewshot)\",\n  \"rows\": 20,\n  \"fields\": [\n    {\n      \"column\": \"question\",\n      \"properties\": {\n        \"dtype\": \"string\",\n        \"num_unique_values\": 20,\n        \"samples\": [\n          \"Amber, Micah, and Ahito ran 52 miles in total. Amber ran 8 miles. Micah ran 3.5 times what Amber ran. How many miles did Ahito...\",\n          \"Mrs. Cruz is looking for a house that will not go beyond her $400 000 budget. She saw a property that has a selling price...\",\n          \"Rozanne is making eggnog for her family. She uses 4 dozen eggs that were in cases and another 2 eggs that were loose in the...\"\n        ],\n        \"semantic_type\": \"\",\n        \"description\": \"\"\n      }\n    },\n    {\n      \"column\": \"gold_reasoning\",\n      \"properties\": {\n        \"dtype\": \"string\",\n        \"num_unique_values\": 20,\n        \"samples\": [\n          \"Amber ran <<8=8>>8 miles. Micah ran 3.5 * 8 miles = <<3.5*8=28>>28 miles Ahito ran the rest = 52 - 8 - 28 = <<52-8-28=16>>16...\",\n          \"The brokerage fee is $350 000 x 5/100 = $<<350000*5/100=17500>>17500. The transfer fee is $350 000 x 12/100 = $<<350000*12/100=42000>>42000. The total price of the...\",\n          \"As a dozen is equivalent to 12 eggs, Rozanne has 4 dozen eggs * 12 = <<4*12=48>>48 eggs in cases. She therefore has a total...\"\n        ],\n        \"semantic_type\": \"\",\n        \"description\": \"\"\n      }\n    },\n    {\n      \"column\": \"example_answer\",\n      \"properties\": {\n        \"dtype\": \"string\",\n        \"num_unique_values\": 19,\n        \"samples\": [\n          \"16\",\n          \"22\",\n          \"14\"\n        ],\n        \"semantic_type\": \"\",\n        \"description\": \"\"\n      }\n    },\n    {\n      \"column\": \"rationale\",\n      \"properties\": {\n        \"dtype\": \"string\",\n        \"num_unique_values\": 20,\n        \"samples\": [\n          \"Question: Amber, Micah, and Ahito ran 52 miles in total. Amber ran 8 miles. Micah ran 3.5 times what Amber ran. How many miles did...\",\n          \"Question: Mrs. Cruz is looking for a house that will not go beyond her $400 000 budget. She saw a property that has a selling...\",\n          \"Question: Rozanne is making eggnog for her family. She uses 4 dozen eggs that were in cases and another 2 eggs that were loose in...\"\n        ],\n        \"semantic_type\": \"\",\n        \"description\": \"\"\n      }\n    },\n    {\n      \"column\": \"pred_answer\",\n      \"properties\": {\n        \"dtype\": \"string\",\n        \"num_unique_values\": 20,\n        \"samples\": [\n          \"16 miles\",\n          \"$9,500\",\n          \"2\"\n        ],\n        \"semantic_type\": \"\",\n        \"description\": \"\"\n      }\n    },\n    {\n      \"column\": \"gsm8k_metric\",\n      \"properties\": {\n        \"dtype\": \"category\",\n        \"num_unique_values\": 2,\n        \"samples\": [\n          \"\",\n          \"\\u2714\\ufe0f [True]\"\n        ],\n        \"semantic_type\": \"\",\n        \"description\": \"\"\n      }\n    }\n  ]\n}"
            }
          },
          "metadata": {}
        },
        {
          "output_type": "execute_result",
          "data": {
            "text/plain": [
              "70.0"
            ]
          },
          "metadata": {},
          "execution_count": 30
        }
      ],
      "source": [
        "evaluate(cot_fewshot)"
      ]
    },
    {
      "cell_type": "markdown",
      "metadata": {
        "id": "j5LC8NenXe_g"
      },
      "source": [
        "Nice, this improved Gemini Pro's performance significantly from 35% :)"
      ]
    },
    {
      "cell_type": "code",
      "execution_count": 31,
      "metadata": {
        "colab": {
          "base_uri": "https://localhost:8080/",
          "height": 784
        },
        "id": "n31GS1IIXe_g",
        "outputId": "4752a9ab-effa-44ef-b9b8-7cb88e0a3644"
      },
      "outputs": [
        {
          "output_type": "stream",
          "name": "stdout",
          "text": [
            "\n",
            "\n",
            "\n",
            "Answer math problems with numbers or short phrases.\n",
            "\n",
            "---\n",
            "\n",
            "Follow the following format.\n",
            "\n",
            "Question: ${question}\n",
            "Reasoning: Let's think step by step in order to ${produce the answer}. We ...\n",
            "Answer: Usually a number or short phrase.\n",
            "\n",
            "---\n",
            "\n",
            "Question: Mrs. Cruz is looking for a house that will not go beyond her $400 000 budget. She saw a property that has a selling price of $350 000. On top of that, the buyer has to pay a brokerage fee which is 5% of the selling price, and also the transfer fee that is 12% of the selling price. How much more is the total price of the house than Mrs. Cruz's budget?\n",
            "Reasoning: Let's think step by step in order to\u001b[32mQuestion: Mrs. Cruz is looking for a house that will not go beyond her $400 000 budget. She saw a property that has a selling price of $350 000. On top of that, the buyer has to pay a brokerage fee which is 5% of the selling price, and also the transfer fee that is 12% of the selling price. How much more is the total price of the house than Mrs. Cruz's budget?\n",
            "Reasoning: Let's think step by step in order to find out how much more is the total price of the house than Mrs. Cruz's budget. First, we need to find the amount of the brokerage fee. We do this by multiplying the selling price by 5%. \n",
            "\n",
            "$350,000 x 5% = $17,500\n",
            "\n",
            "Next, we need to find the amount of the transfer fee. We do this by multiplying the selling price by 12%.\n",
            "\n",
            "$350,000 x 12% = $42,000\n",
            "\n",
            "Now, we need to add the brokerage fee and the transfer fee to find the total additional cost.\n",
            "\n",
            "$17,500 + $42,000 = $59,500\n",
            "\n",
            "Finally, we need to add the total additional cost to the selling price to find the total price of the house.\n",
            "\n",
            "$350,000 + $59,500 = $409,500\n",
            "\n",
            "Therefore, the total price of the house is $409,500, which is $9,500 more than Mrs. Cruz's budget.\n",
            "Answer: $9,500\u001b[0m\n",
            "\n",
            "\n",
            "\n"
          ]
        },
        {
          "output_type": "execute_result",
          "data": {
            "text/plain": [
              "\"\\n\\n\\nAnswer math problems with numbers or short phrases.\\n\\n---\\n\\nFollow the following format.\\n\\nQuestion: ${question}\\nReasoning: Let's think step by step in order to ${produce the answer}. We ...\\nAnswer: Usually a number or short phrase.\\n\\n---\\n\\nQuestion: Mrs. Cruz is looking for a house that will not go beyond her $400 000 budget. She saw a property that has a selling price of $350 000. On top of that, the buyer has to pay a brokerage fee which is 5% of the selling price, and also the transfer fee that is 12% of the selling price. How much more is the total price of the house than Mrs. Cruz's budget?\\nReasoning: Let's think step by step in order to\\x1b[32mQuestion: Mrs. Cruz is looking for a house that will not go beyond her $400 000 budget. She saw a property that has a selling price of $350 000. On top of that, the buyer has to pay a brokerage fee which is 5% of the selling price, and also the transfer fee that is 12% of the selling price. How much more is the total price of the house than Mrs. Cruz's budget?\\nReasoning: Let's think step by step in order to find out how much more is the total price of the house than Mrs. Cruz's budget. First, we need to find the amount of the brokerage fee. We do this by multiplying the selling price by 5%. \\n\\n$350,000 x 5% = $17,500\\n\\nNext, we need to find the amount of the transfer fee. We do this by multiplying the selling price by 12%.\\n\\n$350,000 x 12% = $42,000\\n\\nNow, we need to add the brokerage fee and the transfer fee to find the total additional cost.\\n\\n$17,500 + $42,000 = $59,500\\n\\nFinally, we need to add the total additional cost to the selling price to find the total price of the house.\\n\\n$350,000 + $59,500 = $409,500\\n\\nTherefore, the total price of the house is $409,500, which is $9,500 more than Mrs. Cruz's budget.\\nAnswer: $9,500\\x1b[0m\\n\\n\\n\""
            ],
            "application/vnd.google.colaboratory.intrinsic+json": {
              "type": "string"
            }
          },
          "metadata": {},
          "execution_count": 31
        }
      ],
      "source": [
        "dspy_gemini_pro.inspect_history(n=1)"
      ]
    },
    {
      "cell_type": "code",
      "execution_count": null,
      "metadata": {
        "id": "ES-BDbfAXe_g"
      },
      "outputs": [],
      "source": []
    }
  ],
  "metadata": {
    "kernelspec": {
      "display_name": "venv-ape",
      "language": "python",
      "name": "python3"
    },
    "language_info": {
      "codemirror_mode": {
        "name": "ipython",
        "version": 3
      },
      "file_extension": ".py",
      "mimetype": "text/x-python",
      "name": "python",
      "nbconvert_exporter": "python",
      "pygments_lexer": "ipython3",
      "version": "3.11.7"
    },
    "colab": {
      "provenance": []
    },
    "widgets": {
      "application/vnd.jupyter.widget-state+json": {
        "dab94d46b8f84e43a69b6e193fc91c87": {
          "model_module": "@jupyter-widgets/controls",
          "model_name": "HBoxModel",
          "model_module_version": "1.5.0",
          "state": {
            "_dom_classes": [],
            "_model_module": "@jupyter-widgets/controls",
            "_model_module_version": "1.5.0",
            "_model_name": "HBoxModel",
            "_view_count": null,
            "_view_module": "@jupyter-widgets/controls",
            "_view_module_version": "1.5.0",
            "_view_name": "HBoxView",
            "box_style": "",
            "children": [
              "IPY_MODEL_d4ccf9b5d9364146b86f7ca778d4a9a1",
              "IPY_MODEL_61a769f6d1a84ddfb2e18463e02f8af8",
              "IPY_MODEL_0271e5069db04c968170821de61094dd"
            ],
            "layout": "IPY_MODEL_d13b656c034a46bc9a75d55cf7e58bd8"
          }
        },
        "d4ccf9b5d9364146b86f7ca778d4a9a1": {
          "model_module": "@jupyter-widgets/controls",
          "model_name": "HTMLModel",
          "model_module_version": "1.5.0",
          "state": {
            "_dom_classes": [],
            "_model_module": "@jupyter-widgets/controls",
            "_model_module_version": "1.5.0",
            "_model_name": "HTMLModel",
            "_view_count": null,
            "_view_module": "@jupyter-widgets/controls",
            "_view_module_version": "1.5.0",
            "_view_name": "HTMLView",
            "description": "",
            "description_tooltip": null,
            "layout": "IPY_MODEL_970e4cd4542b40848bf26dfdd88fbf3c",
            "placeholder": "​",
            "style": "IPY_MODEL_4fd884e92a4f4c5ca1b0f709418c8c27",
            "value": "README.md: 100%"
          }
        },
        "61a769f6d1a84ddfb2e18463e02f8af8": {
          "model_module": "@jupyter-widgets/controls",
          "model_name": "FloatProgressModel",
          "model_module_version": "1.5.0",
          "state": {
            "_dom_classes": [],
            "_model_module": "@jupyter-widgets/controls",
            "_model_module_version": "1.5.0",
            "_model_name": "FloatProgressModel",
            "_view_count": null,
            "_view_module": "@jupyter-widgets/controls",
            "_view_module_version": "1.5.0",
            "_view_name": "ProgressView",
            "bar_style": "success",
            "description": "",
            "description_tooltip": null,
            "layout": "IPY_MODEL_58845600fc724c069e38f05c791c7334",
            "max": 7940,
            "min": 0,
            "orientation": "horizontal",
            "style": "IPY_MODEL_50dce0481af142399ef84f84e8c8fcc7",
            "value": 7940
          }
        },
        "0271e5069db04c968170821de61094dd": {
          "model_module": "@jupyter-widgets/controls",
          "model_name": "HTMLModel",
          "model_module_version": "1.5.0",
          "state": {
            "_dom_classes": [],
            "_model_module": "@jupyter-widgets/controls",
            "_model_module_version": "1.5.0",
            "_model_name": "HTMLModel",
            "_view_count": null,
            "_view_module": "@jupyter-widgets/controls",
            "_view_module_version": "1.5.0",
            "_view_name": "HTMLView",
            "description": "",
            "description_tooltip": null,
            "layout": "IPY_MODEL_8eda1d38bf454c41833e5a13c2f10912",
            "placeholder": "​",
            "style": "IPY_MODEL_24bb6743420b470ba880966f637a33e8",
            "value": " 7.94k/7.94k [00:00&lt;00:00, 412kB/s]"
          }
        },
        "d13b656c034a46bc9a75d55cf7e58bd8": {
          "model_module": "@jupyter-widgets/base",
          "model_name": "LayoutModel",
          "model_module_version": "1.2.0",
          "state": {
            "_model_module": "@jupyter-widgets/base",
            "_model_module_version": "1.2.0",
            "_model_name": "LayoutModel",
            "_view_count": null,
            "_view_module": "@jupyter-widgets/base",
            "_view_module_version": "1.2.0",
            "_view_name": "LayoutView",
            "align_content": null,
            "align_items": null,
            "align_self": null,
            "border": null,
            "bottom": null,
            "display": null,
            "flex": null,
            "flex_flow": null,
            "grid_area": null,
            "grid_auto_columns": null,
            "grid_auto_flow": null,
            "grid_auto_rows": null,
            "grid_column": null,
            "grid_gap": null,
            "grid_row": null,
            "grid_template_areas": null,
            "grid_template_columns": null,
            "grid_template_rows": null,
            "height": null,
            "justify_content": null,
            "justify_items": null,
            "left": null,
            "margin": null,
            "max_height": null,
            "max_width": null,
            "min_height": null,
            "min_width": null,
            "object_fit": null,
            "object_position": null,
            "order": null,
            "overflow": null,
            "overflow_x": null,
            "overflow_y": null,
            "padding": null,
            "right": null,
            "top": null,
            "visibility": null,
            "width": null
          }
        },
        "970e4cd4542b40848bf26dfdd88fbf3c": {
          "model_module": "@jupyter-widgets/base",
          "model_name": "LayoutModel",
          "model_module_version": "1.2.0",
          "state": {
            "_model_module": "@jupyter-widgets/base",
            "_model_module_version": "1.2.0",
            "_model_name": "LayoutModel",
            "_view_count": null,
            "_view_module": "@jupyter-widgets/base",
            "_view_module_version": "1.2.0",
            "_view_name": "LayoutView",
            "align_content": null,
            "align_items": null,
            "align_self": null,
            "border": null,
            "bottom": null,
            "display": null,
            "flex": null,
            "flex_flow": null,
            "grid_area": null,
            "grid_auto_columns": null,
            "grid_auto_flow": null,
            "grid_auto_rows": null,
            "grid_column": null,
            "grid_gap": null,
            "grid_row": null,
            "grid_template_areas": null,
            "grid_template_columns": null,
            "grid_template_rows": null,
            "height": null,
            "justify_content": null,
            "justify_items": null,
            "left": null,
            "margin": null,
            "max_height": null,
            "max_width": null,
            "min_height": null,
            "min_width": null,
            "object_fit": null,
            "object_position": null,
            "order": null,
            "overflow": null,
            "overflow_x": null,
            "overflow_y": null,
            "padding": null,
            "right": null,
            "top": null,
            "visibility": null,
            "width": null
          }
        },
        "4fd884e92a4f4c5ca1b0f709418c8c27": {
          "model_module": "@jupyter-widgets/controls",
          "model_name": "DescriptionStyleModel",
          "model_module_version": "1.5.0",
          "state": {
            "_model_module": "@jupyter-widgets/controls",
            "_model_module_version": "1.5.0",
            "_model_name": "DescriptionStyleModel",
            "_view_count": null,
            "_view_module": "@jupyter-widgets/base",
            "_view_module_version": "1.2.0",
            "_view_name": "StyleView",
            "description_width": ""
          }
        },
        "58845600fc724c069e38f05c791c7334": {
          "model_module": "@jupyter-widgets/base",
          "model_name": "LayoutModel",
          "model_module_version": "1.2.0",
          "state": {
            "_model_module": "@jupyter-widgets/base",
            "_model_module_version": "1.2.0",
            "_model_name": "LayoutModel",
            "_view_count": null,
            "_view_module": "@jupyter-widgets/base",
            "_view_module_version": "1.2.0",
            "_view_name": "LayoutView",
            "align_content": null,
            "align_items": null,
            "align_self": null,
            "border": null,
            "bottom": null,
            "display": null,
            "flex": null,
            "flex_flow": null,
            "grid_area": null,
            "grid_auto_columns": null,
            "grid_auto_flow": null,
            "grid_auto_rows": null,
            "grid_column": null,
            "grid_gap": null,
            "grid_row": null,
            "grid_template_areas": null,
            "grid_template_columns": null,
            "grid_template_rows": null,
            "height": null,
            "justify_content": null,
            "justify_items": null,
            "left": null,
            "margin": null,
            "max_height": null,
            "max_width": null,
            "min_height": null,
            "min_width": null,
            "object_fit": null,
            "object_position": null,
            "order": null,
            "overflow": null,
            "overflow_x": null,
            "overflow_y": null,
            "padding": null,
            "right": null,
            "top": null,
            "visibility": null,
            "width": null
          }
        },
        "50dce0481af142399ef84f84e8c8fcc7": {
          "model_module": "@jupyter-widgets/controls",
          "model_name": "ProgressStyleModel",
          "model_module_version": "1.5.0",
          "state": {
            "_model_module": "@jupyter-widgets/controls",
            "_model_module_version": "1.5.0",
            "_model_name": "ProgressStyleModel",
            "_view_count": null,
            "_view_module": "@jupyter-widgets/base",
            "_view_module_version": "1.2.0",
            "_view_name": "StyleView",
            "bar_color": null,
            "description_width": ""
          }
        },
        "8eda1d38bf454c41833e5a13c2f10912": {
          "model_module": "@jupyter-widgets/base",
          "model_name": "LayoutModel",
          "model_module_version": "1.2.0",
          "state": {
            "_model_module": "@jupyter-widgets/base",
            "_model_module_version": "1.2.0",
            "_model_name": "LayoutModel",
            "_view_count": null,
            "_view_module": "@jupyter-widgets/base",
            "_view_module_version": "1.2.0",
            "_view_name": "LayoutView",
            "align_content": null,
            "align_items": null,
            "align_self": null,
            "border": null,
            "bottom": null,
            "display": null,
            "flex": null,
            "flex_flow": null,
            "grid_area": null,
            "grid_auto_columns": null,
            "grid_auto_flow": null,
            "grid_auto_rows": null,
            "grid_column": null,
            "grid_gap": null,
            "grid_row": null,
            "grid_template_areas": null,
            "grid_template_columns": null,
            "grid_template_rows": null,
            "height": null,
            "justify_content": null,
            "justify_items": null,
            "left": null,
            "margin": null,
            "max_height": null,
            "max_width": null,
            "min_height": null,
            "min_width": null,
            "object_fit": null,
            "object_position": null,
            "order": null,
            "overflow": null,
            "overflow_x": null,
            "overflow_y": null,
            "padding": null,
            "right": null,
            "top": null,
            "visibility": null,
            "width": null
          }
        },
        "24bb6743420b470ba880966f637a33e8": {
          "model_module": "@jupyter-widgets/controls",
          "model_name": "DescriptionStyleModel",
          "model_module_version": "1.5.0",
          "state": {
            "_model_module": "@jupyter-widgets/controls",
            "_model_module_version": "1.5.0",
            "_model_name": "DescriptionStyleModel",
            "_view_count": null,
            "_view_module": "@jupyter-widgets/base",
            "_view_module_version": "1.2.0",
            "_view_name": "StyleView",
            "description_width": ""
          }
        },
        "5a388a510f8b4a26acbde7c48347d913": {
          "model_module": "@jupyter-widgets/controls",
          "model_name": "HBoxModel",
          "model_module_version": "1.5.0",
          "state": {
            "_dom_classes": [],
            "_model_module": "@jupyter-widgets/controls",
            "_model_module_version": "1.5.0",
            "_model_name": "HBoxModel",
            "_view_count": null,
            "_view_module": "@jupyter-widgets/controls",
            "_view_module_version": "1.5.0",
            "_view_name": "HBoxView",
            "box_style": "",
            "children": [
              "IPY_MODEL_9637140543d846f090dd9b5faf8b98cb",
              "IPY_MODEL_bef9daa608d34de8aa508c438b19291c",
              "IPY_MODEL_b1dd0af70867496691cf6e511c2fc484"
            ],
            "layout": "IPY_MODEL_661cf3e4f8534b9bb1f325b3abc05e9d"
          }
        },
        "9637140543d846f090dd9b5faf8b98cb": {
          "model_module": "@jupyter-widgets/controls",
          "model_name": "HTMLModel",
          "model_module_version": "1.5.0",
          "state": {
            "_dom_classes": [],
            "_model_module": "@jupyter-widgets/controls",
            "_model_module_version": "1.5.0",
            "_model_name": "HTMLModel",
            "_view_count": null,
            "_view_module": "@jupyter-widgets/controls",
            "_view_module_version": "1.5.0",
            "_view_name": "HTMLView",
            "description": "",
            "description_tooltip": null,
            "layout": "IPY_MODEL_9fc33242a2b54a0981daa3255d0e5000",
            "placeholder": "​",
            "style": "IPY_MODEL_6a800101424c4410970fac7131496132",
            "value": "train-00000-of-00001.parquet: 100%"
          }
        },
        "bef9daa608d34de8aa508c438b19291c": {
          "model_module": "@jupyter-widgets/controls",
          "model_name": "FloatProgressModel",
          "model_module_version": "1.5.0",
          "state": {
            "_dom_classes": [],
            "_model_module": "@jupyter-widgets/controls",
            "_model_module_version": "1.5.0",
            "_model_name": "FloatProgressModel",
            "_view_count": null,
            "_view_module": "@jupyter-widgets/controls",
            "_view_module_version": "1.5.0",
            "_view_name": "ProgressView",
            "bar_style": "success",
            "description": "",
            "description_tooltip": null,
            "layout": "IPY_MODEL_c2e5e9b4974e42a2bc1029467fbd1eeb",
            "max": 2306545,
            "min": 0,
            "orientation": "horizontal",
            "style": "IPY_MODEL_fe42e21236224ecaab10415f991913ea",
            "value": 2306545
          }
        },
        "b1dd0af70867496691cf6e511c2fc484": {
          "model_module": "@jupyter-widgets/controls",
          "model_name": "HTMLModel",
          "model_module_version": "1.5.0",
          "state": {
            "_dom_classes": [],
            "_model_module": "@jupyter-widgets/controls",
            "_model_module_version": "1.5.0",
            "_model_name": "HTMLModel",
            "_view_count": null,
            "_view_module": "@jupyter-widgets/controls",
            "_view_module_version": "1.5.0",
            "_view_name": "HTMLView",
            "description": "",
            "description_tooltip": null,
            "layout": "IPY_MODEL_6708b84b869e49f0967aa3460a09a100",
            "placeholder": "​",
            "style": "IPY_MODEL_67418f0501104d0c992a26e3316fe3be",
            "value": " 2.31M/2.31M [00:00&lt;00:00, 22.9MB/s]"
          }
        },
        "661cf3e4f8534b9bb1f325b3abc05e9d": {
          "model_module": "@jupyter-widgets/base",
          "model_name": "LayoutModel",
          "model_module_version": "1.2.0",
          "state": {
            "_model_module": "@jupyter-widgets/base",
            "_model_module_version": "1.2.0",
            "_model_name": "LayoutModel",
            "_view_count": null,
            "_view_module": "@jupyter-widgets/base",
            "_view_module_version": "1.2.0",
            "_view_name": "LayoutView",
            "align_content": null,
            "align_items": null,
            "align_self": null,
            "border": null,
            "bottom": null,
            "display": null,
            "flex": null,
            "flex_flow": null,
            "grid_area": null,
            "grid_auto_columns": null,
            "grid_auto_flow": null,
            "grid_auto_rows": null,
            "grid_column": null,
            "grid_gap": null,
            "grid_row": null,
            "grid_template_areas": null,
            "grid_template_columns": null,
            "grid_template_rows": null,
            "height": null,
            "justify_content": null,
            "justify_items": null,
            "left": null,
            "margin": null,
            "max_height": null,
            "max_width": null,
            "min_height": null,
            "min_width": null,
            "object_fit": null,
            "object_position": null,
            "order": null,
            "overflow": null,
            "overflow_x": null,
            "overflow_y": null,
            "padding": null,
            "right": null,
            "top": null,
            "visibility": null,
            "width": null
          }
        },
        "9fc33242a2b54a0981daa3255d0e5000": {
          "model_module": "@jupyter-widgets/base",
          "model_name": "LayoutModel",
          "model_module_version": "1.2.0",
          "state": {
            "_model_module": "@jupyter-widgets/base",
            "_model_module_version": "1.2.0",
            "_model_name": "LayoutModel",
            "_view_count": null,
            "_view_module": "@jupyter-widgets/base",
            "_view_module_version": "1.2.0",
            "_view_name": "LayoutView",
            "align_content": null,
            "align_items": null,
            "align_self": null,
            "border": null,
            "bottom": null,
            "display": null,
            "flex": null,
            "flex_flow": null,
            "grid_area": null,
            "grid_auto_columns": null,
            "grid_auto_flow": null,
            "grid_auto_rows": null,
            "grid_column": null,
            "grid_gap": null,
            "grid_row": null,
            "grid_template_areas": null,
            "grid_template_columns": null,
            "grid_template_rows": null,
            "height": null,
            "justify_content": null,
            "justify_items": null,
            "left": null,
            "margin": null,
            "max_height": null,
            "max_width": null,
            "min_height": null,
            "min_width": null,
            "object_fit": null,
            "object_position": null,
            "order": null,
            "overflow": null,
            "overflow_x": null,
            "overflow_y": null,
            "padding": null,
            "right": null,
            "top": null,
            "visibility": null,
            "width": null
          }
        },
        "6a800101424c4410970fac7131496132": {
          "model_module": "@jupyter-widgets/controls",
          "model_name": "DescriptionStyleModel",
          "model_module_version": "1.5.0",
          "state": {
            "_model_module": "@jupyter-widgets/controls",
            "_model_module_version": "1.5.0",
            "_model_name": "DescriptionStyleModel",
            "_view_count": null,
            "_view_module": "@jupyter-widgets/base",
            "_view_module_version": "1.2.0",
            "_view_name": "StyleView",
            "description_width": ""
          }
        },
        "c2e5e9b4974e42a2bc1029467fbd1eeb": {
          "model_module": "@jupyter-widgets/base",
          "model_name": "LayoutModel",
          "model_module_version": "1.2.0",
          "state": {
            "_model_module": "@jupyter-widgets/base",
            "_model_module_version": "1.2.0",
            "_model_name": "LayoutModel",
            "_view_count": null,
            "_view_module": "@jupyter-widgets/base",
            "_view_module_version": "1.2.0",
            "_view_name": "LayoutView",
            "align_content": null,
            "align_items": null,
            "align_self": null,
            "border": null,
            "bottom": null,
            "display": null,
            "flex": null,
            "flex_flow": null,
            "grid_area": null,
            "grid_auto_columns": null,
            "grid_auto_flow": null,
            "grid_auto_rows": null,
            "grid_column": null,
            "grid_gap": null,
            "grid_row": null,
            "grid_template_areas": null,
            "grid_template_columns": null,
            "grid_template_rows": null,
            "height": null,
            "justify_content": null,
            "justify_items": null,
            "left": null,
            "margin": null,
            "max_height": null,
            "max_width": null,
            "min_height": null,
            "min_width": null,
            "object_fit": null,
            "object_position": null,
            "order": null,
            "overflow": null,
            "overflow_x": null,
            "overflow_y": null,
            "padding": null,
            "right": null,
            "top": null,
            "visibility": null,
            "width": null
          }
        },
        "fe42e21236224ecaab10415f991913ea": {
          "model_module": "@jupyter-widgets/controls",
          "model_name": "ProgressStyleModel",
          "model_module_version": "1.5.0",
          "state": {
            "_model_module": "@jupyter-widgets/controls",
            "_model_module_version": "1.5.0",
            "_model_name": "ProgressStyleModel",
            "_view_count": null,
            "_view_module": "@jupyter-widgets/base",
            "_view_module_version": "1.2.0",
            "_view_name": "StyleView",
            "bar_color": null,
            "description_width": ""
          }
        },
        "6708b84b869e49f0967aa3460a09a100": {
          "model_module": "@jupyter-widgets/base",
          "model_name": "LayoutModel",
          "model_module_version": "1.2.0",
          "state": {
            "_model_module": "@jupyter-widgets/base",
            "_model_module_version": "1.2.0",
            "_model_name": "LayoutModel",
            "_view_count": null,
            "_view_module": "@jupyter-widgets/base",
            "_view_module_version": "1.2.0",
            "_view_name": "LayoutView",
            "align_content": null,
            "align_items": null,
            "align_self": null,
            "border": null,
            "bottom": null,
            "display": null,
            "flex": null,
            "flex_flow": null,
            "grid_area": null,
            "grid_auto_columns": null,
            "grid_auto_flow": null,
            "grid_auto_rows": null,
            "grid_column": null,
            "grid_gap": null,
            "grid_row": null,
            "grid_template_areas": null,
            "grid_template_columns": null,
            "grid_template_rows": null,
            "height": null,
            "justify_content": null,
            "justify_items": null,
            "left": null,
            "margin": null,
            "max_height": null,
            "max_width": null,
            "min_height": null,
            "min_width": null,
            "object_fit": null,
            "object_position": null,
            "order": null,
            "overflow": null,
            "overflow_x": null,
            "overflow_y": null,
            "padding": null,
            "right": null,
            "top": null,
            "visibility": null,
            "width": null
          }
        },
        "67418f0501104d0c992a26e3316fe3be": {
          "model_module": "@jupyter-widgets/controls",
          "model_name": "DescriptionStyleModel",
          "model_module_version": "1.5.0",
          "state": {
            "_model_module": "@jupyter-widgets/controls",
            "_model_module_version": "1.5.0",
            "_model_name": "DescriptionStyleModel",
            "_view_count": null,
            "_view_module": "@jupyter-widgets/base",
            "_view_module_version": "1.2.0",
            "_view_name": "StyleView",
            "description_width": ""
          }
        },
        "9167bd95cce94eff9aaca9821098a5b9": {
          "model_module": "@jupyter-widgets/controls",
          "model_name": "HBoxModel",
          "model_module_version": "1.5.0",
          "state": {
            "_dom_classes": [],
            "_model_module": "@jupyter-widgets/controls",
            "_model_module_version": "1.5.0",
            "_model_name": "HBoxModel",
            "_view_count": null,
            "_view_module": "@jupyter-widgets/controls",
            "_view_module_version": "1.5.0",
            "_view_name": "HBoxView",
            "box_style": "",
            "children": [
              "IPY_MODEL_0287573309a743acb6c321e863902131",
              "IPY_MODEL_8a5cffa43c61491694b176470da939cf",
              "IPY_MODEL_d7e2a4b6956f43a1a10ac47ad8b9db9a"
            ],
            "layout": "IPY_MODEL_b2cc46cf5f5d4a90a4b4542d75300672"
          }
        },
        "0287573309a743acb6c321e863902131": {
          "model_module": "@jupyter-widgets/controls",
          "model_name": "HTMLModel",
          "model_module_version": "1.5.0",
          "state": {
            "_dom_classes": [],
            "_model_module": "@jupyter-widgets/controls",
            "_model_module_version": "1.5.0",
            "_model_name": "HTMLModel",
            "_view_count": null,
            "_view_module": "@jupyter-widgets/controls",
            "_view_module_version": "1.5.0",
            "_view_name": "HTMLView",
            "description": "",
            "description_tooltip": null,
            "layout": "IPY_MODEL_fa6c433380aa47ab9bf036756892c5ce",
            "placeholder": "​",
            "style": "IPY_MODEL_ed572bbe469e410ba0b6845d614d68ed",
            "value": "test-00000-of-00001.parquet: 100%"
          }
        },
        "8a5cffa43c61491694b176470da939cf": {
          "model_module": "@jupyter-widgets/controls",
          "model_name": "FloatProgressModel",
          "model_module_version": "1.5.0",
          "state": {
            "_dom_classes": [],
            "_model_module": "@jupyter-widgets/controls",
            "_model_module_version": "1.5.0",
            "_model_name": "FloatProgressModel",
            "_view_count": null,
            "_view_module": "@jupyter-widgets/controls",
            "_view_module_version": "1.5.0",
            "_view_name": "ProgressView",
            "bar_style": "success",
            "description": "",
            "description_tooltip": null,
            "layout": "IPY_MODEL_631e9478703342ffa7f65032018294da",
            "max": 419088,
            "min": 0,
            "orientation": "horizontal",
            "style": "IPY_MODEL_ac148c299f2441fa91d266badce6cf55",
            "value": 419088
          }
        },
        "d7e2a4b6956f43a1a10ac47ad8b9db9a": {
          "model_module": "@jupyter-widgets/controls",
          "model_name": "HTMLModel",
          "model_module_version": "1.5.0",
          "state": {
            "_dom_classes": [],
            "_model_module": "@jupyter-widgets/controls",
            "_model_module_version": "1.5.0",
            "_model_name": "HTMLModel",
            "_view_count": null,
            "_view_module": "@jupyter-widgets/controls",
            "_view_module_version": "1.5.0",
            "_view_name": "HTMLView",
            "description": "",
            "description_tooltip": null,
            "layout": "IPY_MODEL_257854f8432048a3adbe3763b95ed7d7",
            "placeholder": "​",
            "style": "IPY_MODEL_633fa425a01b4a2788258f41c3900bdc",
            "value": " 419k/419k [00:00&lt;00:00, 20.2MB/s]"
          }
        },
        "b2cc46cf5f5d4a90a4b4542d75300672": {
          "model_module": "@jupyter-widgets/base",
          "model_name": "LayoutModel",
          "model_module_version": "1.2.0",
          "state": {
            "_model_module": "@jupyter-widgets/base",
            "_model_module_version": "1.2.0",
            "_model_name": "LayoutModel",
            "_view_count": null,
            "_view_module": "@jupyter-widgets/base",
            "_view_module_version": "1.2.0",
            "_view_name": "LayoutView",
            "align_content": null,
            "align_items": null,
            "align_self": null,
            "border": null,
            "bottom": null,
            "display": null,
            "flex": null,
            "flex_flow": null,
            "grid_area": null,
            "grid_auto_columns": null,
            "grid_auto_flow": null,
            "grid_auto_rows": null,
            "grid_column": null,
            "grid_gap": null,
            "grid_row": null,
            "grid_template_areas": null,
            "grid_template_columns": null,
            "grid_template_rows": null,
            "height": null,
            "justify_content": null,
            "justify_items": null,
            "left": null,
            "margin": null,
            "max_height": null,
            "max_width": null,
            "min_height": null,
            "min_width": null,
            "object_fit": null,
            "object_position": null,
            "order": null,
            "overflow": null,
            "overflow_x": null,
            "overflow_y": null,
            "padding": null,
            "right": null,
            "top": null,
            "visibility": null,
            "width": null
          }
        },
        "fa6c433380aa47ab9bf036756892c5ce": {
          "model_module": "@jupyter-widgets/base",
          "model_name": "LayoutModel",
          "model_module_version": "1.2.0",
          "state": {
            "_model_module": "@jupyter-widgets/base",
            "_model_module_version": "1.2.0",
            "_model_name": "LayoutModel",
            "_view_count": null,
            "_view_module": "@jupyter-widgets/base",
            "_view_module_version": "1.2.0",
            "_view_name": "LayoutView",
            "align_content": null,
            "align_items": null,
            "align_self": null,
            "border": null,
            "bottom": null,
            "display": null,
            "flex": null,
            "flex_flow": null,
            "grid_area": null,
            "grid_auto_columns": null,
            "grid_auto_flow": null,
            "grid_auto_rows": null,
            "grid_column": null,
            "grid_gap": null,
            "grid_row": null,
            "grid_template_areas": null,
            "grid_template_columns": null,
            "grid_template_rows": null,
            "height": null,
            "justify_content": null,
            "justify_items": null,
            "left": null,
            "margin": null,
            "max_height": null,
            "max_width": null,
            "min_height": null,
            "min_width": null,
            "object_fit": null,
            "object_position": null,
            "order": null,
            "overflow": null,
            "overflow_x": null,
            "overflow_y": null,
            "padding": null,
            "right": null,
            "top": null,
            "visibility": null,
            "width": null
          }
        },
        "ed572bbe469e410ba0b6845d614d68ed": {
          "model_module": "@jupyter-widgets/controls",
          "model_name": "DescriptionStyleModel",
          "model_module_version": "1.5.0",
          "state": {
            "_model_module": "@jupyter-widgets/controls",
            "_model_module_version": "1.5.0",
            "_model_name": "DescriptionStyleModel",
            "_view_count": null,
            "_view_module": "@jupyter-widgets/base",
            "_view_module_version": "1.2.0",
            "_view_name": "StyleView",
            "description_width": ""
          }
        },
        "631e9478703342ffa7f65032018294da": {
          "model_module": "@jupyter-widgets/base",
          "model_name": "LayoutModel",
          "model_module_version": "1.2.0",
          "state": {
            "_model_module": "@jupyter-widgets/base",
            "_model_module_version": "1.2.0",
            "_model_name": "LayoutModel",
            "_view_count": null,
            "_view_module": "@jupyter-widgets/base",
            "_view_module_version": "1.2.0",
            "_view_name": "LayoutView",
            "align_content": null,
            "align_items": null,
            "align_self": null,
            "border": null,
            "bottom": null,
            "display": null,
            "flex": null,
            "flex_flow": null,
            "grid_area": null,
            "grid_auto_columns": null,
            "grid_auto_flow": null,
            "grid_auto_rows": null,
            "grid_column": null,
            "grid_gap": null,
            "grid_row": null,
            "grid_template_areas": null,
            "grid_template_columns": null,
            "grid_template_rows": null,
            "height": null,
            "justify_content": null,
            "justify_items": null,
            "left": null,
            "margin": null,
            "max_height": null,
            "max_width": null,
            "min_height": null,
            "min_width": null,
            "object_fit": null,
            "object_position": null,
            "order": null,
            "overflow": null,
            "overflow_x": null,
            "overflow_y": null,
            "padding": null,
            "right": null,
            "top": null,
            "visibility": null,
            "width": null
          }
        },
        "ac148c299f2441fa91d266badce6cf55": {
          "model_module": "@jupyter-widgets/controls",
          "model_name": "ProgressStyleModel",
          "model_module_version": "1.5.0",
          "state": {
            "_model_module": "@jupyter-widgets/controls",
            "_model_module_version": "1.5.0",
            "_model_name": "ProgressStyleModel",
            "_view_count": null,
            "_view_module": "@jupyter-widgets/base",
            "_view_module_version": "1.2.0",
            "_view_name": "StyleView",
            "bar_color": null,
            "description_width": ""
          }
        },
        "257854f8432048a3adbe3763b95ed7d7": {
          "model_module": "@jupyter-widgets/base",
          "model_name": "LayoutModel",
          "model_module_version": "1.2.0",
          "state": {
            "_model_module": "@jupyter-widgets/base",
            "_model_module_version": "1.2.0",
            "_model_name": "LayoutModel",
            "_view_count": null,
            "_view_module": "@jupyter-widgets/base",
            "_view_module_version": "1.2.0",
            "_view_name": "LayoutView",
            "align_content": null,
            "align_items": null,
            "align_self": null,
            "border": null,
            "bottom": null,
            "display": null,
            "flex": null,
            "flex_flow": null,
            "grid_area": null,
            "grid_auto_columns": null,
            "grid_auto_flow": null,
            "grid_auto_rows": null,
            "grid_column": null,
            "grid_gap": null,
            "grid_row": null,
            "grid_template_areas": null,
            "grid_template_columns": null,
            "grid_template_rows": null,
            "height": null,
            "justify_content": null,
            "justify_items": null,
            "left": null,
            "margin": null,
            "max_height": null,
            "max_width": null,
            "min_height": null,
            "min_width": null,
            "object_fit": null,
            "object_position": null,
            "order": null,
            "overflow": null,
            "overflow_x": null,
            "overflow_y": null,
            "padding": null,
            "right": null,
            "top": null,
            "visibility": null,
            "width": null
          }
        },
        "633fa425a01b4a2788258f41c3900bdc": {
          "model_module": "@jupyter-widgets/controls",
          "model_name": "DescriptionStyleModel",
          "model_module_version": "1.5.0",
          "state": {
            "_model_module": "@jupyter-widgets/controls",
            "_model_module_version": "1.5.0",
            "_model_name": "DescriptionStyleModel",
            "_view_count": null,
            "_view_module": "@jupyter-widgets/base",
            "_view_module_version": "1.2.0",
            "_view_name": "StyleView",
            "description_width": ""
          }
        },
        "3774b039be734499933cf2b5a4915fc6": {
          "model_module": "@jupyter-widgets/controls",
          "model_name": "HBoxModel",
          "model_module_version": "1.5.0",
          "state": {
            "_dom_classes": [],
            "_model_module": "@jupyter-widgets/controls",
            "_model_module_version": "1.5.0",
            "_model_name": "HBoxModel",
            "_view_count": null,
            "_view_module": "@jupyter-widgets/controls",
            "_view_module_version": "1.5.0",
            "_view_name": "HBoxView",
            "box_style": "",
            "children": [
              "IPY_MODEL_ee17fb7a724945f8a68f5e28f3b7a042",
              "IPY_MODEL_82c3b3cac0984ea6bbb75ae25e0ab92c",
              "IPY_MODEL_f452935900824bfa902bee89c48e0d37"
            ],
            "layout": "IPY_MODEL_89a8f4e1b4e6493f99289b7afc90444e"
          }
        },
        "ee17fb7a724945f8a68f5e28f3b7a042": {
          "model_module": "@jupyter-widgets/controls",
          "model_name": "HTMLModel",
          "model_module_version": "1.5.0",
          "state": {
            "_dom_classes": [],
            "_model_module": "@jupyter-widgets/controls",
            "_model_module_version": "1.5.0",
            "_model_name": "HTMLModel",
            "_view_count": null,
            "_view_module": "@jupyter-widgets/controls",
            "_view_module_version": "1.5.0",
            "_view_name": "HTMLView",
            "description": "",
            "description_tooltip": null,
            "layout": "IPY_MODEL_cf64f723eb5f4ec8ae709de1095d824c",
            "placeholder": "​",
            "style": "IPY_MODEL_7c36cb7ae0504bf7a6aaa962b6e6a5fe",
            "value": "Generating train split: 100%"
          }
        },
        "82c3b3cac0984ea6bbb75ae25e0ab92c": {
          "model_module": "@jupyter-widgets/controls",
          "model_name": "FloatProgressModel",
          "model_module_version": "1.5.0",
          "state": {
            "_dom_classes": [],
            "_model_module": "@jupyter-widgets/controls",
            "_model_module_version": "1.5.0",
            "_model_name": "FloatProgressModel",
            "_view_count": null,
            "_view_module": "@jupyter-widgets/controls",
            "_view_module_version": "1.5.0",
            "_view_name": "ProgressView",
            "bar_style": "success",
            "description": "",
            "description_tooltip": null,
            "layout": "IPY_MODEL_ba1f38a7bb85401fbf8810e3e575d948",
            "max": 7473,
            "min": 0,
            "orientation": "horizontal",
            "style": "IPY_MODEL_2bdb26166cfb4a4daf148a7b52c2a307",
            "value": 7473
          }
        },
        "f452935900824bfa902bee89c48e0d37": {
          "model_module": "@jupyter-widgets/controls",
          "model_name": "HTMLModel",
          "model_module_version": "1.5.0",
          "state": {
            "_dom_classes": [],
            "_model_module": "@jupyter-widgets/controls",
            "_model_module_version": "1.5.0",
            "_model_name": "HTMLModel",
            "_view_count": null,
            "_view_module": "@jupyter-widgets/controls",
            "_view_module_version": "1.5.0",
            "_view_name": "HTMLView",
            "description": "",
            "description_tooltip": null,
            "layout": "IPY_MODEL_97d4f58fb6124e7c87c115067a6f8a45",
            "placeholder": "​",
            "style": "IPY_MODEL_c32be0e4d659459a9cab45768027cd74",
            "value": " 7473/7473 [00:00&lt;00:00, 71361.65 examples/s]"
          }
        },
        "89a8f4e1b4e6493f99289b7afc90444e": {
          "model_module": "@jupyter-widgets/base",
          "model_name": "LayoutModel",
          "model_module_version": "1.2.0",
          "state": {
            "_model_module": "@jupyter-widgets/base",
            "_model_module_version": "1.2.0",
            "_model_name": "LayoutModel",
            "_view_count": null,
            "_view_module": "@jupyter-widgets/base",
            "_view_module_version": "1.2.0",
            "_view_name": "LayoutView",
            "align_content": null,
            "align_items": null,
            "align_self": null,
            "border": null,
            "bottom": null,
            "display": null,
            "flex": null,
            "flex_flow": null,
            "grid_area": null,
            "grid_auto_columns": null,
            "grid_auto_flow": null,
            "grid_auto_rows": null,
            "grid_column": null,
            "grid_gap": null,
            "grid_row": null,
            "grid_template_areas": null,
            "grid_template_columns": null,
            "grid_template_rows": null,
            "height": null,
            "justify_content": null,
            "justify_items": null,
            "left": null,
            "margin": null,
            "max_height": null,
            "max_width": null,
            "min_height": null,
            "min_width": null,
            "object_fit": null,
            "object_position": null,
            "order": null,
            "overflow": null,
            "overflow_x": null,
            "overflow_y": null,
            "padding": null,
            "right": null,
            "top": null,
            "visibility": null,
            "width": null
          }
        },
        "cf64f723eb5f4ec8ae709de1095d824c": {
          "model_module": "@jupyter-widgets/base",
          "model_name": "LayoutModel",
          "model_module_version": "1.2.0",
          "state": {
            "_model_module": "@jupyter-widgets/base",
            "_model_module_version": "1.2.0",
            "_model_name": "LayoutModel",
            "_view_count": null,
            "_view_module": "@jupyter-widgets/base",
            "_view_module_version": "1.2.0",
            "_view_name": "LayoutView",
            "align_content": null,
            "align_items": null,
            "align_self": null,
            "border": null,
            "bottom": null,
            "display": null,
            "flex": null,
            "flex_flow": null,
            "grid_area": null,
            "grid_auto_columns": null,
            "grid_auto_flow": null,
            "grid_auto_rows": null,
            "grid_column": null,
            "grid_gap": null,
            "grid_row": null,
            "grid_template_areas": null,
            "grid_template_columns": null,
            "grid_template_rows": null,
            "height": null,
            "justify_content": null,
            "justify_items": null,
            "left": null,
            "margin": null,
            "max_height": null,
            "max_width": null,
            "min_height": null,
            "min_width": null,
            "object_fit": null,
            "object_position": null,
            "order": null,
            "overflow": null,
            "overflow_x": null,
            "overflow_y": null,
            "padding": null,
            "right": null,
            "top": null,
            "visibility": null,
            "width": null
          }
        },
        "7c36cb7ae0504bf7a6aaa962b6e6a5fe": {
          "model_module": "@jupyter-widgets/controls",
          "model_name": "DescriptionStyleModel",
          "model_module_version": "1.5.0",
          "state": {
            "_model_module": "@jupyter-widgets/controls",
            "_model_module_version": "1.5.0",
            "_model_name": "DescriptionStyleModel",
            "_view_count": null,
            "_view_module": "@jupyter-widgets/base",
            "_view_module_version": "1.2.0",
            "_view_name": "StyleView",
            "description_width": ""
          }
        },
        "ba1f38a7bb85401fbf8810e3e575d948": {
          "model_module": "@jupyter-widgets/base",
          "model_name": "LayoutModel",
          "model_module_version": "1.2.0",
          "state": {
            "_model_module": "@jupyter-widgets/base",
            "_model_module_version": "1.2.0",
            "_model_name": "LayoutModel",
            "_view_count": null,
            "_view_module": "@jupyter-widgets/base",
            "_view_module_version": "1.2.0",
            "_view_name": "LayoutView",
            "align_content": null,
            "align_items": null,
            "align_self": null,
            "border": null,
            "bottom": null,
            "display": null,
            "flex": null,
            "flex_flow": null,
            "grid_area": null,
            "grid_auto_columns": null,
            "grid_auto_flow": null,
            "grid_auto_rows": null,
            "grid_column": null,
            "grid_gap": null,
            "grid_row": null,
            "grid_template_areas": null,
            "grid_template_columns": null,
            "grid_template_rows": null,
            "height": null,
            "justify_content": null,
            "justify_items": null,
            "left": null,
            "margin": null,
            "max_height": null,
            "max_width": null,
            "min_height": null,
            "min_width": null,
            "object_fit": null,
            "object_position": null,
            "order": null,
            "overflow": null,
            "overflow_x": null,
            "overflow_y": null,
            "padding": null,
            "right": null,
            "top": null,
            "visibility": null,
            "width": null
          }
        },
        "2bdb26166cfb4a4daf148a7b52c2a307": {
          "model_module": "@jupyter-widgets/controls",
          "model_name": "ProgressStyleModel",
          "model_module_version": "1.5.0",
          "state": {
            "_model_module": "@jupyter-widgets/controls",
            "_model_module_version": "1.5.0",
            "_model_name": "ProgressStyleModel",
            "_view_count": null,
            "_view_module": "@jupyter-widgets/base",
            "_view_module_version": "1.2.0",
            "_view_name": "StyleView",
            "bar_color": null,
            "description_width": ""
          }
        },
        "97d4f58fb6124e7c87c115067a6f8a45": {
          "model_module": "@jupyter-widgets/base",
          "model_name": "LayoutModel",
          "model_module_version": "1.2.0",
          "state": {
            "_model_module": "@jupyter-widgets/base",
            "_model_module_version": "1.2.0",
            "_model_name": "LayoutModel",
            "_view_count": null,
            "_view_module": "@jupyter-widgets/base",
            "_view_module_version": "1.2.0",
            "_view_name": "LayoutView",
            "align_content": null,
            "align_items": null,
            "align_self": null,
            "border": null,
            "bottom": null,
            "display": null,
            "flex": null,
            "flex_flow": null,
            "grid_area": null,
            "grid_auto_columns": null,
            "grid_auto_flow": null,
            "grid_auto_rows": null,
            "grid_column": null,
            "grid_gap": null,
            "grid_row": null,
            "grid_template_areas": null,
            "grid_template_columns": null,
            "grid_template_rows": null,
            "height": null,
            "justify_content": null,
            "justify_items": null,
            "left": null,
            "margin": null,
            "max_height": null,
            "max_width": null,
            "min_height": null,
            "min_width": null,
            "object_fit": null,
            "object_position": null,
            "order": null,
            "overflow": null,
            "overflow_x": null,
            "overflow_y": null,
            "padding": null,
            "right": null,
            "top": null,
            "visibility": null,
            "width": null
          }
        },
        "c32be0e4d659459a9cab45768027cd74": {
          "model_module": "@jupyter-widgets/controls",
          "model_name": "DescriptionStyleModel",
          "model_module_version": "1.5.0",
          "state": {
            "_model_module": "@jupyter-widgets/controls",
            "_model_module_version": "1.5.0",
            "_model_name": "DescriptionStyleModel",
            "_view_count": null,
            "_view_module": "@jupyter-widgets/base",
            "_view_module_version": "1.2.0",
            "_view_name": "StyleView",
            "description_width": ""
          }
        },
        "b966edc6c43d4f13801f63692b5d7adb": {
          "model_module": "@jupyter-widgets/controls",
          "model_name": "HBoxModel",
          "model_module_version": "1.5.0",
          "state": {
            "_dom_classes": [],
            "_model_module": "@jupyter-widgets/controls",
            "_model_module_version": "1.5.0",
            "_model_name": "HBoxModel",
            "_view_count": null,
            "_view_module": "@jupyter-widgets/controls",
            "_view_module_version": "1.5.0",
            "_view_name": "HBoxView",
            "box_style": "",
            "children": [
              "IPY_MODEL_b5042bb408204c09baee80cd17bc5f61",
              "IPY_MODEL_e8dcc83c268049d1af6145a85b16f313",
              "IPY_MODEL_310930a814ed4170bf6b21dd3e46647c"
            ],
            "layout": "IPY_MODEL_f6d9fb94a4da490c9303b88812c3eb72"
          }
        },
        "b5042bb408204c09baee80cd17bc5f61": {
          "model_module": "@jupyter-widgets/controls",
          "model_name": "HTMLModel",
          "model_module_version": "1.5.0",
          "state": {
            "_dom_classes": [],
            "_model_module": "@jupyter-widgets/controls",
            "_model_module_version": "1.5.0",
            "_model_name": "HTMLModel",
            "_view_count": null,
            "_view_module": "@jupyter-widgets/controls",
            "_view_module_version": "1.5.0",
            "_view_name": "HTMLView",
            "description": "",
            "description_tooltip": null,
            "layout": "IPY_MODEL_5edca6e41e114f62a014376b7d50512f",
            "placeholder": "​",
            "style": "IPY_MODEL_567b38f7042149778517f98995a12b5f",
            "value": "Generating test split: 100%"
          }
        },
        "e8dcc83c268049d1af6145a85b16f313": {
          "model_module": "@jupyter-widgets/controls",
          "model_name": "FloatProgressModel",
          "model_module_version": "1.5.0",
          "state": {
            "_dom_classes": [],
            "_model_module": "@jupyter-widgets/controls",
            "_model_module_version": "1.5.0",
            "_model_name": "FloatProgressModel",
            "_view_count": null,
            "_view_module": "@jupyter-widgets/controls",
            "_view_module_version": "1.5.0",
            "_view_name": "ProgressView",
            "bar_style": "success",
            "description": "",
            "description_tooltip": null,
            "layout": "IPY_MODEL_402985adfd3141fbb3bf9cf9d3d4bb86",
            "max": 1319,
            "min": 0,
            "orientation": "horizontal",
            "style": "IPY_MODEL_5ab6b00b8fd3417faa7be41096b2617c",
            "value": 1319
          }
        },
        "310930a814ed4170bf6b21dd3e46647c": {
          "model_module": "@jupyter-widgets/controls",
          "model_name": "HTMLModel",
          "model_module_version": "1.5.0",
          "state": {
            "_dom_classes": [],
            "_model_module": "@jupyter-widgets/controls",
            "_model_module_version": "1.5.0",
            "_model_name": "HTMLModel",
            "_view_count": null,
            "_view_module": "@jupyter-widgets/controls",
            "_view_module_version": "1.5.0",
            "_view_name": "HTMLView",
            "description": "",
            "description_tooltip": null,
            "layout": "IPY_MODEL_6115647d90cb46e1b0d91dbacc26b292",
            "placeholder": "​",
            "style": "IPY_MODEL_a90cf59ca3e244df82d6991f2415008c",
            "value": " 1319/1319 [00:00&lt;00:00, 29929.65 examples/s]"
          }
        },
        "f6d9fb94a4da490c9303b88812c3eb72": {
          "model_module": "@jupyter-widgets/base",
          "model_name": "LayoutModel",
          "model_module_version": "1.2.0",
          "state": {
            "_model_module": "@jupyter-widgets/base",
            "_model_module_version": "1.2.0",
            "_model_name": "LayoutModel",
            "_view_count": null,
            "_view_module": "@jupyter-widgets/base",
            "_view_module_version": "1.2.0",
            "_view_name": "LayoutView",
            "align_content": null,
            "align_items": null,
            "align_self": null,
            "border": null,
            "bottom": null,
            "display": null,
            "flex": null,
            "flex_flow": null,
            "grid_area": null,
            "grid_auto_columns": null,
            "grid_auto_flow": null,
            "grid_auto_rows": null,
            "grid_column": null,
            "grid_gap": null,
            "grid_row": null,
            "grid_template_areas": null,
            "grid_template_columns": null,
            "grid_template_rows": null,
            "height": null,
            "justify_content": null,
            "justify_items": null,
            "left": null,
            "margin": null,
            "max_height": null,
            "max_width": null,
            "min_height": null,
            "min_width": null,
            "object_fit": null,
            "object_position": null,
            "order": null,
            "overflow": null,
            "overflow_x": null,
            "overflow_y": null,
            "padding": null,
            "right": null,
            "top": null,
            "visibility": null,
            "width": null
          }
        },
        "5edca6e41e114f62a014376b7d50512f": {
          "model_module": "@jupyter-widgets/base",
          "model_name": "LayoutModel",
          "model_module_version": "1.2.0",
          "state": {
            "_model_module": "@jupyter-widgets/base",
            "_model_module_version": "1.2.0",
            "_model_name": "LayoutModel",
            "_view_count": null,
            "_view_module": "@jupyter-widgets/base",
            "_view_module_version": "1.2.0",
            "_view_name": "LayoutView",
            "align_content": null,
            "align_items": null,
            "align_self": null,
            "border": null,
            "bottom": null,
            "display": null,
            "flex": null,
            "flex_flow": null,
            "grid_area": null,
            "grid_auto_columns": null,
            "grid_auto_flow": null,
            "grid_auto_rows": null,
            "grid_column": null,
            "grid_gap": null,
            "grid_row": null,
            "grid_template_areas": null,
            "grid_template_columns": null,
            "grid_template_rows": null,
            "height": null,
            "justify_content": null,
            "justify_items": null,
            "left": null,
            "margin": null,
            "max_height": null,
            "max_width": null,
            "min_height": null,
            "min_width": null,
            "object_fit": null,
            "object_position": null,
            "order": null,
            "overflow": null,
            "overflow_x": null,
            "overflow_y": null,
            "padding": null,
            "right": null,
            "top": null,
            "visibility": null,
            "width": null
          }
        },
        "567b38f7042149778517f98995a12b5f": {
          "model_module": "@jupyter-widgets/controls",
          "model_name": "DescriptionStyleModel",
          "model_module_version": "1.5.0",
          "state": {
            "_model_module": "@jupyter-widgets/controls",
            "_model_module_version": "1.5.0",
            "_model_name": "DescriptionStyleModel",
            "_view_count": null,
            "_view_module": "@jupyter-widgets/base",
            "_view_module_version": "1.2.0",
            "_view_name": "StyleView",
            "description_width": ""
          }
        },
        "402985adfd3141fbb3bf9cf9d3d4bb86": {
          "model_module": "@jupyter-widgets/base",
          "model_name": "LayoutModel",
          "model_module_version": "1.2.0",
          "state": {
            "_model_module": "@jupyter-widgets/base",
            "_model_module_version": "1.2.0",
            "_model_name": "LayoutModel",
            "_view_count": null,
            "_view_module": "@jupyter-widgets/base",
            "_view_module_version": "1.2.0",
            "_view_name": "LayoutView",
            "align_content": null,
            "align_items": null,
            "align_self": null,
            "border": null,
            "bottom": null,
            "display": null,
            "flex": null,
            "flex_flow": null,
            "grid_area": null,
            "grid_auto_columns": null,
            "grid_auto_flow": null,
            "grid_auto_rows": null,
            "grid_column": null,
            "grid_gap": null,
            "grid_row": null,
            "grid_template_areas": null,
            "grid_template_columns": null,
            "grid_template_rows": null,
            "height": null,
            "justify_content": null,
            "justify_items": null,
            "left": null,
            "margin": null,
            "max_height": null,
            "max_width": null,
            "min_height": null,
            "min_width": null,
            "object_fit": null,
            "object_position": null,
            "order": null,
            "overflow": null,
            "overflow_x": null,
            "overflow_y": null,
            "padding": null,
            "right": null,
            "top": null,
            "visibility": null,
            "width": null
          }
        },
        "5ab6b00b8fd3417faa7be41096b2617c": {
          "model_module": "@jupyter-widgets/controls",
          "model_name": "ProgressStyleModel",
          "model_module_version": "1.5.0",
          "state": {
            "_model_module": "@jupyter-widgets/controls",
            "_model_module_version": "1.5.0",
            "_model_name": "ProgressStyleModel",
            "_view_count": null,
            "_view_module": "@jupyter-widgets/base",
            "_view_module_version": "1.2.0",
            "_view_name": "StyleView",
            "bar_color": null,
            "description_width": ""
          }
        },
        "6115647d90cb46e1b0d91dbacc26b292": {
          "model_module": "@jupyter-widgets/base",
          "model_name": "LayoutModel",
          "model_module_version": "1.2.0",
          "state": {
            "_model_module": "@jupyter-widgets/base",
            "_model_module_version": "1.2.0",
            "_model_name": "LayoutModel",
            "_view_count": null,
            "_view_module": "@jupyter-widgets/base",
            "_view_module_version": "1.2.0",
            "_view_name": "LayoutView",
            "align_content": null,
            "align_items": null,
            "align_self": null,
            "border": null,
            "bottom": null,
            "display": null,
            "flex": null,
            "flex_flow": null,
            "grid_area": null,
            "grid_auto_columns": null,
            "grid_auto_flow": null,
            "grid_auto_rows": null,
            "grid_column": null,
            "grid_gap": null,
            "grid_row": null,
            "grid_template_areas": null,
            "grid_template_columns": null,
            "grid_template_rows": null,
            "height": null,
            "justify_content": null,
            "justify_items": null,
            "left": null,
            "margin": null,
            "max_height": null,
            "max_width": null,
            "min_height": null,
            "min_width": null,
            "object_fit": null,
            "object_position": null,
            "order": null,
            "overflow": null,
            "overflow_x": null,
            "overflow_y": null,
            "padding": null,
            "right": null,
            "top": null,
            "visibility": null,
            "width": null
          }
        },
        "a90cf59ca3e244df82d6991f2415008c": {
          "model_module": "@jupyter-widgets/controls",
          "model_name": "DescriptionStyleModel",
          "model_module_version": "1.5.0",
          "state": {
            "_model_module": "@jupyter-widgets/controls",
            "_model_module_version": "1.5.0",
            "_model_name": "DescriptionStyleModel",
            "_view_count": null,
            "_view_module": "@jupyter-widgets/base",
            "_view_module_version": "1.2.0",
            "_view_name": "StyleView",
            "description_width": ""
          }
        }
      }
    }
  },
  "nbformat": 4,
  "nbformat_minor": 0
}